{
  "cells": [
    {
      "cell_type": "code",
      "execution_count": 1,
      "id": "0fecaab9",
      "metadata": {
        "id": "0fecaab9"
      },
      "outputs": [],
      "source": [
        "import numpy as np\n",
        "import pandas as pd\n",
        "import re\n",
        "from sklearn.model_selection import train_test_split\n",
        "np.random.seed(0)"
      ]
    },
    {
      "cell_type": "markdown",
      "id": "4746bef1",
      "metadata": {
        "id": "4746bef1"
      },
      "source": [
        "## Movie Review Classifier 🍿📽️"
      ]
    },
    {
      "cell_type": "markdown",
      "id": "9c58cd71",
      "metadata": {
        "id": "9c58cd71"
      },
      "source": [
        "In this assignment, we'll be training a model to classify movie reviews as 'good' or 'bad.'\\\n",
        "The data consists of 40,000 real move reviews from IMBD.\\\n"
      ]
    },
    {
      "cell_type": "markdown",
      "id": "3ba6bc9b",
      "metadata": {
        "id": "3ba6bc9b"
      },
      "source": [
        "We'll load the data as a zipped csv. \\\n",
        "Notice that `pd.read_csv()` can take a URL as the path argument and that we can read in a compressed file without first expanding it if we specify the `compression` format!"
      ]
    },
    {
      "cell_type": "code",
      "execution_count": 2,
      "id": "65d14744",
      "metadata": {
        "id": "65d14744"
      },
      "outputs": [],
      "source": [
        "data_url = './data/movie_reviews.zip'\n",
        "df = pd.read_csv(data_url, compression='zip')"
      ]
    },
    {
      "cell_type": "code",
      "execution_count": 3,
      "id": "29fd2bbd",
      "metadata": {
        "id": "29fd2bbd",
        "outputId": "32d70610-36cc-48b8-d5ce-603c9430b52d",
        "colab": {
          "base_uri": "https://localhost:8080/",
          "height": 206
        }
      },
      "outputs": [
        {
          "output_type": "execute_result",
          "data": {
            "text/plain": [
              "                                                text  label\n",
              "0  If you haven't seen this movie than you need t...      1\n",
              "1  but \"Cinderella\" gets my vote, not only for th...      0\n",
              "2  This movie is pretty cheesy, but I do give it ...      1\n",
              "3  I have not seen a Van Damme flick for a while,...      1\n",
              "4  This is a 'sleeper'. It defines Nicholas Cage....      1"
            ],
            "text/html": [
              "\n",
              "  <div id=\"df-ac890bd1-a68c-41f6-97dc-aa918cceaa93\" class=\"colab-df-container\">\n",
              "    <div>\n",
              "<style scoped>\n",
              "    .dataframe tbody tr th:only-of-type {\n",
              "        vertical-align: middle;\n",
              "    }\n",
              "\n",
              "    .dataframe tbody tr th {\n",
              "        vertical-align: top;\n",
              "    }\n",
              "\n",
              "    .dataframe thead th {\n",
              "        text-align: right;\n",
              "    }\n",
              "</style>\n",
              "<table border=\"1\" class=\"dataframe\">\n",
              "  <thead>\n",
              "    <tr style=\"text-align: right;\">\n",
              "      <th></th>\n",
              "      <th>text</th>\n",
              "      <th>label</th>\n",
              "    </tr>\n",
              "  </thead>\n",
              "  <tbody>\n",
              "    <tr>\n",
              "      <th>0</th>\n",
              "      <td>If you haven't seen this movie than you need t...</td>\n",
              "      <td>1</td>\n",
              "    </tr>\n",
              "    <tr>\n",
              "      <th>1</th>\n",
              "      <td>but \"Cinderella\" gets my vote, not only for th...</td>\n",
              "      <td>0</td>\n",
              "    </tr>\n",
              "    <tr>\n",
              "      <th>2</th>\n",
              "      <td>This movie is pretty cheesy, but I do give it ...</td>\n",
              "      <td>1</td>\n",
              "    </tr>\n",
              "    <tr>\n",
              "      <th>3</th>\n",
              "      <td>I have not seen a Van Damme flick for a while,...</td>\n",
              "      <td>1</td>\n",
              "    </tr>\n",
              "    <tr>\n",
              "      <th>4</th>\n",
              "      <td>This is a 'sleeper'. It defines Nicholas Cage....</td>\n",
              "      <td>1</td>\n",
              "    </tr>\n",
              "  </tbody>\n",
              "</table>\n",
              "</div>\n",
              "    <div class=\"colab-df-buttons\">\n",
              "\n",
              "  <div class=\"colab-df-container\">\n",
              "    <button class=\"colab-df-convert\" onclick=\"convertToInteractive('df-ac890bd1-a68c-41f6-97dc-aa918cceaa93')\"\n",
              "            title=\"Convert this dataframe to an interactive table.\"\n",
              "            style=\"display:none;\">\n",
              "\n",
              "  <svg xmlns=\"http://www.w3.org/2000/svg\" height=\"24px\" viewBox=\"0 -960 960 960\">\n",
              "    <path d=\"M120-120v-720h720v720H120Zm60-500h600v-160H180v160Zm220 220h160v-160H400v160Zm0 220h160v-160H400v160ZM180-400h160v-160H180v160Zm440 0h160v-160H620v160ZM180-180h160v-160H180v160Zm440 0h160v-160H620v160Z\"/>\n",
              "  </svg>\n",
              "    </button>\n",
              "\n",
              "  <style>\n",
              "    .colab-df-container {\n",
              "      display:flex;\n",
              "      gap: 12px;\n",
              "    }\n",
              "\n",
              "    .colab-df-convert {\n",
              "      background-color: #E8F0FE;\n",
              "      border: none;\n",
              "      border-radius: 50%;\n",
              "      cursor: pointer;\n",
              "      display: none;\n",
              "      fill: #1967D2;\n",
              "      height: 32px;\n",
              "      padding: 0 0 0 0;\n",
              "      width: 32px;\n",
              "    }\n",
              "\n",
              "    .colab-df-convert:hover {\n",
              "      background-color: #E2EBFA;\n",
              "      box-shadow: 0px 1px 2px rgba(60, 64, 67, 0.3), 0px 1px 3px 1px rgba(60, 64, 67, 0.15);\n",
              "      fill: #174EA6;\n",
              "    }\n",
              "\n",
              "    .colab-df-buttons div {\n",
              "      margin-bottom: 4px;\n",
              "    }\n",
              "\n",
              "    [theme=dark] .colab-df-convert {\n",
              "      background-color: #3B4455;\n",
              "      fill: #D2E3FC;\n",
              "    }\n",
              "\n",
              "    [theme=dark] .colab-df-convert:hover {\n",
              "      background-color: #434B5C;\n",
              "      box-shadow: 0px 1px 3px 1px rgba(0, 0, 0, 0.15);\n",
              "      filter: drop-shadow(0px 1px 2px rgba(0, 0, 0, 0.3));\n",
              "      fill: #FFFFFF;\n",
              "    }\n",
              "  </style>\n",
              "\n",
              "    <script>\n",
              "      const buttonEl =\n",
              "        document.querySelector('#df-ac890bd1-a68c-41f6-97dc-aa918cceaa93 button.colab-df-convert');\n",
              "      buttonEl.style.display =\n",
              "        google.colab.kernel.accessAllowed ? 'block' : 'none';\n",
              "\n",
              "      async function convertToInteractive(key) {\n",
              "        const element = document.querySelector('#df-ac890bd1-a68c-41f6-97dc-aa918cceaa93');\n",
              "        const dataTable =\n",
              "          await google.colab.kernel.invokeFunction('convertToInteractive',\n",
              "                                                    [key], {});\n",
              "        if (!dataTable) return;\n",
              "\n",
              "        const docLinkHtml = 'Like what you see? Visit the ' +\n",
              "          '<a target=\"_blank\" href=https://colab.research.google.com/notebooks/data_table.ipynb>data table notebook</a>'\n",
              "          + ' to learn more about interactive tables.';\n",
              "        element.innerHTML = '';\n",
              "        dataTable['output_type'] = 'display_data';\n",
              "        await google.colab.output.renderOutput(dataTable, element);\n",
              "        const docLink = document.createElement('div');\n",
              "        docLink.innerHTML = docLinkHtml;\n",
              "        element.appendChild(docLink);\n",
              "      }\n",
              "    </script>\n",
              "  </div>\n",
              "\n",
              "\n",
              "<div id=\"df-255f4046-fa15-4477-8476-1e4920d9df26\">\n",
              "  <button class=\"colab-df-quickchart\" onclick=\"quickchart('df-255f4046-fa15-4477-8476-1e4920d9df26')\"\n",
              "            title=\"Suggest charts.\"\n",
              "            style=\"display:none;\">\n",
              "\n",
              "<svg xmlns=\"http://www.w3.org/2000/svg\" height=\"24px\"viewBox=\"0 0 24 24\"\n",
              "     width=\"24px\">\n",
              "    <g>\n",
              "        <path d=\"M19 3H5c-1.1 0-2 .9-2 2v14c0 1.1.9 2 2 2h14c1.1 0 2-.9 2-2V5c0-1.1-.9-2-2-2zM9 17H7v-7h2v7zm4 0h-2V7h2v10zm4 0h-2v-4h2v4z\"/>\n",
              "    </g>\n",
              "</svg>\n",
              "  </button>\n",
              "\n",
              "<style>\n",
              "  .colab-df-quickchart {\n",
              "      --bg-color: #E8F0FE;\n",
              "      --fill-color: #1967D2;\n",
              "      --hover-bg-color: #E2EBFA;\n",
              "      --hover-fill-color: #174EA6;\n",
              "      --disabled-fill-color: #AAA;\n",
              "      --disabled-bg-color: #DDD;\n",
              "  }\n",
              "\n",
              "  [theme=dark] .colab-df-quickchart {\n",
              "      --bg-color: #3B4455;\n",
              "      --fill-color: #D2E3FC;\n",
              "      --hover-bg-color: #434B5C;\n",
              "      --hover-fill-color: #FFFFFF;\n",
              "      --disabled-bg-color: #3B4455;\n",
              "      --disabled-fill-color: #666;\n",
              "  }\n",
              "\n",
              "  .colab-df-quickchart {\n",
              "    background-color: var(--bg-color);\n",
              "    border: none;\n",
              "    border-radius: 50%;\n",
              "    cursor: pointer;\n",
              "    display: none;\n",
              "    fill: var(--fill-color);\n",
              "    height: 32px;\n",
              "    padding: 0;\n",
              "    width: 32px;\n",
              "  }\n",
              "\n",
              "  .colab-df-quickchart:hover {\n",
              "    background-color: var(--hover-bg-color);\n",
              "    box-shadow: 0 1px 2px rgba(60, 64, 67, 0.3), 0 1px 3px 1px rgba(60, 64, 67, 0.15);\n",
              "    fill: var(--button-hover-fill-color);\n",
              "  }\n",
              "\n",
              "  .colab-df-quickchart-complete:disabled,\n",
              "  .colab-df-quickchart-complete:disabled:hover {\n",
              "    background-color: var(--disabled-bg-color);\n",
              "    fill: var(--disabled-fill-color);\n",
              "    box-shadow: none;\n",
              "  }\n",
              "\n",
              "  .colab-df-spinner {\n",
              "    border: 2px solid var(--fill-color);\n",
              "    border-color: transparent;\n",
              "    border-bottom-color: var(--fill-color);\n",
              "    animation:\n",
              "      spin 1s steps(1) infinite;\n",
              "  }\n",
              "\n",
              "  @keyframes spin {\n",
              "    0% {\n",
              "      border-color: transparent;\n",
              "      border-bottom-color: var(--fill-color);\n",
              "      border-left-color: var(--fill-color);\n",
              "    }\n",
              "    20% {\n",
              "      border-color: transparent;\n",
              "      border-left-color: var(--fill-color);\n",
              "      border-top-color: var(--fill-color);\n",
              "    }\n",
              "    30% {\n",
              "      border-color: transparent;\n",
              "      border-left-color: var(--fill-color);\n",
              "      border-top-color: var(--fill-color);\n",
              "      border-right-color: var(--fill-color);\n",
              "    }\n",
              "    40% {\n",
              "      border-color: transparent;\n",
              "      border-right-color: var(--fill-color);\n",
              "      border-top-color: var(--fill-color);\n",
              "    }\n",
              "    60% {\n",
              "      border-color: transparent;\n",
              "      border-right-color: var(--fill-color);\n",
              "    }\n",
              "    80% {\n",
              "      border-color: transparent;\n",
              "      border-right-color: var(--fill-color);\n",
              "      border-bottom-color: var(--fill-color);\n",
              "    }\n",
              "    90% {\n",
              "      border-color: transparent;\n",
              "      border-bottom-color: var(--fill-color);\n",
              "    }\n",
              "  }\n",
              "</style>\n",
              "\n",
              "  <script>\n",
              "    async function quickchart(key) {\n",
              "      const quickchartButtonEl =\n",
              "        document.querySelector('#' + key + ' button');\n",
              "      quickchartButtonEl.disabled = true;  // To prevent multiple clicks.\n",
              "      quickchartButtonEl.classList.add('colab-df-spinner');\n",
              "      try {\n",
              "        const charts = await google.colab.kernel.invokeFunction(\n",
              "            'suggestCharts', [key], {});\n",
              "      } catch (error) {\n",
              "        console.error('Error during call to suggestCharts:', error);\n",
              "      }\n",
              "      quickchartButtonEl.classList.remove('colab-df-spinner');\n",
              "      quickchartButtonEl.classList.add('colab-df-quickchart-complete');\n",
              "    }\n",
              "    (() => {\n",
              "      let quickchartButtonEl =\n",
              "        document.querySelector('#df-255f4046-fa15-4477-8476-1e4920d9df26 button');\n",
              "      quickchartButtonEl.style.display =\n",
              "        google.colab.kernel.accessAllowed ? 'block' : 'none';\n",
              "    })();\n",
              "  </script>\n",
              "</div>\n",
              "    </div>\n",
              "  </div>\n"
            ]
          },
          "metadata": {},
          "execution_count": 3
        }
      ],
      "source": [
        "df.head()"
      ]
    },
    {
      "cell_type": "code",
      "execution_count": 4,
      "id": "cb303695",
      "metadata": {
        "id": "cb303695",
        "outputId": "5e238e8c-5bcc-4734-83f7-75d0bb032039",
        "colab": {
          "base_uri": "https://localhost:8080/"
        }
      },
      "outputs": [
        {
          "output_type": "execute_result",
          "data": {
            "text/plain": [
              "(40000, 2)"
            ]
          },
          "metadata": {},
          "execution_count": 4
        }
      ],
      "source": [
        "df.shape"
      ]
    },
    {
      "cell_type": "code",
      "execution_count": 5,
      "id": "3fae19e0",
      "metadata": {
        "id": "3fae19e0",
        "outputId": "9cf20c2f-54b2-45d3-867f-7fce58b38393",
        "colab": {
          "base_uri": "https://localhost:8080/"
        }
      },
      "outputs": [
        {
          "output_type": "execute_result",
          "data": {
            "text/plain": [
              "array([1, 0])"
            ]
          },
          "metadata": {},
          "execution_count": 5
        }
      ],
      "source": [
        "df.label.unique()"
      ]
    },
    {
      "cell_type": "markdown",
      "id": "8de24367",
      "metadata": {
        "id": "8de24367"
      },
      "source": [
        "We see that the dataset consists of text reviews and binary labels. Intuitively, the positive class is \"good\" while the negative is \"bad.\""
      ]
    },
    {
      "cell_type": "markdown",
      "id": "7e51a555",
      "metadata": {
        "id": "7e51a555"
      },
      "source": [
        "Here are two examples from the dataset:"
      ]
    },
    {
      "cell_type": "markdown",
      "source": [
        "seen字典用于跟踪是否已经遇到了具有特定标签的评论。\n",
        "\n",
        "在循环内部，label = df.loc[i, 'label']获取当前行的标签值。\n",
        "\n",
        "if not seen[labels[label]]条件检查是否之前没有看到具有相应标签的评论。\n",
        "\n",
        "如果条件成立，使用display和print函数显示/打印评论文本和标签。\n",
        "\n",
        "seen[labels[label]] = True行更新seen字典，将当前标签标记为已经看到。\n",
        "\n",
        "if all(val == True for val in seen.values()): break条件检查是否已经看到了'bad'和'good'两个标签。如果是，则跳出循环。"
      ],
      "metadata": {
        "id": "vyOuTSDHfE2U"
      },
      "id": "vyOuTSDHfE2U"
    },
    {
      "cell_type": "code",
      "execution_count": 6,
      "id": "14999480",
      "metadata": {
        "id": "14999480",
        "outputId": "4dab7f48-893b-4f6c-8feb-8c7633ef1168",
        "colab": {
          "base_uri": "https://localhost:8080/",
          "height": 333
        }
      },
      "outputs": [
        {
          "output_type": "display_data",
          "data": {
            "text/plain": [
              "\"If you haven't seen this movie than you need to. It rocks and you have to watch it. It is so funny and will make you laugh your guts out!! so you have to watch it and i saw it about a billion and a half times and still think it is funny. so you have to. yes i have memorized the whole movie and could quote it to you from start to finish. you must see this move. it is also cute because it is half a chick flick. if you don't watch it then you are really missing out.this movie even has cute guys in it and that is always a bonus. so in summary watch the movie now and trust me you will not be making a mistake. did i mention the music is good too. So you should like it if you enjoy music. This is a movie that they rated correctly and it will work for anyone.\""
            ],
            "application/vnd.google.colaboratory.intrinsic+json": {
              "type": "string"
            }
          },
          "metadata": {}
        },
        {
          "output_type": "stream",
          "name": "stdout",
          "text": [
            "\n"
          ]
        },
        {
          "output_type": "display_data",
          "data": {
            "text/plain": [
              "'label: good'"
            ],
            "application/vnd.google.colaboratory.intrinsic+json": {
              "type": "string"
            }
          },
          "metadata": {}
        },
        {
          "output_type": "stream",
          "name": "stdout",
          "text": [
            "\n"
          ]
        },
        {
          "output_type": "display_data",
          "data": {
            "text/plain": [
              "'but \"Cinderella\" gets my vote, not only for the worst of Disney\\'s princess movies, but for the worst movie the company made during Walt\\'s lifetime. The music is genuinely pretty, and the story deserves to be called \"classic.\" What fails in this movie are the characters, particularly the title character, who could only be called \"the heroine\" in the loosest sense of the term.<br /><br />After a brief prologue, the audience is introduced to Cinderella. She is waking up in the morning and singing \"A Dream is A wish Your Heart Makes.\" This establishes her as an idealist (and thus deserving of our sympathy). Unfortunately, the script gives us no clue as to what she is dreaming about. Freedom from her servant role? The respect of her step-family? Someone to talk to besides mice and birds? In one song (cut from the movie but presented in the special features section of the latest DVD) Cinderella relates her wish that there could be many of her so she could do her work more efficiently. You go girlfriend! In short, Cinderella is a very bland character. She passively accepts her step-family\\'s abuse, escaping into her unspoken dreams for relief. She only asserts herself once by reminding her stepmother that she is still a member of the family. For this, she is given permission to go the ball if she completes her housework and finds something to wear, a token gesture that is clearly absurd to everyone except, of course, Cinderella. Can anyone see Belle or Jasmine being such a doormat? If Cinderella is dull, her male counterpart is nothing short of lifeless. The Prince in Cinderella gets no dialog and almost no screen time. We are given no indication if he is a good man, if he respects Cinderella or anything. All we know is 1) he is a prince and 2) he dances well. Heck, even the prince from \"Snow White\" got to sing a romantic song at least. Not only does this lack of development make the romance less interesting, it makes Cinderella look like either a social climber or an idiot, weakening her already tenuous appeal.<br /><br />Perhaps realizing how dull the main characters were, the animators chose to give excessive screen time to the movie\\'s comic relief, Cinderella\\'s friends, the mice. Granted, these characters are amusing. Even so, when the comic relief steals the show from the principals, well, let\\'s just say your story has some problems.<br /><br />Dinsey loves to proclaim all its animated features as \"masterpieces.\" While many of them are, there are some that do not deserve this appellate in any way. Cinderella is a prime example of this fact.'"
            ],
            "application/vnd.google.colaboratory.intrinsic+json": {
              "type": "string"
            }
          },
          "metadata": {}
        },
        {
          "output_type": "stream",
          "name": "stdout",
          "text": [
            "\n"
          ]
        },
        {
          "output_type": "display_data",
          "data": {
            "text/plain": [
              "'label: bad'"
            ],
            "application/vnd.google.colaboratory.intrinsic+json": {
              "type": "string"
            }
          },
          "metadata": {}
        },
        {
          "output_type": "stream",
          "name": "stdout",
          "text": [
            "\n"
          ]
        }
      ],
      "source": [
        "labels = {0: 'bad', 1: 'good'}\n",
        "seen = {'bad': False, 'good': False}\n",
        "for i in range(df.shape[0]):\n",
        "    label = df.loc[i,'label']\n",
        "    if not seen[labels[label]]:\n",
        "        # display/print combination used to appease Ed's strange output behavior\n",
        "        display(df.loc[i, 'text'])\n",
        "        print()\n",
        "        display(f\"label: {labels[label]}\")\n",
        "        print()\n",
        "        seen[labels[label]] = True\n",
        "    if all(val == True for val in seen.values()):\n",
        "        break"
      ]
    },
    {
      "cell_type": "markdown",
      "id": "c1ee4ceb",
      "metadata": {
        "id": "c1ee4ceb"
      },
      "source": [
        "**Some Preprocessing**"
      ]
    },
    {
      "cell_type": "markdown",
      "id": "c9326a9b",
      "metadata": {
        "id": "c9326a9b"
      },
      "source": [
        "In the 2nd example, we can see some html tags inside the review text.\n",
        "\n",
        "Complete the `remove_br()` function by providing its call to `re.sub()` with a regex that removes those pesky \"\\<br />\" tags from an input string, `x`.\\\n",
        "Speciffically, we should replace 2 consecutive occurances of \"\\<br />\" with a single space (can you see why?).\n",
        "\n",
        "**Hint:** It is good practice to use 'raw' string when writing regular expressions to ensure that special characters are treated correctly. Raw strings are appended with an 'r' like this: `r'this is a raw string'`"
      ]
    },
    {
      "cell_type": "code",
      "execution_count": 7,
      "id": "5b94fbca",
      "metadata": {
        "id": "5b94fbca"
      },
      "outputs": [],
      "source": [
        "# please fill this code block!\n",
        "# fill in the regular expression\n",
        "# Define the regular expression to match two consecutive \"<br />\" tags and replace them with a space.\n",
        "remove_br = lambda x: re.sub(r'<br />\\s*<br />', ' ', x)\n"
      ]
    },
    {
      "cell_type": "markdown",
      "id": "2ff4edfe",
      "metadata": {
        "id": "2ff4edfe"
      },
      "source": [
        "Use the dataframe's `apply()` method to apply `remove_br` to each review in both train and test."
      ]
    },
    {
      "cell_type": "code",
      "execution_count": 8,
      "id": "fb9893c2",
      "metadata": {
        "id": "fb9893c2"
      },
      "outputs": [],
      "source": [
        "# please fill this code block!\n",
        "# Apply the function on the 'text' column of the dataframe\n",
        "df['text'] = df['text'].apply(remove_br)"
      ]
    },
    {
      "cell_type": "code",
      "source": [
        "df.loc[4,'text']"
      ],
      "metadata": {
        "colab": {
          "base_uri": "https://localhost:8080/",
          "height": 52
        },
        "id": "x_btY7EXnrKD",
        "outputId": "ddf361e7-834f-4390-8a8b-9745a97288fe"
      },
      "id": "x_btY7EXnrKD",
      "execution_count": 9,
      "outputs": [
        {
          "output_type": "execute_result",
          "data": {
            "text/plain": [
              "\"This is a 'sleeper'. It defines Nicholas Cage. The plot is intricate and totally absorbing. The ending will blow you away. See it whenever you have the opportunity.\""
            ],
            "application/vnd.google.colaboratory.intrinsic+json": {
              "type": "string"
            }
          },
          "metadata": {},
          "execution_count": 9
        }
      ]
    },
    {
      "cell_type": "code",
      "source": [
        "import re\n",
        "def preprocessor(text):\n",
        "    text = re.sub('<[^>]*>', '', text)\n",
        "    emoticons = re.findall('(?::|;|=)(?:-)?(?:\\)|\\(|D|P)', text)\n",
        "    text = re.sub('[\\W]+', ' ', text.lower()) +\\\n",
        "        ' '.join(emoticons).replace('-', '')\n",
        "    return text\n",
        "\n",
        "for i in range(len(df)):\n",
        "  df.loc[i,'text']=preprocessor(df.loc[i,'text'])"
      ],
      "metadata": {
        "id": "4HOomp20mBrm"
      },
      "id": "4HOomp20mBrm",
      "execution_count": null,
      "outputs": []
    },
    {
      "cell_type": "code",
      "source": [
        "df.loc[4,'text']"
      ],
      "metadata": {
        "colab": {
          "base_uri": "https://localhost:8080/",
          "height": 52
        },
        "id": "Bk6ydQqyo2i7",
        "outputId": "7cb67410-8ecf-426c-e114-79fa0f5cdb4f"
      },
      "id": "Bk6ydQqyo2i7",
      "execution_count": 10,
      "outputs": [
        {
          "output_type": "execute_result",
          "data": {
            "text/plain": [
              "\"This is a 'sleeper'. It defines Nicholas Cage. The plot is intricate and totally absorbing. The ending will blow you away. See it whenever you have the opportunity.\""
            ],
            "application/vnd.google.colaboratory.intrinsic+json": {
              "type": "string"
            }
          },
          "metadata": {},
          "execution_count": 10
        }
      ]
    },
    {
      "cell_type": "markdown",
      "id": "05013853",
      "metadata": {
        "id": "05013853"
      },
      "source": [
        "And we can see that the tags have been removed!"
      ]
    },
    {
      "cell_type": "code",
      "execution_count": 11,
      "id": "30134871",
      "metadata": {
        "id": "30134871",
        "outputId": "ff20a654-b3aa-4082-f0c0-c299f401652b",
        "colab": {
          "base_uri": "https://localhost:8080/",
          "height": 52
        }
      },
      "outputs": [
        {
          "output_type": "execute_result",
          "data": {
            "text/plain": [
              "\"This is a 'sleeper'. It defines Nicholas Cage. The plot is intricate and totally absorbing. The ending will blow you away. See it whenever you have the opportunity.\""
            ],
            "application/vnd.google.colaboratory.intrinsic+json": {
              "type": "string"
            }
          },
          "metadata": {},
          "execution_count": 11
        }
      ],
      "source": [
        "df.loc[4,'text']"
      ]
    },
    {
      "cell_type": "markdown",
      "id": "57e4770d",
      "metadata": {
        "id": "57e4770d"
      },
      "source": [
        "Don't worry about any newline characters or backslashes you may see before apostrophes in the examples above. This is just a quirk of how Jupyter displays strings by default.\\\n",
        "We don't see that these characters if we explicitly `print` the string."
      ]
    },
    {
      "cell_type": "code",
      "execution_count": 12,
      "id": "77fe245e",
      "metadata": {
        "id": "77fe245e",
        "outputId": "ddadbdb2-3bd7-4b66-d00f-da190d4f5211",
        "colab": {
          "base_uri": "https://localhost:8080/"
        }
      },
      "outputs": [
        {
          "output_type": "stream",
          "name": "stdout",
          "text": [
            "This is a 'sleeper'. It defines Nicholas Cage. The plot is intricate and totally absorbing. The ending will blow you away. See it whenever you have the opportunity.\n"
          ]
        }
      ],
      "source": [
        "example_str = df.loc[4,'text']\n",
        "print(example_str)"
      ]
    },
    {
      "cell_type": "markdown",
      "id": "1e105db9",
      "metadata": {
        "id": "1e105db9"
      },
      "source": [
        "We'll continue our preprocessing by next **removing punctuation**.\\\n",
        "But first, let's keep a copy of the data *with* punctuation. This will be useful at the end of the notebook when we want to display the original text of specific observations."
      ]
    },
    {
      "cell_type": "code",
      "execution_count": 13,
      "id": "63e3b9d6",
      "metadata": {
        "id": "63e3b9d6"
      },
      "outputs": [],
      "source": [
        "# store copy of data with punctuation\n",
        "df_raw = df.copy()"
      ]
    },
    {
      "cell_type": "markdown",
      "id": "73aa28d4",
      "metadata": {
        "id": "73aa28d4"
      },
      "source": [
        "The next regex we need is a bit more involved.\\\n",
        "**This should match any non-whitespace, any non-alphanumeric characters, and underscores** (strangly, underscores are not covered by the first 2 conditions).\n",
        "\n",
        "**Hints:**\n",
        "- `\\w` matches alphanumeric characters\n",
        "- `\\s` matches whitespace\n",
        "- `[]` can be used to denote a set of characters. ex: `r'[ab]'` will match on 'a' *or* 'b'\n",
        "- `^` at the beginning of a character set denotes *negation*. ex: `r'[^0-9]'` will matching any non-integer\n",
        "- `|` is the *logical or* operator. ex: `r'cat|dog'` will match the strings 'cat' *or* 'dog'\n",
        "- There are many helpful sites for testing regexes. [Here's a nice one](https://www.regextester.com/)."
      ]
    },
    {
      "cell_type": "code",
      "execution_count": 14,
      "id": "1c714b28",
      "metadata": {
        "id": "1c714b28"
      },
      "outputs": [],
      "source": [
        "# please fill this code block!\n",
        "# create a regex that will match the characters described above\n",
        "punc_regex = r'[^\\w\\s]|_'"
      ]
    },
    {
      "cell_type": "markdown",
      "id": "09b57e39",
      "metadata": {
        "id": "09b57e39"
      },
      "source": [
        "Here we'll use an alternative to the `apply` approach we saw above.\\\n",
        "Pandas has its own set of built-in string methods which includes a version of `replace`. But unlike Python's `str.replace()` this can actually use regexes!"
      ]
    },
    {
      "cell_type": "code",
      "execution_count": 15,
      "id": "8a874d3f",
      "metadata": {
        "id": "8a874d3f"
      },
      "outputs": [],
      "source": [
        "df['text'] = df.text.str.replace(punc_regex, '', regex=True) # remove punctuation"
      ]
    },
    {
      "cell_type": "markdown",
      "id": "562cbd2e",
      "metadata": {
        "id": "562cbd2e"
      },
      "source": [
        "If all went well we can see that punctuation has been removed from our dataset."
      ]
    },
    {
      "cell_type": "code",
      "execution_count": 16,
      "id": "a82b9bcb",
      "metadata": {
        "id": "a82b9bcb",
        "outputId": "dce4bbe3-07f4-448e-bbc2-a54d3c815781",
        "colab": {
          "base_uri": "https://localhost:8080/"
        }
      },
      "outputs": [
        {
          "output_type": "stream",
          "name": "stdout",
          "text": [
            "This is a sleeper It defines Nicholas Cage The plot is intricate and totally absorbing The ending will blow you away See it whenever you have the opportunity\n"
          ]
        }
      ],
      "source": [
        "example_str = df.loc[4,'text']\n",
        "print(example_str)"
      ]
    },
    {
      "cell_type": "markdown",
      "id": "d23d4105",
      "metadata": {
        "id": "d23d4105"
      },
      "source": [
        "**Train/Test Split**\n",
        "\n",
        "Rather than splitting the data directly with `train_test_split` we'll instead use it to generate indices for the train and test data.\\\n",
        "This may seem strange, but there is a good reason for it. These indices will later allow us to recover the original, unprocessed text from `df_raw` for any given training and test observations.\n",
        "\n",
        "Notice too that we are stratifying on the label. This will help ensure that good and bad reviews appear in the same proportions in both train and test."
      ]
    },
    {
      "cell_type": "code",
      "execution_count": 17,
      "id": "41b691ae",
      "metadata": {
        "id": "41b691ae"
      },
      "outputs": [],
      "source": [
        "# generate indices to designate train and test observations\n",
        "train_idx, test_idx = train_test_split(range(df.shape[0]), test_size=0.2, random_state=0, stratify=df['label'])"
      ]
    },
    {
      "cell_type": "code",
      "execution_count": 18,
      "id": "a22a946e",
      "metadata": {
        "id": "a22a946e"
      },
      "outputs": [],
      "source": [
        "# Separate the predictor from the response\n",
        "x = df.text.values\n",
        "y = df.label.values"
      ]
    },
    {
      "cell_type": "code",
      "execution_count": 19,
      "id": "9e3d9de1",
      "metadata": {
        "id": "9e3d9de1"
      },
      "outputs": [],
      "source": [
        "# Create train and test sets using the generated indices\n",
        "x_train = x[train_idx]\n",
        "y_train = y[train_idx]\n",
        "x_test = x[test_idx]\n",
        "y_test = y[test_idx]"
      ]
    },
    {
      "cell_type": "markdown",
      "id": "3886b9b5",
      "metadata": {
        "id": "3886b9b5"
      },
      "source": [
        "**Building the Classifier Pipeline**\\\n",
        "**Step 1: Vectorizor**\n",
        "\n",
        "It's true that there are still several preprocessing steps to be done such as converting to lowercase and tokenizing the reviews, but these can be done for using sklearn's [TfidfVectorizer](https://scikit-learn.org/stable/modules/generated/sklearn.feature_extraction.text.TfidfVectorizer.html)."
      ]
    },
    {
      "cell_type": "code",
      "execution_count": 20,
      "id": "1d88b818",
      "metadata": {
        "id": "1d88b818"
      },
      "outputs": [],
      "source": [
        "from sklearn.feature_extraction.text import TfidfVectorizer"
      ]
    },
    {
      "cell_type": "markdown",
      "id": "df712db2",
      "metadata": {
        "id": "df712db2"
      },
      "source": [
        "Instantiate a `TfidfVectorizer` with parameters such that it will:\n",
        "- set all reviews to lowercase\n",
        "- remove english stopwords\n",
        "- exclude words that occur in less than 1 review in 10,000\n",
        "- exclude words that occur in more than 90% of reviews\n",
        "\n",
        "**Hint:** Reading the documentation, you'll see the arguments you need are `lowercase`, `stop_words`, `min_df`, and `max_df`"
      ]
    },
    {
      "cell_type": "code",
      "execution_count": 54,
      "id": "2e236cc8",
      "metadata": {
        "id": "2e236cc8"
      },
      "outputs": [],
      "source": [
        "# please fill this code block!\n",
        "#vec = TfidfVectorizer(lowercase=True, stop_words='english', min_df=1/10000, max_df=0.9)\n",
        "vec = TfidfVectorizer(lowercase=True, stop_words='english', min_df=1/10000, max_df=0.95, ngram_range=(1, 2))"
      ]
    },
    {
      "cell_type": "markdown",
      "id": "0a24c836",
      "metadata": {
        "id": "0a24c836"
      },
      "source": [
        "**Step 2: Classifier**\n",
        "\n",
        "We'll use logistic regression with l2 regularization as our classifier model. The [LogisticRegressionCV](https://scikit-learn.org/stable/modules/generated/sklearn.linear_model.LogisticRegressionCV.html?highlight=logisticregressioncv#sklearn.linear_model.LogisticRegressionCV) object allows us to easily tune for the best regularization parameter."
      ]
    },
    {
      "cell_type": "code",
      "execution_count": 55,
      "id": "078f881f",
      "metadata": {
        "id": "078f881f"
      },
      "outputs": [],
      "source": [
        "from sklearn.linear_model import LogisticRegressionCV"
      ]
    },
    {
      "cell_type": "markdown",
      "id": "97f66e5e",
      "metadata": {
        "id": "97f66e5e"
      },
      "source": [
        "With 40,000 training observations and each word in the vectorizer's vocabulary counting acting as a predictor training could be slow.\\\n",
        "This issue is exacerbated when using cross validation as we need fit the model multiple times!\\\n",
        "We'll set our classifier CV parameters so as to help keep the training time down to around 30 seconds or so.\n",
        "- l2 penalty (e.g., Ridge)\n",
        "- 10 iterations per fit (remember, logistic regression has no closed form solution for the betas!)\n",
        "- 5-fold CV\n",
        "- random state of 0 (the fitting can be stochastic)"
      ]
    },
    {
      "cell_type": "code",
      "execution_count": 56,
      "id": "317752aa",
      "metadata": {
        "id": "317752aa"
      },
      "outputs": [],
      "source": [
        "# please fill this code block!\n",
        "# Instantiate our Classifier\n",
        "clf = LogisticRegressionCV(penalty='l2', max_iter=10, cv=5, random_state=0)"
      ]
    },
    {
      "cell_type": "markdown",
      "id": "90ef7e1f",
      "metadata": {
        "id": "90ef7e1f"
      },
      "source": [
        "**Step 3: Pipeline**\n",
        "\n",
        "Any text data going into our classifier will have to first be converted to numerical data by our vectorizer.\\\n",
        "One way to do this would be to:\n",
        "1. fit the vectorizor on the training data\n",
        "2. transform a dataset with the fitted vectorizer\n",
        "3. pass the transformed data to the classifier\n",
        "\n",
        "(1) only needs to be done once, but (2) & (3) would need to be done manually for train, test, and any other data we want to give them model.\\\n",
        "This would be tedious! Luckily, sklearn's [Pipline](https://scikit-learn.org/stable/modules/generated/sklearn.pipeline.Pipeline.html?highlight=pipeline#sklearn.pipeline.Pipeline) object allow use to connect one more 'transformers' (such as a scaler or vectorizer) with a model."
      ]
    },
    {
      "cell_type": "code",
      "execution_count": 57,
      "id": "c7897ac0",
      "metadata": {
        "id": "c7897ac0"
      },
      "outputs": [],
      "source": [
        "from sklearn.pipeline import make_pipeline"
      ]
    },
    {
      "cell_type": "markdown",
      "id": "15be90c9",
      "metadata": {
        "id": "15be90c9"
      },
      "source": [
        "Use [make_pipeline()](https://scikit-learn.org/stable/modules/generated/sklearn.pipeline.make_pipeline.html?highlight=make_pipeline#sklearn.pipeline.make_pipeline) to connect the vectorizor, `vec`, and our classifier, `clf`, into a single pipeline.\n",
        "\n",
        "**Hint:** You can set `verbose=True` to see the individual steps during the fit process later."
      ]
    },
    {
      "cell_type": "code",
      "execution_count": 58,
      "id": "9f7a47d1",
      "metadata": {
        "id": "9f7a47d1"
      },
      "outputs": [],
      "source": [
        "# please fill this code block!\n",
        "# Construct the pipeline\n",
        "pipe = make_pipeline(vec, clf)"
      ]
    },
    {
      "cell_type": "markdown",
      "id": "20fe0b5d",
      "metadata": {
        "id": "20fe0b5d"
      },
      "source": [
        "**Step 4: Fitting**\n",
        "\n",
        "When it comes to fitting, we can treat the pipeline object as if it were the classifier object itself, and simply call `fit` on the pipeline."
      ]
    },
    {
      "cell_type": "code",
      "execution_count": 59,
      "id": "32a3d208",
      "metadata": {
        "id": "32a3d208"
      },
      "outputs": [],
      "source": [
        "# For the sake of time, we are fitting quickly and we may not converge\n",
        "# We'll supress those pesky warnings\n",
        "from warnings import simplefilter\n",
        "from sklearn.exceptions import ConvergenceWarning\n",
        "# We also ignore FutureWarnings due to version issues on Ed\n",
        "simplefilter(\"ignore\", category=(ConvergenceWarning, FutureWarning))"
      ]
    },
    {
      "cell_type": "code",
      "execution_count": 60,
      "id": "95a8355d",
      "metadata": {
        "id": "95a8355d",
        "outputId": "f8474d48-26ec-47b1-fde6-fd8792ef31e3",
        "colab": {
          "base_uri": "https://localhost:8080/",
          "height": 125
        }
      },
      "outputs": [
        {
          "output_type": "execute_result",
          "data": {
            "text/plain": [
              "Pipeline(steps=[('tfidfvectorizer',\n",
              "                 TfidfVectorizer(max_df=0.95, min_df=0.0001, ngram_range=(1, 2),\n",
              "                                 stop_words='english')),\n",
              "                ('logisticregressioncv',\n",
              "                 LogisticRegressionCV(cv=5, max_iter=10, random_state=0))])"
            ],
            "text/html": [
              "<style>#sk-container-id-3 {color: black;background-color: white;}#sk-container-id-3 pre{padding: 0;}#sk-container-id-3 div.sk-toggleable {background-color: white;}#sk-container-id-3 label.sk-toggleable__label {cursor: pointer;display: block;width: 100%;margin-bottom: 0;padding: 0.3em;box-sizing: border-box;text-align: center;}#sk-container-id-3 label.sk-toggleable__label-arrow:before {content: \"▸\";float: left;margin-right: 0.25em;color: #696969;}#sk-container-id-3 label.sk-toggleable__label-arrow:hover:before {color: black;}#sk-container-id-3 div.sk-estimator:hover label.sk-toggleable__label-arrow:before {color: black;}#sk-container-id-3 div.sk-toggleable__content {max-height: 0;max-width: 0;overflow: hidden;text-align: left;background-color: #f0f8ff;}#sk-container-id-3 div.sk-toggleable__content pre {margin: 0.2em;color: black;border-radius: 0.25em;background-color: #f0f8ff;}#sk-container-id-3 input.sk-toggleable__control:checked~div.sk-toggleable__content {max-height: 200px;max-width: 100%;overflow: auto;}#sk-container-id-3 input.sk-toggleable__control:checked~label.sk-toggleable__label-arrow:before {content: \"▾\";}#sk-container-id-3 div.sk-estimator input.sk-toggleable__control:checked~label.sk-toggleable__label {background-color: #d4ebff;}#sk-container-id-3 div.sk-label input.sk-toggleable__control:checked~label.sk-toggleable__label {background-color: #d4ebff;}#sk-container-id-3 input.sk-hidden--visually {border: 0;clip: rect(1px 1px 1px 1px);clip: rect(1px, 1px, 1px, 1px);height: 1px;margin: -1px;overflow: hidden;padding: 0;position: absolute;width: 1px;}#sk-container-id-3 div.sk-estimator {font-family: monospace;background-color: #f0f8ff;border: 1px dotted black;border-radius: 0.25em;box-sizing: border-box;margin-bottom: 0.5em;}#sk-container-id-3 div.sk-estimator:hover {background-color: #d4ebff;}#sk-container-id-3 div.sk-parallel-item::after {content: \"\";width: 100%;border-bottom: 1px solid gray;flex-grow: 1;}#sk-container-id-3 div.sk-label:hover label.sk-toggleable__label {background-color: #d4ebff;}#sk-container-id-3 div.sk-serial::before {content: \"\";position: absolute;border-left: 1px solid gray;box-sizing: border-box;top: 0;bottom: 0;left: 50%;z-index: 0;}#sk-container-id-3 div.sk-serial {display: flex;flex-direction: column;align-items: center;background-color: white;padding-right: 0.2em;padding-left: 0.2em;position: relative;}#sk-container-id-3 div.sk-item {position: relative;z-index: 1;}#sk-container-id-3 div.sk-parallel {display: flex;align-items: stretch;justify-content: center;background-color: white;position: relative;}#sk-container-id-3 div.sk-item::before, #sk-container-id-3 div.sk-parallel-item::before {content: \"\";position: absolute;border-left: 1px solid gray;box-sizing: border-box;top: 0;bottom: 0;left: 50%;z-index: -1;}#sk-container-id-3 div.sk-parallel-item {display: flex;flex-direction: column;z-index: 1;position: relative;background-color: white;}#sk-container-id-3 div.sk-parallel-item:first-child::after {align-self: flex-end;width: 50%;}#sk-container-id-3 div.sk-parallel-item:last-child::after {align-self: flex-start;width: 50%;}#sk-container-id-3 div.sk-parallel-item:only-child::after {width: 0;}#sk-container-id-3 div.sk-dashed-wrapped {border: 1px dashed gray;margin: 0 0.4em 0.5em 0.4em;box-sizing: border-box;padding-bottom: 0.4em;background-color: white;}#sk-container-id-3 div.sk-label label {font-family: monospace;font-weight: bold;display: inline-block;line-height: 1.2em;}#sk-container-id-3 div.sk-label-container {text-align: center;}#sk-container-id-3 div.sk-container {/* jupyter's `normalize.less` sets `[hidden] { display: none; }` but bootstrap.min.css set `[hidden] { display: none !important; }` so we also need the `!important` here to be able to override the default hidden behavior on the sphinx rendered scikit-learn.org. See: https://github.com/scikit-learn/scikit-learn/issues/21755 */display: inline-block !important;position: relative;}#sk-container-id-3 div.sk-text-repr-fallback {display: none;}</style><div id=\"sk-container-id-3\" class=\"sk-top-container\"><div class=\"sk-text-repr-fallback\"><pre>Pipeline(steps=[(&#x27;tfidfvectorizer&#x27;,\n",
              "                 TfidfVectorizer(max_df=0.95, min_df=0.0001, ngram_range=(1, 2),\n",
              "                                 stop_words=&#x27;english&#x27;)),\n",
              "                (&#x27;logisticregressioncv&#x27;,\n",
              "                 LogisticRegressionCV(cv=5, max_iter=10, random_state=0))])</pre><b>In a Jupyter environment, please rerun this cell to show the HTML representation or trust the notebook. <br />On GitHub, the HTML representation is unable to render, please try loading this page with nbviewer.org.</b></div><div class=\"sk-container\" hidden><div class=\"sk-item sk-dashed-wrapped\"><div class=\"sk-label-container\"><div class=\"sk-label sk-toggleable\"><input class=\"sk-toggleable__control sk-hidden--visually\" id=\"sk-estimator-id-7\" type=\"checkbox\" ><label for=\"sk-estimator-id-7\" class=\"sk-toggleable__label sk-toggleable__label-arrow\">Pipeline</label><div class=\"sk-toggleable__content\"><pre>Pipeline(steps=[(&#x27;tfidfvectorizer&#x27;,\n",
              "                 TfidfVectorizer(max_df=0.95, min_df=0.0001, ngram_range=(1, 2),\n",
              "                                 stop_words=&#x27;english&#x27;)),\n",
              "                (&#x27;logisticregressioncv&#x27;,\n",
              "                 LogisticRegressionCV(cv=5, max_iter=10, random_state=0))])</pre></div></div></div><div class=\"sk-serial\"><div class=\"sk-item\"><div class=\"sk-estimator sk-toggleable\"><input class=\"sk-toggleable__control sk-hidden--visually\" id=\"sk-estimator-id-8\" type=\"checkbox\" ><label for=\"sk-estimator-id-8\" class=\"sk-toggleable__label sk-toggleable__label-arrow\">TfidfVectorizer</label><div class=\"sk-toggleable__content\"><pre>TfidfVectorizer(max_df=0.95, min_df=0.0001, ngram_range=(1, 2),\n",
              "                stop_words=&#x27;english&#x27;)</pre></div></div></div><div class=\"sk-item\"><div class=\"sk-estimator sk-toggleable\"><input class=\"sk-toggleable__control sk-hidden--visually\" id=\"sk-estimator-id-9\" type=\"checkbox\" ><label for=\"sk-estimator-id-9\" class=\"sk-toggleable__label sk-toggleable__label-arrow\">LogisticRegressionCV</label><div class=\"sk-toggleable__content\"><pre>LogisticRegressionCV(cv=5, max_iter=10, random_state=0)</pre></div></div></div></div></div></div></div>"
            ]
          },
          "metadata": {},
          "execution_count": 60
        }
      ],
      "source": [
        "### edTest(test_fit) ###\n",
        "# Fit the model via the pipeline\n",
        "pipe.fit(x_train, y_train)"
      ]
    },
    {
      "cell_type": "markdown",
      "id": "b5e449d2",
      "metadata": {
        "id": "b5e449d2"
      },
      "source": [
        "We can inspect the steps of the pipeline."
      ]
    },
    {
      "cell_type": "code",
      "execution_count": 61,
      "id": "feb94be9",
      "metadata": {
        "id": "feb94be9",
        "outputId": "610ead2e-fd34-40e7-8281-a0a01d5df210",
        "colab": {
          "base_uri": "https://localhost:8080/"
        }
      },
      "outputs": [
        {
          "output_type": "execute_result",
          "data": {
            "text/plain": [
              "[('tfidfvectorizer',\n",
              "  TfidfVectorizer(max_df=0.95, min_df=0.0001, ngram_range=(1, 2),\n",
              "                  stop_words='english')),\n",
              " ('logisticregressioncv',\n",
              "  LogisticRegressionCV(cv=5, max_iter=10, random_state=0))]"
            ]
          },
          "metadata": {},
          "execution_count": 61
        }
      ],
      "source": [
        "pipe.get_params()['steps']"
      ]
    },
    {
      "cell_type": "markdown",
      "id": "41580761",
      "metadata": {
        "id": "41580761"
      },
      "source": [
        "By default they are named using the all lowercase class name of each object.\\\n",
        "We can use these names to access the fitted objects inside. Here we see the size of our vectorizer's vocabulary."
      ]
    },
    {
      "cell_type": "code",
      "execution_count": 62,
      "id": "ccca2cec",
      "metadata": {
        "scrolled": true,
        "id": "ccca2cec",
        "outputId": "029b6939-a483-4004-9585-cfd6beb4bf09",
        "colab": {
          "base_uri": "https://localhost:8080/"
        }
      },
      "outputs": [
        {
          "output_type": "stream",
          "name": "stdout",
          "text": [
            "# of features: 128378\n"
          ]
        }
      ],
      "source": [
        "#features = pipe.get_params()['tfidfvectorizer'].get_feature_names()\n",
        "#I have changed it.\n",
        "features = pipe.get_params()['tfidfvectorizer'].get_feature_names_out()\n",
        "print('# of features:', len(features))"
      ]
    },
    {
      "cell_type": "markdown",
      "id": "8706fcf1",
      "metadata": {
        "id": "8706fcf1"
      },
      "source": [
        "There are too many to print, but we can peek at a random sample."
      ]
    },
    {
      "cell_type": "code",
      "execution_count": 63,
      "id": "929a8397",
      "metadata": {
        "id": "929a8397",
        "outputId": "e0c4b684-4c6c-45b4-a2e6-dc57364c6c86",
        "colab": {
          "base_uri": "https://localhost:8080/"
        }
      },
      "outputs": [
        {
          "output_type": "stream",
          "name": "stdout",
          "text": [
            "['know men' 'russian general' 'awful wonder' 'wrestling match'\n",
            " 'honest say' 'novice' 'estevezs' 'globe' 'films stories' 'come happen'\n",
            " 'substitution' 'spoiler end' 'whore' 'relies' 'cinema great' 'insular'\n",
            " 'set set' 'blockbusters' 'story amazing' 'arent characters' 'manner just'\n",
            " 'hes far' 'glorifying' 'tries win' 'dvd right' 'rent movie'\n",
            " 'spoken words' 'kinda boring' 'alain' 'stories arent' 'gags slapstick'\n",
            " 'single mother' 'watch uncut' 'mans walk' 'use title' 'floyd' 'soaking'\n",
            " 'triton' 'thou' 'anchors']\n"
          ]
        }
      ],
      "source": [
        "sample_size = 40\n",
        "feature_sample_idx = np.random.choice(len(features), size=sample_size, replace=False)\n",
        "print(np.array(features)[feature_sample_idx])"
      ]
    },
    {
      "cell_type": "markdown",
      "id": "97f3f2e8",
      "metadata": {
        "id": "97f3f2e8"
      },
      "source": [
        "Similarly, we can access the fitted logistic model and see what regularization parameter was used."
      ]
    },
    {
      "cell_type": "code",
      "execution_count": 64,
      "id": "86399e47",
      "metadata": {
        "scrolled": true,
        "id": "86399e47",
        "outputId": "57093a87-6855-4c43-fa08-2e158a5c613e",
        "colab": {
          "base_uri": "https://localhost:8080/"
        }
      },
      "outputs": [
        {
          "output_type": "stream",
          "name": "stdout",
          "text": [
            "Best C from cross-validation: 21.5443\n"
          ]
        }
      ],
      "source": [
        "best_C = pipe.get_params()['logisticregressioncv'].C_[0]\n",
        "print(f'Best C from cross-validation: {best_C:.4f}')"
      ]
    },
    {
      "cell_type": "markdown",
      "id": "0cab190d",
      "metadata": {
        "id": "0cab190d"
      },
      "source": [
        "**Step 5: Prediction**\n",
        "\n",
        "Just like we did when fitting, we can treat the pipeline object as the classifier when making predictions.\\\n",
        "Predict on the test data to get:\n",
        "1. class labels\n",
        "2. probabilities of being the positive class (i.e., 'good' reviews)\n",
        "3. test accuracy"
      ]
    },
    {
      "cell_type": "code",
      "execution_count": 65,
      "id": "0b0d084b",
      "metadata": {
        "id": "0b0d084b",
        "outputId": "44c87da5-e55d-41d9-dfd8-b6e02ce79e96",
        "colab": {
          "base_uri": "https://localhost:8080/"
        }
      },
      "outputs": [
        {
          "output_type": "stream",
          "name": "stdout",
          "text": [
            "test accuracy: 0.903\n",
            "test accuracy: 0.9029\n"
          ]
        }
      ],
      "source": [
        "# please fill this code block!\n",
        "# Predict class labels on test data\n",
        "y_pred = pipe.predict(x_test)\n",
        "\n",
        "# Predict probabilities of the positive class on the test data\n",
        "y_pred_proba = pipe.predict_proba(x_test)[:, 1]\n",
        "\n",
        "# Calculate test accuracy\n",
        "test_acc = pipe.score(x_test, y_test)\n",
        "print(f\"test accuracy: {test_acc:0.3f}\")\n",
        "print(f\"test accuracy: {test_acc:0.4f}\")"
      ]
    },
    {
      "cell_type": "markdown",
      "id": "0ae3f289",
      "metadata": {
        "id": "0ae3f289"
      },
      "source": [
        "Can you get better than 0.893 by tweaking the preprocessing, or vetorizer and classifier parameters? Perhaps inspecting how our model makes its predictions may help us decide how we might improve the model in the future."
      ]
    },
    {
      "cell_type": "code",
      "source": [
        "def preprocessor(text):\n",
        "    text = re.sub('<[^>]*>', '', text)\n",
        "    emoticons = re.findall('(?::|;|=)(?:-)?(?:\\)|\\(|D|P)', text)\n",
        "    text = re.sub('[\\W]+', ' ', text.lower()) +\\\n",
        "        ' '.join(emoticons).replace('-', '')\n",
        "    return text"
      ],
      "metadata": {
        "id": "R7e9IMA_lzqq"
      },
      "id": "R7e9IMA_lzqq",
      "execution_count": 66,
      "outputs": []
    },
    {
      "cell_type": "markdown",
      "id": "3ccc9200",
      "metadata": {
        "id": "3ccc9200"
      },
      "source": [
        "### Kaggle Submission Process for Movie Review Classification\n",
        "\n",
        "In the subsequent steps, we'll process the test dataset provided on Kaggle, produce a predicted output, and generate a CSV file suitable for submission. This will allow us to evaluate our model's predictions on Kaggle. Access the competition through this [link](https://www.kaggle.com/competitions/dsaa-6100-movie-review-classification/): **DSAA 6100 Movie Review Classification**.\n",
        "\n",
        "When participating in the competition on Kaggle, please ensure your displayed username follows the format \"StudentID_Name\". This will help the teaching assistants to easily identify and verify your scores. For instance, change your Kaggle display name to a format similar to \"50013772_Yupeng Xie\" before submitting."
      ]
    },
    {
      "cell_type": "code",
      "execution_count": 33,
      "id": "1ee8aecd",
      "metadata": {
        "id": "1ee8aecd",
        "outputId": "851274f4-bb73-4c70-aa37-242f4c696a78",
        "colab": {
          "base_uri": "https://localhost:8080/"
        }
      },
      "outputs": [
        {
          "output_type": "stream",
          "name": "stdout",
          "text": [
            "Kaggle submission file saved as 'kaggle_submission.csv'\n"
          ]
        }
      ],
      "source": [
        "# 1. Load the 'test_data.csv' file\n",
        "test_data = pd.read_csv('data/test_data.csv')\n",
        "\n",
        "# Extract reviews from 'test_data.csv' assuming the column name is \"text\"\n",
        "test_reviews = test_data['text']\n",
        "\n",
        "# 2. Predict sentiments using the trained model\n",
        "y_pred_kaggle = pipe.predict(test_reviews)\n",
        "\n",
        "# 3. Create a dataframe for Kaggle submission\n",
        "# Assuming 'test_data' has a column named 'Id' for identifying each review\n",
        "submission = pd.DataFrame({'Id': test_data['Id'], 'Category': y_pred_kaggle})\n",
        "\n",
        "# 4. Save the predictions to a .csv file for submission\n",
        "submission.to_csv('kaggle_submission.csv', index=False)\n",
        "\"\"\n",
        "print(\"Kaggle submission file saved as 'kaggle_submission.csv'\")"
      ]
    },
    {
      "cell_type": "markdown",
      "id": "ea0203db",
      "metadata": {
        "id": "ea0203db"
      },
      "source": [
        "### Interpretation\n",
        "\n",
        "Below we'll use the `eli5` library to have some fun interpreting what is driving our model's predictions on specific test observations.\n",
        "\n",
        "- [ELI5](https://eli5.readthedocs.io/en/latest/) is a Python library which allows to visualize and debug various Machine Learning models using unified API. It has built-in support for several ML frameworks and provides a way to explain black-box models."
      ]
    },
    {
      "cell_type": "code",
      "execution_count": 35,
      "id": "c65b9d8c",
      "metadata": {
        "id": "c65b9d8c",
        "colab": {
          "base_uri": "https://localhost:8080/"
        },
        "outputId": "dd9259d0-85f0-403e-8b62-34690d4c28c2"
      },
      "outputs": [
        {
          "output_type": "stream",
          "name": "stdout",
          "text": [
            "Collecting eli5\n",
            "  Downloading eli5-0.13.0.tar.gz (216 kB)\n",
            "\u001b[?25l     \u001b[90m━━━━━━━━━━━━━━━━━━━━━━━━━━━━━━━━━━━━━━━━\u001b[0m \u001b[32m0.0/216.2 kB\u001b[0m \u001b[31m?\u001b[0m eta \u001b[36m-:--:--\u001b[0m\r\u001b[2K     \u001b[91m━━━━━━━━━━━━━━━━━━━━━━\u001b[0m\u001b[91m╸\u001b[0m\u001b[90m━━━━━━━━━━━━━━━━━\u001b[0m \u001b[32m122.9/216.2 kB\u001b[0m \u001b[31m3.6 MB/s\u001b[0m eta \u001b[36m0:00:01\u001b[0m\r\u001b[2K     \u001b[90m━━━━━━━━━━━━━━━━━━━━━━━━━━━━━━━━━━━━━━━━\u001b[0m \u001b[32m216.2/216.2 kB\u001b[0m \u001b[31m4.4 MB/s\u001b[0m eta \u001b[36m0:00:00\u001b[0m\n",
            "\u001b[?25h  Preparing metadata (setup.py) ... \u001b[?25l\u001b[?25hdone\n",
            "Requirement already satisfied: attrs>17.1.0 in /usr/local/lib/python3.10/dist-packages (from eli5) (23.1.0)\n",
            "Requirement already satisfied: jinja2>=3.0.0 in /usr/local/lib/python3.10/dist-packages (from eli5) (3.1.2)\n",
            "Requirement already satisfied: numpy>=1.9.0 in /usr/local/lib/python3.10/dist-packages (from eli5) (1.23.5)\n",
            "Requirement already satisfied: scipy in /usr/local/lib/python3.10/dist-packages (from eli5) (1.11.3)\n",
            "Requirement already satisfied: six in /usr/local/lib/python3.10/dist-packages (from eli5) (1.16.0)\n",
            "Requirement already satisfied: scikit-learn>=0.20 in /usr/local/lib/python3.10/dist-packages (from eli5) (1.2.2)\n",
            "Requirement already satisfied: graphviz in /usr/local/lib/python3.10/dist-packages (from eli5) (0.20.1)\n",
            "Requirement already satisfied: tabulate>=0.7.7 in /usr/local/lib/python3.10/dist-packages (from eli5) (0.9.0)\n",
            "Requirement already satisfied: MarkupSafe>=2.0 in /usr/local/lib/python3.10/dist-packages (from jinja2>=3.0.0->eli5) (2.1.3)\n",
            "Requirement already satisfied: joblib>=1.1.1 in /usr/local/lib/python3.10/dist-packages (from scikit-learn>=0.20->eli5) (1.3.2)\n",
            "Requirement already satisfied: threadpoolctl>=2.0.0 in /usr/local/lib/python3.10/dist-packages (from scikit-learn>=0.20->eli5) (3.2.0)\n",
            "Building wheels for collected packages: eli5\n",
            "  Building wheel for eli5 (setup.py) ... \u001b[?25l\u001b[?25hdone\n",
            "  Created wheel for eli5: filename=eli5-0.13.0-py2.py3-none-any.whl size=107719 sha256=05c5edcf9888ec79675e3e2cd82e4d6ec25c74ccadf4de292f5ca76bf8d7b977\n",
            "  Stored in directory: /root/.cache/pip/wheels/b8/58/ef/2cf4c306898c2338d51540e0922c8e0d6028e07007085c0004\n",
            "Successfully built eli5\n",
            "Installing collected packages: eli5\n",
            "Successfully installed eli5-0.13.0\n"
          ]
        }
      ],
      "source": [
        "# please fill this code block!\n",
        "# Install ELI5\n",
        "!pip install eli5"
      ]
    },
    {
      "cell_type": "code",
      "execution_count": 67,
      "id": "fb097024",
      "metadata": {
        "id": "fb097024"
      },
      "outputs": [],
      "source": [
        "# For interpretation\n",
        "import eli5\n",
        "# for parsing/formating eli5's HTML output\n",
        "from bs4 import BeautifulSoup\n",
        "# for displaying formatted HTML output\n",
        "from IPython.display import HTML"
      ]
    },
    {
      "cell_type": "markdown",
      "id": "bf8566b4",
      "metadata": {
        "id": "bf8566b4"
      },
      "source": [
        "Here are the words driving positive class predictions."
      ]
    },
    {
      "cell_type": "code",
      "execution_count": 68,
      "id": "303414ee",
      "metadata": {
        "id": "303414ee",
        "outputId": "47411edd-f3ab-46f4-9466-bd197f0e5af1",
        "colab": {
          "base_uri": "https://localhost:8080/",
          "height": 558
        }
      },
      "outputs": [
        {
          "output_type": "execute_result",
          "data": {
            "text/plain": [
              "<IPython.core.display.HTML object>"
            ],
            "text/html": [
              "\n",
              "    <style>\n",
              "    table.eli5-weights tr:hover {\n",
              "        filter: brightness(85%);\n",
              "    }\n",
              "</style>\n",
              "\n",
              "\n",
              "\n",
              "    \n",
              "\n",
              "    \n",
              "\n",
              "    \n",
              "\n",
              "    \n",
              "\n",
              "    \n",
              "\n",
              "    \n",
              "\n",
              "\n",
              "    \n",
              "\n",
              "    \n",
              "\n",
              "    \n",
              "\n",
              "    \n",
              "        \n",
              "\n",
              "    \n",
              "\n",
              "        \n",
              "            \n",
              "                \n",
              "                \n",
              "    \n",
              "        <p style=\"margin-bottom: 0.5em; margin-top: 0em\">\n",
              "            <b>\n",
              "    \n",
              "        y=1\n",
              "    \n",
              "</b>\n",
              "\n",
              "top features\n",
              "        </p>\n",
              "    \n",
              "    <table class=\"eli5-weights\"\n",
              "           style=\"border-collapse: collapse; border: none; margin-top: 0em; table-layout: auto; margin-bottom: 2em;\">\n",
              "        <thead>\n",
              "        <tr style=\"border: none;\">\n",
              "            \n",
              "                <th style=\"padding: 0 1em 0 0.5em; text-align: right; border: none;\" title=\"Feature weights. Note that weights do not account for feature value scales, so if feature values have different scales, features with highest weights might not be the most important.\">\n",
              "                    Weight<sup>?</sup>\n",
              "                </th>\n",
              "            \n",
              "            <th style=\"padding: 0 0.5em 0 0.5em; text-align: left; border: none;\">Feature</th>\n",
              "            \n",
              "        </tr>\n",
              "        </thead>\n",
              "        <tbody>\n",
              "        \n",
              "            <tr style=\"background-color: hsl(120, 100.00%, 82.97%); border: none;\">\n",
              "    <td style=\"padding: 0 1em 0 0.5em; text-align: right; border: none;\">\n",
              "        +16.219\n",
              "    </td>\n",
              "    <td style=\"padding: 0 0.5em 0 0.5em; text-align: left; border: none;\">\n",
              "        x947\n",
              "    </td>\n",
              "    \n",
              "</tr>\n",
              "        \n",
              "            <tr style=\"background-color: hsl(120, 100.00%, 84.15%); border: none;\">\n",
              "    <td style=\"padding: 0 1em 0 0.5em; text-align: right; border: none;\">\n",
              "        +14.628\n",
              "    </td>\n",
              "    <td style=\"padding: 0 0.5em 0 0.5em; text-align: left; border: none;\">\n",
              "        x34646\n",
              "    </td>\n",
              "    \n",
              "</tr>\n",
              "        \n",
              "            <tr style=\"background-color: hsl(120, 100.00%, 85.95%); border: none;\">\n",
              "    <td style=\"padding: 0 1em 0 0.5em; text-align: right; border: none;\">\n",
              "        +12.320\n",
              "    </td>\n",
              "    <td style=\"padding: 0 0.5em 0 0.5em; text-align: left; border: none;\">\n",
              "        x4454\n",
              "    </td>\n",
              "    \n",
              "</tr>\n",
              "        \n",
              "            <tr style=\"background-color: hsl(120, 100.00%, 86.04%); border: none;\">\n",
              "    <td style=\"padding: 0 1em 0 0.5em; text-align: right; border: none;\">\n",
              "        +12.205\n",
              "    </td>\n",
              "    <td style=\"padding: 0 0.5em 0 0.5em; text-align: left; border: none;\">\n",
              "        x47639\n",
              "    </td>\n",
              "    \n",
              "</tr>\n",
              "        \n",
              "            <tr style=\"background-color: hsl(120, 100.00%, 86.61%); border: none;\">\n",
              "    <td style=\"padding: 0 1em 0 0.5em; text-align: right; border: none;\">\n",
              "        +11.503\n",
              "    </td>\n",
              "    <td style=\"padding: 0 0.5em 0 0.5em; text-align: left; border: none;\">\n",
              "        x84023\n",
              "    </td>\n",
              "    \n",
              "</tr>\n",
              "        \n",
              "            <tr style=\"background-color: hsl(120, 100.00%, 86.78%); border: none;\">\n",
              "    <td style=\"padding: 0 1em 0 0.5em; text-align: right; border: none;\">\n",
              "        +11.292\n",
              "    </td>\n",
              "    <td style=\"padding: 0 0.5em 0 0.5em; text-align: left; border: none;\">\n",
              "        x125387\n",
              "    </td>\n",
              "    \n",
              "</tr>\n",
              "        \n",
              "            <tr style=\"background-color: hsl(120, 100.00%, 87.44%); border: none;\">\n",
              "    <td style=\"padding: 0 1em 0 0.5em; text-align: right; border: none;\">\n",
              "        +10.496\n",
              "    </td>\n",
              "    <td style=\"padding: 0 0.5em 0 0.5em; text-align: left; border: none;\">\n",
              "        x13029\n",
              "    </td>\n",
              "    \n",
              "</tr>\n",
              "        \n",
              "            <tr style=\"background-color: hsl(120, 100.00%, 87.72%); border: none;\">\n",
              "    <td style=\"padding: 0 1em 0 0.5em; text-align: right; border: none;\">\n",
              "        +10.163\n",
              "    </td>\n",
              "    <td style=\"padding: 0 0.5em 0 0.5em; text-align: left; border: none;\">\n",
              "        x9776\n",
              "    </td>\n",
              "    \n",
              "</tr>\n",
              "        \n",
              "        \n",
              "            <tr style=\"background-color: hsl(120, 100.00%, 87.72%); border: none;\">\n",
              "                <td colspan=\"2\" style=\"padding: 0 0.5em 0 0.5em; text-align: center; border: none; white-space: nowrap;\">\n",
              "                    <i>&hellip; 64959 more positive &hellip;</i>\n",
              "                </td>\n",
              "            </tr>\n",
              "        \n",
              "\n",
              "        \n",
              "            <tr style=\"background-color: hsl(0, 100.00%, 87.78%); border: none;\">\n",
              "                <td colspan=\"2\" style=\"padding: 0 0.5em 0 0.5em; text-align: center; border: none; white-space: nowrap;\">\n",
              "                    <i>&hellip; 63395 more negative &hellip;</i>\n",
              "                </td>\n",
              "            </tr>\n",
              "        \n",
              "        \n",
              "            <tr style=\"background-color: hsl(0, 100.00%, 87.78%); border: none;\">\n",
              "    <td style=\"padding: 0 1em 0 0.5em; text-align: right; border: none;\">\n",
              "        -10.088\n",
              "    </td>\n",
              "    <td style=\"padding: 0 0.5em 0 0.5em; text-align: left; border: none;\">\n",
              "        x94710\n",
              "    </td>\n",
              "    \n",
              "</tr>\n",
              "        \n",
              "            <tr style=\"background-color: hsl(0, 100.00%, 87.70%); border: none;\">\n",
              "    <td style=\"padding: 0 1em 0 0.5em; text-align: right; border: none;\">\n",
              "        -10.187\n",
              "    </td>\n",
              "    <td style=\"padding: 0 0.5em 0 0.5em; text-align: left; border: none;\">\n",
              "        x71834\n",
              "    </td>\n",
              "    \n",
              "</tr>\n",
              "        \n",
              "            <tr style=\"background-color: hsl(0, 100.00%, 87.49%); border: none;\">\n",
              "    <td style=\"padding: 0 1em 0 0.5em; text-align: right; border: none;\">\n",
              "        -10.438\n",
              "    </td>\n",
              "    <td style=\"padding: 0 0.5em 0 0.5em; text-align: left; border: none;\">\n",
              "        x87222\n",
              "    </td>\n",
              "    \n",
              "</tr>\n",
              "        \n",
              "            <tr style=\"background-color: hsl(0, 100.00%, 87.47%); border: none;\">\n",
              "    <td style=\"padding: 0 1em 0 0.5em; text-align: right; border: none;\">\n",
              "        -10.458\n",
              "    </td>\n",
              "    <td style=\"padding: 0 0.5em 0 0.5em; text-align: left; border: none;\">\n",
              "        x27969\n",
              "    </td>\n",
              "    \n",
              "</tr>\n",
              "        \n",
              "            <tr style=\"background-color: hsl(0, 100.00%, 87.34%); border: none;\">\n",
              "    <td style=\"padding: 0 1em 0 0.5em; text-align: right; border: none;\">\n",
              "        -10.622\n",
              "    </td>\n",
              "    <td style=\"padding: 0 0.5em 0 0.5em; text-align: left; border: none;\">\n",
              "        x61960\n",
              "    </td>\n",
              "    \n",
              "</tr>\n",
              "        \n",
              "            <tr style=\"background-color: hsl(0, 100.00%, 87.18%); border: none;\">\n",
              "    <td style=\"padding: 0 1em 0 0.5em; text-align: right; border: none;\">\n",
              "        -10.813\n",
              "    </td>\n",
              "    <td style=\"padding: 0 0.5em 0 0.5em; text-align: left; border: none;\">\n",
              "        x27983\n",
              "    </td>\n",
              "    \n",
              "</tr>\n",
              "        \n",
              "            <tr style=\"background-color: hsl(0, 100.00%, 87.06%); border: none;\">\n",
              "    <td style=\"padding: 0 1em 0 0.5em; text-align: right; border: none;\">\n",
              "        -10.952\n",
              "    </td>\n",
              "    <td style=\"padding: 0 0.5em 0 0.5em; text-align: left; border: none;\">\n",
              "        x111685\n",
              "    </td>\n",
              "    \n",
              "</tr>\n",
              "        \n",
              "            <tr style=\"background-color: hsl(0, 100.00%, 87.05%); border: none;\">\n",
              "    <td style=\"padding: 0 1em 0 0.5em; text-align: right; border: none;\">\n",
              "        -10.971\n",
              "    </td>\n",
              "    <td style=\"padding: 0 0.5em 0 0.5em; text-align: left; border: none;\">\n",
              "        x30557\n",
              "    </td>\n",
              "    \n",
              "</tr>\n",
              "        \n",
              "            <tr style=\"background-color: hsl(0, 100.00%, 86.87%); border: none;\">\n",
              "    <td style=\"padding: 0 1em 0 0.5em; text-align: right; border: none;\">\n",
              "        -11.187\n",
              "    </td>\n",
              "    <td style=\"padding: 0 0.5em 0 0.5em; text-align: left; border: none;\">\n",
              "        x52843\n",
              "    </td>\n",
              "    \n",
              "</tr>\n",
              "        \n",
              "            <tr style=\"background-color: hsl(0, 100.00%, 86.80%); border: none;\">\n",
              "    <td style=\"padding: 0 1em 0 0.5em; text-align: right; border: none;\">\n",
              "        -11.274\n",
              "    </td>\n",
              "    <td style=\"padding: 0 0.5em 0 0.5em; text-align: left; border: none;\">\n",
              "        x36004\n",
              "    </td>\n",
              "    \n",
              "</tr>\n",
              "        \n",
              "            <tr style=\"background-color: hsl(0, 100.00%, 86.75%); border: none;\">\n",
              "    <td style=\"padding: 0 1em 0 0.5em; text-align: right; border: none;\">\n",
              "        -11.331\n",
              "    </td>\n",
              "    <td style=\"padding: 0 0.5em 0 0.5em; text-align: left; border: none;\">\n",
              "        x770\n",
              "    </td>\n",
              "    \n",
              "</tr>\n",
              "        \n",
              "            <tr style=\"background-color: hsl(0, 100.00%, 86.53%); border: none;\">\n",
              "    <td style=\"padding: 0 1em 0 0.5em; text-align: right; border: none;\">\n",
              "        -11.599\n",
              "    </td>\n",
              "    <td style=\"padding: 0 0.5em 0 0.5em; text-align: left; border: none;\">\n",
              "        x126309\n",
              "    </td>\n",
              "    \n",
              "</tr>\n",
              "        \n",
              "            <tr style=\"background-color: hsl(0, 100.00%, 85.87%); border: none;\">\n",
              "    <td style=\"padding: 0 1em 0 0.5em; text-align: right; border: none;\">\n",
              "        -12.414\n",
              "    </td>\n",
              "    <td style=\"padding: 0 0.5em 0 0.5em; text-align: left; border: none;\">\n",
              "        x7680\n",
              "    </td>\n",
              "    \n",
              "</tr>\n",
              "        \n",
              "            <tr style=\"background-color: hsl(0, 100.00%, 85.15%); border: none;\">\n",
              "    <td style=\"padding: 0 1em 0 0.5em; text-align: right; border: none;\">\n",
              "        -13.332\n",
              "    </td>\n",
              "    <td style=\"padding: 0 0.5em 0 0.5em; text-align: left; border: none;\">\n",
              "        x12223\n",
              "    </td>\n",
              "    \n",
              "</tr>\n",
              "        \n",
              "            <tr style=\"background-color: hsl(0, 100.00%, 83.38%); border: none;\">\n",
              "    <td style=\"padding: 0 1em 0 0.5em; text-align: right; border: none;\">\n",
              "        -15.660\n",
              "    </td>\n",
              "    <td style=\"padding: 0 0.5em 0 0.5em; text-align: left; border: none;\">\n",
              "        x122224\n",
              "    </td>\n",
              "    \n",
              "</tr>\n",
              "        \n",
              "            <tr style=\"background-color: hsl(0, 100.00%, 83.00%); border: none;\">\n",
              "    <td style=\"padding: 0 1em 0 0.5em; text-align: right; border: none;\">\n",
              "        -16.172\n",
              "    </td>\n",
              "    <td style=\"padding: 0 0.5em 0 0.5em; text-align: left; border: none;\">\n",
              "        x7416\n",
              "    </td>\n",
              "    \n",
              "</tr>\n",
              "        \n",
              "            <tr style=\"background-color: hsl(0, 100.00%, 80.00%); border: none;\">\n",
              "    <td style=\"padding: 0 1em 0 0.5em; text-align: right; border: none;\">\n",
              "        -20.401\n",
              "    </td>\n",
              "    <td style=\"padding: 0 0.5em 0 0.5em; text-align: left; border: none;\">\n",
              "        x126394\n",
              "    </td>\n",
              "    \n",
              "</tr>\n",
              "        \n",
              "\n",
              "        </tbody>\n",
              "    </table>\n",
              "\n",
              "            \n",
              "        \n",
              "\n",
              "        \n",
              "\n",
              "\n",
              "\n",
              "    \n",
              "\n",
              "    \n",
              "\n",
              "    \n",
              "\n",
              "    \n",
              "\n",
              "\n",
              "    \n",
              "\n",
              "    \n",
              "\n",
              "    \n",
              "\n",
              "    \n",
              "\n",
              "    \n",
              "\n",
              "    \n",
              "\n",
              "\n",
              "    \n",
              "\n",
              "    \n",
              "\n",
              "    \n",
              "\n",
              "    \n",
              "\n",
              "    \n",
              "\n",
              "    \n",
              "\n",
              "\n",
              "\n"
            ]
          },
          "metadata": {},
          "execution_count": 68
        }
      ],
      "source": [
        "feature_names=vec.get_feature_names_out()\n",
        "eli5.show_weights(clf, vec=vec, top=25)"
      ]
    },
    {
      "cell_type": "markdown",
      "id": "9bec2b7a",
      "metadata": {
        "id": "9bec2b7a"
      },
      "source": [
        "Hmm, those digits like 710, 810, and 410 driving predictions seems strange. What might they represent?\\"
      ]
    },
    {
      "cell_type": "markdown",
      "id": "a5c0d164",
      "metadata": {
        "id": "a5c0d164"
      },
      "source": [
        "We'll use the 'raw' data with punctuation when inspecting the data (See! It is coming in handy!)"
      ]
    },
    {
      "cell_type": "code",
      "execution_count": 69,
      "id": "3289273b",
      "metadata": {
        "id": "3289273b"
      },
      "outputs": [],
      "source": [
        "x_train_raw = df_raw.text[train_idx].values\n",
        "x_test_raw = df_raw.text[test_idx].values"
      ]
    },
    {
      "cell_type": "code",
      "execution_count": 70,
      "id": "08afdf62",
      "metadata": {
        "id": "08afdf62",
        "outputId": "92a1267c-e60b-4711-b79c-da0d9b19a7e6",
        "colab": {
          "base_uri": "https://localhost:8080/",
          "height": 140
        }
      },
      "outputs": [
        {
          "output_type": "execute_result",
          "data": {
            "text/plain": [
              "\"I have seen a lot of PPV's in the past but this is the most entertaining, intense PPV and the most complete DVD i have ever seen. The DVD extras are worth it because they it gives a different view of how the wrestlers act after the show (such as the chris benoit interview/edge interview), some glimpse into the Monday Night Wars era,the first match of Hogan winning tag title gold and some promotional talk. Additionally there is a good music video. 1. Tag Team Table match: Bubby Ray and Spike Dudley vs. Eddie Guerro and Chris benoit 7/10 This was a pretty good intense match to start off the show. Not too many holds and just pure raw physicallity. Spike can hold his own in tables matches and Guerro and Benoit gave good pure wrestling skills on the mat.  2. WWE Crusierweight championship: Jamie Noble w/ Nidia v. Billy Kidman 3/10 The crowd really didn't care about either wrestler and didn't get interested until Kidman did a shooting star press. Usually people expect a lot of high flying in a cruiser weight championship, but this had very little. In fact it was so bad that when Noble hit his finisher, no one even cared or knew (you can tell by the lack of camera's flashing). The ending was quick though.  3. WWE European Championship: Jeff hardy v. William Regal 5/10 I've never really liked regal as a wrestler, he lacks intensity and style. Hardy was impressive but really didn't get a chance to show off his high flying act, although he still performed some good counters and added that needed fast pace to the match. It ended off quickly which was perfect for this match.  4. John Cena v. Chris Jericho 6/10 It's funny looking back at Cena's very first PPV, how he used to act, how he used to dress, and how he used to look (watch his interview, it's pretty funny). This was a good intense match with Cena showing a nice variety of holds, suplexes, counters and some aerial. Jericho was sub-par but definitely helped Cena launch his career. Cena Wins. 5. WWE Intercontenital championship: RVD v. Brock Lesnar 8/10 This was a very intense and good match. Both wrestlers styles really matched up well on the screen, with Brocks pure power and raw energy vs. RVDs skill full moves and quickness. RVD looked great in this match (better than his later matches with edge and cena)and the entire match was fast pace. The ending worked perfectly because it still preserved Brock's undefeated streak while giving RVD his just desserts in his home state. 6. No disqualification match: Booker T v. Big Show 7/10 Another solid match that lacked a certain intensity as the RVD match but still a good follow up. Although it started off kinda slow (which it always is with big show) Booker T was impressive and did a sick move on the announcers table. The finisher was awesome, the ending was a great upset and big move up for Booker T. 7. WWE Tag Team Championship: Hogan and Edge v. Christian and Lance storm 5/10 This was a mediocre match. Hogan comes out like usual to a huge pop but his variety of moves lacks that intensity and energy. Then again Christian doesn't exactly have the greatest athletic abilities himself. This ended up being a mediocre match at best but was still OK for PPV.  8. Triple Threat Match for the Undisputed Championship: 10/10. Rock v. Undertaker v. Kurt Angle. Easily the match of the year. This is by far the best triple threat match i have ever seen. It had close falls, plenty of finishers, stolen finishers, raw energy, intensity and fast pace. No one could predict who would come out of this one. If your going to buy this DVD i would buy it strictly for this match. (ending? watch for yourself!) Overall this was a solid PPV with plenty of extra goodies to keep you watching again and again. Although this is hard to find (i had to pay a little more than usual for this DVD) it is definitely worth your money.\""
            ],
            "application/vnd.google.colaboratory.intrinsic+json": {
              "type": "string"
            }
          },
          "metadata": {},
          "execution_count": 70
        }
      ],
      "source": [
        "df_raw[df.text.str.contains(' 710 ')].iloc[0].text"
      ]
    },
    {
      "cell_type": "markdown",
      "id": "a1cfea85",
      "metadata": {
        "id": "a1cfea85"
      },
      "source": [
        "These are actually numerical ratings embedded in the reviews! Looking at the text without the punctuation made it hard for us to see this at first."
      ]
    },
    {
      "cell_type": "markdown",
      "id": "c3b2fcd6",
      "metadata": {
        "id": "c3b2fcd6"
      },
      "source": [
        "Here's a helper function used to remove some extraneous things from `eli5`'s output. We just want to see the highlighted text.\\\n",
        "You don't need to read through the function but it is here as a nice resource/example. 🤓"
      ]
    },
    {
      "cell_type": "code",
      "execution_count": 71,
      "id": "eafdf41f",
      "metadata": {
        "id": "eafdf41f"
      },
      "outputs": [],
      "source": [
        "def eli5_html(clf, vec, observation):\n",
        "    \"\"\"\n",
        "    helper function for nicely formatting and displaying eli5 output\n",
        "    \"\"\"\n",
        "    # Get info on is driving a given observation's predictions\n",
        "    eli5_results = eli5.show_prediction(estimator=clf, doc=observation, vec=vec, targets=[True], target_names=['bad', 'good'],feature_names=feature_names)\n",
        "    # Convert eli5's HTML data to BS object for parsing/formatting\n",
        "    soup = BeautifulSoup(eli5_results.data, 'html.parser')\n",
        "    # Remove a table we don't want\n",
        "    soup.table.decompose()\n",
        "    # Remove the first <p> tag with unwanted text\n",
        "    soup.p.decompose()\n",
        "    # Display the newly formatted HTML!\n",
        "    display(HTML(str(soup)))"
      ]
    },
    {
      "cell_type": "markdown",
      "id": "a026c04a",
      "metadata": {
        "id": "a026c04a"
      },
      "source": [
        "Now all you need to do is find the specific observations requested.\\\n",
        "You'll need your `y_pred_proba` values for this section to find which elements from `x_test_raw` to select.\n",
        "\n",
        "**Hint:** [np.argsort()](https://numpy.org/doc/stable/reference/generated/numpy.argsort.html), [np.flip()](https://numpy.org/doc/stable/reference/generated/numpy.flip.html?highlight=flip#numpy.flip), and [np.abs()](https://numpy.org/doc/stable/reference/generated/numpy.absolute.html) may be useful here."
      ]
    },
    {
      "cell_type": "markdown",
      "id": "0fffa9cf",
      "metadata": {
        "id": "0fffa9cf"
      },
      "source": [
        "### What are the **5 worst** movie reviews in the test set according to your model? 🍅"
      ]
    },
    {
      "cell_type": "code",
      "execution_count": 72,
      "id": "8d18f27e",
      "metadata": {
        "id": "8d18f27e"
      },
      "outputs": [],
      "source": [
        "# please fill this code block!\n",
        "# Find indices of 5 worst reviews\n",
        "worst_indices = np.argsort(y_pred_proba)[:5]\n",
        "worst5 = x_test_raw[worst_indices]"
      ]
    },
    {
      "cell_type": "code",
      "execution_count": 73,
      "id": "1130af96",
      "metadata": {
        "id": "1130af96",
        "outputId": "13457d19-7392-4088-edb7-04140a0508ab",
        "colab": {
          "base_uri": "https://localhost:8080/",
          "height": 1000
        }
      },
      "outputs": [
        {
          "output_type": "display_data",
          "data": {
            "text/plain": [
              "<IPython.core.display.HTML object>"
            ],
            "text/html": [
              "<p style=background-color:black;color:white;font-weight:bold;padding:4px>Bad Movie #1 🍅</p>"
            ]
          },
          "metadata": {}
        },
        {
          "output_type": "display_data",
          "data": {
            "text/plain": [
              "<IPython.core.display.HTML object>"
            ],
            "text/html": [
              "\n",
              "<style>\n",
              "    table.eli5-weights tr:hover {\n",
              "        filter: brightness(85%);\n",
              "    }\n",
              "</style>\n",
              "\n",
              "\n",
              "<p style=\"margin-bottom: 2.5em; margin-top:-0.5em;\">\n",
              "<span style=\"opacity: 0.80\">i </span><span style=\"background-color: hsl(0, 100.00%, 89.31%); opacity: 0.83\" title=\"-0.330\">rented</span><span style=\"opacity: 0.80\"> this </span><span style=\"background-color: hsl(0, 100.00%, 89.68%); opacity: 0.83\" title=\"-0.314\">movie</span><span style=\"opacity: 0.80\"> </span><span style=\"background-color: hsl(120, 100.00%, 84.22%); opacity: 0.85\" title=\"0.576\">today</span><span style=\"opacity: 0.80\">... </span><span style=\"background-color: hsl(0, 100.00%, 65.40%); opacity: 0.96\" title=\"-1.768\">worst</span><span style=\"opacity: 0.80\"> </span><span style=\"background-color: hsl(0, 100.00%, 86.67%); opacity: 0.84\" title=\"-0.453\">movie</span><span style=\"opacity: 0.80\"> ever. it was a </span><span style=\"background-color: hsl(0, 100.00%, 84.28%); opacity: 0.85\" title=\"-0.573\">total</span><span style=\"opacity: 0.80\"> </span><span style=\"background-color: hsl(0, 100.00%, 60.00%); opacity: 1.00\" title=\"-2.176\">waste</span><span style=\"opacity: 0.80\"> of </span><span style=\"background-color: hsl(0, 100.00%, 90.66%); opacity: 0.83\" title=\"-0.272\">time</span><span style=\"opacity: 0.80\"> and a </span><span style=\"background-color: hsl(0, 100.00%, 78.63%); opacity: 0.88\" title=\"-0.888\">horrible</span><span style=\"opacity: 0.80\"> </span><span style=\"background-color: hsl(0, 100.00%, 97.92%); opacity: 0.80\" title=\"-0.032\">story</span><span style=\"opacity: 0.80\">. the </span><span style=\"background-color: hsl(0, 100.00%, 85.31%); opacity: 0.85\" title=\"-0.520\">acting</span><span style=\"opacity: 0.80\"> was </span><span style=\"background-color: hsl(0, 100.00%, 73.75%); opacity: 0.91\" title=\"-1.192\">horrible</span><span style=\"opacity: 0.80\">, </span><span style=\"background-color: hsl(120, 100.00%, 89.34%); opacity: 0.83\" title=\"0.329\">especially</span><span style=\"opacity: 0.80\"> by the </span><span style=\"background-color: hsl(0, 100.00%, 93.10%); opacity: 0.82\" title=\"-0.177\">actress</span><span style=\"opacity: 0.80\"> of \"</span><span style=\"background-color: hsl(0, 100.00%, 97.53%); opacity: 0.80\" title=\"-0.041\">sai</span><span style=\"opacity: 0.80\">\". she was so </span><span style=\"background-color: hsl(0, 100.00%, 84.30%); opacity: 0.85\" title=\"-0.572\">bad</span><span style=\"opacity: 0.80\"> it was </span><span style=\"background-color: hsl(0, 100.00%, 79.74%); opacity: 0.88\" title=\"-0.823\">ridiculous</span><span style=\"opacity: 0.80\">. i can't </span><span style=\"background-color: hsl(0, 100.00%, 92.64%); opacity: 0.82\" title=\"-0.194\">tell</span><span style=\"opacity: 0.80\"> if it was her </span><span style=\"background-color: hsl(0, 100.00%, 79.16%); opacity: 0.88\" title=\"-0.857\">bad</span><span style=\"opacity: 0.80\"> </span><span style=\"background-color: hsl(0, 100.00%, 87.10%); opacity: 0.84\" title=\"-0.432\">acting</span><span style=\"opacity: 0.80\"> or because the </span><span style=\"background-color: hsl(0, 100.00%, 97.53%); opacity: 0.80\" title=\"-0.041\">character</span><span style=\"opacity: 0.80\"> was </span><span style=\"background-color: hsl(0, 100.00%, 92.05%); opacity: 0.82\" title=\"-0.217\">just</span><span style=\"opacity: 0.80\"> that </span><span style=\"background-color: hsl(0, 100.00%, 83.94%); opacity: 0.85\" title=\"-0.591\">stupid</span><span style=\"opacity: 0.80\"> in the first </span><span style=\"background-color: hsl(120, 100.00%, 98.23%); opacity: 0.80\" title=\"0.025\">place</span><span style=\"opacity: 0.80\">. i can't even get my </span><span style=\"background-color: hsl(120, 100.00%, 94.30%); opacity: 0.81\" title=\"0.134\">mind</span><span style=\"opacity: 0.80\"> </span><span style=\"background-color: hsl(120, 100.00%, 90.13%); opacity: 0.83\" title=\"0.295\">wrapped</span><span style=\"opacity: 0.80\"> around </span><span style=\"background-color: hsl(0, 100.00%, 86.54%); opacity: 0.84\" title=\"-0.459\">just</span><span style=\"opacity: 0.80\"> how </span><span style=\"background-color: hsl(0, 100.00%, 69.54%); opacity: 0.94\" title=\"-1.474\">awful</span><span style=\"opacity: 0.80\"> and </span><span style=\"background-color: hsl(0, 100.00%, 79.31%); opacity: 0.88\" title=\"-0.848\">pointless</span><span style=\"opacity: 0.80\"> this whole </span><span style=\"background-color: hsl(0, 100.00%, 96.88%); opacity: 0.81\" title=\"-0.057\">movie</span><span style=\"opacity: 0.80\"> was. i'm </span><span style=\"background-color: hsl(120, 100.00%, 81.06%); opacity: 0.87\" title=\"0.748\">surprised</span><span style=\"opacity: 0.80\"> someone even </span><span style=\"background-color: hsl(120, 100.00%, 93.72%); opacity: 0.81\" title=\"0.154\">thought</span><span style=\"opacity: 0.80\"> it was a </span><span style=\"background-color: hsl(0, 100.00%, 96.25%); opacity: 0.81\" title=\"-0.074\">good</span><span style=\"opacity: 0.80\"> </span><span style=\"background-color: hsl(0, 100.00%, 79.78%); opacity: 0.88\" title=\"-0.821\">idea</span><span style=\"opacity: 0.80\"> to </span><span style=\"background-color: hsl(0, 100.00%, 92.87%); opacity: 0.82\" title=\"-0.185\">film</span><span style=\"opacity: 0.80\"> this </span><span style=\"background-color: hsl(0, 100.00%, 93.85%); opacity: 0.81\" title=\"-0.150\">movie</span><span style=\"opacity: 0.80\"> and </span><span style=\"background-color: hsl(0, 100.00%, 88.16%); opacity: 0.84\" title=\"-0.382\">bother</span><span style=\"opacity: 0.80\"> to </span><span style=\"background-color: hsl(120, 100.00%, 90.64%); opacity: 0.83\" title=\"0.273\">release</span><span style=\"opacity: 0.80\"> it. if you're </span><span style=\"background-color: hsl(0, 100.00%, 91.15%); opacity: 0.82\" title=\"-0.252\">looking</span><span style=\"opacity: 0.80\"> for a </span><span style=\"background-color: hsl(0, 100.00%, 95.10%); opacity: 0.81\" title=\"-0.108\">good</span><span style=\"opacity: 0.80\"> </span><span style=\"background-color: hsl(120, 100.00%, 98.25%); opacity: 0.80\" title=\"0.025\">vampire</span><span style=\"opacity: 0.80\">/</span><span style=\"background-color: hsl(0, 100.00%, 89.74%); opacity: 0.83\" title=\"-0.312\">horror</span><span style=\"opacity: 0.80\"> </span><span style=\"background-color: hsl(0, 100.00%, 96.15%); opacity: 0.81\" title=\"-0.077\">flick</span><span style=\"opacity: 0.80\">.. this is not the </span><span style=\"background-color: hsl(0, 100.00%, 93.60%); opacity: 0.81\" title=\"-0.159\">movie</span><span style=\"opacity: 0.80\"> for you. move </span><span style=\"background-color: hsl(120, 100.00%, 98.19%); opacity: 0.80\" title=\"0.026\">right</span><span style=\"opacity: 0.80\"> along! it's a </span><span style=\"background-color: hsl(0, 100.00%, 63.51%); opacity: 0.98\" title=\"-1.908\">waste</span><span style=\"opacity: 0.80\"> of </span><span style=\"background-color: hsl(0, 100.00%, 84.10%); opacity: 0.85\" title=\"-0.583\">time</span><span style=\"opacity: 0.80\"> and </span><span style=\"background-color: hsl(0, 100.00%, 81.52%); opacity: 0.87\" title=\"-0.722\">money</span><span style=\"opacity: 0.80\">. </span><span style=\"background-color: hsl(0, 100.00%, 94.76%); opacity: 0.81\" title=\"-0.119\">heck</span><span style=\"opacity: 0.80\">, i wouldn't even </span><span style=\"background-color: hsl(120, 100.00%, 99.49%); opacity: 0.80\" title=\"0.004\">download</span><span style=\"opacity: 0.80\"> this </span><span style=\"background-color: hsl(0, 100.00%, 95.99%); opacity: 0.81\" title=\"-0.081\">movie</span><span style=\"opacity: 0.80\"> if someone </span><span style=\"background-color: hsl(0, 100.00%, 86.37%); opacity: 0.84\" title=\"-0.467\">paid</span><span style=\"opacity: 0.80\"> me. this </span><span style=\"background-color: hsl(0, 100.00%, 85.48%); opacity: 0.85\" title=\"-0.512\">movie</span><span style=\"opacity: 0.80\"> is so </span><span style=\"background-color: hsl(0, 100.00%, 78.89%); opacity: 0.88\" title=\"-0.873\">bad</span><span style=\"opacity: 0.80\"> it doesn't even </span><span style=\"background-color: hsl(0, 100.00%, 88.73%); opacity: 0.83\" title=\"-0.356\">deserve</span><span style=\"opacity: 0.80\"> a \"1\". i </span><span style=\"background-color: hsl(120, 100.00%, 93.76%); opacity: 0.81\" title=\"0.153\">wish</span><span style=\"opacity: 0.80\"> i could give it a \"0\"!</span>\n",
              "</p>\n"
            ]
          },
          "metadata": {}
        },
        {
          "output_type": "display_data",
          "data": {
            "text/plain": [
              "<IPython.core.display.HTML object>"
            ],
            "text/html": [
              "<p style=background-color:black;color:white;font-weight:bold;padding:4px>Bad Movie #2 🍅</p>"
            ]
          },
          "metadata": {}
        },
        {
          "output_type": "display_data",
          "data": {
            "text/plain": [
              "<IPython.core.display.HTML object>"
            ],
            "text/html": [
              "\n",
              "<style>\n",
              "    table.eli5-weights tr:hover {\n",
              "        filter: brightness(85%);\n",
              "    }\n",
              "</style>\n",
              "\n",
              "\n",
              "<p style=\"margin-bottom: 2.5em; margin-top:-0.5em;\">\n",
              "<span style=\"background-color: hsl(0, 100.00%, 73.35%); opacity: 0.91\" title=\"-0.882\">terrible</span><span style=\"opacity: 0.80\"> </span><span style=\"background-color: hsl(0, 100.00%, 87.93%); opacity: 0.84\" title=\"-0.284\">movie</span><span style=\"opacity: 0.80\">. </span><span style=\"background-color: hsl(0, 100.00%, 95.23%); opacity: 0.81\" title=\"-0.076\">nuff</span><span style=\"opacity: 0.80\"> </span><span style=\"background-color: hsl(0, 100.00%, 89.69%); opacity: 0.83\" title=\"-0.227\">said</span><span style=\"opacity: 0.80\">. these </span><span style=\"background-color: hsl(120, 100.00%, 94.56%); opacity: 0.81\" title=\"0.091\">lines</span><span style=\"opacity: 0.80\"> are </span><span style=\"background-color: hsl(0, 100.00%, 96.05%); opacity: 0.81\" title=\"-0.058\">just</span><span style=\"opacity: 0.80\"> </span><span style=\"background-color: hsl(0, 100.00%, 88.99%); opacity: 0.83\" title=\"-0.249\">filler</span><span style=\"opacity: 0.80\">. the </span><span style=\"background-color: hsl(0, 100.00%, 86.88%); opacity: 0.84\" title=\"-0.321\">movie</span><span style=\"opacity: 0.80\"> was </span><span style=\"background-color: hsl(0, 100.00%, 76.86%); opacity: 0.89\" title=\"-0.721\">bad</span><span style=\"opacity: 0.80\">. why i have to </span><span style=\"background-color: hsl(0, 100.00%, 95.91%); opacity: 0.81\" title=\"-0.061\">expand</span><span style=\"opacity: 0.80\"> on that i </span><span style=\"background-color: hsl(0, 100.00%, 96.49%); opacity: 0.81\" title=\"-0.049\">don</span><span style=\"opacity: 0.80\">'t </span><span style=\"background-color: hsl(120, 100.00%, 95.54%); opacity: 0.81\" title=\"0.069\">know</span><span style=\"opacity: 0.80\">. this is already a </span><span style=\"background-color: hsl(0, 100.00%, 60.00%); opacity: 1.00\" title=\"-1.575\">waste</span><span style=\"opacity: 0.80\"> of my </span><span style=\"background-color: hsl(0, 100.00%, 90.22%); opacity: 0.83\" title=\"-0.211\">time</span><span style=\"opacity: 0.80\">. i </span><span style=\"background-color: hsl(0, 100.00%, 93.77%); opacity: 0.81\" title=\"-0.110\">just</span><span style=\"opacity: 0.80\"> </span><span style=\"background-color: hsl(0, 100.00%, 94.96%); opacity: 0.81\" title=\"-0.082\">wanted</span><span style=\"opacity: 0.80\"> to </span><span style=\"background-color: hsl(0, 100.00%, 93.17%); opacity: 0.82\" title=\"-0.126\">warn</span><span style=\"opacity: 0.80\"> others. </span><span style=\"background-color: hsl(0, 100.00%, 76.34%); opacity: 0.89\" title=\"-0.744\">avoid</span><span style=\"opacity: 0.80\"> this </span><span style=\"background-color: hsl(0, 100.00%, 98.38%); opacity: 0.80\" title=\"-0.016\">movie</span><span style=\"opacity: 0.80\">. the </span><span style=\"background-color: hsl(0, 100.00%, 96.69%); opacity: 0.81\" title=\"-0.045\">acting</span><span style=\"opacity: 0.80\"> </span><span style=\"background-color: hsl(0, 100.00%, 80.32%); opacity: 0.87\" title=\"-0.572\">sucks</span><span style=\"opacity: 0.80\"> and the </span><span style=\"background-color: hsl(0, 100.00%, 88.06%); opacity: 0.84\" title=\"-0.280\">writing</span><span style=\"opacity: 0.80\"> is </span><span style=\"background-color: hsl(0, 100.00%, 89.41%); opacity: 0.83\" title=\"-0.236\">just</span><span style=\"opacity: 0.80\"> </span><span style=\"background-color: hsl(0, 100.00%, 87.12%); opacity: 0.84\" title=\"-0.312\">moronic</span><span style=\"opacity: 0.80\">. </span><span style=\"background-color: hsl(0, 100.00%, 76.91%); opacity: 0.89\" title=\"-0.718\">bad</span><span style=\"opacity: 0.80\"> in every </span><span style=\"background-color: hsl(0, 100.00%, 89.54%); opacity: 0.83\" title=\"-0.232\">way</span><span style=\"opacity: 0.80\">. the only </span><span style=\"background-color: hsl(120, 100.00%, 92.74%); opacity: 0.82\" title=\"0.137\">nice</span><span style=\"opacity: 0.80\"> </span><span style=\"background-color: hsl(0, 100.00%, 90.73%); opacity: 0.82\" title=\"-0.195\">thing</span><span style=\"opacity: 0.80\"> about the </span><span style=\"background-color: hsl(0, 100.00%, 92.80%); opacity: 0.82\" title=\"-0.136\">movie</span><span style=\"opacity: 0.80\"> are deniz akkaya's </span><span style=\"background-color: hsl(0, 100.00%, 95.76%); opacity: 0.81\" title=\"-0.064\">breasts</span><span style=\"opacity: 0.80\">. even that was </span><span style=\"background-color: hsl(0, 100.00%, 82.75%); opacity: 0.86\" title=\"-0.474\">ruined</span><span style=\"opacity: 0.80\"> though by a </span><span style=\"background-color: hsl(0, 100.00%, 78.04%); opacity: 0.88\" title=\"-0.669\">terrible</span><span style=\"opacity: 0.80\"> and </span><span style=\"background-color: hsl(0, 100.00%, 96.93%); opacity: 0.81\" title=\"-0.040\">unneeded</span><span style=\"opacity: 0.80\"> </span><span style=\"background-color: hsl(120, 100.00%, 89.41%); opacity: 0.83\" title=\"0.236\">rape</span><span style=\"opacity: 0.80\"> </span><span style=\"background-color: hsl(120, 100.00%, 90.86%); opacity: 0.82\" title=\"0.191\">scene</span><span style=\"opacity: 0.80\">. the </span><span style=\"background-color: hsl(0, 100.00%, 93.23%); opacity: 0.82\" title=\"-0.124\">movie</span><span style=\"opacity: 0.80\"> is a </span><span style=\"background-color: hsl(0, 100.00%, 73.95%); opacity: 0.91\" title=\"-0.854\">poorly</span><span style=\"opacity: 0.80\"> </span><span style=\"background-color: hsl(0, 100.00%, 88.80%); opacity: 0.83\" title=\"-0.256\">contrived</span><span style=\"opacity: 0.80\"> and </span><span style=\"background-color: hsl(0, 100.00%, 90.61%); opacity: 0.83\" title=\"-0.199\">totally</span><span style=\"opacity: 0.80\"> </span><span style=\"background-color: hsl(0, 100.00%, 81.06%); opacity: 0.87\" title=\"-0.541\">unbelievable</span><span style=\"opacity: 0.80\"> </span><span style=\"background-color: hsl(0, 100.00%, 84.49%); opacity: 0.85\" title=\"-0.407\">piece</span><span style=\"opacity: 0.80\"> of </span><span style=\"background-color: hsl(0, 100.00%, 76.16%); opacity: 0.90\" title=\"-0.752\">garbage</span><span style=\"opacity: 0.80\">. </span><span style=\"background-color: hsl(0, 100.00%, 84.92%); opacity: 0.85\" title=\"-0.391\">ok</span><span style=\"opacity: 0.80\"> now i am </span><span style=\"background-color: hsl(0, 100.00%, 91.47%); opacity: 0.82\" title=\"-0.173\">just</span><span style=\"opacity: 0.80\"> </span><span style=\"background-color: hsl(120, 100.00%, 94.20%); opacity: 0.81\" title=\"0.100\">going</span><span style=\"opacity: 0.80\"> to </span><span style=\"background-color: hsl(120, 100.00%, 95.46%); opacity: 0.81\" title=\"0.070\">rag</span><span style=\"opacity: 0.80\"> on </span><span style=\"background-color: hsl(0, 100.00%, 95.68%); opacity: 0.81\" title=\"-0.066\">imdb</span><span style=\"opacity: 0.80\"> for this </span><span style=\"background-color: hsl(0, 100.00%, 83.06%); opacity: 0.86\" title=\"-0.462\">stupid</span><span style=\"opacity: 0.80\"> </span><span style=\"background-color: hsl(120, 100.00%, 95.01%); opacity: 0.81\" title=\"0.081\">rule</span><span style=\"opacity: 0.80\"> of </span><span style=\"background-color: hsl(120, 100.00%, 93.49%); opacity: 0.81\" title=\"0.118\">10</span><span style=\"opacity: 0.80\"> </span><span style=\"background-color: hsl(120, 100.00%, 93.37%); opacity: 0.82\" title=\"0.121\">lines</span><span style=\"opacity: 0.80\"> of </span><span style=\"background-color: hsl(120, 100.00%, 97.66%); opacity: 0.80\" title=\"0.027\">text</span><span style=\"opacity: 0.80\"> </span><span style=\"background-color: hsl(0, 100.00%, 95.43%); opacity: 0.81\" title=\"-0.071\">minimum</span><span style=\"opacity: 0.80\">. first i </span><span style=\"background-color: hsl(0, 100.00%, 60.00%); opacity: 1.00\" title=\"-1.575\">waste</span><span style=\"opacity: 0.80\"> my </span><span style=\"background-color: hsl(0, 100.00%, 91.19%); opacity: 0.82\" title=\"-0.181\">time</span><span style=\"opacity: 0.80\"> </span><span style=\"background-color: hsl(0, 100.00%, 95.41%); opacity: 0.81\" title=\"-0.071\">watching</span><span style=\"opacity: 0.80\"> this </span><span style=\"background-color: hsl(120, 100.00%, 95.39%); opacity: 0.81\" title=\"0.072\">offal</span><span style=\"opacity: 0.80\">. then </span><span style=\"background-color: hsl(0, 100.00%, 94.52%); opacity: 0.81\" title=\"-0.092\">feeling</span><span style=\"opacity: 0.80\"> </span><span style=\"background-color: hsl(0, 100.00%, 95.98%); opacity: 0.81\" title=\"-0.059\">compelled</span><span style=\"opacity: 0.80\"> to </span><span style=\"background-color: hsl(0, 100.00%, 91.87%); opacity: 0.82\" title=\"-0.162\">warn</span><span style=\"opacity: 0.80\"> others i </span><span style=\"background-color: hsl(0, 100.00%, 95.03%); opacity: 0.81\" title=\"-0.080\">create</span><span style=\"opacity: 0.80\"> an </span><span style=\"background-color: hsl(120, 100.00%, 97.24%); opacity: 0.80\" title=\"0.034\">account</span><span style=\"opacity: 0.80\"> with </span><span style=\"background-color: hsl(0, 100.00%, 95.68%); opacity: 0.81\" title=\"-0.066\">imdb</span><span style=\"opacity: 0.80\"> only to </span><span style=\"background-color: hsl(120, 100.00%, 98.61%); opacity: 0.80\" title=\"0.013\">discover</span><span style=\"opacity: 0.80\"> that i have to </span><span style=\"background-color: hsl(0, 100.00%, 87.81%); opacity: 0.84\" title=\"-0.288\">write</span><span style=\"opacity: 0.80\"> a </span><span style=\"background-color: hsl(0, 100.00%, 97.54%); opacity: 0.80\" title=\"-0.029\">friggen</span><span style=\"opacity: 0.80\"> </span><span style=\"background-color: hsl(0, 100.00%, 94.39%); opacity: 0.81\" title=\"-0.095\">essay</span><span style=\"opacity: 0.80\"> on the </span><span style=\"background-color: hsl(0, 100.00%, 94.89%); opacity: 0.81\" title=\"-0.083\">film</span><span style=\"opacity: 0.80\"> </span><span style=\"background-color: hsl(0, 100.00%, 88.87%); opacity: 0.83\" title=\"-0.253\">just</span><span style=\"opacity: 0.80\"> to </span><span style=\"background-color: hsl(0, 100.00%, 91.65%); opacity: 0.82\" title=\"-0.168\">express</span><span style=\"opacity: 0.80\"> how </span><span style=\"background-color: hsl(0, 100.00%, 82.70%); opacity: 0.86\" title=\"-0.475\">bad</span><span style=\"opacity: 0.80\"> i </span><span style=\"background-color: hsl(120, 100.00%, 90.03%); opacity: 0.83\" title=\"0.216\">think</span><span style=\"opacity: 0.80\"> it is. </span><span style=\"background-color: hsl(0, 100.00%, 96.11%); opacity: 0.81\" title=\"-0.056\">totally</span><span style=\"opacity: 0.80\"> </span><span style=\"background-color: hsl(0, 100.00%, 86.94%); opacity: 0.84\" title=\"-0.318\">unnecessary</span><span style=\"opacity: 0.80\">.</span>\n",
              "</p>\n"
            ]
          },
          "metadata": {}
        },
        {
          "output_type": "display_data",
          "data": {
            "text/plain": [
              "<IPython.core.display.HTML object>"
            ],
            "text/html": [
              "<p style=background-color:black;color:white;font-weight:bold;padding:4px>Bad Movie #3 🍅</p>"
            ]
          },
          "metadata": {}
        },
        {
          "output_type": "display_data",
          "data": {
            "text/plain": [
              "<IPython.core.display.HTML object>"
            ],
            "text/html": [
              "\n",
              "<style>\n",
              "    table.eli5-weights tr:hover {\n",
              "        filter: brightness(85%);\n",
              "    }\n",
              "</style>\n",
              "\n",
              "\n",
              "<p style=\"margin-bottom: 2.5em; margin-top:-0.5em;\">\n",
              "<span style=\"opacity: 0.80\">i will keep this as </span><span style=\"background-color: hsl(120, 100.00%, 92.01%); opacity: 0.82\" title=\"0.134\">short</span><span style=\"opacity: 0.80\"> as </span><span style=\"background-color: hsl(0, 100.00%, 94.46%); opacity: 0.81\" title=\"-0.080\">possible</span><span style=\"opacity: 0.80\"> as this </span><span style=\"background-color: hsl(0, 100.00%, 86.43%); opacity: 0.84\" title=\"-0.286\">piece</span><span style=\"opacity: 0.80\"> of </span><span style=\"background-color: hsl(0, 100.00%, 77.87%); opacity: 0.89\" title=\"-0.576\">crap</span><span style=\"opacity: 0.80\"> </span><span style=\"background-color: hsl(0, 100.00%, 82.65%); opacity: 0.86\" title=\"-0.407\">barely</span><span style=\"opacity: 0.80\"> </span><span style=\"background-color: hsl(120, 100.00%, 87.50%); opacity: 0.84\" title=\"0.255\">warrants</span><span style=\"opacity: 0.80\"> a </span><span style=\"background-color: hsl(120, 100.00%, 99.08%); opacity: 0.80\" title=\"0.006\">mention</span><span style=\"opacity: 0.80\">. </span><span style=\"background-color: hsl(0, 100.00%, 87.63%); opacity: 0.84\" title=\"-0.251\">zombie</span><span style=\"opacity: 0.80\"> </span><span style=\"background-color: hsl(0, 100.00%, 92.33%); opacity: 0.82\" title=\"-0.127\">90</span><span style=\"opacity: 0.80\"> is one of the </span><span style=\"background-color: hsl(0, 100.00%, 60.54%); opacity: 1.00\" title=\"-1.316\">worst</span><span style=\"opacity: 0.80\"> </span><span style=\"background-color: hsl(0, 100.00%, 90.89%); opacity: 0.82\" title=\"-0.162\">films</span><span style=\"opacity: 0.80\"> ever made - </span><span style=\"background-color: hsl(120, 100.00%, 93.94%); opacity: 0.81\" title=\"0.090\">right</span><span style=\"opacity: 0.80\"> up there with </span><span style=\"background-color: hsl(0, 100.00%, 97.88%); opacity: 0.80\" title=\"-0.020\">schnaas</span><span style=\"opacity: 0.80\">' other </span><span style=\"background-color: hsl(0, 100.00%, 75.12%); opacity: 0.90\" title=\"-0.681\">horrible</span><span style=\"opacity: 0.80\"> </span><span style=\"background-color: hsl(0, 100.00%, 88.73%); opacity: 0.83\" title=\"-0.220\">zombie</span><span style=\"opacity: 0.80\"> </span><span style=\"background-color: hsl(0, 100.00%, 92.54%); opacity: 0.82\" title=\"-0.122\">entry</span><span style=\"opacity: 0.80\"> - </span><span style=\"background-color: hsl(0, 100.00%, 88.73%); opacity: 0.83\" title=\"-0.220\">zombie</span><span style=\"opacity: 0.80\"> </span><span style=\"background-color: hsl(120, 100.00%, 95.57%); opacity: 0.81\" title=\"0.058\">doom</span><span style=\"opacity: 0.80\"> (</span><span style=\"background-color: hsl(0, 100.00%, 94.00%); opacity: 0.81\" title=\"-0.089\">aka</span><span style=\"opacity: 0.80\"> </span><span style=\"background-color: hsl(0, 100.00%, 97.57%); opacity: 0.80\" title=\"-0.025\">violent</span><span style=\"opacity: 0.80\"> </span><span style=\"background-color: hsl(0, 100.00%, 96.41%); opacity: 0.81\" title=\"-0.043\">sh</span><span style=\"opacity: 0.80\">!t 3). these </span><span style=\"background-color: hsl(120, 100.00%, 97.19%); opacity: 0.80\" title=\"0.030\">films</span><span style=\"opacity: 0.80\"> </span><span style=\"background-color: hsl(0, 100.00%, 96.46%); opacity: 0.81\" title=\"-0.042\">suck</span><span style=\"opacity: 0.80\"> so </span><span style=\"background-color: hsl(0, 100.00%, 81.66%); opacity: 0.87\" title=\"-0.440\">bad</span><span style=\"opacity: 0.80\"> that everyone </span><span style=\"background-color: hsl(120, 100.00%, 99.78%); opacity: 0.80\" title=\"0.001\">involved</span><span style=\"opacity: 0.80\"> in their </span><span style=\"background-color: hsl(120, 100.00%, 94.92%); opacity: 0.81\" title=\"0.070\">creation</span><span style=\"opacity: 0.80\"> should be </span><span style=\"background-color: hsl(120, 100.00%, 93.58%); opacity: 0.81\" title=\"0.098\">shot</span><span style=\"opacity: 0.80\">. i somehow </span><span style=\"background-color: hsl(120, 100.00%, 97.84%); opacity: 0.80\" title=\"0.021\">managed</span><span style=\"opacity: 0.80\"> (</span><span style=\"background-color: hsl(0, 100.00%, 82.65%); opacity: 0.86\" title=\"-0.407\">barely</span><span style=\"opacity: 0.80\">...) to </span><span style=\"background-color: hsl(0, 100.00%, 93.41%); opacity: 0.82\" title=\"-0.102\">sit</span><span style=\"opacity: 0.80\"> through </span><span style=\"background-color: hsl(0, 100.00%, 88.73%); opacity: 0.83\" title=\"-0.220\">zombie</span><span style=\"opacity: 0.80\"> </span><span style=\"background-color: hsl(120, 100.00%, 95.57%); opacity: 0.81\" title=\"0.058\">doom</span><span style=\"opacity: 0.80\"> - but </span><span style=\"background-color: hsl(0, 100.00%, 87.63%); opacity: 0.84\" title=\"-0.251\">zombie</span><span style=\"opacity: 0.80\"> </span><span style=\"background-color: hsl(0, 100.00%, 92.33%); opacity: 0.82\" title=\"-0.127\">90</span><span style=\"opacity: 0.80\"> is so </span><span style=\"background-color: hsl(0, 100.00%, 88.20%); opacity: 0.83\" title=\"-0.235\">horribly</span><span style=\"opacity: 0.80\"> </span><span style=\"background-color: hsl(0, 100.00%, 86.45%); opacity: 0.84\" title=\"-0.286\">inept</span><span style=\"opacity: 0.80\"> - even when </span><span style=\"background-color: hsl(120, 100.00%, 95.54%); opacity: 0.81\" title=\"0.058\">compared</span><span style=\"opacity: 0.80\"> to </span><span style=\"background-color: hsl(0, 100.00%, 97.88%); opacity: 0.80\" title=\"-0.020\">schnaas</span><span style=\"opacity: 0.80\">' other </span><span style=\"background-color: hsl(0, 100.00%, 72.91%); opacity: 0.91\" title=\"-0.769\">horrible</span><span style=\"opacity: 0.80\"> </span><span style=\"background-color: hsl(120, 100.00%, 97.91%); opacity: 0.80\" title=\"0.020\">film</span><span style=\"opacity: 0.80\"> - that i had to </span><span style=\"background-color: hsl(0, 100.00%, 87.54%); opacity: 0.84\" title=\"-0.253\">fast</span><span style=\"opacity: 0.80\">-</span><span style=\"background-color: hsl(0, 100.00%, 78.68%); opacity: 0.88\" title=\"-0.546\">forward</span><span style=\"opacity: 0.80\"> through everything after the first </span><span style=\"background-color: hsl(0, 100.00%, 88.82%); opacity: 0.83\" title=\"-0.217\">10</span><span style=\"opacity: 0.80\"> </span><span style=\"background-color: hsl(0, 100.00%, 75.34%); opacity: 0.90\" title=\"-0.672\">minutes</span><span style=\"opacity: 0.80\">. </span><span style=\"background-color: hsl(0, 100.00%, 85.75%); opacity: 0.85\" title=\"-0.307\">zero</span><span style=\"opacity: 0.80\"> </span><span style=\"background-color: hsl(0, 100.00%, 79.94%); opacity: 0.87\" title=\"-0.500\">acting</span><span style=\"opacity: 0.80\"> </span><span style=\"background-color: hsl(0, 100.00%, 78.22%); opacity: 0.88\" title=\"-0.563\">skills</span><span style=\"opacity: 0.80\">, </span><span style=\"background-color: hsl(0, 100.00%, 86.45%); opacity: 0.84\" title=\"-0.286\">inept</span><span style=\"opacity: 0.80\"> </span><span style=\"background-color: hsl(0, 100.00%, 96.99%); opacity: 0.80\" title=\"-0.033\">gore</span><span style=\"opacity: 0.80\">, </span><span style=\"background-color: hsl(0, 100.00%, 75.12%); opacity: 0.90\" title=\"-0.681\">horrible</span><span style=\"opacity: 0.80\"> </span><span style=\"background-color: hsl(0, 100.00%, 94.04%); opacity: 0.81\" title=\"-0.088\">camcorder</span><span style=\"opacity: 0.80\">-</span><span style=\"background-color: hsl(120, 100.00%, 94.60%); opacity: 0.81\" title=\"0.077\">style</span><span style=\"opacity: 0.80\"> </span><span style=\"background-color: hsl(0, 100.00%, 86.49%); opacity: 0.84\" title=\"-0.284\">camera</span><span style=\"opacity: 0.80\">-</span><span style=\"background-color: hsl(0, 100.00%, 90.85%); opacity: 0.82\" title=\"-0.163\">work</span><span style=\"opacity: 0.80\">, </span><span style=\"background-color: hsl(0, 100.00%, 76.15%); opacity: 0.90\" title=\"-0.641\">ridiculous</span><span style=\"opacity: 0.80\"> </span><span style=\"background-color: hsl(0, 100.00%, 92.26%); opacity: 0.82\" title=\"-0.128\">dubbing</span><span style=\"opacity: 0.80\">...it </span><span style=\"background-color: hsl(0, 100.00%, 92.09%); opacity: 0.82\" title=\"-0.133\">just</span><span style=\"opacity: 0.80\"> </span><span style=\"background-color: hsl(0, 100.00%, 93.88%); opacity: 0.81\" title=\"-0.092\">goes</span><span style=\"opacity: 0.80\"> on and on. i </span><span style=\"background-color: hsl(0, 100.00%, 98.33%); opacity: 0.80\" title=\"-0.014\">really</span><span style=\"opacity: 0.80\"> can't find a </span><span style=\"background-color: hsl(0, 100.00%, 87.21%); opacity: 0.84\" title=\"-0.263\">single</span><span style=\"opacity: 0.80\"> </span><span style=\"background-color: hsl(0, 100.00%, 86.76%); opacity: 0.84\" title=\"-0.276\">thing</span><span style=\"opacity: 0.80\"> </span><span style=\"background-color: hsl(0, 100.00%, 78.40%); opacity: 0.88\" title=\"-0.556\">redeeming</span><span style=\"opacity: 0.80\"> about this </span><span style=\"background-color: hsl(0, 100.00%, 81.04%); opacity: 0.87\" title=\"-0.462\">garbage</span><span style=\"opacity: 0.80\"> - and i can </span><span style=\"background-color: hsl(120, 100.00%, 98.25%); opacity: 0.80\" title=\"0.015\">usually</span><span style=\"opacity: 0.80\"> find something </span><span style=\"background-color: hsl(0, 100.00%, 77.97%); opacity: 0.89\" title=\"-0.572\">redeeming</span><span style=\"opacity: 0.80\"> in </span><span style=\"background-color: hsl(0, 100.00%, 88.06%); opacity: 0.84\" title=\"-0.238\">just</span><span style=\"opacity: 0.80\"> about any </span><span style=\"background-color: hsl(0, 100.00%, 93.26%); opacity: 0.82\" title=\"-0.105\">film</span><span style=\"opacity: 0.80\">. this </span><span style=\"background-color: hsl(120, 100.00%, 93.81%); opacity: 0.81\" title=\"0.093\">truly</span><span style=\"opacity: 0.80\"> is one of the </span><span style=\"background-color: hsl(0, 100.00%, 60.00%); opacity: 1.00\" title=\"-1.341\">worst</span><span style=\"opacity: 0.80\"> </span><span style=\"background-color: hsl(0, 100.00%, 92.71%); opacity: 0.82\" title=\"-0.118\">films</span><span style=\"opacity: 0.80\"> ever made - you'</span><span style=\"background-color: hsl(0, 100.00%, 92.67%); opacity: 0.82\" title=\"-0.119\">ve</span><span style=\"opacity: 0.80\"> been </span><span style=\"background-color: hsl(0, 100.00%, 96.43%); opacity: 0.81\" title=\"-0.043\">warned</span><span style=\"opacity: 0.80\">...1/</span><span style=\"background-color: hsl(120, 100.00%, 94.35%); opacity: 0.81\" title=\"0.082\">10</span>\n",
              "</p>\n"
            ]
          },
          "metadata": {}
        },
        {
          "output_type": "display_data",
          "data": {
            "text/plain": [
              "<IPython.core.display.HTML object>"
            ],
            "text/html": [
              "<p style=background-color:black;color:white;font-weight:bold;padding:4px>Bad Movie #4 🍅</p>"
            ]
          },
          "metadata": {}
        },
        {
          "output_type": "display_data",
          "data": {
            "text/plain": [
              "<IPython.core.display.HTML object>"
            ],
            "text/html": [
              "\n",
              "<style>\n",
              "    table.eli5-weights tr:hover {\n",
              "        filter: brightness(85%);\n",
              "    }\n",
              "</style>\n",
              "\n",
              "\n",
              "<p style=\"margin-bottom: 2.5em; margin-top:-0.5em;\">\n",
              "<span style=\"opacity: 0.80\">i </span><span style=\"background-color: hsl(0, 100.00%, 98.44%); opacity: 0.80\" title=\"-0.011\">really</span><span style=\"opacity: 0.80\"> didn't have </span><span style=\"background-color: hsl(0, 100.00%, 90.83%); opacity: 0.82\" title=\"-0.144\">high</span><span style=\"opacity: 0.80\"> </span><span style=\"background-color: hsl(0, 100.00%, 92.53%); opacity: 0.82\" title=\"-0.107\">expectations</span><span style=\"opacity: 0.80\"> and i must </span><span style=\"background-color: hsl(120, 100.00%, 94.01%); opacity: 0.81\" title=\"0.078\">admit</span><span style=\"opacity: 0.80\"> that i wasn't </span><span style=\"background-color: hsl(0, 100.00%, 74.60%); opacity: 0.90\" title=\"-0.618\">disappointed</span><span style=\"opacity: 0.80\">. this </span><span style=\"background-color: hsl(0, 100.00%, 82.29%); opacity: 0.86\" title=\"-0.369\">movie</span><span style=\"opacity: 0.80\"> is so </span><span style=\"background-color: hsl(0, 100.00%, 75.09%); opacity: 0.90\" title=\"-0.601\">terrible</span><span style=\"opacity: 0.80\"> that i </span><span style=\"background-color: hsl(0, 100.00%, 93.46%); opacity: 0.82\" title=\"-0.089\">felt</span><span style=\"opacity: 0.80\"> </span><span style=\"background-color: hsl(0, 100.00%, 96.93%); opacity: 0.81\" title=\"-0.030\">obligated</span><span style=\"opacity: 0.80\"> to </span><span style=\"background-color: hsl(0, 100.00%, 98.89%); opacity: 0.80\" title=\"-0.007\">register</span><span style=\"opacity: 0.80\"> an </span><span style=\"background-color: hsl(120, 100.00%, 97.24%); opacity: 0.80\" title=\"0.026\">account</span><span style=\"opacity: 0.80\"> here at </span><span style=\"background-color: hsl(0, 100.00%, 93.27%); opacity: 0.82\" title=\"-0.093\">imdb</span><span style=\"opacity: 0.80\"> </span><span style=\"background-color: hsl(0, 100.00%, 92.09%); opacity: 0.82\" title=\"-0.117\">just</span><span style=\"opacity: 0.80\"> to </span><span style=\"background-color: hsl(0, 100.00%, 93.30%); opacity: 0.82\" title=\"-0.092\">warn</span><span style=\"opacity: 0.80\"> others not to </span><span style=\"background-color: hsl(0, 100.00%, 60.00%); opacity: 1.00\" title=\"-1.181\">waste</span><span style=\"opacity: 0.80\"> their </span><span style=\"background-color: hsl(0, 100.00%, 88.93%); opacity: 0.83\" title=\"-0.188\">time</span><span style=\"opacity: 0.80\">. the </span><span style=\"background-color: hsl(0, 100.00%, 90.72%); opacity: 0.82\" title=\"-0.146\">storyline</span><span style=\"opacity: 0.80\"> is </span><span style=\"background-color: hsl(0, 100.00%, 78.04%); opacity: 0.88\" title=\"-0.502\">terrible</span><span style=\"opacity: 0.80\"> and you keep </span><span style=\"background-color: hsl(0, 100.00%, 92.95%); opacity: 0.82\" title=\"-0.099\">asking</span><span style=\"opacity: 0.80\"> yourself throughout the </span><span style=\"background-color: hsl(0, 100.00%, 89.70%); opacity: 0.83\" title=\"-0.170\">movie</span><span style=\"opacity: 0.80\"> \"can it get any </span><span style=\"background-color: hsl(0, 100.00%, 75.38%); opacity: 0.90\" title=\"-0.591\">worse</span><span style=\"opacity: 0.80\">?\" </span><span style=\"background-color: hsl(120, 100.00%, 93.21%); opacity: 0.82\" title=\"0.094\">yes</span><span style=\"opacity: 0.80\">, it can! somehow they </span><span style=\"background-color: hsl(0, 100.00%, 94.41%); opacity: 0.81\" title=\"-0.071\">manage</span><span style=\"opacity: 0.80\"> to </span><span style=\"background-color: hsl(0, 100.00%, 91.16%); opacity: 0.82\" title=\"-0.137\">make</span><span style=\"opacity: 0.80\"> it </span><span style=\"background-color: hsl(0, 100.00%, 68.93%); opacity: 0.94\" title=\"-0.823\">worst</span><span style=\"opacity: 0.80\"> by every </span><span style=\"background-color: hsl(0, 100.00%, 94.49%); opacity: 0.81\" title=\"-0.070\">minute</span><span style=\"opacity: 0.80\"> and you </span><span style=\"background-color: hsl(120, 100.00%, 98.41%); opacity: 0.80\" title=\"0.012\">end</span><span style=\"opacity: 0.80\"> up </span><span style=\"background-color: hsl(0, 100.00%, 96.25%); opacity: 0.81\" title=\"-0.040\">thinking</span><span style=\"opacity: 0.80\"> \"i </span><span style=\"background-color: hsl(0, 100.00%, 96.46%); opacity: 0.81\" title=\"-0.037\">want</span><span style=\"opacity: 0.80\"> my 1 </span><span style=\"background-color: hsl(0, 100.00%, 89.26%); opacity: 0.83\" title=\"-0.180\">hour</span><span style=\"opacity: 0.80\"> </span><span style=\"background-color: hsl(0, 100.00%, 92.44%); opacity: 0.82\" title=\"-0.109\">35</span><span style=\"opacity: 0.80\"> </span><span style=\"background-color: hsl(0, 100.00%, 83.57%); opacity: 0.86\" title=\"-0.331\">minutes</span><span style=\"opacity: 0.80\"> back!\". </span><span style=\"background-color: hsl(0, 100.00%, 92.44%); opacity: 0.82\" title=\"-0.109\">somebody</span><span style=\"opacity: 0.80\"> </span><span style=\"background-color: hsl(120, 100.00%, 95.03%); opacity: 0.81\" title=\"0.060\">got</span><span style=\"opacity: 0.80\"> to </span><span style=\"background-color: hsl(0, 100.00%, 96.38%); opacity: 0.81\" title=\"-0.038\">pay</span><span style=\"opacity: 0.80\"> for this!  i </span><span style=\"background-color: hsl(0, 100.00%, 96.03%); opacity: 0.81\" title=\"-0.044\">dare</span><span style=\"opacity: 0.80\"> you to find a </span><span style=\"background-color: hsl(0, 100.00%, 87.53%); opacity: 0.84\" title=\"-0.224\">movie</span><span style=\"opacity: 0.80\"> which is </span><span style=\"background-color: hsl(0, 100.00%, 67.03%); opacity: 0.95\" title=\"-0.896\">worst</span><span style=\"opacity: 0.80\"> that this... i </span><span style=\"background-color: hsl(0, 100.00%, 98.44%); opacity: 0.80\" title=\"-0.011\">really</span><span style=\"opacity: 0.80\"> didn't have </span><span style=\"background-color: hsl(0, 100.00%, 90.83%); opacity: 0.82\" title=\"-0.144\">high</span><span style=\"opacity: 0.80\"> </span><span style=\"background-color: hsl(0, 100.00%, 92.53%); opacity: 0.82\" title=\"-0.107\">expectations</span><span style=\"opacity: 0.80\"> and i must </span><span style=\"background-color: hsl(120, 100.00%, 94.01%); opacity: 0.81\" title=\"0.078\">admit</span><span style=\"opacity: 0.80\"> that i wasn't </span><span style=\"background-color: hsl(0, 100.00%, 74.60%); opacity: 0.90\" title=\"-0.618\">disappointed</span><span style=\"opacity: 0.80\">. this </span><span style=\"background-color: hsl(0, 100.00%, 82.29%); opacity: 0.86\" title=\"-0.369\">movie</span><span style=\"opacity: 0.80\"> is so </span><span style=\"background-color: hsl(0, 100.00%, 75.09%); opacity: 0.90\" title=\"-0.601\">terrible</span><span style=\"opacity: 0.80\"> that i </span><span style=\"background-color: hsl(0, 100.00%, 93.46%); opacity: 0.82\" title=\"-0.089\">felt</span><span style=\"opacity: 0.80\"> </span><span style=\"background-color: hsl(0, 100.00%, 96.93%); opacity: 0.81\" title=\"-0.030\">obligated</span><span style=\"opacity: 0.80\"> to </span><span style=\"background-color: hsl(0, 100.00%, 98.89%); opacity: 0.80\" title=\"-0.007\">register</span><span style=\"opacity: 0.80\"> an </span><span style=\"background-color: hsl(120, 100.00%, 97.24%); opacity: 0.80\" title=\"0.026\">account</span><span style=\"opacity: 0.80\"> here at </span><span style=\"background-color: hsl(0, 100.00%, 93.27%); opacity: 0.82\" title=\"-0.093\">imdb</span><span style=\"opacity: 0.80\"> </span><span style=\"background-color: hsl(0, 100.00%, 92.09%); opacity: 0.82\" title=\"-0.117\">just</span><span style=\"opacity: 0.80\"> to </span><span style=\"background-color: hsl(0, 100.00%, 93.30%); opacity: 0.82\" title=\"-0.092\">warn</span><span style=\"opacity: 0.80\"> others not to </span><span style=\"background-color: hsl(0, 100.00%, 60.00%); opacity: 1.00\" title=\"-1.181\">waste</span><span style=\"opacity: 0.80\"> their </span><span style=\"background-color: hsl(0, 100.00%, 88.93%); opacity: 0.83\" title=\"-0.188\">time</span><span style=\"opacity: 0.80\">. the </span><span style=\"background-color: hsl(0, 100.00%, 90.72%); opacity: 0.82\" title=\"-0.146\">storyline</span><span style=\"opacity: 0.80\"> is </span><span style=\"background-color: hsl(0, 100.00%, 78.04%); opacity: 0.88\" title=\"-0.502\">terrible</span><span style=\"opacity: 0.80\"> and you keep </span><span style=\"background-color: hsl(0, 100.00%, 92.95%); opacity: 0.82\" title=\"-0.099\">asking</span><span style=\"opacity: 0.80\"> yourself throughout the </span><span style=\"background-color: hsl(0, 100.00%, 89.70%); opacity: 0.83\" title=\"-0.170\">movie</span><span style=\"opacity: 0.80\"> \"can it get any </span><span style=\"background-color: hsl(0, 100.00%, 75.38%); opacity: 0.90\" title=\"-0.591\">worse</span><span style=\"opacity: 0.80\">?\" </span><span style=\"background-color: hsl(120, 100.00%, 93.21%); opacity: 0.82\" title=\"0.094\">yes</span><span style=\"opacity: 0.80\">, it can! somehow they </span><span style=\"background-color: hsl(0, 100.00%, 94.41%); opacity: 0.81\" title=\"-0.071\">manage</span><span style=\"opacity: 0.80\"> to </span><span style=\"background-color: hsl(0, 100.00%, 91.16%); opacity: 0.82\" title=\"-0.137\">make</span><span style=\"opacity: 0.80\"> it </span><span style=\"background-color: hsl(0, 100.00%, 68.93%); opacity: 0.94\" title=\"-0.823\">worst</span><span style=\"opacity: 0.80\"> by every </span><span style=\"background-color: hsl(0, 100.00%, 94.49%); opacity: 0.81\" title=\"-0.070\">minute</span><span style=\"opacity: 0.80\"> and you </span><span style=\"background-color: hsl(120, 100.00%, 98.41%); opacity: 0.80\" title=\"0.012\">end</span><span style=\"opacity: 0.80\"> up </span><span style=\"background-color: hsl(0, 100.00%, 96.25%); opacity: 0.81\" title=\"-0.040\">thinking</span><span style=\"opacity: 0.80\"> \"i </span><span style=\"background-color: hsl(0, 100.00%, 96.46%); opacity: 0.81\" title=\"-0.037\">want</span><span style=\"opacity: 0.80\"> my 1 </span><span style=\"background-color: hsl(0, 100.00%, 89.26%); opacity: 0.83\" title=\"-0.180\">hour</span><span style=\"opacity: 0.80\"> </span><span style=\"background-color: hsl(0, 100.00%, 92.44%); opacity: 0.82\" title=\"-0.109\">35</span><span style=\"opacity: 0.80\"> </span><span style=\"background-color: hsl(0, 100.00%, 83.57%); opacity: 0.86\" title=\"-0.331\">minutes</span><span style=\"opacity: 0.80\"> back!\". </span><span style=\"background-color: hsl(0, 100.00%, 92.44%); opacity: 0.82\" title=\"-0.109\">somebody</span><span style=\"opacity: 0.80\"> </span><span style=\"background-color: hsl(120, 100.00%, 95.03%); opacity: 0.81\" title=\"0.060\">got</span><span style=\"opacity: 0.80\"> to </span><span style=\"background-color: hsl(0, 100.00%, 96.38%); opacity: 0.81\" title=\"-0.038\">pay</span><span style=\"opacity: 0.80\"> for this!  i </span><span style=\"background-color: hsl(0, 100.00%, 96.03%); opacity: 0.81\" title=\"-0.044\">dare</span><span style=\"opacity: 0.80\"> you to find a </span><span style=\"background-color: hsl(0, 100.00%, 87.53%); opacity: 0.84\" title=\"-0.224\">movie</span><span style=\"opacity: 0.80\"> which is </span><span style=\"background-color: hsl(0, 100.00%, 67.03%); opacity: 0.95\" title=\"-0.896\">worst</span><span style=\"opacity: 0.80\"> that this...</span>\n",
              "</p>\n"
            ]
          },
          "metadata": {}
        },
        {
          "output_type": "display_data",
          "data": {
            "text/plain": [
              "<IPython.core.display.HTML object>"
            ],
            "text/html": [
              "<p style=background-color:black;color:white;font-weight:bold;padding:4px>Bad Movie #5 🍅</p>"
            ]
          },
          "metadata": {}
        },
        {
          "output_type": "display_data",
          "data": {
            "text/plain": [
              "<IPython.core.display.HTML object>"
            ],
            "text/html": [
              "\n",
              "<style>\n",
              "    table.eli5-weights tr:hover {\n",
              "        filter: brightness(85%);\n",
              "    }\n",
              "</style>\n",
              "\n",
              "\n",
              "<p style=\"margin-bottom: 2.5em; margin-top:-0.5em;\">\n",
              "<span style=\"opacity: 0.80\">well then. i </span><span style=\"background-color: hsl(0, 100.00%, 91.28%); opacity: 0.82\" title=\"-0.044\">just</span><span style=\"opacity: 0.80\"> </span><span style=\"background-color: hsl(0, 100.00%, 93.61%); opacity: 0.81\" title=\"-0.028\">watched</span><span style=\"opacity: 0.80\"> an </span><span style=\"background-color: hsl(0, 100.00%, 73.96%); opacity: 0.91\" title=\"-0.211\">crap</span><span style=\"opacity: 0.80\">-</span><span style=\"background-color: hsl(0, 100.00%, 89.05%); opacity: 0.83\" title=\"-0.061\">load</span><span style=\"opacity: 0.80\"> of </span><span style=\"background-color: hsl(120, 100.00%, 96.71%); opacity: 0.81\" title=\"0.011\">movies</span><span style=\"opacity: 0.80\">--all with </span><span style=\"background-color: hsl(120, 100.00%, 96.26%); opacity: 0.81\" title=\"0.013\">varying</span><span style=\"opacity: 0.80\"> </span><span style=\"background-color: hsl(120, 100.00%, 96.09%); opacity: 0.81\" title=\"0.014\">degrees</span><span style=\"opacity: 0.80\"> of </span><span style=\"background-color: hsl(0, 100.00%, 90.42%); opacity: 0.83\" title=\"-0.051\">quality</span><span style=\"opacity: 0.80\">. i wasn't too </span><span style=\"background-color: hsl(120, 100.00%, 98.20%); opacity: 0.80\" title=\"0.005\">sure</span><span style=\"opacity: 0.80\"> about which one i </span><span style=\"background-color: hsl(0, 100.00%, 87.84%); opacity: 0.84\" title=\"-0.071\">wanted</span><span style=\"opacity: 0.80\"> to </span><span style=\"background-color: hsl(0, 100.00%, 95.89%); opacity: 0.81\" title=\"-0.015\">review</span><span style=\"opacity: 0.80\"> first. then it </span><span style=\"background-color: hsl(120, 100.00%, 92.63%); opacity: 0.82\" title=\"0.035\">hit</span><span style=\"opacity: 0.80\"> me </span><span style=\"background-color: hsl(0, 100.00%, 98.10%); opacity: 0.80\" title=\"-0.005\">like</span><span style=\"opacity: 0.80\"> a </span><span style=\"background-color: hsl(120, 100.00%, 99.90%); opacity: 0.80\" title=\"0.000\">sack</span><span style=\"opacity: 0.80\">-a-</span><span style=\"background-color: hsl(0, 100.00%, 88.21%); opacity: 0.83\" title=\"-0.068\">rats</span><span style=\"opacity: 0.80\">: rodentz. </span><span style=\"background-color: hsl(0, 100.00%, 86.04%); opacity: 0.84\" title=\"-0.087\">warn</span><span style=\"opacity: 0.80\"> </span><span style=\"background-color: hsl(0, 100.00%, 95.68%); opacity: 0.81\" title=\"-0.016\">people</span><span style=\"opacity: 0.80\"> about rodentz. this </span><span style=\"background-color: hsl(0, 100.00%, 87.87%); opacity: 0.84\" title=\"-0.071\">monstrosity</span><span style=\"opacity: 0.80\"> </span><span style=\"background-color: hsl(120, 100.00%, 92.23%); opacity: 0.82\" title=\"0.038\">stars</span><span style=\"opacity: 0.80\"> nobody and is </span><span style=\"background-color: hsl(0, 100.00%, 79.45%); opacity: 0.88\" title=\"-0.151\">painfully</span><span style=\"opacity: 0.80\"> </span><span style=\"background-color: hsl(0, 100.00%, 60.00%); opacity: 1.00\" title=\"-0.390\">dull</span><span style=\"opacity: 0.80\"> to </span><span style=\"background-color: hsl(0, 100.00%, 90.43%); opacity: 0.83\" title=\"-0.051\">sit</span><span style=\"opacity: 0.80\"> through. and it's about </span><span style=\"background-color: hsl(0, 100.00%, 88.33%); opacity: 0.83\" title=\"-0.067\">mutant</span><span style=\"opacity: 0.80\"> </span><span style=\"background-color: hsl(0, 100.00%, 88.21%); opacity: 0.83\" title=\"-0.068\">rats</span><span style=\"opacity: 0.80\"> </span><span style=\"background-color: hsl(120, 100.00%, 91.23%); opacity: 0.82\" title=\"0.045\">killing</span><span style=\"opacity: 0.80\"> </span><span style=\"background-color: hsl(120, 100.00%, 88.36%); opacity: 0.83\" title=\"0.067\">people</span><span style=\"opacity: 0.80\">. </span><span style=\"background-color: hsl(0, 100.00%, 90.48%); opacity: 0.83\" title=\"-0.050\">yeah</span><span style=\"opacity: 0.80\">... </span><span style=\"background-color: hsl(120, 100.00%, 96.64%); opacity: 0.81\" title=\"0.011\">real</span><span style=\"opacity: 0.80\"> </span><span style=\"background-color: hsl(120, 100.00%, 89.38%); opacity: 0.83\" title=\"0.059\">freaking</span><span style=\"opacity: 0.80\">' </span><span style=\"background-color: hsl(0, 100.00%, 84.26%); opacity: 0.85\" title=\"-0.103\">original</span><span style=\"opacity: 0.80\">. \"</span><span style=\"background-color: hsl(120, 100.00%, 96.53%); opacity: 0.81\" title=\"0.012\">food</span><span style=\"opacity: 0.80\"> of the </span><span style=\"background-color: hsl(0, 100.00%, 95.39%); opacity: 0.81\" title=\"-0.018\">gods</span><span style=\"opacity: 0.80\">,\" or \"</span><span style=\"background-color: hsl(120, 100.00%, 85.10%); opacity: 0.85\" title=\"0.095\">willard</span><span style=\"opacity: 0.80\">\" anyone? those were </span><span style=\"background-color: hsl(0, 100.00%, 86.20%); opacity: 0.84\" title=\"-0.085\">better</span><span style=\"opacity: 0.80\"> than this, and that doesn't </span><span style=\"background-color: hsl(120, 100.00%, 97.33%); opacity: 0.80\" title=\"0.008\">say</span><span style=\"opacity: 0.80\"> much... **</span><span style=\"background-color: hsl(0, 100.00%, 89.86%); opacity: 0.83\" title=\"-0.055\">possible</span><span style=\"opacity: 0.80\"> </span><span style=\"background-color: hsl(0, 100.00%, 95.14%); opacity: 0.81\" title=\"-0.019\">spoiler</span><span style=\"opacity: 0.80\">**</span><span style=\"background-color: hsl(0, 100.00%, 80.16%); opacity: 0.87\" title=\"-0.143\">okay</span><span style=\"opacity: 0.80\"> here's the </span><span style=\"background-color: hsl(120, 100.00%, 91.65%); opacity: 0.82\" title=\"0.042\">story</span><span style=\"opacity: 0.80\">: inna </span><span style=\"background-color: hsl(0, 100.00%, 97.04%); opacity: 0.80\" title=\"-0.009\">laboratory</span><span style=\"opacity: 0.80\"> the </span><span style=\"background-color: hsl(0, 100.00%, 86.10%); opacity: 0.84\" title=\"-0.086\">scientist</span><span style=\"opacity: 0.80\"> and his </span><span style=\"background-color: hsl(120, 100.00%, 89.56%); opacity: 0.83\" title=\"0.057\">plucky</span><span style=\"opacity: 0.80\"> </span><span style=\"background-color: hsl(0, 100.00%, 91.36%); opacity: 0.82\" title=\"-0.044\">assistant</span><span style=\"opacity: 0.80\"> are </span><span style=\"background-color: hsl(0, 100.00%, 84.63%); opacity: 0.85\" title=\"-0.100\">experimenting</span><span style=\"opacity: 0.80\"> on </span><span style=\"background-color: hsl(0, 100.00%, 88.21%); opacity: 0.83\" title=\"-0.068\">rats</span><span style=\"opacity: 0.80\"> and their </span><span style=\"background-color: hsl(0, 100.00%, 97.04%); opacity: 0.80\" title=\"-0.009\">laboratory</span><span style=\"opacity: 0.80\"> is in a </span><span style=\"background-color: hsl(0, 100.00%, 79.87%); opacity: 0.87\" title=\"-0.146\">crappy</span><span style=\"opacity: 0.80\"> </span><span style=\"background-color: hsl(0, 100.00%, 88.24%); opacity: 0.83\" title=\"-0.068\">neighborhood</span><span style=\"opacity: 0.80\"> and </span><span style=\"background-color: hsl(0, 100.00%, 79.87%); opacity: 0.87\" title=\"-0.146\">crappy</span><span style=\"opacity: 0.80\"> </span><span style=\"background-color: hsl(0, 100.00%, 91.01%); opacity: 0.82\" title=\"-0.046\">building</span><span style=\"opacity: 0.80\"> and the </span><span style=\"background-color: hsl(120, 100.00%, 89.56%); opacity: 0.83\" title=\"0.057\">plucky</span><span style=\"opacity: 0.80\"> </span><span style=\"background-color: hsl(0, 100.00%, 91.36%); opacity: 0.82\" title=\"-0.044\">assistant</span><span style=\"opacity: 0.80\">'s </span><span style=\"background-color: hsl(0, 100.00%, 80.56%); opacity: 0.87\" title=\"-0.139\">moronic</span><span style=\"opacity: 0.80\"> </span><span style=\"background-color: hsl(120, 100.00%, 97.32%); opacity: 0.80\" title=\"0.008\">friends</span><span style=\"opacity: 0.80\"> show up </span><span style=\"background-color: hsl(0, 100.00%, 90.39%); opacity: 0.83\" title=\"-0.051\">drunk</span><span style=\"opacity: 0.80\"> and everyone becomes </span><span style=\"background-color: hsl(120, 100.00%, 96.53%); opacity: 0.81\" title=\"0.012\">food</span><span style=\"opacity: 0.80\"> for the </span><span style=\"background-color: hsl(0, 100.00%, 84.71%); opacity: 0.85\" title=\"-0.099\">crazed</span><span style=\"opacity: 0.80\"> </span><span style=\"background-color: hsl(0, 100.00%, 88.21%); opacity: 0.83\" title=\"-0.068\">rats</span><span style=\"opacity: 0.80\"> and </span><span style=\"background-color: hsl(0, 100.00%, 93.70%); opacity: 0.81\" title=\"-0.028\">just</span><span style=\"opacity: 0.80\"> about </span><span style=\"background-color: hsl(120, 100.00%, 91.04%); opacity: 0.82\" title=\"0.046\">everybody</span><span style=\"opacity: 0.80\"> </span><span style=\"background-color: hsl(120, 100.00%, 93.51%); opacity: 0.81\" title=\"0.029\">dies</span><span style=\"opacity: 0.80\"> and, </span><span style=\"background-color: hsl(0, 100.00%, 86.33%); opacity: 0.84\" title=\"-0.084\">oh</span><span style=\"opacity: 0.80\"> </span><span style=\"background-color: hsl(0, 100.00%, 94.88%); opacity: 0.81\" title=\"-0.021\">yeah</span><span style=\"opacity: 0.80\">, there's one </span><span style=\"background-color: hsl(0, 100.00%, 83.71%); opacity: 0.86\" title=\"-0.108\">giant</span><span style=\"opacity: 0.80\"> </span><span style=\"background-color: hsl(0, 100.00%, 81.07%); opacity: 0.87\" title=\"-0.134\">rat</span><span style=\"opacity: 0.80\"> that </span><span style=\"background-color: hsl(0, 100.00%, 85.31%); opacity: 0.85\" title=\"-0.093\">looks</span><span style=\"opacity: 0.80\"> </span><span style=\"background-color: hsl(0, 100.00%, 79.87%); opacity: 0.87\" title=\"-0.146\">crappy</span><span style=\"opacity: 0.80\">, but it </span><span style=\"background-color: hsl(120, 100.00%, 99.23%); opacity: 0.80\" title=\"0.001\">gets</span><span style=\"opacity: 0.80\"> </span><span style=\"background-color: hsl(0, 100.00%, 82.22%); opacity: 0.86\" title=\"-0.123\">killed</span><span style=\"opacity: 0.80\">, the </span><span style=\"background-color: hsl(0, 100.00%, 98.94%); opacity: 0.80\" title=\"-0.002\">end</span><span style=\"opacity: 0.80\">. there, all in once </span><span style=\"background-color: hsl(0, 100.00%, 99.41%); opacity: 0.80\" title=\"-0.001\">sentence</span><span style=\"opacity: 0.80\">! </span><span style=\"background-color: hsl(0, 100.00%, 98.44%); opacity: 0.80\" title=\"-0.004\">spoiler</span><span style=\"opacity: 0.80\">, you </span><span style=\"background-color: hsl(120, 100.00%, 97.33%); opacity: 0.80\" title=\"0.008\">say</span><span style=\"opacity: 0.80\">? ppfff!! i </span><span style=\"background-color: hsl(120, 100.00%, 93.65%); opacity: 0.81\" title=\"0.028\">beg</span><span style=\"opacity: 0.80\"> to </span><span style=\"background-color: hsl(120, 100.00%, 87.47%); opacity: 0.84\" title=\"0.074\">differ</span><span style=\"opacity: 0.80\">! the </span><span style=\"background-color: hsl(120, 100.00%, 90.63%); opacity: 0.83\" title=\"0.049\">second</span><span style=\"opacity: 0.80\"> we all </span><span style=\"background-color: hsl(0, 100.00%, 96.27%); opacity: 0.81\" title=\"-0.013\">realize</span><span style=\"opacity: 0.80\"> that there's a </span><span style=\"background-color: hsl(0, 100.00%, 83.71%); opacity: 0.86\" title=\"-0.108\">giant</span><span style=\"opacity: 0.80\"> </span><span style=\"background-color: hsl(0, 100.00%, 81.07%); opacity: 0.87\" title=\"-0.134\">rat</span><span style=\"opacity: 0.80\">, we all </span><span style=\"background-color: hsl(120, 100.00%, 95.17%); opacity: 0.81\" title=\"0.019\">know</span><span style=\"opacity: 0.80\"> it's </span><span style=\"background-color: hsl(120, 100.00%, 92.75%); opacity: 0.82\" title=\"0.034\">gonna</span><span style=\"opacity: 0.80\"> </span><span style=\"background-color: hsl(0, 100.00%, 88.78%); opacity: 0.83\" title=\"-0.063\">die</span><span style=\"opacity: 0.80\"> </span><span style=\"background-color: hsl(0, 100.00%, 94.10%); opacity: 0.81\" title=\"-0.025\">eventually</span><span style=\"opacity: 0.80\">!!**</span><span style=\"background-color: hsl(0, 100.00%, 92.67%); opacity: 0.82\" title=\"-0.035\">end</span><span style=\"opacity: 0.80\"> </span><span style=\"background-color: hsl(0, 100.00%, 90.04%); opacity: 0.83\" title=\"-0.054\">spoiler</span><span style=\"opacity: 0.80\">** here's the </span><span style=\"background-color: hsl(120, 100.00%, 87.49%); opacity: 0.84\" title=\"0.074\">breakdown</span><span style=\"opacity: 0.80\">: the </span><span style=\"background-color: hsl(120, 100.00%, 90.29%); opacity: 0.83\" title=\"0.052\">good</span><span style=\"opacity: 0.80\">:  --well, i </span><span style=\"background-color: hsl(0, 100.00%, 92.61%); opacity: 0.82\" title=\"-0.035\">watched</span><span style=\"opacity: 0.80\"> it for </span><span style=\"background-color: hsl(0, 100.00%, 90.68%); opacity: 0.82\" title=\"-0.049\">free</span><span style=\"opacity: 0.80\">, but for everyone else... </span><span style=\"background-color: hsl(0, 100.00%, 86.70%); opacity: 0.84\" title=\"-0.081\">hmmm</span><span style=\"opacity: 0.80\">, no. there's nothing </span><span style=\"background-color: hsl(120, 100.00%, 91.86%); opacity: 0.82\" title=\"0.040\">good</span><span style=\"opacity: 0.80\"> here.  didn't </span><span style=\"background-color: hsl(120, 100.00%, 83.52%); opacity: 0.86\" title=\"0.110\">hurt</span><span style=\"opacity: 0.80\"> it, didn't </span><span style=\"background-color: hsl(120, 100.00%, 90.97%); opacity: 0.82\" title=\"0.047\">help</span><span style=\"opacity: 0.80\">:  --</span><span style=\"background-color: hsl(120, 100.00%, 97.30%); opacity: 0.80\" title=\"0.008\">um</span><span style=\"opacity: 0.80\">... well. the </span><span style=\"background-color: hsl(0, 100.00%, 95.63%); opacity: 0.81\" title=\"-0.017\">gore</span><span style=\"opacity: 0.80\"> was </span><span style=\"background-color: hsl(0, 100.00%, 85.60%); opacity: 0.85\" title=\"-0.091\">decent</span><span style=\"opacity: 0.80\">. --very </span><span style=\"background-color: hsl(0, 100.00%, 89.49%); opacity: 0.83\" title=\"-0.058\">average</span><span style=\"opacity: 0.80\"> </span><span style=\"background-color: hsl(0, 100.00%, 89.22%); opacity: 0.83\" title=\"-0.060\">cinematography</span><span style=\"opacity: 0.80\">.  --</span><span style=\"background-color: hsl(120, 100.00%, 93.41%); opacity: 0.82\" title=\"0.030\">cg</span><span style=\"opacity: 0.80\"> </span><span style=\"background-color: hsl(0, 100.00%, 88.21%); opacity: 0.83\" title=\"-0.068\">rats</span><span style=\"opacity: 0.80\"> not as </span><span style=\"background-color: hsl(0, 100.00%, 73.16%); opacity: 0.91\" title=\"-0.221\">bad</span><span style=\"opacity: 0.80\"> as they could'</span><span style=\"background-color: hsl(0, 100.00%, 89.35%); opacity: 0.83\" title=\"-0.059\">ve</span><span style=\"opacity: 0.80\"> been in some </span><span style=\"background-color: hsl(0, 100.00%, 91.78%); opacity: 0.82\" title=\"-0.041\">shots</span><span style=\"opacity: 0.80\">... the </span><span style=\"background-color: hsl(0, 100.00%, 73.16%); opacity: 0.91\" title=\"-0.221\">bad</span><span style=\"opacity: 0.80\">:  --...and in other </span><span style=\"background-color: hsl(0, 100.00%, 91.78%); opacity: 0.82\" title=\"-0.041\">shots</span><span style=\"opacity: 0.80\">, the </span><span style=\"background-color: hsl(120, 100.00%, 93.41%); opacity: 0.82\" title=\"0.030\">cg</span><span style=\"opacity: 0.80\"> </span><span style=\"background-color: hsl(0, 100.00%, 88.21%); opacity: 0.83\" title=\"-0.068\">rats</span><span style=\"opacity: 0.80\"> were </span><span style=\"background-color: hsl(0, 100.00%, 92.94%); opacity: 0.82\" title=\"-0.033\">pathetically</span><span style=\"opacity: 0.80\"> </span><span style=\"background-color: hsl(0, 100.00%, 82.80%); opacity: 0.86\" title=\"-0.117\">cheap</span><span style=\"opacity: 0.80\">-</span><span style=\"background-color: hsl(0, 100.00%, 95.48%); opacity: 0.81\" title=\"-0.017\">looking</span><span style=\"opacity: 0.80\">. </span><span style=\"background-color: hsl(0, 100.00%, 89.58%); opacity: 0.83\" title=\"-0.057\">look</span><span style=\"opacity: 0.80\">, if your </span><span style=\"background-color: hsl(0, 100.00%, 95.44%); opacity: 0.81\" title=\"-0.018\">film</span><span style=\"opacity: 0.80\"> has a </span><span style=\"background-color: hsl(0, 100.00%, 85.68%); opacity: 0.85\" title=\"-0.090\">low</span><span style=\"opacity: 0.80\"> </span><span style=\"background-color: hsl(0, 100.00%, 93.81%); opacity: 0.81\" title=\"-0.027\">budget</span><span style=\"opacity: 0.80\">, </span><span style=\"background-color: hsl(0, 100.00%, 87.04%); opacity: 0.84\" title=\"-0.078\">maybe</span><span style=\"opacity: 0.80\"> you shouldn't </span><span style=\"background-color: hsl(0, 100.00%, 98.93%); opacity: 0.80\" title=\"-0.002\">rely</span><span style=\"opacity: 0.80\"> on </span><span style=\"background-color: hsl(120, 100.00%, 93.41%); opacity: 0.82\" title=\"0.030\">cg</span><span style=\"opacity: 0.80\">. </span><span style=\"background-color: hsl(120, 100.00%, 89.17%); opacity: 0.83\" title=\"0.060\">lesson</span><span style=\"opacity: 0.80\"> to take to </span><span style=\"background-color: hsl(120, 100.00%, 84.00%); opacity: 0.85\" title=\"0.105\">heart</span><span style=\"opacity: 0.80\">.  --the </span><span style=\"background-color: hsl(0, 100.00%, 89.13%); opacity: 0.83\" title=\"-0.061\">acting</span><span style=\"opacity: 0.80\"> is </span><span style=\"background-color: hsl(0, 100.00%, 92.86%); opacity: 0.82\" title=\"-0.033\">extremely</span><span style=\"opacity: 0.80\"> </span><span style=\"background-color: hsl(0, 100.00%, 65.45%); opacity: 0.96\" title=\"-0.317\">poor</span><span style=\"opacity: 0.80\">. --the </span><span style=\"background-color: hsl(0, 100.00%, 88.47%); opacity: 0.83\" title=\"-0.066\">characters</span><span style=\"opacity: 0.80\"> are beyond </span><span style=\"background-color: hsl(0, 100.00%, 63.60%); opacity: 0.97\" title=\"-0.341\">uninteresting</span><span style=\"opacity: 0.80\">--we have a </span><span style=\"background-color: hsl(0, 100.00%, 93.45%); opacity: 0.82\" title=\"-0.029\">mish</span><span style=\"opacity: 0.80\">-</span><span style=\"background-color: hsl(0, 100.00%, 85.10%); opacity: 0.85\" title=\"-0.095\">mash</span><span style=\"opacity: 0.80\"> of </span><span style=\"background-color: hsl(0, 100.00%, 86.53%); opacity: 0.84\" title=\"-0.082\">clichés</span><span style=\"opacity: 0.80\"> and none of them are even done that well.  --booooooooooooring. --been done before--</span><span style=\"background-color: hsl(120, 100.00%, 75.18%); opacity: 0.90\" title=\"0.197\">plenty</span><span style=\"opacity: 0.80\"> of </span><span style=\"background-color: hsl(120, 100.00%, 82.41%); opacity: 0.86\" title=\"0.121\">times</span><span style=\"opacity: 0.80\">.  --</span><span style=\"background-color: hsl(0, 100.00%, 75.48%); opacity: 0.90\" title=\"-0.194\">stupid</span><span style=\"opacity: 0.80\"> </span><span style=\"background-color: hsl(0, 100.00%, 92.70%); opacity: 0.82\" title=\"-0.034\">story</span><span style=\"opacity: 0.80\">, </span><span style=\"background-color: hsl(0, 100.00%, 79.80%); opacity: 0.88\" title=\"-0.147\">just</span><span style=\"opacity: 0.80\"> </span><span style=\"background-color: hsl(0, 100.00%, 72.54%); opacity: 0.92\" title=\"-0.228\">stupid</span><span style=\"opacity: 0.80\">. --</span><span style=\"background-color: hsl(0, 100.00%, 83.71%); opacity: 0.86\" title=\"-0.108\">giant</span><span style=\"opacity: 0.80\"> </span><span style=\"background-color: hsl(0, 100.00%, 81.07%); opacity: 0.87\" title=\"-0.134\">rat</span><span style=\"opacity: 0.80\"> </span><span style=\"background-color: hsl(0, 100.00%, 79.78%); opacity: 0.88\" title=\"-0.147\">looks</span><span style=\"opacity: 0.80\"> </span><span style=\"background-color: hsl(0, 100.00%, 84.94%); opacity: 0.85\" title=\"-0.097\">like</span><span style=\"opacity: 0.80\"> </span><span style=\"background-color: hsl(0, 100.00%, 87.70%); opacity: 0.84\" title=\"-0.072\">fat</span><span style=\"opacity: 0.80\"> </span><span style=\"background-color: hsl(120, 100.00%, 91.54%); opacity: 0.82\" title=\"0.042\">man</span><span style=\"opacity: 0.80\"> in </span><span style=\"background-color: hsl(0, 100.00%, 62.21%); opacity: 0.98\" title=\"-0.360\">poorly</span><span style=\"opacity: 0.80\"> </span><span style=\"background-color: hsl(0, 100.00%, 85.38%); opacity: 0.85\" title=\"-0.093\">conceived</span><span style=\"opacity: 0.80\"> </span><span style=\"background-color: hsl(0, 100.00%, 87.06%); opacity: 0.84\" title=\"-0.078\">bear</span><span style=\"opacity: 0.80\"> </span><span style=\"background-color: hsl(0, 100.00%, 81.77%); opacity: 0.87\" title=\"-0.127\">costume</span><span style=\"opacity: 0.80\">--that was </span><span style=\"background-color: hsl(120, 100.00%, 95.35%); opacity: 0.81\" title=\"0.018\">kind</span><span style=\"opacity: 0.80\"> of </span><span style=\"background-color: hsl(120, 100.00%, 89.56%); opacity: 0.83\" title=\"0.057\">funny</span><span style=\"opacity: 0.80\">--but not </span><span style=\"background-color: hsl(120, 100.00%, 86.55%); opacity: 0.84\" title=\"0.082\">funny</span><span style=\"opacity: 0.80\"> enough to give this </span><span style=\"background-color: hsl(120, 100.00%, 71.96%); opacity: 0.92\" title=\"0.235\">film</span><span style=\"opacity: 0.80\"> any </span><span style=\"background-color: hsl(120, 100.00%, 74.91%); opacity: 0.90\" title=\"0.201\">worth</span><span style=\"opacity: 0.80\">. --</span><span style=\"background-color: hsl(0, 100.00%, 87.89%); opacity: 0.84\" title=\"-0.071\">retarded</span><span style=\"opacity: 0.80\">, </span><span style=\"background-color: hsl(0, 100.00%, 82.95%); opacity: 0.86\" title=\"-0.115\">unrealistic</span><span style=\"opacity: 0.80\">, and </span><span style=\"background-color: hsl(0, 100.00%, 62.20%); opacity: 0.98\" title=\"-0.360\">boring</span><span style=\"opacity: 0.80\"> </span><span style=\"background-color: hsl(0, 100.00%, 90.15%); opacity: 0.83\" title=\"-0.053\">dialog</span><span style=\"opacity: 0.80\">.  --all the </span><span style=\"background-color: hsl(0, 100.00%, 90.39%); opacity: 0.83\" title=\"-0.051\">college</span><span style=\"opacity: 0.80\"> </span><span style=\"background-color: hsl(0, 100.00%, 91.04%); opacity: 0.82\" title=\"-0.046\">student</span><span style=\"opacity: 0.80\"> </span><span style=\"background-color: hsl(0, 100.00%, 81.07%); opacity: 0.87\" title=\"-0.134\">rat</span><span style=\"opacity: 0.80\"> </span><span style=\"background-color: hsl(120, 100.00%, 97.05%); opacity: 0.80\" title=\"0.009\">chow</span><span style=\"opacity: 0.80\"> </span><span style=\"background-color: hsl(120, 100.00%, 96.60%); opacity: 0.81\" title=\"0.012\">people</span><span style=\"opacity: 0.80\"> are </span><span style=\"background-color: hsl(0, 100.00%, 97.17%); opacity: 0.80\" title=\"-0.009\">drinking</span><span style=\"opacity: 0.80\"> </span><span style=\"background-color: hsl(120, 100.00%, 89.91%); opacity: 0.83\" title=\"0.055\">tequila</span><span style=\"opacity: 0.80\"> from </span><span style=\"background-color: hsl(0, 100.00%, 97.59%); opacity: 0.80\" title=\"-0.007\">huge</span><span style=\"opacity: 0.80\"> </span><span style=\"background-color: hsl(0, 100.00%, 97.24%); opacity: 0.80\" title=\"-0.009\">plastic</span><span style=\"opacity: 0.80\"> </span><span style=\"background-color: hsl(120, 100.00%, 98.40%); opacity: 0.80\" title=\"0.004\">milk</span><span style=\"opacity: 0.80\"> jugs--and yet they </span><span style=\"background-color: hsl(0, 100.00%, 94.53%); opacity: 0.81\" title=\"-0.023\">don</span><span style=\"opacity: 0.80\">'t </span><span style=\"background-color: hsl(120, 100.00%, 94.78%); opacity: 0.81\" title=\"0.021\">appear</span><span style=\"opacity: 0.80\"> to be </span><span style=\"background-color: hsl(0, 100.00%, 90.39%); opacity: 0.83\" title=\"-0.051\">drunk</span><span style=\"opacity: 0.80\"> for anything </span><span style=\"background-color: hsl(120, 100.00%, 95.26%); opacity: 0.81\" title=\"0.019\">longer</span><span style=\"opacity: 0.80\"> than a few </span><span style=\"background-color: hsl(0, 100.00%, 83.25%); opacity: 0.86\" title=\"-0.113\">seconds</span><span style=\"opacity: 0.80\">. </span><span style=\"background-color: hsl(120, 100.00%, 97.67%); opacity: 0.80\" title=\"0.007\">way</span><span style=\"opacity: 0.80\"> to </span><span style=\"background-color: hsl(0, 100.00%, 84.67%); opacity: 0.85\" title=\"-0.099\">stick</span><span style=\"opacity: 0.80\"> with </span><span style=\"background-color: hsl(0, 100.00%, 96.96%); opacity: 0.81\" title=\"-0.010\">continuity</span><span style=\"opacity: 0.80\">, </span><span style=\"background-color: hsl(120, 100.00%, 93.19%); opacity: 0.82\" title=\"0.031\">guys</span><span style=\"opacity: 0.80\">. the </span><span style=\"background-color: hsl(0, 100.00%, 77.54%); opacity: 0.89\" title=\"-0.171\">ugly</span><span style=\"opacity: 0.80\">:  --this </span><span style=\"background-color: hsl(0, 100.00%, 86.02%); opacity: 0.84\" title=\"-0.087\">film</span><span style=\"opacity: 0.80\"> is </span><span style=\"background-color: hsl(0, 100.00%, 63.18%); opacity: 0.98\" title=\"-0.347\">bad</span><span style=\"opacity: 0.80\">. </span><span style=\"background-color: hsl(0, 100.00%, 83.29%); opacity: 0.86\" title=\"-0.112\">simply</span><span style=\"opacity: 0.80\"> </span><span style=\"background-color: hsl(0, 100.00%, 62.19%); opacity: 0.98\" title=\"-0.360\">terrible</span><span style=\"opacity: 0.80\">. </span><span style=\"background-color: hsl(0, 100.00%, 62.07%); opacity: 0.99\" title=\"-0.362\">worse</span><span style=\"opacity: 0.80\"> than you might </span><span style=\"background-color: hsl(0, 100.00%, 87.06%); opacity: 0.84\" title=\"-0.078\">imagine</span><span style=\"opacity: 0.80\">. it's not even </span><span style=\"background-color: hsl(0, 100.00%, 86.05%); opacity: 0.84\" title=\"-0.087\">laughably</span><span style=\"opacity: 0.80\"> </span><span style=\"background-color: hsl(0, 100.00%, 64.74%); opacity: 0.97\" title=\"-0.326\">bad</span><span style=\"opacity: 0.80\"> </span><span style=\"background-color: hsl(0, 100.00%, 86.32%); opacity: 0.84\" title=\"-0.084\">like</span><span style=\"opacity: 0.80\">, for </span><span style=\"background-color: hsl(0, 100.00%, 91.96%); opacity: 0.82\" title=\"-0.039\">instance</span><span style=\"opacity: 0.80\">, \"</span><span style=\"background-color: hsl(0, 100.00%, 87.18%); opacity: 0.84\" title=\"-0.077\">scarecrow</span><span style=\"opacity: 0.80\">\" (</span><span style=\"background-color: hsl(120, 100.00%, 94.18%); opacity: 0.81\" title=\"0.025\">2002</span><span style=\"opacity: 0.80\">) or \"</span><span style=\"background-color: hsl(120, 100.00%, 91.46%); opacity: 0.82\" title=\"0.043\">house</span><span style=\"opacity: 0.80\"> of the </span><span style=\"background-color: hsl(0, 100.00%, 89.82%); opacity: 0.83\" title=\"-0.055\">dead</span><span style=\"opacity: 0.80\">.\" now those </span><span style=\"background-color: hsl(120, 100.00%, 95.52%); opacity: 0.81\" title=\"0.017\">movies</span><span style=\"opacity: 0.80\"> are </span><span style=\"background-color: hsl(0, 100.00%, 74.95%); opacity: 0.90\" title=\"-0.200\">crap</span><span style=\"opacity: 0.80\"> you can </span><span style=\"background-color: hsl(120, 100.00%, 80.68%); opacity: 0.87\" title=\"0.138\">enjoy</span><span style=\"opacity: 0.80\">. even if they do </span><span style=\"background-color: hsl(0, 100.00%, 88.72%); opacity: 0.83\" title=\"-0.064\">make</span><span style=\"opacity: 0.80\"> you </span><span style=\"background-color: hsl(0, 100.00%, 86.01%); opacity: 0.84\" title=\"-0.087\">stupider</span><span style=\"opacity: 0.80\">. </span><span style=\"background-color: hsl(120, 100.00%, 75.33%); opacity: 0.90\" title=\"0.196\">memorable</span><span style=\"opacity: 0.80\"> </span><span style=\"background-color: hsl(120, 100.00%, 91.75%); opacity: 0.82\" title=\"0.041\">scene</span><span style=\"opacity: 0.80\">:  --the </span><span style=\"background-color: hsl(0, 100.00%, 62.00%); opacity: 0.99\" title=\"-0.363\">lame</span><span style=\"opacity: 0.80\"> </span><span style=\"background-color: hsl(120, 100.00%, 89.04%); opacity: 0.83\" title=\"0.061\">action</span><span style=\"opacity: 0.80\">-</span><span style=\"background-color: hsl(0, 100.00%, 89.51%); opacity: 0.83\" title=\"-0.058\">movie</span><span style=\"opacity: 0.80\"> </span><span style=\"background-color: hsl(0, 100.00%, 96.43%); opacity: 0.81\" title=\"-0.012\">ending</span><span style=\"opacity: 0.80\">, </span><span style=\"background-color: hsl(0, 100.00%, 92.06%); opacity: 0.82\" title=\"-0.039\">complete</span><span style=\"opacity: 0.80\"> with uninjured </span><span style=\"background-color: hsl(0, 100.00%, 99.80%); opacity: 0.80\" title=\"-0.000\">heroes</span><span style=\"opacity: 0.80\"> and </span><span style=\"background-color: hsl(120, 100.00%, 90.92%); opacity: 0.82\" title=\"0.047\">explosion</span><span style=\"opacity: 0.80\">. because it didn't </span><span style=\"background-color: hsl(120, 100.00%, 92.45%); opacity: 0.82\" title=\"0.036\">feel</span><span style=\"opacity: 0.80\"> at all </span><span style=\"background-color: hsl(0, 100.00%, 93.70%); opacity: 0.81\" title=\"-0.028\">like</span><span style=\"opacity: 0.80\"> the </span><span style=\"background-color: hsl(0, 100.00%, 88.84%); opacity: 0.83\" title=\"-0.063\">rest</span><span style=\"opacity: 0.80\"> of this </span><span style=\"background-color: hsl(0, 100.00%, 87.87%); opacity: 0.84\" title=\"-0.071\">monstrosity</span><span style=\"opacity: 0.80\">--but still </span><span style=\"background-color: hsl(0, 100.00%, 81.31%); opacity: 0.87\" title=\"-0.132\">sucked</span><span style=\"opacity: 0.80\">. </span><span style=\"background-color: hsl(0, 100.00%, 86.82%); opacity: 0.84\" title=\"-0.080\">acting</span><span style=\"opacity: 0.80\">: 2/</span><span style=\"background-color: hsl(120, 100.00%, 91.78%); opacity: 0.82\" title=\"0.041\">10</span><span style=\"opacity: 0.80\"> </span><span style=\"background-color: hsl(120, 100.00%, 95.70%); opacity: 0.81\" title=\"0.016\">story</span><span style=\"opacity: 0.80\">: 1/</span><span style=\"background-color: hsl(120, 100.00%, 91.78%); opacity: 0.82\" title=\"0.041\">10</span><span style=\"opacity: 0.80\"> </span><span style=\"background-color: hsl(120, 100.00%, 78.44%); opacity: 0.88\" title=\"0.161\">atmosphere</span><span style=\"opacity: 0.80\">: 2/</span><span style=\"background-color: hsl(120, 100.00%, 91.78%); opacity: 0.82\" title=\"0.041\">10</span><span style=\"opacity: 0.80\"> </span><span style=\"background-color: hsl(0, 100.00%, 89.22%); opacity: 0.83\" title=\"-0.060\">cinematography</span><span style=\"opacity: 0.80\">: 4/</span><span style=\"background-color: hsl(120, 100.00%, 91.78%); opacity: 0.82\" title=\"0.041\">10</span><span style=\"opacity: 0.80\"> </span><span style=\"background-color: hsl(0, 100.00%, 89.92%); opacity: 0.83\" title=\"-0.055\">character</span><span style=\"opacity: 0.80\"> </span><span style=\"background-color: hsl(0, 100.00%, 86.12%); opacity: 0.84\" title=\"-0.086\">development</span><span style=\"opacity: 0.80\">: 0/</span><span style=\"background-color: hsl(120, 100.00%, 91.78%); opacity: 0.82\" title=\"0.041\">10</span><span style=\"opacity: 0.80\"> </span><span style=\"background-color: hsl(120, 100.00%, 86.52%); opacity: 0.84\" title=\"0.083\">special</span><span style=\"opacity: 0.80\"> </span><span style=\"background-color: hsl(0, 100.00%, 95.82%); opacity: 0.81\" title=\"-0.015\">effects</span><span style=\"opacity: 0.80\">/</span><span style=\"background-color: hsl(0, 100.00%, 82.53%); opacity: 0.86\" title=\"-0.120\">make</span><span style=\"opacity: 0.80\">-up: 4/</span><span style=\"background-color: hsl(120, 100.00%, 91.55%); opacity: 0.82\" title=\"0.042\">10</span><span style=\"opacity: 0.80\"> </span><span style=\"background-color: hsl(0, 100.00%, 79.55%); opacity: 0.88\" title=\"-0.150\">nudity</span><span style=\"opacity: 0.80\">/</span><span style=\"background-color: hsl(120, 100.00%, 92.89%); opacity: 0.82\" title=\"0.033\">sexuality</span><span style=\"opacity: 0.80\">: 1/</span><span style=\"background-color: hsl(120, 100.00%, 91.78%); opacity: 0.82\" title=\"0.041\">10</span><span style=\"opacity: 0.80\"> (i was </span><span style=\"background-color: hsl(0, 100.00%, 93.79%); opacity: 0.81\" title=\"-0.027\">tending</span><span style=\"opacity: 0.80\"> to my </span><span style=\"background-color: hsl(0, 100.00%, 93.44%); opacity: 0.82\" title=\"-0.030\">son</span><span style=\"opacity: 0.80\"> </span><span style=\"background-color: hsl(0, 100.00%, 95.94%); opacity: 0.81\" title=\"-0.015\">occasionally</span><span style=\"opacity: 0.80\"> during the </span><span style=\"background-color: hsl(120, 100.00%, 85.27%); opacity: 0.85\" title=\"0.094\">film</span><span style=\"opacity: 0.80\">, so i may have </span><span style=\"background-color: hsl(120, 100.00%, 78.82%); opacity: 0.88\" title=\"0.157\">missed</span><span style=\"opacity: 0.80\"> it, but was </span><span style=\"background-color: hsl(0, 100.00%, 76.66%); opacity: 0.89\" title=\"-0.181\">supposedly</span><span style=\"opacity: 0.80\"> in there) </span><span style=\"background-color: hsl(0, 100.00%, 93.87%); opacity: 0.81\" title=\"-0.027\">violence</span><span style=\"opacity: 0.80\">/</span><span style=\"background-color: hsl(0, 100.00%, 94.67%); opacity: 0.81\" title=\"-0.022\">gore</span><span style=\"opacity: 0.80\">: 4/</span><span style=\"background-color: hsl(120, 100.00%, 91.78%); opacity: 0.82\" title=\"0.041\">10</span><span style=\"opacity: 0.80\"> </span><span style=\"background-color: hsl(0, 100.00%, 85.37%); opacity: 0.85\" title=\"-0.093\">dialogue</span><span style=\"opacity: 0.80\">: 2/</span><span style=\"background-color: hsl(120, 100.00%, 91.78%); opacity: 0.82\" title=\"0.041\">10</span><span style=\"opacity: 0.80\"> </span><span style=\"background-color: hsl(120, 100.00%, 89.09%); opacity: 0.83\" title=\"0.061\">music</span><span style=\"opacity: 0.80\">: 1/</span><span style=\"background-color: hsl(120, 100.00%, 91.78%); opacity: 0.82\" title=\"0.041\">10</span><span style=\"opacity: 0.80\"> (</span><span style=\"background-color: hsl(0, 100.00%, 89.49%); opacity: 0.83\" title=\"-0.058\">average</span><span style=\"opacity: 0.80\"> for the </span><span style=\"background-color: hsl(120, 100.00%, 95.88%); opacity: 0.81\" title=\"0.015\">time</span><span style=\"opacity: 0.80\">) </span><span style=\"background-color: hsl(0, 100.00%, 83.25%); opacity: 0.86\" title=\"-0.113\">writing</span><span style=\"opacity: 0.80\">: 1/</span><span style=\"background-color: hsl(120, 100.00%, 91.78%); opacity: 0.82\" title=\"0.041\">10</span><span style=\"opacity: 0.80\"> </span><span style=\"background-color: hsl(0, 100.00%, 89.50%); opacity: 0.83\" title=\"-0.058\">direction</span><span style=\"opacity: 0.80\">: 2/</span><span style=\"background-color: hsl(120, 100.00%, 91.78%); opacity: 0.82\" title=\"0.041\">10</span><span style=\"opacity: 0.80\"> </span><span style=\"background-color: hsl(120, 100.00%, 92.26%); opacity: 0.82\" title=\"0.037\">cheesiness</span><span style=\"opacity: 0.80\">: 7/</span><span style=\"background-color: hsl(120, 100.00%, 91.78%); opacity: 0.82\" title=\"0.041\">10</span><span style=\"opacity: 0.80\"> </span><span style=\"background-color: hsl(0, 100.00%, 92.82%); opacity: 0.82\" title=\"-0.034\">crappiness</span><span style=\"opacity: 0.80\">: 9/</span><span style=\"background-color: hsl(120, 100.00%, 91.78%); opacity: 0.82\" title=\"0.041\">10</span><span style=\"opacity: 0.80\"> </span><span style=\"background-color: hsl(120, 100.00%, 78.82%); opacity: 0.88\" title=\"0.157\">overall</span><span style=\"opacity: 0.80\">: 1/</span><span style=\"background-color: hsl(120, 100.00%, 82.96%); opacity: 0.86\" title=\"0.115\">10</span><span style=\"opacity: 0.80\"> </span><span style=\"background-color: hsl(120, 100.00%, 86.30%); opacity: 0.84\" title=\"0.084\">watch</span><span style=\"opacity: 0.80\"> it only if you </span><span style=\"background-color: hsl(120, 100.00%, 77.02%); opacity: 0.89\" title=\"0.177\">love</span><span style=\"opacity: 0.80\"> </span><span style=\"background-color: hsl(0, 100.00%, 81.07%); opacity: 0.87\" title=\"-0.134\">rat</span><span style=\"opacity: 0.80\"> and </span><span style=\"background-color: hsl(0, 100.00%, 94.85%); opacity: 0.81\" title=\"-0.021\">vermin</span><span style=\"opacity: 0.80\">-</span><span style=\"background-color: hsl(120, 100.00%, 97.46%); opacity: 0.80\" title=\"0.008\">based</span><span style=\"opacity: 0.80\"> </span><span style=\"background-color: hsl(0, 100.00%, 89.94%); opacity: 0.83\" title=\"-0.054\">horror</span><span style=\"opacity: 0.80\"> </span><span style=\"background-color: hsl(120, 100.00%, 98.57%); opacity: 0.80\" title=\"0.003\">films</span><span style=\"opacity: 0.80\">. </span><span style=\"background-color: hsl(0, 100.00%, 92.67%); opacity: 0.82\" title=\"-0.035\">wait</span><span style=\"opacity: 0.80\">... </span><span style=\"background-color: hsl(120, 100.00%, 88.69%); opacity: 0.83\" title=\"0.064\">check</span><span style=\"opacity: 0.80\"> that. </span><span style=\"background-color: hsl(0, 100.00%, 94.53%); opacity: 0.81\" title=\"-0.023\">don</span><span style=\"opacity: 0.80\">'t </span><span style=\"background-color: hsl(0, 100.00%, 94.07%); opacity: 0.81\" title=\"-0.026\">watch</span><span style=\"opacity: 0.80\"> it. it's </span><span style=\"background-color: hsl(0, 100.00%, 71.32%); opacity: 0.92\" title=\"-0.243\">crap</span><span style=\"opacity: 0.80\">. (www.residenthazard.</span><span style=\"background-color: hsl(0, 100.00%, 95.12%); opacity: 0.81\" title=\"-0.019\">com</span><span style=\"opacity: 0.80\">)</span>\n",
              "</p>\n"
            ]
          },
          "metadata": {}
        }
      ],
      "source": [
        "for i, review in enumerate(worst5):\n",
        "    style = 'background-color:black;color:white;font-weight:bold;padding:4px'\n",
        "    display(HTML(f\"<p style={style}>Bad Movie #{i+1} 🍅</p>\"))\n",
        "    eli5_html(clf, vec, review)"
      ]
    },
    {
      "cell_type": "markdown",
      "id": "a9b746bf",
      "metadata": {
        "id": "a9b746bf"
      },
      "source": [
        "### What are the **5 best** movie review in the test set according to your model? 🏆"
      ]
    },
    {
      "cell_type": "code",
      "execution_count": 74,
      "id": "5931802f",
      "metadata": {
        "id": "5931802f"
      },
      "outputs": [],
      "source": [
        "# please fill this code block!\n",
        "# Find indices of 5 best reviews\n",
        "best_indices = np.flip(np.argsort(y_pred_proba))[:5]\n",
        "best5= x_test_raw[best_indices]"
      ]
    },
    {
      "cell_type": "code",
      "execution_count": 75,
      "id": "1250cc2a",
      "metadata": {
        "id": "1250cc2a",
        "outputId": "dd43abf4-c079-4c8e-859c-1d0ce8c9c6fe",
        "colab": {
          "base_uri": "https://localhost:8080/",
          "height": 875
        }
      },
      "outputs": [
        {
          "output_type": "display_data",
          "data": {
            "text/plain": [
              "<IPython.core.display.HTML object>"
            ],
            "text/html": [
              "<p style=background-color:black;color:white;font-weight:bold;padding:4px>Good Movie #1 🏆</p>"
            ]
          },
          "metadata": {}
        },
        {
          "output_type": "display_data",
          "data": {
            "text/plain": [
              "<IPython.core.display.HTML object>"
            ],
            "text/html": [
              "\n",
              "<style>\n",
              "    table.eli5-weights tr:hover {\n",
              "        filter: brightness(85%);\n",
              "    }\n",
              "</style>\n",
              "\n",
              "\n",
              "<p style=\"margin-bottom: 2.5em; margin-top:-0.5em;\">\n",
              "<span style=\"opacity: 0.80\">this is an </span><span style=\"background-color: hsl(120, 100.00%, 64.64%); opacity: 0.97\" title=\"1.047\">excellent</span><span style=\"opacity: 0.80\"> </span><span style=\"background-color: hsl(120, 100.00%, 92.35%); opacity: 0.82\" title=\"0.118\">stand</span><span style=\"opacity: 0.80\">-up </span><span style=\"background-color: hsl(120, 100.00%, 82.86%); opacity: 0.86\" title=\"0.372\">dvd</span><span style=\"opacity: 0.80\">! </span><span style=\"background-color: hsl(120, 100.00%, 80.64%); opacity: 0.87\" title=\"0.443\">eddie</span><span style=\"opacity: 0.80\"> </span><span style=\"background-color: hsl(120, 100.00%, 82.58%); opacity: 0.86\" title=\"0.381\">izzard</span><span style=\"opacity: 0.80\"> is the </span><span style=\"background-color: hsl(120, 100.00%, 66.55%); opacity: 0.95\" title=\"0.967\">funniest</span><span style=\"opacity: 0.80\"> </span><span style=\"background-color: hsl(0, 100.00%, 83.91%); opacity: 0.85\" title=\"-0.340\">person</span><span style=\"opacity: 0.80\"> i have </span><span style=\"background-color: hsl(0, 100.00%, 96.97%); opacity: 0.81\" title=\"-0.031\">seen</span><span style=\"opacity: 0.80\"> in </span><span style=\"background-color: hsl(120, 100.00%, 96.29%); opacity: 0.81\" title=\"0.042\">years</span><span style=\"opacity: 0.80\">. his </span><span style=\"background-color: hsl(0, 100.00%, 85.81%); opacity: 0.85\" title=\"-0.284\">routine</span><span style=\"opacity: 0.80\"> is </span><span style=\"background-color: hsl(120, 100.00%, 71.89%); opacity: 0.92\" title=\"0.754\">hilarious</span><span style=\"opacity: 0.80\"> and </span><span style=\"background-color: hsl(120, 100.00%, 70.71%); opacity: 0.93\" title=\"0.800\">makes</span><span style=\"opacity: 0.80\"> for </span><span style=\"background-color: hsl(120, 100.00%, 66.68%); opacity: 0.95\" title=\"0.962\">great</span><span style=\"opacity: 0.80\"> </span><span style=\"background-color: hsl(120, 100.00%, 93.66%); opacity: 0.81\" title=\"0.090\">conversation</span><span style=\"opacity: 0.80\"> with others who have </span><span style=\"background-color: hsl(120, 100.00%, 86.74%); opacity: 0.84\" title=\"0.258\">seen</span><span style=\"opacity: 0.80\"> it. i </span><span style=\"background-color: hsl(120, 100.00%, 60.00%); opacity: 1.00\" title=\"1.249\">highly</span><span style=\"opacity: 0.80\"> </span><span style=\"background-color: hsl(120, 100.00%, 71.41%); opacity: 0.92\" title=\"0.773\">recommend</span><span style=\"opacity: 0.80\"> this one. the part about the </span><span style=\"background-color: hsl(120, 100.00%, 88.95%); opacity: 0.83\" title=\"0.199\">history</span><span style=\"opacity: 0.80\"> of </span><span style=\"background-color: hsl(120, 100.00%, 89.54%); opacity: 0.83\" title=\"0.184\">europe</span><span style=\"opacity: 0.80\"> is a </span><span style=\"background-color: hsl(120, 100.00%, 74.50%); opacity: 0.91\" title=\"0.657\">bit</span><span style=\"opacity: 0.80\"> </span><span style=\"background-color: hsl(120, 100.00%, 92.85%); opacity: 0.82\" title=\"0.107\">slow</span><span style=\"opacity: 0.80\">, but the </span><span style=\"background-color: hsl(120, 100.00%, 94.59%); opacity: 0.81\" title=\"0.072\">ending</span><span style=\"opacity: 0.80\"> </span><span style=\"background-color: hsl(0, 100.00%, 95.29%); opacity: 0.81\" title=\"-0.059\">jokes</span><span style=\"opacity: 0.80\"> in </span><span style=\"background-color: hsl(120, 100.00%, 96.16%); opacity: 0.81\" title=\"0.044\">french</span><span style=\"opacity: 0.80\"> are </span><span style=\"background-color: hsl(120, 100.00%, 84.64%); opacity: 0.85\" title=\"0.318\">quite</span><span style=\"opacity: 0.80\"> </span><span style=\"background-color: hsl(120, 100.00%, 89.58%); opacity: 0.83\" title=\"0.183\">good</span><span style=\"opacity: 0.80\">, because you </span><span style=\"background-color: hsl(0, 100.00%, 95.11%); opacity: 0.81\" title=\"-0.062\">don</span><span style=\"opacity: 0.80\">'t have to </span><span style=\"background-color: hsl(120, 100.00%, 93.60%); opacity: 0.81\" title=\"0.091\">speak</span><span style=\"opacity: 0.80\"> </span><span style=\"background-color: hsl(120, 100.00%, 87.62%); opacity: 0.84\" title=\"0.234\">french</span><span style=\"opacity: 0.80\"> to get it (although if you do, it is still </span><span style=\"background-color: hsl(120, 100.00%, 69.33%); opacity: 0.94\" title=\"0.855\">hilarious</span><span style=\"opacity: 0.80\">). also, the </span><span style=\"background-color: hsl(120, 100.00%, 88.07%); opacity: 0.84\" title=\"0.222\">parts</span><span style=\"opacity: 0.80\"> about being a </span><span style=\"background-color: hsl(0, 100.00%, 88.55%); opacity: 0.83\" title=\"-0.209\">transvestite</span><span style=\"opacity: 0.80\"> are </span><span style=\"background-color: hsl(120, 100.00%, 84.64%); opacity: 0.85\" title=\"0.318\">quite</span><span style=\"opacity: 0.80\"> </span><span style=\"background-color: hsl(120, 100.00%, 95.12%); opacity: 0.81\" title=\"0.062\">good</span><span style=\"opacity: 0.80\">. the first </span><span style=\"background-color: hsl(0, 100.00%, 89.38%); opacity: 0.83\" title=\"-0.188\">scene</span><span style=\"opacity: 0.80\"> (about </span><span style=\"background-color: hsl(120, 100.00%, 90.55%); opacity: 0.83\" title=\"0.159\">san</span><span style=\"opacity: 0.80\"> </span><span style=\"background-color: hsl(120, 100.00%, 90.43%); opacity: 0.83\" title=\"0.162\">francisco</span><span style=\"opacity: 0.80\">) is not </span><span style=\"background-color: hsl(120, 100.00%, 70.34%); opacity: 0.93\" title=\"0.815\">great</span><span style=\"opacity: 0.80\">, but </span><span style=\"background-color: hsl(120, 100.00%, 77.20%); opacity: 0.89\" title=\"0.560\">funny</span><span style=\"opacity: 0.80\"> the first </span><span style=\"background-color: hsl(120, 100.00%, 86.49%); opacity: 0.84\" title=\"0.265\">time</span><span style=\"opacity: 0.80\">. </span><span style=\"background-color: hsl(0, 100.00%, 76.41%); opacity: 0.89\" title=\"-0.587\">skip</span><span style=\"opacity: 0.80\"> over those if you can. it's almost not </span><span style=\"background-color: hsl(120, 100.00%, 90.97%); opacity: 0.82\" title=\"0.149\">worth</span><span style=\"opacity: 0.80\"> </span><span style=\"background-color: hsl(0, 100.00%, 91.11%); opacity: 0.82\" title=\"-0.146\">watching</span><span style=\"opacity: 0.80\">. however, this </span><span style=\"background-color: hsl(120, 100.00%, 86.25%); opacity: 0.84\" title=\"0.272\">really</span><span style=\"opacity: 0.80\"> is a </span><span style=\"background-color: hsl(120, 100.00%, 88.90%); opacity: 0.83\" title=\"0.200\">funny</span><span style=\"opacity: 0.80\">, </span><span style=\"background-color: hsl(0, 100.00%, 96.40%); opacity: 0.81\" title=\"-0.040\">funny</span><span style=\"opacity: 0.80\"> </span><span style=\"background-color: hsl(120, 100.00%, 92.75%); opacity: 0.82\" title=\"0.109\">stand</span><span style=\"opacity: 0.80\">-up show that everyone should see. \"i was </span><span style=\"background-color: hsl(0, 100.00%, 92.20%); opacity: 0.82\" title=\"-0.121\">dead</span><span style=\"opacity: 0.80\"> at the </span><span style=\"background-color: hsl(120, 100.00%, 90.65%); opacity: 0.83\" title=\"0.157\">time</span><span style=\"opacity: 0.80\">!\"</span>\n",
              "</p>\n"
            ]
          },
          "metadata": {}
        },
        {
          "output_type": "display_data",
          "data": {
            "text/plain": [
              "<IPython.core.display.HTML object>"
            ],
            "text/html": [
              "<p style=background-color:black;color:white;font-weight:bold;padding:4px>Good Movie #2 🏆</p>"
            ]
          },
          "metadata": {}
        },
        {
          "output_type": "display_data",
          "data": {
            "text/plain": [
              "<IPython.core.display.HTML object>"
            ],
            "text/html": [
              "\n",
              "<style>\n",
              "    table.eli5-weights tr:hover {\n",
              "        filter: brightness(85%);\n",
              "    }\n",
              "</style>\n",
              "\n",
              "\n",
              "<p style=\"margin-bottom: 2.5em; margin-top:-0.5em;\">\n",
              "<span style=\"background-color: hsl(120, 100.00%, 93.89%); opacity: 0.81\" title=\"0.087\">domestic</span><span style=\"opacity: 0.80\"> </span><span style=\"background-color: hsl(120, 100.00%, 96.95%); opacity: 0.81\" title=\"0.032\">import</span><span style=\"opacity: 0.80\"> was a </span><span style=\"background-color: hsl(120, 100.00%, 74.84%); opacity: 0.90\" title=\"0.654\">great</span><span style=\"opacity: 0.80\"> </span><span style=\"background-color: hsl(120, 100.00%, 94.48%); opacity: 0.81\" title=\"0.075\">movie</span><span style=\"opacity: 0.80\">. i </span><span style=\"background-color: hsl(120, 100.00%, 76.96%); opacity: 0.89\" title=\"0.576\">laughed</span><span style=\"opacity: 0.80\"> the whole </span><span style=\"background-color: hsl(120, 100.00%, 87.13%); opacity: 0.84\" title=\"0.251\">time</span><span style=\"opacity: 0.80\">. it was </span><span style=\"background-color: hsl(120, 100.00%, 88.38%); opacity: 0.83\" title=\"0.217\">funny</span><span style=\"opacity: 0.80\"> on so many </span><span style=\"background-color: hsl(120, 100.00%, 90.83%); opacity: 0.82\" title=\"0.155\">levels</span><span style=\"opacity: 0.80\"> from the </span><span style=\"background-color: hsl(120, 100.00%, 86.78%); opacity: 0.84\" title=\"0.261\">crazy</span><span style=\"opacity: 0.80\"> </span><span style=\"background-color: hsl(120, 100.00%, 92.52%); opacity: 0.82\" title=\"0.116\">outfits</span><span style=\"opacity: 0.80\"> to the </span><span style=\"background-color: hsl(120, 100.00%, 70.59%); opacity: 0.93\" title=\"0.817\">hilarious</span><span style=\"opacity: 0.80\"> </span><span style=\"background-color: hsl(120, 100.00%, 85.19%); opacity: 0.85\" title=\"0.307\">situations</span><span style=\"opacity: 0.80\">. the </span><span style=\"background-color: hsl(120, 100.00%, 89.18%); opacity: 0.83\" title=\"0.196\">acting</span><span style=\"opacity: 0.80\"> was </span><span style=\"background-color: hsl(120, 100.00%, 65.38%); opacity: 0.96\" title=\"1.031\">great</span><span style=\"opacity: 0.80\">. </span><span style=\"background-color: hsl(0, 100.00%, 93.10%); opacity: 0.82\" title=\"-0.103\">alla</span><span style=\"opacity: 0.80\"> korot, </span><span style=\"background-color: hsl(0, 100.00%, 96.31%); opacity: 0.81\" title=\"-0.042\">larry</span><span style=\"opacity: 0.80\"> </span><span style=\"background-color: hsl(120, 100.00%, 95.10%); opacity: 0.81\" title=\"0.063\">dorf</span><span style=\"opacity: 0.80\">, </span><span style=\"background-color: hsl(120, 100.00%, 88.47%); opacity: 0.83\" title=\"0.214\">howard</span><span style=\"opacity: 0.80\"> </span><span style=\"background-color: hsl(120, 100.00%, 90.29%); opacity: 0.83\" title=\"0.168\">hesseman</span><span style=\"opacity: 0.80\">, and all the others </span><span style=\"background-color: hsl(0, 100.00%, 93.00%); opacity: 0.82\" title=\"-0.105\">did</span><span style=\"opacity: 0.80\"> an </span><span style=\"background-color: hsl(120, 100.00%, 74.29%); opacity: 0.91\" title=\"0.674\">awesome</span><span style=\"opacity: 0.80\"> </span><span style=\"background-color: hsl(120, 100.00%, 81.97%); opacity: 0.86\" title=\"0.406\">job</span><span style=\"opacity: 0.80\">. because it is an </span><span style=\"background-color: hsl(120, 100.00%, 80.23%); opacity: 0.87\" title=\"0.463\">independent</span><span style=\"opacity: 0.80\"> </span><span style=\"background-color: hsl(120, 100.00%, 79.51%); opacity: 0.88\" title=\"0.487\">film</span><span style=\"opacity: 0.80\"> </span><span style=\"background-color: hsl(120, 100.00%, 90.63%); opacity: 0.83\" title=\"0.160\">written</span><span style=\"opacity: 0.80\"> by a first-</span><span style=\"background-color: hsl(120, 100.00%, 92.82%); opacity: 0.82\" title=\"0.109\">time</span><span style=\"opacity: 0.80\"> </span><span style=\"background-color: hsl(0, 100.00%, 90.75%); opacity: 0.82\" title=\"-0.157\">writer</span><span style=\"opacity: 0.80\">, it doesn't have the </span><span style=\"background-color: hsl(0, 100.00%, 87.63%); opacity: 0.84\" title=\"-0.237\">clichés</span><span style=\"opacity: 0.80\"> that are </span><span style=\"background-color: hsl(120, 100.00%, 97.66%); opacity: 0.80\" title=\"0.022\">expected</span><span style=\"opacity: 0.80\"> of other </span><span style=\"background-color: hsl(120, 100.00%, 86.14%); opacity: 0.84\" title=\"0.279\">comedies</span><span style=\"opacity: 0.80\">, which was such a </span><span style=\"background-color: hsl(0, 100.00%, 94.34%); opacity: 0.81\" title=\"-0.078\">relief</span><span style=\"opacity: 0.80\">. it was a </span><span style=\"background-color: hsl(120, 100.00%, 77.24%); opacity: 0.89\" title=\"0.566\">unique</span><span style=\"opacity: 0.80\"> and </span><span style=\"background-color: hsl(0, 100.00%, 84.54%); opacity: 0.85\" title=\"-0.326\">interesting</span><span style=\"opacity: 0.80\"> and you </span><span style=\"background-color: hsl(120, 100.00%, 98.20%); opacity: 0.80\" title=\"0.015\">fall</span><span style=\"opacity: 0.80\"> in </span><span style=\"background-color: hsl(120, 100.00%, 79.09%); opacity: 0.88\" title=\"0.502\">love</span><span style=\"opacity: 0.80\"> with the </span><span style=\"background-color: hsl(0, 100.00%, 96.45%); opacity: 0.81\" title=\"-0.040\">characters</span><span style=\"opacity: 0.80\"> and the </span><span style=\"background-color: hsl(120, 100.00%, 81.21%); opacity: 0.87\" title=\"0.431\">heart</span><span style=\"opacity: 0.80\">-</span><span style=\"background-color: hsl(120, 100.00%, 99.42%); opacity: 0.80\" title=\"0.003\">warming</span><span style=\"opacity: 0.80\"> </span><span style=\"background-color: hsl(120, 100.00%, 96.05%); opacity: 0.81\" title=\"0.046\">story</span><span style=\"opacity: 0.80\">. i </span><span style=\"background-color: hsl(120, 100.00%, 89.64%); opacity: 0.83\" title=\"0.184\">heard</span><span style=\"opacity: 0.80\"> it was </span><span style=\"background-color: hsl(120, 100.00%, 80.97%); opacity: 0.87\" title=\"0.439\">based</span><span style=\"opacity: 0.80\"> on a </span><span style=\"background-color: hsl(120, 100.00%, 68.40%); opacity: 0.94\" title=\"0.905\">true</span><span style=\"opacity: 0.80\"> </span><span style=\"background-color: hsl(120, 100.00%, 86.45%); opacity: 0.84\" title=\"0.270\">story</span><span style=\"opacity: 0.80\">? if so, then that is </span><span style=\"background-color: hsl(120, 100.00%, 71.13%); opacity: 0.93\" title=\"0.796\">hilarious</span><span style=\"opacity: 0.80\"> (and </span><span style=\"background-color: hsl(120, 100.00%, 64.76%); opacity: 0.97\" title=\"1.058\">amazing</span><span style=\"opacity: 0.80\">!). i </span><span style=\"background-color: hsl(120, 100.00%, 60.00%); opacity: 1.00\" title=\"1.268\">highly</span><span style=\"opacity: 0.80\"> </span><span style=\"background-color: hsl(120, 100.00%, 61.46%); opacity: 0.99\" title=\"1.202\">recommend</span><span style=\"opacity: 0.80\"> this </span><span style=\"background-color: hsl(120, 100.00%, 85.75%); opacity: 0.85\" title=\"0.290\">movie</span><span style=\"opacity: 0.80\">.</span>\n",
              "</p>\n"
            ]
          },
          "metadata": {}
        },
        {
          "output_type": "display_data",
          "data": {
            "text/plain": [
              "<IPython.core.display.HTML object>"
            ],
            "text/html": [
              "<p style=background-color:black;color:white;font-weight:bold;padding:4px>Good Movie #3 🏆</p>"
            ]
          },
          "metadata": {}
        },
        {
          "output_type": "display_data",
          "data": {
            "text/plain": [
              "<IPython.core.display.HTML object>"
            ],
            "text/html": [
              "\n",
              "<style>\n",
              "    table.eli5-weights tr:hover {\n",
              "        filter: brightness(85%);\n",
              "    }\n",
              "</style>\n",
              "\n",
              "\n",
              "<p style=\"margin-bottom: 2.5em; margin-top:-0.5em;\">\n",
              "<span style=\"opacity: 0.80\">what a </span><span style=\"background-color: hsl(120, 100.00%, 67.46%); opacity: 0.95\" title=\"0.494\">stunning</span><span style=\"opacity: 0.80\"> </span><span style=\"background-color: hsl(120, 100.00%, 78.74%); opacity: 0.88\" title=\"0.269\">episode</span><span style=\"opacity: 0.80\"> for this </span><span style=\"background-color: hsl(120, 100.00%, 85.23%); opacity: 0.85\" title=\"0.160\">fine</span><span style=\"opacity: 0.80\"> </span><span style=\"background-color: hsl(120, 100.00%, 86.94%); opacity: 0.84\" title=\"0.134\">series</span><span style=\"opacity: 0.80\">. this is </span><span style=\"background-color: hsl(0, 100.00%, 99.21%); opacity: 0.80\" title=\"-0.002\">television</span><span style=\"opacity: 0.80\"> </span><span style=\"background-color: hsl(120, 100.00%, 83.30%); opacity: 0.86\" title=\"0.191\">excellence</span><span style=\"opacity: 0.80\"> at its </span><span style=\"background-color: hsl(120, 100.00%, 73.81%); opacity: 0.91\" title=\"0.362\">best</span><span style=\"opacity: 0.80\">. the </span><span style=\"background-color: hsl(0, 100.00%, 97.64%); opacity: 0.80\" title=\"-0.012\">story</span><span style=\"opacity: 0.80\"> </span><span style=\"background-color: hsl(120, 100.00%, 82.45%); opacity: 0.86\" title=\"0.205\">takes</span><span style=\"opacity: 0.80\"> </span><span style=\"background-color: hsl(120, 100.00%, 97.57%); opacity: 0.80\" title=\"0.012\">place</span><span style=\"opacity: 0.80\"> in </span><span style=\"background-color: hsl(120, 100.00%, 86.18%); opacity: 0.84\" title=\"0.145\">1968</span><span style=\"opacity: 0.80\"> and it's </span><span style=\"background-color: hsl(120, 100.00%, 67.15%); opacity: 0.95\" title=\"0.501\">beautifully</span><span style=\"opacity: 0.80\"> </span><span style=\"background-color: hsl(0, 100.00%, 79.61%); opacity: 0.88\" title=\"-0.254\">filmed</span><span style=\"opacity: 0.80\"> in </span><span style=\"background-color: hsl(120, 100.00%, 89.27%); opacity: 0.83\" title=\"0.101\">black</span><span style=\"opacity: 0.80\"> &amp; </span><span style=\"background-color: hsl(120, 100.00%, 85.62%); opacity: 0.85\" title=\"0.154\">white</span><span style=\"opacity: 0.80\">, almost a </span><span style=\"background-color: hsl(120, 100.00%, 96.12%); opacity: 0.81\" title=\"0.024\">film</span><span style=\"opacity: 0.80\"> </span><span style=\"background-color: hsl(120, 100.00%, 74.48%); opacity: 0.91\" title=\"0.349\">noir</span><span style=\"opacity: 0.80\"> </span><span style=\"background-color: hsl(0, 100.00%, 93.83%); opacity: 0.81\" title=\"-0.046\">style</span><span style=\"opacity: 0.80\"> with its </span><span style=\"background-color: hsl(120, 100.00%, 90.99%); opacity: 0.82\" title=\"0.079\">deep</span><span style=\"opacity: 0.80\"> </span><span style=\"background-color: hsl(0, 100.00%, 83.06%); opacity: 0.86\" title=\"-0.195\">shadows</span><span style=\"opacity: 0.80\"> and </span><span style=\"background-color: hsl(120, 100.00%, 86.18%); opacity: 0.84\" title=\"0.145\">stark</span><span style=\"opacity: 0.80\"> </span><span style=\"background-color: hsl(120, 100.00%, 75.73%); opacity: 0.90\" title=\"0.325\">images</span><span style=\"opacity: 0.80\">. this is a </span><span style=\"background-color: hsl(120, 100.00%, 91.00%); opacity: 0.82\" title=\"0.079\">story</span><span style=\"opacity: 0.80\"> about two </span><span style=\"background-color: hsl(120, 100.00%, 94.03%); opacity: 0.81\" title=\"0.044\">men</span><span style=\"opacity: 0.80\"> who </span><span style=\"background-color: hsl(0, 100.00%, 93.56%); opacity: 0.81\" title=\"-0.049\">fall</span><span style=\"opacity: 0.80\"> in </span><span style=\"background-color: hsl(120, 100.00%, 76.60%); opacity: 0.89\" title=\"0.309\">love</span><span style=\"opacity: 0.80\">, but i </span><span style=\"background-color: hsl(0, 100.00%, 93.01%); opacity: 0.82\" title=\"-0.055\">don</span><span style=\"opacity: 0.80\">'t </span><span style=\"background-color: hsl(120, 100.00%, 92.20%); opacity: 0.82\" title=\"0.064\">want</span><span style=\"opacity: 0.80\"> to </span><span style=\"background-color: hsl(120, 100.00%, 82.37%); opacity: 0.86\" title=\"0.206\">spoil</span><span style=\"opacity: 0.80\"> this. it is a </span><span style=\"background-color: hsl(120, 100.00%, 67.11%); opacity: 0.95\" title=\"0.502\">rare</span><span style=\"opacity: 0.80\"> </span><span style=\"background-color: hsl(0, 100.00%, 96.87%); opacity: 0.81\" title=\"-0.017\">presentation</span><span style=\"opacity: 0.80\"> of what </span><span style=\"background-color: hsl(0, 100.00%, 92.62%); opacity: 0.82\" title=\"-0.059\">homosexuals</span><span style=\"opacity: 0.80\"> </span><span style=\"background-color: hsl(120, 100.00%, 86.32%); opacity: 0.84\" title=\"0.143\">faced</span><span style=\"opacity: 0.80\"> in the </span><span style=\"background-color: hsl(0, 100.00%, 82.04%); opacity: 0.86\" title=\"-0.211\">1960s</span><span style=\"opacity: 0.80\"> in </span><span style=\"background-color: hsl(0, 100.00%, 91.32%); opacity: 0.82\" title=\"-0.075\">america</span><span style=\"opacity: 0.80\">. </span><span style=\"background-color: hsl(120, 100.00%, 97.29%); opacity: 0.80\" title=\"0.014\">written</span><span style=\"opacity: 0.80\"> by the </span><span style=\"background-color: hsl(120, 100.00%, 60.00%); opacity: 1.00\" title=\"0.664\">superb</span><span style=\"opacity: 0.80\"> </span><span style=\"background-color: hsl(120, 100.00%, 92.46%); opacity: 0.82\" title=\"0.061\">tom</span><span style=\"opacity: 0.80\"> pettit, and </span><span style=\"background-color: hsl(120, 100.00%, 89.30%); opacity: 0.83\" title=\"0.101\">directed</span><span style=\"opacity: 0.80\"> by the </span><span style=\"background-color: hsl(120, 100.00%, 60.94%); opacity: 0.99\" title=\"0.642\">great</span><span style=\"opacity: 0.80\"> jeannot szwarc, we move through their </span><span style=\"background-color: hsl(120, 100.00%, 86.10%); opacity: 0.84\" title=\"0.147\">lives</span><span style=\"opacity: 0.80\">, their </span><span style=\"background-color: hsl(120, 100.00%, 78.46%); opacity: 0.88\" title=\"0.274\">love</span><span style=\"opacity: 0.80\"> for each other, and their </span><span style=\"background-color: hsl(120, 100.00%, 81.17%); opacity: 0.87\" title=\"0.226\">tragedy</span><span style=\"opacity: 0.80\">. </span><span style=\"background-color: hsl(120, 100.00%, 81.30%); opacity: 0.87\" title=\"0.224\">taking</span><span style=\"opacity: 0.80\"> on such a </span><span style=\"background-color: hsl(120, 100.00%, 71.54%); opacity: 0.92\" title=\"0.408\">sensitive</span><span style=\"opacity: 0.80\"> </span><span style=\"background-color: hsl(120, 100.00%, 98.25%); opacity: 0.80\" title=\"0.008\">issue</span><span style=\"opacity: 0.80\"> </span><span style=\"background-color: hsl(120, 100.00%, 73.65%); opacity: 0.91\" title=\"0.366\">makes</span><span style=\"opacity: 0.80\"> this </span><span style=\"background-color: hsl(120, 100.00%, 78.74%); opacity: 0.88\" title=\"0.269\">episode</span><span style=\"opacity: 0.80\"> all the more </span><span style=\"background-color: hsl(120, 100.00%, 67.46%); opacity: 0.95\" title=\"0.494\">stunning</span><span style=\"opacity: 0.80\">. our </span><span style=\"background-color: hsl(120, 100.00%, 69.07%); opacity: 0.94\" title=\"0.460\">emotions</span><span style=\"opacity: 0.80\"> are as </span><span style=\"background-color: hsl(120, 100.00%, 77.56%); opacity: 0.89\" title=\"0.291\">torn</span><span style=\"opacity: 0.80\"> and on </span><span style=\"background-color: hsl(120, 100.00%, 84.04%); opacity: 0.85\" title=\"0.179\">edge</span><span style=\"opacity: 0.80\"> as the </span><span style=\"background-color: hsl(0, 100.00%, 86.11%); opacity: 0.84\" title=\"-0.146\">characters</span><span style=\"opacity: 0.80\">. </span><span style=\"background-color: hsl(120, 100.00%, 79.05%); opacity: 0.88\" title=\"0.263\">chills</span><span style=\"opacity: 0.80\"> </span><span style=\"background-color: hsl(120, 100.00%, 88.31%); opacity: 0.83\" title=\"0.114\">ran</span><span style=\"opacity: 0.80\"> up my </span><span style=\"background-color: hsl(120, 100.00%, 76.78%); opacity: 0.89\" title=\"0.305\">spine</span><span style=\"opacity: 0.80\"> at the </span><span style=\"background-color: hsl(120, 100.00%, 97.45%); opacity: 0.80\" title=\"0.013\">end</span><span style=\"opacity: 0.80\"> when they </span><span style=\"background-color: hsl(120, 100.00%, 86.30%); opacity: 0.84\" title=\"0.144\">played</span><span style=\"opacity: 0.80\"> </span><span style=\"background-color: hsl(0, 100.00%, 83.51%); opacity: 0.86\" title=\"-0.187\">bob</span><span style=\"opacity: 0.80\"> </span><span style=\"background-color: hsl(120, 100.00%, 90.64%); opacity: 0.83\" title=\"0.083\">dylan</span><span style=\"opacity: 0.80\">'s </span><span style=\"background-color: hsl(120, 100.00%, 67.40%); opacity: 0.95\" title=\"0.496\">gorgeous</span><span style=\"opacity: 0.80\">, \"</span><span style=\"background-color: hsl(120, 100.00%, 94.37%); opacity: 0.81\" title=\"0.040\">ah</span><span style=\"opacity: 0.80\">, but i was so much </span><span style=\"background-color: hsl(120, 100.00%, 83.24%); opacity: 0.86\" title=\"0.191\">older</span><span style=\"opacity: 0.80\"> then, i'm </span><span style=\"background-color: hsl(0, 100.00%, 89.29%); opacity: 0.83\" title=\"-0.101\">younger</span><span style=\"opacity: 0.80\"> than that now,\" as </span><span style=\"background-color: hsl(120, 100.00%, 82.99%); opacity: 0.86\" title=\"0.196\">sung</span><span style=\"opacity: 0.80\"> by the byrds. this one </span><span style=\"background-color: hsl(0, 100.00%, 96.14%); opacity: 0.81\" title=\"-0.024\">goes</span><span style=\"opacity: 0.80\"> </span><span style=\"background-color: hsl(0, 100.00%, 82.48%); opacity: 0.86\" title=\"-0.204\">far</span><span style=\"opacity: 0.80\"> </span><span style=\"background-color: hsl(120, 100.00%, 89.65%); opacity: 0.83\" title=\"0.096\">past</span><span style=\"opacity: 0.80\"> a </span><span style=\"background-color: hsl(0, 100.00%, 96.27%); opacity: 0.81\" title=\"-0.022\">10</span><span style=\"opacity: 0.80\"> and all the </span><span style=\"background-color: hsl(0, 100.00%, 90.78%); opacity: 0.82\" title=\"-0.082\">way</span><span style=\"opacity: 0.80\"> to the </span><span style=\"background-color: hsl(120, 100.00%, 90.06%); opacity: 0.83\" title=\"0.091\">stars</span><span style=\"opacity: 0.80\">. </span><span style=\"background-color: hsl(120, 100.00%, 80.07%); opacity: 0.87\" title=\"0.245\">beautiful</span><span style=\"opacity: 0.80\">.</span>\n",
              "</p>\n"
            ]
          },
          "metadata": {}
        },
        {
          "output_type": "display_data",
          "data": {
            "text/plain": [
              "<IPython.core.display.HTML object>"
            ],
            "text/html": [
              "<p style=background-color:black;color:white;font-weight:bold;padding:4px>Good Movie #4 🏆</p>"
            ]
          },
          "metadata": {}
        },
        {
          "output_type": "display_data",
          "data": {
            "text/plain": [
              "<IPython.core.display.HTML object>"
            ],
            "text/html": [
              "\n",
              "<style>\n",
              "    table.eli5-weights tr:hover {\n",
              "        filter: brightness(85%);\n",
              "    }\n",
              "</style>\n",
              "\n",
              "\n",
              "<p style=\"margin-bottom: 2.5em; margin-top:-0.5em;\">\n",
              "<span style=\"background-color: hsl(0, 100.00%, 83.30%); opacity: 0.86\" title=\"-0.274\">far</span><span style=\"opacity: 0.80\"> by my most </span><span style=\"background-color: hsl(120, 100.00%, 84.65%); opacity: 0.85\" title=\"0.244\">second</span><span style=\"opacity: 0.80\"> </span><span style=\"background-color: hsl(120, 100.00%, 64.28%); opacity: 0.97\" title=\"0.813\">favourite</span><span style=\"opacity: 0.80\"> </span><span style=\"background-color: hsl(120, 100.00%, 89.84%); opacity: 0.83\" title=\"0.135\">cartoon</span><span style=\"opacity: 0.80\"> </span><span style=\"background-color: hsl(120, 100.00%, 99.03%); opacity: 0.80\" title=\"0.005\">spielberg</span><span style=\"opacity: 0.80\"> </span><span style=\"background-color: hsl(0, 100.00%, 91.56%); opacity: 0.82\" title=\"-0.103\">did</span><span style=\"opacity: 0.80\">, after animaniacs. even if the </span><span style=\"background-color: hsl(0, 100.00%, 85.11%); opacity: 0.85\" title=\"-0.233\">ratings</span><span style=\"opacity: 0.80\"> were </span><span style=\"background-color: hsl(0, 100.00%, 87.73%); opacity: 0.84\" title=\"-0.177\">low</span><span style=\"opacity: 0.80\">, so what, i still </span><span style=\"background-color: hsl(120, 100.00%, 72.90%); opacity: 0.91\" title=\"0.548\">enjoyed</span><span style=\"opacity: 0.80\"> it and </span><span style=\"background-color: hsl(120, 100.00%, 68.21%); opacity: 0.94\" title=\"0.689\">loved</span><span style=\"opacity: 0.80\"> it, was so </span><span style=\"background-color: hsl(120, 100.00%, 90.66%); opacity: 0.83\" title=\"0.120\">funny</span><span style=\"opacity: 0.80\"> and i </span><span style=\"background-color: hsl(120, 100.00%, 83.27%); opacity: 0.86\" title=\"0.275\">adored</span><span style=\"opacity: 0.80\"> the </span><span style=\"background-color: hsl(0, 100.00%, 91.46%); opacity: 0.82\" title=\"-0.105\">cast</span><span style=\"opacity: 0.80\">, </span><span style=\"background-color: hsl(0, 100.00%, 92.23%); opacity: 0.82\" title=\"-0.092\">wow</span><span style=\"opacity: 0.80\"> </span><span style=\"background-color: hsl(120, 100.00%, 97.97%); opacity: 0.80\" title=\"0.014\">jess</span><span style=\"opacity: 0.80\"> harnell and tress macneille were in there and were </span><span style=\"background-color: hsl(0, 100.00%, 94.15%); opacity: 0.81\" title=\"-0.061\">just</span><span style=\"opacity: 0.80\"> </span><span style=\"background-color: hsl(120, 100.00%, 64.45%); opacity: 0.97\" title=\"0.808\">fantastic</span><span style=\"opacity: 0.80\">, the whole </span><span style=\"background-color: hsl(120, 100.00%, 96.84%); opacity: 0.81\" title=\"0.025\">cast</span><span style=\"opacity: 0.80\"> were </span><span style=\"background-color: hsl(120, 100.00%, 60.00%); opacity: 1.00\" title=\"0.956\">brilliant</span><span style=\"opacity: 0.80\">, </span><span style=\"background-color: hsl(120, 100.00%, 77.05%); opacity: 0.89\" title=\"0.432\">especially</span><span style=\"opacity: 0.80\"> the </span><span style=\"background-color: hsl(120, 100.00%, 85.42%); opacity: 0.85\" title=\"0.226\">legendary</span><span style=\"opacity: 0.80\"> </span><span style=\"background-color: hsl(120, 100.00%, 86.05%); opacity: 0.84\" title=\"0.212\">frank</span><span style=\"opacity: 0.80\"> welker. i'd </span><span style=\"background-color: hsl(120, 100.00%, 82.40%); opacity: 0.86\" title=\"0.296\">love</span><span style=\"opacity: 0.80\"> to see this </span><span style=\"background-color: hsl(120, 100.00%, 89.84%); opacity: 0.83\" title=\"0.135\">cartoon</span><span style=\"opacity: 0.80\"> again, was so </span><span style=\"background-color: hsl(120, 100.00%, 69.70%); opacity: 0.93\" title=\"0.643\">awesome</span><span style=\"opacity: 0.80\"> and the </span><span style=\"background-color: hsl(0, 100.00%, 94.17%); opacity: 0.81\" title=\"-0.061\">jokes</span><span style=\"opacity: 0.80\"> were </span><span style=\"background-color: hsl(120, 100.00%, 61.79%); opacity: 0.99\" title=\"0.896\">brilliant</span><span style=\"opacity: 0.80\">. also i can </span><span style=\"background-color: hsl(120, 100.00%, 88.00%); opacity: 0.84\" title=\"0.171\">remember</span><span style=\"opacity: 0.80\"> the </span><span style=\"background-color: hsl(120, 100.00%, 63.39%); opacity: 0.98\" title=\"0.843\">hilarious</span><span style=\"opacity: 0.80\"> </span><span style=\"background-color: hsl(0, 100.00%, 95.65%); opacity: 0.81\" title=\"-0.040\">moment</span><span style=\"opacity: 0.80\"> where </span><span style=\"background-color: hsl(0, 100.00%, 85.67%); opacity: 0.85\" title=\"-0.221\">brain</span><span style=\"opacity: 0.80\"> </span><span style=\"background-color: hsl(120, 100.00%, 86.20%); opacity: 0.84\" title=\"0.209\">cameos</span><span style=\"opacity: 0.80\"> in it, you </span><span style=\"background-color: hsl(120, 100.00%, 89.16%); opacity: 0.83\" title=\"0.148\">hear</span><span style=\"opacity: 0.80\"> his </span><span style=\"background-color: hsl(120, 100.00%, 91.57%); opacity: 0.82\" title=\"0.103\">voice</span><span style=\"opacity: 0.80\"> and it </span><span style=\"background-color: hsl(120, 100.00%, 88.15%); opacity: 0.84\" title=\"0.168\">played</span><span style=\"opacity: 0.80\"> the patb </span><span style=\"background-color: hsl(0, 100.00%, 99.05%); opacity: 0.80\" title=\"-0.005\">theme</span><span style=\"opacity: 0.80\"> </span><span style=\"background-color: hsl(120, 100.00%, 87.05%); opacity: 0.84\" title=\"0.191\">instrumental</span><span style=\"opacity: 0.80\">, that was </span><span style=\"background-color: hsl(0, 100.00%, 94.15%); opacity: 0.81\" title=\"-0.061\">just</span><span style=\"opacity: 0.80\"> </span><span style=\"background-color: hsl(120, 100.00%, 66.74%); opacity: 0.95\" title=\"0.735\">fantastic</span><span style=\"opacity: 0.80\">, i </span><span style=\"background-color: hsl(120, 100.00%, 82.40%); opacity: 0.86\" title=\"0.296\">love</span><span style=\"opacity: 0.80\"> it in those </span><span style=\"background-color: hsl(120, 100.00%, 77.99%); opacity: 0.89\" title=\"0.407\">cartoons</span><span style=\"opacity: 0.80\"> when </span><span style=\"background-color: hsl(120, 100.00%, 86.20%); opacity: 0.84\" title=\"0.209\">cameos</span><span style=\"opacity: 0.80\"> </span><span style=\"background-color: hsl(120, 100.00%, 94.76%); opacity: 0.81\" title=\"0.052\">pop</span><span style=\"opacity: 0.80\"> in. i </span><span style=\"background-color: hsl(120, 100.00%, 88.19%); opacity: 0.83\" title=\"0.167\">wish</span><span style=\"opacity: 0.80\"> this </span><span style=\"background-color: hsl(120, 100.00%, 89.84%); opacity: 0.83\" title=\"0.135\">cartoon</span><span style=\"opacity: 0.80\"> and animaniacs </span><span style=\"background-color: hsl(120, 100.00%, 95.30%); opacity: 0.81\" title=\"0.045\">came</span><span style=\"opacity: 0.80\"> back, i </span><span style=\"background-color: hsl(120, 100.00%, 68.21%); opacity: 0.94\" title=\"0.689\">loved</span><span style=\"opacity: 0.80\"> them</span>\n",
              "</p>\n"
            ]
          },
          "metadata": {}
        },
        {
          "output_type": "display_data",
          "data": {
            "text/plain": [
              "<IPython.core.display.HTML object>"
            ],
            "text/html": [
              "<p style=background-color:black;color:white;font-weight:bold;padding:4px>Good Movie #5 🏆</p>"
            ]
          },
          "metadata": {}
        },
        {
          "output_type": "display_data",
          "data": {
            "text/plain": [
              "<IPython.core.display.HTML object>"
            ],
            "text/html": [
              "\n",
              "<style>\n",
              "    table.eli5-weights tr:hover {\n",
              "        filter: brightness(85%);\n",
              "    }\n",
              "</style>\n",
              "\n",
              "\n",
              "<p style=\"margin-bottom: 2.5em; margin-top:-0.5em;\">\n",
              "<span style=\"opacity: 0.80\">we all </span><span style=\"background-color: hsl(0, 100.00%, 96.34%); opacity: 0.81\" title=\"-0.017\">want</span><span style=\"opacity: 0.80\"> to </span><span style=\"background-color: hsl(120, 100.00%, 95.58%); opacity: 0.81\" title=\"0.022\">fall</span><span style=\"opacity: 0.80\"> in </span><span style=\"background-color: hsl(120, 100.00%, 83.00%); opacity: 0.86\" title=\"0.151\">love</span><span style=\"opacity: 0.80\">... the </span><span style=\"background-color: hsl(120, 100.00%, 89.51%); opacity: 0.83\" title=\"0.076\">experience</span><span style=\"opacity: 0.80\"> </span><span style=\"background-color: hsl(120, 100.00%, 71.68%); opacity: 0.92\" title=\"0.313\">makes</span><span style=\"opacity: 0.80\"> us </span><span style=\"background-color: hsl(120, 100.00%, 82.51%); opacity: 0.86\" title=\"0.157\">feel</span><span style=\"opacity: 0.80\"> </span><span style=\"background-color: hsl(0, 100.00%, 87.27%); opacity: 0.84\" title=\"-0.100\">completely</span><span style=\"opacity: 0.80\"> </span><span style=\"background-color: hsl(120, 100.00%, 89.15%); opacity: 0.83\" title=\"0.080\">alive</span><span style=\"opacity: 0.80\">, where every </span><span style=\"background-color: hsl(120, 100.00%, 93.21%); opacity: 0.82\" title=\"0.041\">sense</span><span style=\"opacity: 0.80\"> is </span><span style=\"background-color: hsl(120, 100.00%, 91.75%); opacity: 0.82\" title=\"0.054\">heightened</span><span style=\"opacity: 0.80\">, every </span><span style=\"background-color: hsl(0, 100.00%, 99.54%); opacity: 0.80\" title=\"-0.001\">emotion</span><span style=\"opacity: 0.80\"> is </span><span style=\"background-color: hsl(120, 100.00%, 95.00%); opacity: 0.81\" title=\"0.026\">magnified</span><span style=\"opacity: 0.80\">... it may only last a </span><span style=\"background-color: hsl(0, 100.00%, 92.64%); opacity: 0.82\" title=\"-0.046\">moment</span><span style=\"opacity: 0.80\">, an </span><span style=\"background-color: hsl(0, 100.00%, 83.51%); opacity: 0.86\" title=\"-0.145\">hour</span><span style=\"opacity: 0.80\">, an </span><span style=\"background-color: hsl(120, 100.00%, 86.28%); opacity: 0.84\" title=\"0.111\">afternoon</span><span style=\"opacity: 0.80\">, but that doesn't </span><span style=\"background-color: hsl(0, 100.00%, 93.37%); opacity: 0.82\" title=\"-0.039\">reduce</span><span style=\"opacity: 0.80\"> its </span><span style=\"background-color: hsl(0, 100.00%, 79.80%); opacity: 0.88\" title=\"-0.193\">value</span><span style=\"opacity: 0.80\">, because we are </span><span style=\"background-color: hsl(0, 100.00%, 82.26%); opacity: 0.86\" title=\"-0.161\">left</span><span style=\"opacity: 0.80\"> with </span><span style=\"background-color: hsl(120, 100.00%, 90.20%); opacity: 0.83\" title=\"0.069\">memories</span><span style=\"opacity: 0.80\"> that we </span><span style=\"background-color: hsl(120, 100.00%, 94.16%); opacity: 0.81\" title=\"0.033\">treasure</span><span style=\"opacity: 0.80\"> for the </span><span style=\"background-color: hsl(0, 100.00%, 95.86%); opacity: 0.81\" title=\"-0.020\">rest</span><span style=\"opacity: 0.80\"> of our </span><span style=\"background-color: hsl(120, 100.00%, 84.98%); opacity: 0.85\" title=\"0.127\">lives</span><span style=\"opacity: 0.80\">... i </span><span style=\"background-color: hsl(120, 100.00%, 76.40%); opacity: 0.89\" title=\"0.241\">love</span><span style=\"opacity: 0.80\"> </span><span style=\"background-color: hsl(0, 100.00%, 97.55%); opacity: 0.80\" title=\"-0.009\">watching</span><span style=\"opacity: 0.80\"> </span><span style=\"background-color: hsl(0, 100.00%, 89.46%); opacity: 0.83\" title=\"-0.076\">people</span><span style=\"opacity: 0.80\"> </span><span style=\"background-color: hsl(0, 100.00%, 92.03%); opacity: 0.82\" title=\"-0.051\">fall</span><span style=\"opacity: 0.80\"> in </span><span style=\"background-color: hsl(120, 100.00%, 83.00%); opacity: 0.86\" title=\"0.151\">love</span><span style=\"opacity: 0.80\">... it must have something to do with the </span><span style=\"background-color: hsl(120, 100.00%, 60.23%); opacity: 1.00\" title=\"0.509\">excellent</span><span style=\"opacity: 0.80\"> </span><span style=\"background-color: hsl(120, 100.00%, 95.84%); opacity: 0.81\" title=\"0.020\">chemistry</span><span style=\"opacity: 0.80\"> between the </span><span style=\"background-color: hsl(0, 100.00%, 97.38%); opacity: 0.80\" title=\"-0.010\">main</span><span style=\"opacity: 0.80\"> </span><span style=\"background-color: hsl(0, 100.00%, 88.16%); opacity: 0.84\" title=\"-0.090\">characters</span><span style=\"opacity: 0.80\">... </span><span style=\"background-color: hsl(120, 100.00%, 86.18%); opacity: 0.84\" title=\"0.112\">mark</span><span style=\"opacity: 0.80\"> </span><span style=\"background-color: hsl(120, 100.00%, 83.81%); opacity: 0.85\" title=\"0.141\">elliott</span><span style=\"opacity: 0.80\">, a </span><span style=\"background-color: hsl(120, 100.00%, 83.35%); opacity: 0.86\" title=\"0.147\">charming</span><span style=\"opacity: 0.80\"> </span><span style=\"background-color: hsl(120, 100.00%, 77.89%); opacity: 0.89\" title=\"0.220\">sensitive</span><span style=\"opacity: 0.80\"> </span><span style=\"background-color: hsl(120, 100.00%, 97.11%); opacity: 0.80\" title=\"0.012\">american</span><span style=\"opacity: 0.80\"> </span><span style=\"background-color: hsl(120, 100.00%, 91.33%); opacity: 0.82\" title=\"0.058\">war</span><span style=\"opacity: 0.80\"> </span><span style=\"background-color: hsl(0, 100.00%, 91.45%); opacity: 0.82\" title=\"-0.057\">correspondent</span><span style=\"opacity: 0.80\">, </span><span style=\"background-color: hsl(120, 100.00%, 93.13%); opacity: 0.82\" title=\"0.041\">arrives</span><span style=\"opacity: 0.80\"> in </span><span style=\"background-color: hsl(120, 100.00%, 79.88%); opacity: 0.87\" title=\"0.192\">hong</span><span style=\"opacity: 0.80\"> </span><span style=\"background-color: hsl(120, 100.00%, 87.25%); opacity: 0.84\" title=\"0.100\">kong</span><span style=\"opacity: 0.80\"> at the </span><span style=\"background-color: hsl(120, 100.00%, 86.92%); opacity: 0.84\" title=\"0.104\">dawn</span><span style=\"opacity: 0.80\"> of the </span><span style=\"background-color: hsl(120, 100.00%, 87.30%); opacity: 0.84\" title=\"0.100\">korean</span><span style=\"opacity: 0.80\"> </span><span style=\"background-color: hsl(120, 100.00%, 89.68%); opacity: 0.83\" title=\"0.074\">war</span><span style=\"opacity: 0.80\">... he </span><span style=\"background-color: hsl(120, 100.00%, 91.21%); opacity: 0.82\" title=\"0.059\">finds</span><span style=\"opacity: 0.80\"> in </span><span style=\"background-color: hsl(120, 100.00%, 93.10%); opacity: 0.82\" title=\"0.042\">han</span><span style=\"opacity: 0.80\"> </span><span style=\"background-color: hsl(120, 100.00%, 93.83%); opacity: 0.81\" title=\"0.035\">suyin</span><span style=\"opacity: 0.80\"> an </span><span style=\"background-color: hsl(120, 100.00%, 72.81%); opacity: 0.92\" title=\"0.295\">awesome</span><span style=\"opacity: 0.80\"> </span><span style=\"background-color: hsl(120, 100.00%, 71.21%); opacity: 0.93\" title=\"0.321\">beauty</span><span style=\"opacity: 0.80\"> of </span><span style=\"background-color: hsl(120, 100.00%, 84.19%); opacity: 0.85\" title=\"0.136\">true</span><span style=\"opacity: 0.80\"> </span><span style=\"background-color: hsl(120, 100.00%, 90.19%); opacity: 0.83\" title=\"0.069\">grace</span><span style=\"opacity: 0.80\">... </span><span style=\"background-color: hsl(120, 100.00%, 93.10%); opacity: 0.82\" title=\"0.042\">han</span><span style=\"opacity: 0.80\"> </span><span style=\"background-color: hsl(120, 100.00%, 93.83%); opacity: 0.81\" title=\"0.035\">suyin</span><span style=\"opacity: 0.80\">, a </span><span style=\"background-color: hsl(120, 100.00%, 79.14%); opacity: 0.88\" title=\"0.202\">lovely</span><span style=\"opacity: 0.80\"> </span><span style=\"background-color: hsl(120, 100.00%, 92.22%); opacity: 0.82\" title=\"0.049\">eurasian</span><span style=\"opacity: 0.80\"> </span><span style=\"background-color: hsl(120, 100.00%, 84.59%); opacity: 0.85\" title=\"0.131\">doctor</span><span style=\"opacity: 0.80\"> is </span><span style=\"background-color: hsl(120, 100.00%, 88.44%); opacity: 0.83\" title=\"0.087\">captivated</span><span style=\"opacity: 0.80\"> by </span><span style=\"background-color: hsl(120, 100.00%, 87.16%); opacity: 0.84\" title=\"0.101\">mark</span><span style=\"opacity: 0.80\">'s </span><span style=\"background-color: hsl(120, 100.00%, 83.15%); opacity: 0.86\" title=\"0.149\">tenderness</span><span style=\"opacity: 0.80\"> and </span><span style=\"background-color: hsl(0, 100.00%, 89.36%); opacity: 0.83\" title=\"-0.077\">insight</span><span style=\"opacity: 0.80\">... it was </span><span style=\"background-color: hsl(0, 100.00%, 85.72%); opacity: 0.85\" title=\"-0.118\">instant</span><span style=\"opacity: 0.80\"> </span><span style=\"background-color: hsl(120, 100.00%, 97.68%); opacity: 0.80\" title=\"0.009\">attraction</span><span style=\"opacity: 0.80\"> when they first </span><span style=\"background-color: hsl(120, 100.00%, 91.95%); opacity: 0.82\" title=\"0.052\">met</span><span style=\"opacity: 0.80\">... the two </span><span style=\"background-color: hsl(120, 100.00%, 93.19%); opacity: 0.82\" title=\"0.041\">commence</span><span style=\"opacity: 0.80\"> a </span><span style=\"background-color: hsl(120, 100.00%, 93.28%); opacity: 0.82\" title=\"0.040\">passionate</span><span style=\"opacity: 0.80\"> </span><span style=\"background-color: hsl(0, 100.00%, 83.40%); opacity: 0.86\" title=\"-0.146\">affair</span><span style=\"opacity: 0.80\">, </span><span style=\"background-color: hsl(0, 100.00%, 91.45%); opacity: 0.82\" title=\"-0.057\">leading</span><span style=\"opacity: 0.80\"> them to </span><span style=\"background-color: hsl(0, 100.00%, 95.41%); opacity: 0.81\" title=\"-0.023\">fall</span><span style=\"opacity: 0.80\"> </span><span style=\"background-color: hsl(120, 100.00%, 86.93%); opacity: 0.84\" title=\"0.104\">deeply</span><span style=\"opacity: 0.80\"> in </span><span style=\"background-color: hsl(120, 100.00%, 81.69%); opacity: 0.87\" title=\"0.168\">love</span><span style=\"opacity: 0.80\">... their </span><span style=\"background-color: hsl(120, 100.00%, 79.55%); opacity: 0.88\" title=\"0.197\">love</span><span style=\"opacity: 0.80\"> is so </span><span style=\"background-color: hsl(120, 100.00%, 76.89%); opacity: 0.89\" title=\"0.234\">strong</span><span style=\"opacity: 0.80\">, so </span><span style=\"background-color: hsl(120, 100.00%, 65.06%); opacity: 0.96\" title=\"0.423\">wonderfully</span><span style=\"opacity: 0.80\"> </span><span style=\"background-color: hsl(0, 100.00%, 92.83%); opacity: 0.82\" title=\"-0.044\">expressed</span><span style=\"opacity: 0.80\"> that </span><span style=\"background-color: hsl(120, 100.00%, 92.11%); opacity: 0.82\" title=\"0.050\">highlights</span><span style=\"opacity: 0.80\"> </span><span style=\"background-color: hsl(0, 100.00%, 90.23%); opacity: 0.83\" title=\"-0.069\">elliot</span><span style=\"opacity: 0.80\">'s </span><span style=\"background-color: hsl(120, 100.00%, 88.76%); opacity: 0.83\" title=\"0.084\">married</span><span style=\"opacity: 0.80\"> </span><span style=\"background-color: hsl(0, 100.00%, 96.55%); opacity: 0.81\" title=\"-0.015\">status</span><span style=\"opacity: 0.80\">, and the </span><span style=\"background-color: hsl(120, 100.00%, 86.55%); opacity: 0.84\" title=\"0.108\">difficulties</span><span style=\"opacity: 0.80\"> of the </span><span style=\"background-color: hsl(120, 100.00%, 78.12%); opacity: 0.88\" title=\"0.217\">troubled</span><span style=\"opacity: 0.80\"> </span><span style=\"background-color: hsl(120, 100.00%, 92.23%); opacity: 0.82\" title=\"0.049\">time</span><span style=\"opacity: 0.80\"> of the </span><span style=\"background-color: hsl(120, 100.00%, 87.30%); opacity: 0.84\" title=\"0.100\">korean</span><span style=\"opacity: 0.80\"> </span><span style=\"background-color: hsl(120, 100.00%, 89.68%); opacity: 0.83\" title=\"0.074\">war</span><span style=\"opacity: 0.80\">, </span><span style=\"background-color: hsl(120, 100.00%, 89.27%); opacity: 0.83\" title=\"0.078\">communism</span><span style=\"opacity: 0.80\"> and </span><span style=\"background-color: hsl(120, 100.00%, 95.15%); opacity: 0.81\" title=\"0.025\">race</span><span style=\"opacity: 0.80\"> </span><span style=\"background-color: hsl(0, 100.00%, 91.63%); opacity: 0.82\" title=\"-0.055\">relations</span><span style=\"opacity: 0.80\">...  </span><span style=\"background-color: hsl(0, 100.00%, 94.80%); opacity: 0.81\" title=\"-0.028\">holden</span><span style=\"opacity: 0.80\"> is an </span><span style=\"background-color: hsl(120, 100.00%, 86.29%); opacity: 0.84\" title=\"0.111\">inspired</span><span style=\"opacity: 0.80\"> </span><span style=\"background-color: hsl(0, 100.00%, 96.98%); opacity: 0.80\" title=\"-0.013\">choice</span><span style=\"opacity: 0.80\"> for the </span><span style=\"background-color: hsl(0, 100.00%, 93.24%); opacity: 0.82\" title=\"-0.040\">role</span><span style=\"opacity: 0.80\">... not only </span><span style=\"background-color: hsl(0, 100.00%, 88.79%); opacity: 0.83\" title=\"-0.083\">does</span><span style=\"opacity: 0.80\"> he have an </span><span style=\"background-color: hsl(120, 100.00%, 93.57%); opacity: 0.81\" title=\"0.038\">imposing</span><span style=\"opacity: 0.80\"> </span><span style=\"background-color: hsl(0, 100.00%, 93.69%); opacity: 0.81\" title=\"-0.037\">screen</span><span style=\"opacity: 0.80\"> </span><span style=\"background-color: hsl(0, 100.00%, 93.94%); opacity: 0.81\" title=\"-0.035\">presence</span><span style=\"opacity: 0.80\">, but he </span><span style=\"background-color: hsl(120, 100.00%, 83.80%); opacity: 0.86\" title=\"0.141\">brings</span><span style=\"opacity: 0.80\"> the </span><span style=\"background-color: hsl(120, 100.00%, 63.82%); opacity: 0.97\" title=\"0.444\">perfect</span><span style=\"opacity: 0.80\"> </span><span style=\"background-color: hsl(120, 100.00%, 87.44%); opacity: 0.84\" title=\"0.098\">mix</span><span style=\"opacity: 0.80\"> of </span><span style=\"background-color: hsl(0, 100.00%, 92.56%); opacity: 0.82\" title=\"-0.046\">enlightenment</span><span style=\"opacity: 0.80\">, </span><span style=\"background-color: hsl(120, 100.00%, 82.82%); opacity: 0.86\" title=\"0.153\">compassion</span><span style=\"opacity: 0.80\"> and </span><span style=\"background-color: hsl(0, 100.00%, 99.54%); opacity: 0.80\" title=\"-0.001\">emotion</span><span style=\"opacity: 0.80\"> to the part... </span><span style=\"background-color: hsl(0, 100.00%, 97.92%); opacity: 0.80\" title=\"-0.008\">opposite</span><span style=\"opacity: 0.80\"> him </span><span style=\"background-color: hsl(120, 100.00%, 82.13%); opacity: 0.86\" title=\"0.162\">oscar</span><span style=\"opacity: 0.80\"> </span><span style=\"background-color: hsl(120, 100.00%, 75.06%); opacity: 0.90\" title=\"0.261\">winner</span><span style=\"opacity: 0.80\"> </span><span style=\"background-color: hsl(120, 100.00%, 94.93%); opacity: 0.81\" title=\"0.027\">jennifer</span><span style=\"opacity: 0.80\"> </span><span style=\"background-color: hsl(0, 100.00%, 88.36%); opacity: 0.83\" title=\"-0.088\">jones</span><span style=\"opacity: 0.80\">, </span><span style=\"background-color: hsl(120, 100.00%, 64.89%); opacity: 0.97\" title=\"0.426\">perfect</span><span style=\"opacity: 0.80\"> in her </span><span style=\"background-color: hsl(120, 100.00%, 96.39%); opacity: 0.81\" title=\"0.016\">oriental</span><span style=\"opacity: 0.80\"> </span><span style=\"background-color: hsl(0, 100.00%, 94.55%); opacity: 0.81\" title=\"-0.030\">look</span><span style=\"opacity: 0.80\">, radiantly </span><span style=\"background-color: hsl(120, 100.00%, 84.52%); opacity: 0.85\" title=\"0.132\">beautiful</span><span style=\"opacity: 0.80\"> in that </span><span style=\"background-color: hsl(120, 100.00%, 83.52%); opacity: 0.86\" title=\"0.145\">traditional</span><span style=\"opacity: 0.80\"> and </span><span style=\"background-color: hsl(120, 100.00%, 92.26%); opacity: 0.82\" title=\"0.049\">modern</span><span style=\"opacity: 0.80\"> </span><span style=\"background-color: hsl(0, 100.00%, 82.64%); opacity: 0.86\" title=\"-0.156\">asian</span><span style=\"opacity: 0.80\">-</span><span style=\"background-color: hsl(120, 100.00%, 86.29%); opacity: 0.84\" title=\"0.111\">inspired</span><span style=\"opacity: 0.80\"> cheongsam... </span><span style=\"background-color: hsl(0, 100.00%, 84.15%); opacity: 0.85\" title=\"-0.137\">jones</span><span style=\"opacity: 0.80\"> </span><span style=\"background-color: hsl(120, 100.00%, 93.65%); opacity: 0.81\" title=\"0.037\">floods</span><span style=\"opacity: 0.80\"> her </span><span style=\"background-color: hsl(120, 100.00%, 96.84%); opacity: 0.81\" title=\"0.014\">role</span><span style=\"opacity: 0.80\"> with </span><span style=\"background-color: hsl(120, 100.00%, 81.94%); opacity: 0.86\" title=\"0.165\">personal</span><span style=\"opacity: 0.80\"> </span><span style=\"background-color: hsl(0, 100.00%, 99.54%); opacity: 0.80\" title=\"-0.001\">emotion</span><span style=\"opacity: 0.80\"> </span><span style=\"background-color: hsl(0, 100.00%, 88.97%); opacity: 0.83\" title=\"-0.081\">giving</span><span style=\"opacity: 0.80\"> her </span><span style=\"background-color: hsl(120, 100.00%, 98.71%); opacity: 0.80\" title=\"0.004\">character</span><span style=\"opacity: 0.80\"> a </span><span style=\"background-color: hsl(120, 100.00%, 90.97%); opacity: 0.82\" title=\"0.061\">charismatic</span><span style=\"opacity: 0.80\"> </span><span style=\"background-color: hsl(120, 100.00%, 89.78%); opacity: 0.83\" title=\"0.073\">life</span><span style=\"opacity: 0.80\"> of its own... she </span><span style=\"background-color: hsl(120, 100.00%, 77.74%); opacity: 0.89\" title=\"0.222\">delivers</span><span style=\"opacity: 0.80\"> a </span><span style=\"background-color: hsl(120, 100.00%, 85.49%); opacity: 0.85\" title=\"0.120\">heartfelt</span><span style=\"opacity: 0.80\"> </span><span style=\"background-color: hsl(120, 100.00%, 90.32%); opacity: 0.83\" title=\"0.068\">performance</span><span style=\"opacity: 0.80\"> </span><span style=\"background-color: hsl(120, 100.00%, 96.41%); opacity: 0.81\" title=\"0.016\">turning</span><span style=\"opacity: 0.80\"> her </span><span style=\"background-color: hsl(120, 100.00%, 92.34%); opacity: 0.82\" title=\"0.048\">character</span><span style=\"opacity: 0.80\"> into a </span><span style=\"background-color: hsl(0, 100.00%, 94.62%); opacity: 0.81\" title=\"-0.029\">woman</span><span style=\"opacity: 0.80\"> who </span><span style=\"background-color: hsl(120, 100.00%, 93.41%); opacity: 0.82\" title=\"0.039\">undergoes</span><span style=\"opacity: 0.80\"> a </span><span style=\"background-color: hsl(0, 100.00%, 93.15%); opacity: 0.82\" title=\"-0.041\">spiritual</span><span style=\"opacity: 0.80\"> and </span><span style=\"background-color: hsl(120, 100.00%, 91.17%); opacity: 0.82\" title=\"0.059\">emotional</span><span style=\"opacity: 0.80\"> </span><span style=\"background-color: hsl(0, 100.00%, 95.31%); opacity: 0.81\" title=\"-0.024\">awakening</span><span style=\"opacity: 0.80\">... her </span><span style=\"background-color: hsl(0, 100.00%, 94.28%); opacity: 0.81\" title=\"-0.032\">scene</span><span style=\"opacity: 0.80\"> in that verdant </span><span style=\"background-color: hsl(0, 100.00%, 79.93%); opacity: 0.87\" title=\"-0.192\">hill</span><span style=\"opacity: 0.80\"> where she </span><span style=\"background-color: hsl(120, 100.00%, 89.54%); opacity: 0.83\" title=\"0.075\">takes</span><span style=\"opacity: 0.80\"> </span><span style=\"background-color: hsl(0, 100.00%, 91.31%); opacity: 0.82\" title=\"-0.058\">refuge</span><span style=\"opacity: 0.80\"> is </span><span style=\"background-color: hsl(120, 100.00%, 91.43%); opacity: 0.82\" title=\"0.057\">exquisitely</span><span style=\"opacity: 0.80\"> </span><span style=\"background-color: hsl(120, 100.00%, 72.71%); opacity: 0.92\" title=\"0.297\">touching</span><span style=\"opacity: 0.80\"> </span><span style=\"background-color: hsl(120, 100.00%, 86.24%); opacity: 0.84\" title=\"0.112\">specially</span><span style=\"opacity: 0.80\"> when we </span><span style=\"background-color: hsl(120, 100.00%, 88.79%); opacity: 0.83\" title=\"0.083\">heard</span><span style=\"opacity: 0.80\"> </span><span style=\"background-color: hsl(120, 100.00%, 87.16%); opacity: 0.84\" title=\"0.101\">mark</span><span style=\"opacity: 0.80\">'s </span><span style=\"background-color: hsl(0, 100.00%, 94.99%); opacity: 0.81\" title=\"-0.026\">voice</span><span style=\"opacity: 0.80\"> </span><span style=\"background-color: hsl(0, 100.00%, 94.25%); opacity: 0.81\" title=\"-0.032\">whispering</span><span style=\"opacity: 0.80\">: \"we have not </span><span style=\"background-color: hsl(120, 100.00%, 86.81%); opacity: 0.84\" title=\"0.105\">missed</span><span style=\"opacity: 0.80\"> you and i... that many-</span><span style=\"background-color: hsl(0, 100.00%, 97.56%); opacity: 0.80\" title=\"-0.009\">splendored</span><span style=\"opacity: 0.80\"> </span><span style=\"background-color: hsl(0, 100.00%, 87.12%); opacity: 0.84\" title=\"-0.102\">thing</span><span style=\"opacity: 0.80\">.\" </span><span style=\"background-color: hsl(120, 100.00%, 93.52%); opacity: 0.81\" title=\"0.038\">henry</span><span style=\"opacity: 0.80\"> </span><span style=\"background-color: hsl(120, 100.00%, 86.79%); opacity: 0.84\" title=\"0.105\">king</span><span style=\"opacity: 0.80\"> - who has </span><span style=\"background-color: hsl(0, 100.00%, 97.15%); opacity: 0.80\" title=\"-0.012\">established</span><span style=\"opacity: 0.80\"> himself as a </span><span style=\"background-color: hsl(120, 100.00%, 82.93%); opacity: 0.86\" title=\"0.152\">masterful</span><span style=\"opacity: 0.80\"> </span><span style=\"background-color: hsl(0, 100.00%, 83.02%); opacity: 0.86\" title=\"-0.151\">director</span><span style=\"opacity: 0.80\"> of </span><span style=\"background-color: hsl(0, 100.00%, 92.52%); opacity: 0.82\" title=\"-0.047\">romances</span><span style=\"opacity: 0.80\"> - </span><span style=\"background-color: hsl(0, 100.00%, 95.12%); opacity: 0.81\" title=\"-0.025\">spreads</span><span style=\"opacity: 0.80\"> the </span><span style=\"background-color: hsl(120, 100.00%, 91.63%); opacity: 0.82\" title=\"0.055\">theme</span><span style=\"opacity: 0.80\"> </span><span style=\"background-color: hsl(120, 100.00%, 88.14%); opacity: 0.84\" title=\"0.090\">tune</span><span style=\"opacity: 0.80\"> (by </span><span style=\"background-color: hsl(120, 100.00%, 91.66%); opacity: 0.82\" title=\"0.055\">alfred</span><span style=\"opacity: 0.80\"> </span><span style=\"background-color: hsl(120, 100.00%, 99.13%); opacity: 0.80\" title=\"0.002\">newman</span><span style=\"opacity: 0.80\">) in the </span><span style=\"background-color: hsl(120, 100.00%, 97.37%); opacity: 0.80\" title=\"0.011\">air</span><span style=\"opacity: 0.80\"> above the </span><span style=\"background-color: hsl(0, 100.00%, 96.90%); opacity: 0.81\" title=\"-0.013\">cosmopolitan</span><span style=\"opacity: 0.80\"> </span><span style=\"background-color: hsl(120, 100.00%, 86.53%); opacity: 0.84\" title=\"0.108\">harbor</span><span style=\"opacity: 0.80\">... his </span><span style=\"background-color: hsl(120, 100.00%, 95.56%); opacity: 0.81\" title=\"0.022\">film</span><span style=\"opacity: 0.80\"> is </span><span style=\"background-color: hsl(120, 100.00%, 86.45%); opacity: 0.84\" title=\"0.109\">colorful</span><span style=\"opacity: 0.80\">, </span><span style=\"background-color: hsl(120, 100.00%, 87.16%); opacity: 0.84\" title=\"0.101\">elegant</span><span style=\"opacity: 0.80\">, with </span><span style=\"background-color: hsl(120, 100.00%, 60.00%); opacity: 1.00\" title=\"0.513\">excellent</span><span style=\"opacity: 0.80\"> </span><span style=\"background-color: hsl(0, 100.00%, 92.67%); opacity: 0.82\" title=\"-0.045\">cinematography</span><span style=\"opacity: 0.80\"> and </span><span style=\"background-color: hsl(0, 100.00%, 96.09%); opacity: 0.81\" title=\"-0.018\">set</span><span style=\"opacity: 0.80\"> </span><span style=\"background-color: hsl(0, 100.00%, 94.36%); opacity: 0.81\" title=\"-0.031\">design</span><span style=\"opacity: 0.80\">... </span><span style=\"background-color: hsl(120, 100.00%, 88.19%); opacity: 0.83\" title=\"0.090\">nominated</span><span style=\"opacity: 0.80\"> for eight </span><span style=\"background-color: hsl(120, 100.00%, 81.38%); opacity: 0.87\" title=\"0.172\">academy</span><span style=\"opacity: 0.80\"> </span><span style=\"background-color: hsl(120, 100.00%, 85.00%); opacity: 0.85\" title=\"0.126\">awards</span><span style=\"opacity: 0.80\">, this </span><span style=\"background-color: hsl(120, 100.00%, 84.52%); opacity: 0.85\" title=\"0.132\">beautiful</span><span style=\"opacity: 0.80\"> and </span><span style=\"background-color: hsl(120, 100.00%, 77.89%); opacity: 0.89\" title=\"0.220\">sensitive</span><span style=\"opacity: 0.80\"> </span><span style=\"background-color: hsl(120, 100.00%, 89.12%); opacity: 0.83\" title=\"0.080\">motion</span><span style=\"opacity: 0.80\"> </span><span style=\"background-color: hsl(120, 100.00%, 85.21%); opacity: 0.85\" title=\"0.124\">picture</span><span style=\"opacity: 0.80\"> </span><span style=\"background-color: hsl(120, 100.00%, 87.67%); opacity: 0.84\" title=\"0.095\">won</span><span style=\"opacity: 0.80\"> three: </span><span style=\"background-color: hsl(120, 100.00%, 76.16%); opacity: 0.90\" title=\"0.245\">best</span><span style=\"opacity: 0.80\"> </span><span style=\"background-color: hsl(0, 100.00%, 72.44%); opacity: 0.92\" title=\"-0.301\">costume</span><span style=\"opacity: 0.80\"> </span><span style=\"background-color: hsl(0, 100.00%, 87.18%); opacity: 0.84\" title=\"-0.101\">design</span><span style=\"opacity: 0.80\">; </span><span style=\"background-color: hsl(120, 100.00%, 74.40%); opacity: 0.91\" title=\"0.271\">best</span><span style=\"opacity: 0.80\"> </span><span style=\"background-color: hsl(120, 100.00%, 94.62%); opacity: 0.81\" title=\"0.029\">music</span><span style=\"opacity: 0.80\"> and </span><span style=\"background-color: hsl(120, 100.00%, 79.48%); opacity: 0.88\" title=\"0.198\">best</span><span style=\"opacity: 0.80\"> </span><span style=\"background-color: hsl(120, 100.00%, 92.45%); opacity: 0.82\" title=\"0.047\">score</span><span style=\"opacity: 0.80\">...</span>\n",
              "</p>\n"
            ]
          },
          "metadata": {}
        }
      ],
      "source": [
        "for i, review in enumerate(best5):\n",
        "    display(HTML(f\"<p style={style}>Good Movie #{i+1} 🏆</p>\"))\n",
        "    eli5_html(clf, vec, review)"
      ]
    },
    {
      "cell_type": "markdown",
      "id": "f55f479a",
      "metadata": {
        "id": "f55f479a"
      },
      "source": [
        "What are the **5 most 'meh'** movie review in the test set according to your model? 😐\\\n",
        "That is, which reviews are the most neutral according to your model?\\\n",
        "Upon reading some of these reviews you may find their sentiment to actually *not* be very ambiguous. What might be confusing our model?"
      ]
    },
    {
      "cell_type": "code",
      "execution_count": 76,
      "id": "ae42fdec",
      "metadata": {
        "id": "ae42fdec"
      },
      "outputs": [],
      "source": [
        "# please fill this code block!\n",
        "# Find indices of the 5 most neutral reviews\n",
        "neutral_indices = np.argsort(np.abs(y_pred_proba - 0.5))[:5]\n",
        "meh5 = x_test_raw[neutral_indices]"
      ]
    },
    {
      "cell_type": "code",
      "execution_count": 77,
      "id": "7cccc9ae",
      "metadata": {
        "id": "7cccc9ae",
        "outputId": "b1e315ea-485f-423e-b851-ebf65e94360b",
        "colab": {
          "base_uri": "https://localhost:8080/",
          "height": 1000
        }
      },
      "outputs": [
        {
          "output_type": "display_data",
          "data": {
            "text/plain": [
              "<IPython.core.display.HTML object>"
            ],
            "text/html": [
              "<p style=background-color:black;color:white;font-weight:bold;padding:4px>'Meh' Movie #1 😐</p>"
            ]
          },
          "metadata": {}
        },
        {
          "output_type": "display_data",
          "data": {
            "text/plain": [
              "<IPython.core.display.HTML object>"
            ],
            "text/html": [
              "\n",
              "<style>\n",
              "    table.eli5-weights tr:hover {\n",
              "        filter: brightness(85%);\n",
              "    }\n",
              "</style>\n",
              "\n",
              "\n",
              "<p style=\"margin-bottom: 2.5em; margin-top:-0.5em;\">\n",
              "<span style=\"opacity: 0.80\">i </span><span style=\"background-color: hsl(0, 100.00%, 92.54%); opacity: 0.82\" title=\"-0.037\">agree</span><span style=\"opacity: 0.80\"> with one </span><span style=\"background-color: hsl(120, 100.00%, 89.27%); opacity: 0.83\" title=\"0.061\">commentator</span><span style=\"opacity: 0.80\"> who </span><span style=\"background-color: hsl(0, 100.00%, 96.79%); opacity: 0.81\" title=\"-0.011\">says</span><span style=\"opacity: 0.80\"> that it's </span><span style=\"background-color: hsl(0, 100.00%, 90.70%); opacity: 0.82\" title=\"-0.050\">really</span><span style=\"opacity: 0.80\"> </span><span style=\"background-color: hsl(0, 100.00%, 97.08%); opacity: 0.80\" title=\"-0.010\">impossible</span><span style=\"opacity: 0.80\"> to </span><span style=\"background-color: hsl(0, 100.00%, 95.87%); opacity: 0.81\" title=\"-0.016\">review</span><span style=\"opacity: 0.80\"> </span><span style=\"background-color: hsl(0, 100.00%, 94.17%); opacity: 0.81\" title=\"-0.026\">glen</span><span style=\"opacity: 0.80\"> or </span><span style=\"background-color: hsl(0, 100.00%, 98.16%); opacity: 0.80\" title=\"-0.005\">glenda</span><span style=\"opacity: 0.80\">? </span><span style=\"background-color: hsl(0, 100.00%, 83.15%); opacity: 0.86\" title=\"-0.117\">objectively</span><span style=\"opacity: 0.80\">. if one </span><span style=\"background-color: hsl(0, 100.00%, 87.97%); opacity: 0.84\" title=\"-0.072\">does</span><span style=\"opacity: 0.80\"> so, the </span><span style=\"background-color: hsl(0, 100.00%, 93.46%); opacity: 0.82\" title=\"-0.030\">film</span><span style=\"opacity: 0.80\"> on its </span><span style=\"background-color: hsl(120, 100.00%, 97.43%); opacity: 0.80\" title=\"0.008\">merits</span><span style=\"opacity: 0.80\"> would have to be </span><span style=\"background-color: hsl(0, 100.00%, 98.51%); opacity: 0.80\" title=\"-0.004\">rated</span><span style=\"opacity: 0.80\"> as </span><span style=\"background-color: hsl(120, 100.00%, 91.45%); opacity: 0.82\" title=\"0.044\">fairly</span><span style=\"opacity: 0.80\"> </span><span style=\"background-color: hsl(0, 100.00%, 65.61%); opacity: 0.96\" title=\"-0.325\">terrible</span><span style=\"opacity: 0.80\"> </span><span style=\"background-color: hsl(0, 100.00%, 84.50%); opacity: 0.85\" title=\"-0.104\">given</span><span style=\"opacity: 0.80\"> the </span><span style=\"background-color: hsl(120, 100.00%, 68.45%); opacity: 0.94\" title=\"0.287\">hilarious</span><span style=\"opacity: 0.80\">, </span><span style=\"background-color: hsl(0, 100.00%, 81.40%); opacity: 0.87\" title=\"-0.135\">convoluted</span><span style=\"opacity: 0.80\"> </span><span style=\"background-color: hsl(0, 100.00%, 89.14%); opacity: 0.83\" title=\"-0.063\">dialog</span><span style=\"opacity: 0.80\">, the </span><span style=\"background-color: hsl(0, 100.00%, 94.41%); opacity: 0.81\" title=\"-0.024\">generally</span><span style=\"opacity: 0.80\"> </span><span style=\"background-color: hsl(0, 100.00%, 60.00%); opacity: 1.00\" title=\"-0.403\">mediocre</span><span style=\"opacity: 0.80\"> to </span><span style=\"background-color: hsl(0, 100.00%, 68.14%); opacity: 0.94\" title=\"-0.291\">poor</span><span style=\"opacity: 0.80\"> </span><span style=\"background-color: hsl(0, 100.00%, 88.72%); opacity: 0.83\" title=\"-0.066\">acting</span><span style=\"opacity: 0.80\"> by the </span><span style=\"background-color: hsl(0, 100.00%, 96.91%); opacity: 0.81\" title=\"-0.010\">cast</span><span style=\"opacity: 0.80\"> as well as the </span><span style=\"background-color: hsl(0, 100.00%, 79.21%); opacity: 0.88\" title=\"-0.158\">zero</span><span style=\"opacity: 0.80\"> </span><span style=\"background-color: hsl(0, 100.00%, 99.20%); opacity: 0.80\" title=\"-0.002\">production</span><span style=\"opacity: 0.80\"> </span><span style=\"background-color: hsl(120, 100.00%, 98.45%); opacity: 0.80\" title=\"0.004\">values</span><span style=\"opacity: 0.80\">. yet, such an </span><span style=\"background-color: hsl(120, 100.00%, 87.66%); opacity: 0.84\" title=\"0.075\">assessment</span><span style=\"opacity: 0.80\"> </span><span style=\"background-color: hsl(0, 100.00%, 91.87%); opacity: 0.82\" title=\"-0.041\">does</span><span style=\"opacity: 0.80\"> not </span><span style=\"background-color: hsl(0, 100.00%, 97.87%); opacity: 0.80\" title=\"-0.006\">capture</span><span style=\"opacity: 0.80\"> the </span><span style=\"background-color: hsl(0, 100.00%, 92.97%); opacity: 0.82\" title=\"-0.034\">absolutely</span><span style=\"opacity: 0.80\"> </span><span style=\"background-color: hsl(120, 100.00%, 71.40%); opacity: 0.92\" title=\"0.249\">riveting</span><span style=\"opacity: 0.80\"> </span><span style=\"background-color: hsl(120, 100.00%, 80.57%); opacity: 0.87\" title=\"0.144\">experience</span><span style=\"opacity: 0.80\"> of </span><span style=\"background-color: hsl(120, 100.00%, 93.03%); opacity: 0.82\" title=\"0.033\">watching</span><span style=\"opacity: 0.80\"> this </span><span style=\"background-color: hsl(120, 100.00%, 87.03%); opacity: 0.84\" title=\"0.081\">film</span><span style=\"opacity: 0.80\"> as it </span><span style=\"background-color: hsl(120, 100.00%, 79.65%); opacity: 0.88\" title=\"0.153\">unfolds</span><span style=\"opacity: 0.80\">. it isn't the </span><span style=\"background-color: hsl(0, 100.00%, 98.62%); opacity: 0.80\" title=\"-0.003\">fact</span><span style=\"opacity: 0.80\"> that the </span><span style=\"background-color: hsl(0, 100.00%, 87.48%); opacity: 0.84\" title=\"-0.077\">subject</span><span style=\"opacity: 0.80\"> of the </span><span style=\"background-color: hsl(120, 100.00%, 98.20%); opacity: 0.80\" title=\"0.005\">film</span><span style=\"opacity: 0.80\"> is transvestitism and that it was a </span><span style=\"background-color: hsl(120, 100.00%, 83.28%); opacity: 0.86\" title=\"0.116\">controversial</span><span style=\"opacity: 0.80\"> </span><span style=\"background-color: hsl(120, 100.00%, 98.49%); opacity: 0.80\" title=\"0.004\">lifestyle</span><span style=\"opacity: 0.80\"> </span><span style=\"background-color: hsl(120, 100.00%, 97.74%); opacity: 0.80\" title=\"0.007\">choice</span><span style=\"opacity: 0.80\"> in the </span><span style=\"background-color: hsl(0, 100.00%, 90.77%); opacity: 0.82\" title=\"-0.050\">1950s</span><span style=\"opacity: 0.80\">. it's not even the </span><span style=\"background-color: hsl(120, 100.00%, 93.04%); opacity: 0.82\" title=\"0.033\">plea</span><span style=\"opacity: 0.80\"> for </span><span style=\"background-color: hsl(0, 100.00%, 80.71%); opacity: 0.87\" title=\"-0.142\">tolerance</span><span style=\"opacity: 0.80\"> of </span><span style=\"background-color: hsl(120, 100.00%, 96.59%); opacity: 0.81\" title=\"0.012\">people</span><span style=\"opacity: 0.80\"> who </span><span style=\"background-color: hsl(120, 100.00%, 88.84%); opacity: 0.83\" title=\"0.065\">embrace</span><span style=\"opacity: 0.80\"> </span><span style=\"background-color: hsl(0, 100.00%, 96.32%); opacity: 0.81\" title=\"-0.013\">alternate</span><span style=\"opacity: 0.80\"> </span><span style=\"background-color: hsl(120, 100.00%, 85.46%); opacity: 0.85\" title=\"0.095\">life</span><span style=\"opacity: 0.80\"> </span><span style=\"background-color: hsl(120, 100.00%, 80.15%); opacity: 0.87\" title=\"0.148\">choices</span><span style=\"opacity: 0.80\"> that </span><span style=\"background-color: hsl(120, 100.00%, 87.54%); opacity: 0.84\" title=\"0.076\">fascinates</span><span style=\"opacity: 0.80\"> except as an </span><span style=\"background-color: hsl(0, 100.00%, 90.01%); opacity: 0.83\" title=\"-0.056\">historic</span><span style=\"opacity: 0.80\"> </span><span style=\"background-color: hsl(0, 100.00%, 95.54%); opacity: 0.81\" title=\"-0.018\">relic</span><span style=\"opacity: 0.80\">. no, what </span><span style=\"background-color: hsl(120, 100.00%, 79.31%); opacity: 0.88\" title=\"0.157\">makes</span><span style=\"opacity: 0.80\"> </span><span style=\"background-color: hsl(0, 100.00%, 94.17%); opacity: 0.81\" title=\"-0.026\">glen</span><span style=\"opacity: 0.80\"> or </span><span style=\"background-color: hsl(0, 100.00%, 98.16%); opacity: 0.80\" title=\"-0.005\">glenda</span><span style=\"opacity: 0.80\">? still a </span><span style=\"background-color: hsl(120, 100.00%, 72.29%); opacity: 0.92\" title=\"0.238\">fascinating</span><span style=\"opacity: 0.80\"> </span><span style=\"background-color: hsl(120, 100.00%, 90.98%); opacity: 0.82\" title=\"0.048\">film</span><span style=\"opacity: 0.80\"> after </span><span style=\"background-color: hsl(120, 100.00%, 82.38%); opacity: 0.86\" title=\"0.125\">50</span><span style=\"opacity: 0.80\"> </span><span style=\"background-color: hsl(120, 100.00%, 80.64%); opacity: 0.87\" title=\"0.143\">years</span><span style=\"opacity: 0.80\"> is that </span><span style=\"background-color: hsl(0, 100.00%, 82.28%); opacity: 0.86\" title=\"-0.126\">ed</span><span style=\"opacity: 0.80\"> </span><span style=\"background-color: hsl(0, 100.00%, 97.71%); opacity: 0.80\" title=\"-0.007\">wood</span><span style=\"opacity: 0.80\"> </span><span style=\"background-color: hsl(120, 100.00%, 93.30%); opacity: 0.82\" title=\"0.031\">laid</span><span style=\"opacity: 0.80\"> his </span><span style=\"background-color: hsl(0, 100.00%, 97.53%); opacity: 0.80\" title=\"-0.008\">psyche</span><span style=\"opacity: 0.80\"> </span><span style=\"background-color: hsl(0, 100.00%, 87.66%); opacity: 0.84\" title=\"-0.075\">bare</span><span style=\"opacity: 0.80\"> in a </span><span style=\"background-color: hsl(120, 100.00%, 97.67%); opacity: 0.80\" title=\"0.007\">way</span><span style=\"opacity: 0.80\"> that so-</span><span style=\"background-color: hsl(0, 100.00%, 90.37%); opacity: 0.83\" title=\"-0.053\">called</span><span style=\"opacity: 0.80\"> </span><span style=\"background-color: hsl(120, 100.00%, 87.36%); opacity: 0.84\" title=\"0.078\">auteur</span><span style=\"opacity: 0.80\"> </span><span style=\"background-color: hsl(0, 100.00%, 84.56%); opacity: 0.85\" title=\"-0.103\">directors</span><span style=\"opacity: 0.80\"> </span><span style=\"background-color: hsl(0, 100.00%, 97.20%); opacity: 0.80\" title=\"-0.009\">like</span><span style=\"opacity: 0.80\"> </span><span style=\"background-color: hsl(120, 100.00%, 93.47%); opacity: 0.82\" title=\"0.030\">hitchcock</span><span style=\"opacity: 0.80\"> or </span><span style=\"background-color: hsl(120, 100.00%, 95.78%); opacity: 0.81\" title=\"0.016\">godard</span><span style=\"opacity: 0.80\">, </span><span style=\"background-color: hsl(120, 100.00%, 98.90%); opacity: 0.80\" title=\"0.002\">despite</span><span style=\"opacity: 0.80\"> their </span><span style=\"background-color: hsl(0, 100.00%, 95.01%); opacity: 0.81\" title=\"-0.021\">vastly</span><span style=\"opacity: 0.80\"> </span><span style=\"background-color: hsl(120, 100.00%, 85.56%); opacity: 0.85\" title=\"0.094\">superior</span><span style=\"opacity: 0.80\"> </span><span style=\"background-color: hsl(0, 100.00%, 89.27%); opacity: 0.83\" title=\"-0.061\">talents</span><span style=\"opacity: 0.80\">, never </span><span style=\"background-color: hsl(0, 100.00%, 92.35%); opacity: 0.82\" title=\"-0.038\">did</span><span style=\"opacity: 0.80\">. in </span><span style=\"background-color: hsl(0, 100.00%, 94.17%); opacity: 0.81\" title=\"-0.026\">glen</span><span style=\"opacity: 0.80\"> or </span><span style=\"background-color: hsl(0, 100.00%, 98.16%); opacity: 0.80\" title=\"-0.005\">glenda</span><span style=\"opacity: 0.80\">, </span><span style=\"background-color: hsl(120, 100.00%, 98.47%); opacity: 0.80\" title=\"0.004\">wood</span><span style=\"opacity: 0.80\"> isn't </span><span style=\"background-color: hsl(120, 100.00%, 95.98%); opacity: 0.81\" title=\"0.015\">afraid</span><span style=\"opacity: 0.80\"> to </span><span style=\"background-color: hsl(0, 100.00%, 97.83%); opacity: 0.80\" title=\"-0.006\">reveal</span><span style=\"opacity: 0.80\"> his own </span><span style=\"background-color: hsl(120, 100.00%, 84.32%); opacity: 0.85\" title=\"0.106\">deeply</span><span style=\"opacity: 0.80\"> </span><span style=\"background-color: hsl(120, 100.00%, 84.40%); opacity: 0.85\" title=\"0.105\">conflicted</span><span style=\"opacity: 0.80\"> </span><span style=\"background-color: hsl(120, 100.00%, 83.14%); opacity: 0.86\" title=\"0.117\">feelings</span><span style=\"opacity: 0.80\"> about being a </span><span style=\"background-color: hsl(0, 100.00%, 87.14%); opacity: 0.84\" title=\"-0.080\">transvestite</span><span style=\"opacity: 0.80\"> </span><span style=\"background-color: hsl(120, 100.00%, 98.90%); opacity: 0.80\" title=\"0.002\">despite</span><span style=\"opacity: 0.80\"> the </span><span style=\"background-color: hsl(120, 100.00%, 93.04%); opacity: 0.82\" title=\"0.033\">plea</span><span style=\"opacity: 0.80\"> for </span><span style=\"background-color: hsl(0, 100.00%, 80.71%); opacity: 0.87\" title=\"-0.142\">tolerance</span><span style=\"opacity: 0.80\"> for it through out the </span><span style=\"background-color: hsl(0, 100.00%, 92.32%); opacity: 0.82\" title=\"-0.038\">film</span><span style=\"opacity: 0.80\">. indeed, the </span><span style=\"background-color: hsl(0, 100.00%, 83.18%); opacity: 0.86\" title=\"-0.117\">conclusion</span><span style=\"opacity: 0.80\"> of the </span><span style=\"background-color: hsl(0, 100.00%, 93.09%); opacity: 0.82\" title=\"-0.033\">film</span><span style=\"opacity: 0.80\"> </span><span style=\"background-color: hsl(0, 100.00%, 99.39%); opacity: 0.80\" title=\"-0.001\">suggest</span><span style=\"opacity: 0.80\"> that </span><span style=\"background-color: hsl(0, 100.00%, 82.28%); opacity: 0.86\" title=\"-0.126\">ed</span><span style=\"opacity: 0.80\"> </span><span style=\"background-color: hsl(0, 100.00%, 97.71%); opacity: 0.80\" title=\"-0.007\">wood</span><span style=\"opacity: 0.80\">'s </span><span style=\"background-color: hsl(0, 100.00%, 97.59%); opacity: 0.80\" title=\"-0.007\">glen</span><span style=\"opacity: 0.80\"> </span><span style=\"background-color: hsl(120, 100.00%, 94.45%); opacity: 0.81\" title=\"0.024\">character</span><span style=\"opacity: 0.80\"> will be </span><span style=\"background-color: hsl(120, 100.00%, 85.27%); opacity: 0.85\" title=\"0.097\">able</span><span style=\"opacity: 0.80\"> to \"</span><span style=\"background-color: hsl(0, 100.00%, 95.01%); opacity: 0.81\" title=\"-0.021\">kill</span><span style=\"opacity: 0.80\">\" his </span><span style=\"background-color: hsl(0, 100.00%, 99.72%); opacity: 0.80\" title=\"-0.000\">glenda</span><span style=\"opacity: 0.80\"> </span><span style=\"background-color: hsl(0, 100.00%, 93.20%); opacity: 0.82\" title=\"-0.032\">female</span><span style=\"opacity: 0.80\"> </span><span style=\"background-color: hsl(120, 100.00%, 87.86%); opacity: 0.84\" title=\"0.073\">counterpart</span><span style=\"opacity: 0.80\"> by </span><span style=\"background-color: hsl(0, 100.00%, 95.87%); opacity: 0.81\" title=\"-0.016\">transferring</span><span style=\"opacity: 0.80\"> the </span><span style=\"background-color: hsl(120, 100.00%, 80.95%); opacity: 0.87\" title=\"0.140\">feelings</span><span style=\"opacity: 0.80\"> of </span><span style=\"background-color: hsl(120, 100.00%, 80.54%); opacity: 0.87\" title=\"0.144\">love</span><span style=\"opacity: 0.80\"> and </span><span style=\"background-color: hsl(120, 100.00%, 83.72%); opacity: 0.86\" title=\"0.112\">affection</span><span style=\"opacity: 0.80\"> </span><span style=\"background-color: hsl(0, 100.00%, 97.59%); opacity: 0.80\" title=\"-0.007\">glen</span><span style=\"opacity: 0.80\"> has for his </span><span style=\"background-color: hsl(120, 100.00%, 89.74%); opacity: 0.83\" title=\"0.058\">feminine</span><span style=\"opacity: 0.80\"> </span><span style=\"background-color: hsl(120, 100.00%, 87.65%); opacity: 0.84\" title=\"0.075\">counterpart</span><span style=\"opacity: 0.80\"> to his </span><span style=\"background-color: hsl(120, 100.00%, 88.27%); opacity: 0.83\" title=\"0.070\">future</span><span style=\"opacity: 0.80\"> </span><span style=\"background-color: hsl(0, 100.00%, 88.47%); opacity: 0.83\" title=\"-0.068\">wife</span><span style=\"opacity: 0.80\">, </span><span style=\"background-color: hsl(120, 100.00%, 84.08%); opacity: 0.85\" title=\"0.108\">barbara</span><span style=\"opacity: 0.80\">. the </span><span style=\"background-color: hsl(120, 100.00%, 93.51%); opacity: 0.81\" title=\"0.030\">psychiatrist</span><span style=\"opacity: 0.80\"> even </span><span style=\"background-color: hsl(120, 100.00%, 94.72%); opacity: 0.81\" title=\"0.022\">reassures</span><span style=\"opacity: 0.80\"> </span><span style=\"background-color: hsl(0, 100.00%, 97.59%); opacity: 0.80\" title=\"-0.007\">glen</span><span style=\"opacity: 0.80\"> and </span><span style=\"background-color: hsl(120, 100.00%, 84.08%); opacity: 0.85\" title=\"0.108\">barbara</span><span style=\"opacity: 0.80\"> that as </span><span style=\"background-color: hsl(0, 100.00%, 97.59%); opacity: 0.80\" title=\"-0.007\">glen</span><span style=\"opacity: 0.80\"> </span><span style=\"background-color: hsl(120, 100.00%, 79.31%); opacity: 0.88\" title=\"0.157\">makes</span><span style=\"opacity: 0.80\"> that </span><span style=\"background-color: hsl(0, 100.00%, 88.78%); opacity: 0.83\" title=\"-0.066\">psychic</span><span style=\"opacity: 0.80\"> </span><span style=\"background-color: hsl(0, 100.00%, 96.97%); opacity: 0.81\" title=\"-0.010\">transference</span><span style=\"opacity: 0.80\">, </span><span style=\"background-color: hsl(0, 100.00%, 99.72%); opacity: 0.80\" title=\"-0.000\">glenda</span><span style=\"opacity: 0.80\"> will </span><span style=\"background-color: hsl(0, 100.00%, 97.30%); opacity: 0.80\" title=\"-0.009\">disappear</span><span style=\"opacity: 0.80\">. so, while </span><span style=\"background-color: hsl(120, 100.00%, 98.47%); opacity: 0.80\" title=\"0.004\">wood</span><span style=\"opacity: 0.80\"> could </span><span style=\"background-color: hsl(0, 100.00%, 91.09%); opacity: 0.82\" title=\"-0.047\">plead</span><span style=\"opacity: 0.80\"> for </span><span style=\"background-color: hsl(0, 100.00%, 80.71%); opacity: 0.87\" title=\"-0.142\">tolerance</span><span style=\"opacity: 0.80\"> of </span><span style=\"background-color: hsl(0, 100.00%, 95.27%); opacity: 0.81\" title=\"-0.019\">transvestites</span><span style=\"opacity: 0.80\"> in </span><span style=\"background-color: hsl(0, 100.00%, 96.86%); opacity: 0.81\" title=\"-0.011\">general</span><span style=\"opacity: 0.80\">, he wasn't so </span><span style=\"background-color: hsl(120, 100.00%, 92.79%); opacity: 0.82\" title=\"0.035\">sure</span><span style=\"opacity: 0.80\"> of </span><span style=\"background-color: hsl(120, 100.00%, 95.86%); opacity: 0.81\" title=\"0.016\">desiring</span><span style=\"opacity: 0.80\"> it for himself. moreover, </span><span style=\"background-color: hsl(120, 100.00%, 98.47%); opacity: 0.80\" title=\"0.004\">wood</span><span style=\"opacity: 0.80\"> wasn't </span><span style=\"background-color: hsl(120, 100.00%, 95.98%); opacity: 0.81\" title=\"0.015\">afraid</span><span style=\"opacity: 0.80\"> of </span><span style=\"background-color: hsl(0, 100.00%, 87.74%); opacity: 0.84\" title=\"-0.074\">throwing</span><span style=\"opacity: 0.80\"> everything else that </span><span style=\"background-color: hsl(120, 100.00%, 93.73%); opacity: 0.81\" title=\"0.029\">crossed</span><span style=\"opacity: 0.80\"> his </span><span style=\"background-color: hsl(120, 100.00%, 90.22%); opacity: 0.83\" title=\"0.054\">mind</span><span style=\"opacity: 0.80\"> on the </span><span style=\"background-color: hsl(0, 100.00%, 91.98%); opacity: 0.82\" title=\"-0.041\">screen</span><span style=\"opacity: 0.80\">. he </span><span style=\"background-color: hsl(0, 100.00%, 91.82%); opacity: 0.82\" title=\"-0.042\">did</span><span style=\"opacity: 0.80\"> it with whatever </span><span style=\"background-color: hsl(0, 100.00%, 72.90%); opacity: 0.91\" title=\"-0.231\">stock</span><span style=\"opacity: 0.80\"> </span><span style=\"background-color: hsl(0, 100.00%, 77.07%); opacity: 0.89\" title=\"-0.182\">footage</span><span style=\"opacity: 0.80\"> he could get his </span><span style=\"background-color: hsl(120, 100.00%, 98.46%); opacity: 0.80\" title=\"0.004\">hands</span><span style=\"opacity: 0.80\"> on. if it didn't cohere, so what? what the </span><span style=\"background-color: hsl(120, 100.00%, 90.33%); opacity: 0.83\" title=\"0.053\">viewer</span><span style=\"opacity: 0.80\"> </span><span style=\"background-color: hsl(120, 100.00%, 90.20%); opacity: 0.83\" title=\"0.054\">saw</span><span style=\"opacity: 0.80\"> in </span><span style=\"background-color: hsl(0, 100.00%, 94.17%); opacity: 0.81\" title=\"-0.026\">glen</span><span style=\"opacity: 0.80\"> or </span><span style=\"background-color: hsl(0, 100.00%, 98.16%); opacity: 0.80\" title=\"-0.005\">glenda</span><span style=\"opacity: 0.80\"> </span><span style=\"background-color: hsl(120, 100.00%, 79.28%); opacity: 0.88\" title=\"0.157\">especially</span><span style=\"opacity: 0.80\"> was </span><span style=\"background-color: hsl(0, 100.00%, 82.28%); opacity: 0.86\" title=\"-0.126\">ed</span><span style=\"opacity: 0.80\"> </span><span style=\"background-color: hsl(0, 100.00%, 97.71%); opacity: 0.80\" title=\"-0.007\">wood</span><span style=\"opacity: 0.80\">'s </span><span style=\"background-color: hsl(120, 100.00%, 86.42%); opacity: 0.84\" title=\"0.086\">imaginative</span><span style=\"opacity: 0.80\"> </span><span style=\"background-color: hsl(120, 100.00%, 85.15%); opacity: 0.85\" title=\"0.098\">world</span><span style=\"opacity: 0.80\"> in all of its </span><span style=\"background-color: hsl(120, 100.00%, 94.12%); opacity: 0.81\" title=\"0.026\">fundamental</span><span style=\"opacity: 0.80\"> </span><span style=\"background-color: hsl(120, 100.00%, 99.69%); opacity: 0.80\" title=\"0.000\">strangeness</span><span style=\"opacity: 0.80\">. the only </span><span style=\"background-color: hsl(120, 100.00%, 89.72%); opacity: 0.83\" title=\"0.058\">comment</span><span style=\"opacity: 0.80\"> i </span><span style=\"background-color: hsl(120, 100.00%, 89.29%); opacity: 0.83\" title=\"0.061\">wish</span><span style=\"opacity: 0.80\"> to </span><span style=\"background-color: hsl(120, 100.00%, 97.04%); opacity: 0.80\" title=\"0.010\">add</span><span style=\"opacity: 0.80\"> to my </span><span style=\"background-color: hsl(120, 100.00%, 85.79%); opacity: 0.85\" title=\"0.092\">comment</span><span style=\"opacity: 0.80\"> above is that my two-</span><span style=\"background-color: hsl(0, 100.00%, 91.03%); opacity: 0.82\" title=\"-0.048\">star</span><span style=\"opacity: 0.80\"> </span><span style=\"background-color: hsl(0, 100.00%, 92.35%); opacity: 0.82\" title=\"-0.038\">rating</span><span style=\"opacity: 0.80\"> is </span><span style=\"background-color: hsl(120, 100.00%, 97.50%); opacity: 0.80\" title=\"0.008\">based</span><span style=\"opacity: 0.80\"> </span><span style=\"background-color: hsl(0, 100.00%, 92.06%); opacity: 0.82\" title=\"-0.040\">solely</span><span style=\"opacity: 0.80\"> on the </span><span style=\"background-color: hsl(0, 100.00%, 95.68%); opacity: 0.81\" title=\"-0.017\">objective</span><span style=\"opacity: 0.80\"> </span><span style=\"background-color: hsl(0, 100.00%, 97.53%); opacity: 0.80\" title=\"-0.008\">evaluation</span><span style=\"opacity: 0.80\"> </span><span style=\"background-color: hsl(0, 100.00%, 91.83%); opacity: 0.82\" title=\"-0.042\">criteria</span><span style=\"opacity: 0.80\"> </span><span style=\"background-color: hsl(120, 100.00%, 90.35%); opacity: 0.83\" title=\"0.053\">cited</span><span style=\"opacity: 0.80\"> in the first </span><span style=\"background-color: hsl(120, 100.00%, 93.68%); opacity: 0.81\" title=\"0.029\">paragraph</span><span style=\"opacity: 0.80\">. the </span><span style=\"background-color: hsl(120, 100.00%, 98.56%); opacity: 0.80\" title=\"0.003\">oddly</span><span style=\"opacity: 0.80\"> memeric </span><span style=\"background-color: hsl(120, 100.00%, 86.95%); opacity: 0.84\" title=\"0.081\">effect</span><span style=\"opacity: 0.80\"> the </span><span style=\"background-color: hsl(120, 100.00%, 89.88%); opacity: 0.83\" title=\"0.057\">film</span><span style=\"opacity: 0.80\"> has </span><span style=\"background-color: hsl(0, 100.00%, 93.77%); opacity: 0.81\" title=\"-0.028\">despite</span><span style=\"opacity: 0.80\"> its </span><span style=\"background-color: hsl(0, 100.00%, 97.98%); opacity: 0.80\" title=\"-0.006\">technically</span><span style=\"opacity: 0.80\"> </span><span style=\"background-color: hsl(0, 100.00%, 81.51%); opacity: 0.87\" title=\"-0.134\">atrocious</span><span style=\"opacity: 0.80\"> </span><span style=\"background-color: hsl(0, 100.00%, 94.53%); opacity: 0.81\" title=\"-0.023\">qualities</span><span style=\"opacity: 0.80\"> i </span><span style=\"background-color: hsl(0, 100.00%, 94.51%); opacity: 0.81\" title=\"-0.024\">don</span><span style=\"opacity: 0.80\">'t </span><span style=\"background-color: hsl(120, 100.00%, 88.88%); opacity: 0.83\" title=\"0.065\">think</span><span style=\"opacity: 0.80\"> can be </span><span style=\"background-color: hsl(0, 100.00%, 98.51%); opacity: 0.80\" title=\"-0.004\">rated</span><span style=\"opacity: 0.80\">.</span>\n",
              "</p>\n"
            ]
          },
          "metadata": {}
        },
        {
          "output_type": "display_data",
          "data": {
            "text/plain": [
              "<IPython.core.display.HTML object>"
            ],
            "text/html": [
              "<p style=background-color:black;color:white;font-weight:bold;padding:4px>'Meh' Movie #2 😐</p>"
            ]
          },
          "metadata": {}
        },
        {
          "output_type": "display_data",
          "data": {
            "text/plain": [
              "<IPython.core.display.HTML object>"
            ],
            "text/html": [
              "\n",
              "<style>\n",
              "    table.eli5-weights tr:hover {\n",
              "        filter: brightness(85%);\n",
              "    }\n",
              "</style>\n",
              "\n",
              "\n",
              "<p style=\"margin-bottom: 2.5em; margin-top:-0.5em;\">\n",
              "<span style=\"opacity: 0.80\">i'm </span><span style=\"background-color: hsl(120, 100.00%, 67.20%); opacity: 0.95\" title=\"0.281\">certain</span><span style=\"opacity: 0.80\"> that </span><span style=\"background-color: hsl(120, 100.00%, 86.89%); opacity: 0.84\" title=\"0.076\">people</span><span style=\"opacity: 0.80\"> from </span><span style=\"background-color: hsl(0, 100.00%, 94.66%); opacity: 0.81\" title=\"-0.021\">usa</span><span style=\"opacity: 0.80\"> </span><span style=\"background-color: hsl(0, 100.00%, 89.30%); opacity: 0.83\" title=\"-0.057\">don</span><span style=\"opacity: 0.80\">'t </span><span style=\"background-color: hsl(120, 100.00%, 90.63%); opacity: 0.83\" title=\"0.047\">know</span><span style=\"opacity: 0.80\"> anything about the </span><span style=\"background-color: hsl(0, 100.00%, 74.52%); opacity: 0.91\" title=\"-0.196\">rest</span><span style=\"opacity: 0.80\"> of the </span><span style=\"background-color: hsl(120, 100.00%, 68.64%); opacity: 0.94\" title=\"0.264\">world</span><span style=\"opacity: 0.80\">, but i </span><span style=\"background-color: hsl(120, 100.00%, 74.10%); opacity: 0.91\" title=\"0.201\">think</span><span style=\"opacity: 0.80\"> they mustn't </span><span style=\"background-color: hsl(0, 100.00%, 78.75%); opacity: 0.88\" title=\"-0.151\">talk</span><span style=\"opacity: 0.80\"> about what they </span><span style=\"background-color: hsl(0, 100.00%, 89.30%); opacity: 0.83\" title=\"-0.057\">don</span><span style=\"opacity: 0.80\">'t </span><span style=\"background-color: hsl(120, 100.00%, 86.38%); opacity: 0.84\" title=\"0.080\">know</span><span style=\"opacity: 0.80\">. and they must </span><span style=\"background-color: hsl(120, 100.00%, 78.78%); opacity: 0.88\" title=\"0.151\">remember</span><span style=\"opacity: 0.80\"> that the </span><span style=\"background-color: hsl(0, 100.00%, 77.62%); opacity: 0.89\" title=\"-0.163\">rest</span><span style=\"opacity: 0.80\"> of the </span><span style=\"background-color: hsl(120, 100.00%, 72.50%); opacity: 0.92\" title=\"0.219\">world</span><span style=\"opacity: 0.80\"> is not as </span><span style=\"background-color: hsl(0, 100.00%, 91.81%); opacity: 0.82\" title=\"-0.039\">hypocrite</span><span style=\"opacity: 0.80\"> as the </span><span style=\"background-color: hsl(0, 100.00%, 94.66%); opacity: 0.81\" title=\"-0.021\">usa</span><span style=\"opacity: 0.80\">. the only </span><span style=\"background-color: hsl(120, 100.00%, 99.50%); opacity: 0.80\" title=\"0.001\">places</span><span style=\"opacity: 0.80\"> where consented </span><span style=\"background-color: hsl(0, 100.00%, 81.81%); opacity: 0.86\" title=\"-0.121\">sex</span><span style=\"opacity: 0.80\"> between </span><span style=\"background-color: hsl(0, 100.00%, 90.27%); opacity: 0.83\" title=\"-0.050\">teenagers</span><span style=\"opacity: 0.80\"> are </span><span style=\"background-color: hsl(0, 100.00%, 94.61%); opacity: 0.81\" title=\"-0.021\">illegal</span><span style=\"opacity: 0.80\"> are the </span><span style=\"background-color: hsl(0, 100.00%, 94.66%); opacity: 0.81\" title=\"-0.021\">usa</span><span style=\"opacity: 0.80\"> and </span><span style=\"background-color: hsl(0, 100.00%, 72.41%); opacity: 0.92\" title=\"-0.220\">islamic</span><span style=\"opacity: 0.80\"> </span><span style=\"background-color: hsl(0, 100.00%, 83.86%); opacity: 0.85\" title=\"-0.102\">nations</span><span style=\"opacity: 0.80\">. in </span><span style=\"background-color: hsl(120, 100.00%, 88.56%); opacity: 0.83\" title=\"0.062\">france</span><span style=\"opacity: 0.80\">, for </span><span style=\"background-color: hsl(0, 100.00%, 84.27%); opacity: 0.85\" title=\"-0.098\">instance</span><span style=\"opacity: 0.80\">, the </span><span style=\"background-color: hsl(120, 100.00%, 78.93%); opacity: 0.88\" title=\"0.149\">age</span><span style=\"opacity: 0.80\"> of </span><span style=\"background-color: hsl(0, 100.00%, 88.57%); opacity: 0.83\" title=\"-0.062\">consent</span><span style=\"opacity: 0.80\"> is </span><span style=\"background-color: hsl(0, 100.00%, 84.39%); opacity: 0.85\" title=\"-0.097\">15</span><span style=\"opacity: 0.80\">. in </span><span style=\"background-color: hsl(120, 100.00%, 65.52%); opacity: 0.96\" title=\"0.302\">brazil</span><span style=\"opacity: 0.80\"> it's </span><span style=\"background-color: hsl(0, 100.00%, 77.66%); opacity: 0.89\" title=\"-0.162\">14</span><span style=\"opacity: 0.80\">. in </span><span style=\"background-color: hsl(0, 100.00%, 96.22%); opacity: 0.81\" title=\"-0.013\">spain</span><span style=\"opacity: 0.80\"> it's </span><span style=\"background-color: hsl(0, 100.00%, 66.04%); opacity: 0.96\" title=\"-0.295\">12</span><span style=\"opacity: 0.80\">. so the </span><span style=\"background-color: hsl(0, 100.00%, 90.27%); opacity: 0.83\" title=\"-0.050\">teenagers</span><span style=\"opacity: 0.80\"> </span><span style=\"background-color: hsl(0, 100.00%, 81.54%); opacity: 0.87\" title=\"-0.124\">actors</span><span style=\"opacity: 0.80\">, </span><span style=\"background-color: hsl(120, 100.00%, 70.25%); opacity: 0.93\" title=\"0.245\">16</span><span style=\"opacity: 0.80\"> and </span><span style=\"background-color: hsl(120, 100.00%, 71.06%); opacity: 0.93\" title=\"0.235\">17</span><span style=\"opacity: 0.80\"> </span><span style=\"background-color: hsl(120, 100.00%, 60.24%); opacity: 1.00\" title=\"0.370\">years</span><span style=\"opacity: 0.80\"> </span><span style=\"background-color: hsl(120, 100.00%, 79.77%); opacity: 0.88\" title=\"0.141\">old</span><span style=\"opacity: 0.80\"> by the </span><span style=\"background-color: hsl(120, 100.00%, 83.79%); opacity: 0.86\" title=\"0.103\">time</span><span style=\"opacity: 0.80\"> of </span><span style=\"background-color: hsl(0, 100.00%, 94.42%); opacity: 0.81\" title=\"-0.022\">production</span><span style=\"opacity: 0.80\">, aren't </span><span style=\"background-color: hsl(0, 100.00%, 74.11%); opacity: 0.91\" title=\"-0.201\">doing</span><span style=\"opacity: 0.80\"> anything </span><span style=\"background-color: hsl(0, 100.00%, 94.61%); opacity: 0.81\" title=\"-0.021\">illegal</span><span style=\"opacity: 0.80\">. </span><span style=\"background-color: hsl(0, 100.00%, 60.00%); opacity: 1.00\" title=\"-0.373\">nudity</span><span style=\"opacity: 0.80\"> isn't </span><span style=\"background-color: hsl(120, 100.00%, 92.70%); opacity: 0.82\" title=\"0.033\">considered</span><span style=\"opacity: 0.80\"> </span><span style=\"background-color: hsl(0, 100.00%, 68.07%); opacity: 0.94\" title=\"-0.271\">big</span><span style=\"opacity: 0.80\"> </span><span style=\"background-color: hsl(0, 100.00%, 93.97%); opacity: 0.81\" title=\"-0.025\">deal</span><span style=\"opacity: 0.80\"> in almost all </span><span style=\"background-color: hsl(120, 100.00%, 99.69%); opacity: 0.80\" title=\"0.000\">civilized</span><span style=\"opacity: 0.80\"> </span><span style=\"background-color: hsl(120, 100.00%, 83.66%); opacity: 0.86\" title=\"0.104\">countries</span><span style=\"opacity: 0.80\">. and only a </span><span style=\"background-color: hsl(0, 100.00%, 80.15%); opacity: 0.87\" title=\"-0.137\">freak</span><span style=\"opacity: 0.80\"> could </span><span style=\"background-color: hsl(120, 100.00%, 91.01%); opacity: 0.82\" title=\"0.044\">consider</span><span style=\"opacity: 0.80\"> a </span><span style=\"background-color: hsl(0, 100.00%, 90.27%); opacity: 0.83\" title=\"-0.050\">teenagers</span><span style=\"opacity: 0.80\">' </span><span style=\"background-color: hsl(120, 100.00%, 63.28%); opacity: 0.98\" title=\"0.330\">love</span><span style=\"opacity: 0.80\"> as </span><span style=\"background-color: hsl(120, 100.00%, 90.52%); opacity: 0.83\" title=\"0.048\">child</span><span style=\"opacity: 0.80\"> </span><span style=\"background-color: hsl(120, 100.00%, 98.81%); opacity: 0.80\" title=\"0.002\">molestation</span><span style=\"opacity: 0.80\">.</span>\n",
              "</p>\n"
            ]
          },
          "metadata": {}
        },
        {
          "output_type": "display_data",
          "data": {
            "text/plain": [
              "<IPython.core.display.HTML object>"
            ],
            "text/html": [
              "<p style=background-color:black;color:white;font-weight:bold;padding:4px>'Meh' Movie #3 😐</p>"
            ]
          },
          "metadata": {}
        },
        {
          "output_type": "display_data",
          "data": {
            "text/plain": [
              "<IPython.core.display.HTML object>"
            ],
            "text/html": [
              "\n",
              "<style>\n",
              "    table.eli5-weights tr:hover {\n",
              "        filter: brightness(85%);\n",
              "    }\n",
              "</style>\n",
              "\n",
              "\n",
              "<p style=\"margin-bottom: 2.5em; margin-top:-0.5em;\">\n",
              "<span style=\"background-color: hsl(0, 100.00%, 82.90%); opacity: 0.86\" title=\"-0.169\">blind</span><span style=\"opacity: 0.80\"> </span><span style=\"background-color: hsl(120, 100.00%, 86.66%); opacity: 0.84\" title=\"0.118\">date</span><span style=\"opacity: 0.80\"> (</span><span style=\"background-color: hsl(0, 100.00%, 97.54%); opacity: 0.80\" title=\"-0.011\">columbia</span><span style=\"opacity: 0.80\"> </span><span style=\"background-color: hsl(120, 100.00%, 90.08%); opacity: 0.83\" title=\"0.077\">pictures</span><span style=\"opacity: 0.80\">, </span><span style=\"background-color: hsl(120, 100.00%, 97.13%); opacity: 0.80\" title=\"0.013\">1934</span><span style=\"opacity: 0.80\">), was a </span><span style=\"background-color: hsl(0, 100.00%, 89.29%); opacity: 0.83\" title=\"-0.086\">decent</span><span style=\"opacity: 0.80\"> </span><span style=\"background-color: hsl(120, 100.00%, 87.02%); opacity: 0.84\" title=\"0.114\">film</span><span style=\"opacity: 0.80\">, but i have a few </span><span style=\"background-color: hsl(0, 100.00%, 86.94%); opacity: 0.84\" title=\"-0.115\">issues</span><span style=\"opacity: 0.80\"> with this </span><span style=\"background-color: hsl(0, 100.00%, 90.66%); opacity: 0.83\" title=\"-0.071\">film</span><span style=\"opacity: 0.80\">. first of all, i </span><span style=\"background-color: hsl(0, 100.00%, 94.51%); opacity: 0.81\" title=\"-0.033\">don</span><span style=\"opacity: 0.80\">'t </span><span style=\"background-color: hsl(0, 100.00%, 85.86%); opacity: 0.85\" title=\"-0.128\">fault</span><span style=\"opacity: 0.80\"> the </span><span style=\"background-color: hsl(0, 100.00%, 76.97%); opacity: 0.89\" title=\"-0.258\">actors</span><span style=\"opacity: 0.80\"> in this </span><span style=\"background-color: hsl(0, 100.00%, 96.36%); opacity: 0.81\" title=\"-0.018\">film</span><span style=\"opacity: 0.80\"> at all, but more or less, i have a </span><span style=\"background-color: hsl(0, 100.00%, 69.50%); opacity: 0.94\" title=\"-0.385\">problem</span><span style=\"opacity: 0.80\"> with the </span><span style=\"background-color: hsl(0, 100.00%, 69.32%); opacity: 0.94\" title=\"-0.389\">script</span><span style=\"opacity: 0.80\">. also, i </span><span style=\"background-color: hsl(120, 100.00%, 87.89%); opacity: 0.84\" title=\"0.103\">understand</span><span style=\"opacity: 0.80\"> that this </span><span style=\"background-color: hsl(120, 100.00%, 89.46%); opacity: 0.83\" title=\"0.084\">film</span><span style=\"opacity: 0.80\"> was made in the </span><span style=\"background-color: hsl(120, 100.00%, 79.11%); opacity: 0.88\" title=\"0.224\">1930</span><span style=\"opacity: 0.80\">'s and </span><span style=\"background-color: hsl(120, 100.00%, 88.84%); opacity: 0.83\" title=\"0.092\">people</span><span style=\"opacity: 0.80\"> were </span><span style=\"background-color: hsl(120, 100.00%, 96.06%); opacity: 0.81\" title=\"0.021\">looking</span><span style=\"opacity: 0.80\"> to </span><span style=\"background-color: hsl(120, 100.00%, 93.40%); opacity: 0.82\" title=\"0.043\">escape</span><span style=\"opacity: 0.80\"> </span><span style=\"background-color: hsl(120, 100.00%, 90.21%); opacity: 0.83\" title=\"0.076\">reality</span><span style=\"opacity: 0.80\">, but the </span><span style=\"background-color: hsl(0, 100.00%, 74.33%); opacity: 0.91\" title=\"-0.301\">script</span><span style=\"opacity: 0.80\"> made </span><span style=\"background-color: hsl(120, 100.00%, 95.88%); opacity: 0.81\" title=\"0.022\">ann</span><span style=\"opacity: 0.80\"> </span><span style=\"background-color: hsl(120, 100.00%, 89.99%); opacity: 0.83\" title=\"0.078\">sothern</span><span style=\"opacity: 0.80\">'s </span><span style=\"background-color: hsl(120, 100.00%, 94.72%); opacity: 0.81\" title=\"0.031\">character</span><span style=\"opacity: 0.80\"> </span><span style=\"background-color: hsl(0, 100.00%, 95.59%); opacity: 0.81\" title=\"-0.024\">look</span><span style=\"opacity: 0.80\"> </span><span style=\"background-color: hsl(0, 100.00%, 61.85%); opacity: 0.99\" title=\"-0.531\">weak</span><span style=\"opacity: 0.80\">. she </span><span style=\"background-color: hsl(0, 100.00%, 98.74%); opacity: 0.80\" title=\"-0.004\">kept</span><span style=\"opacity: 0.80\"> </span><span style=\"background-color: hsl(0, 100.00%, 92.59%); opacity: 0.82\" title=\"-0.051\">going</span><span style=\"opacity: 0.80\"> back and </span><span style=\"background-color: hsl(0, 100.00%, 90.71%); opacity: 0.82\" title=\"-0.071\">forth</span><span style=\"opacity: 0.80\"> between </span><span style=\"background-color: hsl(0, 100.00%, 98.92%); opacity: 0.80\" title=\"-0.003\">suitors</span><span style=\"opacity: 0.80\"> and i </span><span style=\"background-color: hsl(0, 100.00%, 87.90%); opacity: 0.84\" title=\"-0.103\">felt</span><span style=\"opacity: 0.80\"> as though she should have </span><span style=\"background-color: hsl(0, 100.00%, 80.44%); opacity: 0.87\" title=\"-0.204\">stayed</span><span style=\"opacity: 0.80\"> with </span><span style=\"background-color: hsl(120, 100.00%, 85.76%); opacity: 0.85\" title=\"0.130\">paul</span><span style=\"opacity: 0.80\"> </span><span style=\"background-color: hsl(120, 100.00%, 85.57%); opacity: 0.85\" title=\"0.132\">kelly</span><span style=\"opacity: 0.80\">'s </span><span style=\"background-color: hsl(0, 100.00%, 92.87%); opacity: 0.82\" title=\"-0.048\">character</span><span style=\"opacity: 0.80\"> in the </span><span style=\"background-color: hsl(0, 100.00%, 94.06%); opacity: 0.81\" title=\"-0.037\">end</span><span style=\"opacity: 0.80\">. he </span><span style=\"background-color: hsl(120, 100.00%, 84.31%); opacity: 0.85\" title=\"0.149\">truly</span><span style=\"opacity: 0.80\"> </span><span style=\"background-color: hsl(120, 100.00%, 98.43%); opacity: 0.80\" title=\"0.006\">did</span><span style=\"opacity: 0.80\"> </span><span style=\"background-color: hsl(0, 100.00%, 86.02%); opacity: 0.84\" title=\"-0.126\">care</span><span style=\"opacity: 0.80\"> about her and her </span><span style=\"background-color: hsl(120, 100.00%, 90.14%); opacity: 0.83\" title=\"0.077\">family</span><span style=\"opacity: 0.80\"> and would have done anything for her and he </span><span style=\"background-color: hsl(0, 100.00%, 86.63%); opacity: 0.84\" title=\"-0.119\">did</span><span style=\"opacity: 0.80\"> by </span><span style=\"background-color: hsl(0, 100.00%, 87.45%); opacity: 0.84\" title=\"-0.108\">giving</span><span style=\"opacity: 0.80\"> her up in the </span><span style=\"background-color: hsl(120, 100.00%, 97.63%); opacity: 0.80\" title=\"0.010\">end</span><span style=\"opacity: 0.80\"> to </span><span style=\"background-color: hsl(120, 100.00%, 95.35%); opacity: 0.81\" title=\"0.026\">fickle</span><span style=\"opacity: 0.80\"> </span><span style=\"background-color: hsl(0, 100.00%, 91.48%); opacity: 0.82\" title=\"-0.062\">neil</span><span style=\"opacity: 0.80\"> </span><span style=\"background-color: hsl(0, 100.00%, 88.70%); opacity: 0.83\" title=\"-0.093\">hamilton</span><span style=\"opacity: 0.80\"> who in my </span><span style=\"background-color: hsl(120, 100.00%, 92.27%); opacity: 0.82\" title=\"0.054\">opinion</span><span style=\"opacity: 0.80\"> was only out for a </span><span style=\"background-color: hsl(120, 100.00%, 82.39%); opacity: 0.86\" title=\"0.176\">good</span><span style=\"opacity: 0.80\"> </span><span style=\"background-color: hsl(120, 100.00%, 78.85%); opacity: 0.88\" title=\"0.228\">time</span><span style=\"opacity: 0.80\">. </span><span style=\"background-color: hsl(120, 100.00%, 85.76%); opacity: 0.85\" title=\"0.130\">paul</span><span style=\"opacity: 0.80\"> </span><span style=\"background-color: hsl(120, 100.00%, 85.57%); opacity: 0.85\" title=\"0.132\">kelly</span><span style=\"opacity: 0.80\">'s </span><span style=\"background-color: hsl(120, 100.00%, 97.10%); opacity: 0.80\" title=\"0.013\">character</span><span style=\"opacity: 0.80\">, although a </span><span style=\"background-color: hsl(120, 100.00%, 96.03%); opacity: 0.81\" title=\"0.021\">workaholic</span><span style=\"opacity: 0.80\"> was a </span><span style=\"background-color: hsl(120, 100.00%, 90.26%); opacity: 0.83\" title=\"0.075\">man</span><span style=\"opacity: 0.80\"> of </span><span style=\"background-color: hsl(120, 100.00%, 98.42%); opacity: 0.80\" title=\"0.006\">integrity</span><span style=\"opacity: 0.80\"> and </span><span style=\"background-color: hsl(120, 100.00%, 77.43%); opacity: 0.89\" title=\"0.251\">truly</span><span style=\"opacity: 0.80\"> </span><span style=\"background-color: hsl(120, 100.00%, 60.00%); opacity: 1.00\" title=\"0.568\">loved</span><span style=\"opacity: 0.80\"> </span><span style=\"background-color: hsl(120, 100.00%, 70.68%); opacity: 0.93\" title=\"0.364\">kitty</span><span style=\"opacity: 0.80\"> (</span><span style=\"background-color: hsl(120, 100.00%, 95.88%); opacity: 0.81\" title=\"0.022\">ann</span><span style=\"opacity: 0.80\"> </span><span style=\"background-color: hsl(120, 100.00%, 89.99%); opacity: 0.83\" title=\"0.078\">sothern</span><span style=\"opacity: 0.80\">) as </span><span style=\"background-color: hsl(120, 100.00%, 87.92%); opacity: 0.84\" title=\"0.103\">opposed</span><span style=\"opacity: 0.80\"> to </span><span style=\"background-color: hsl(0, 100.00%, 91.48%); opacity: 0.82\" title=\"-0.062\">neil</span><span style=\"opacity: 0.80\"> </span><span style=\"background-color: hsl(0, 100.00%, 88.70%); opacity: 0.83\" title=\"-0.093\">hamilton</span><span style=\"opacity: 0.80\">, while he </span><span style=\"background-color: hsl(0, 100.00%, 79.80%); opacity: 0.88\" title=\"-0.214\">did</span><span style=\"opacity: 0.80\"> </span><span style=\"background-color: hsl(0, 100.00%, 86.95%); opacity: 0.84\" title=\"-0.115\">like</span><span style=\"opacity: 0.80\"> her a </span><span style=\"background-color: hsl(120, 100.00%, 80.97%); opacity: 0.87\" title=\"0.196\">lot</span><span style=\"opacity: 0.80\">, i didn't see the </span><span style=\"background-color: hsl(120, 100.00%, 94.39%); opacity: 0.81\" title=\"0.034\">depth</span><span style=\"opacity: 0.80\"> of </span><span style=\"background-color: hsl(120, 100.00%, 84.06%); opacity: 0.85\" title=\"0.152\">love</span><span style=\"opacity: 0.80\"> that he had for her </span><span style=\"background-color: hsl(0, 100.00%, 95.09%); opacity: 0.81\" title=\"-0.028\">character</span><span style=\"opacity: 0.80\">. the </span><span style=\"background-color: hsl(0, 100.00%, 99.05%); opacity: 0.80\" title=\"-0.003\">production</span><span style=\"opacity: 0.80\"> </span><span style=\"background-color: hsl(120, 100.00%, 93.13%); opacity: 0.82\" title=\"0.046\">values</span><span style=\"opacity: 0.80\"> were </span><span style=\"background-color: hsl(120, 100.00%, 63.80%); opacity: 0.97\" title=\"0.492\">great</span><span style=\"opacity: 0.80\">, but the </span><span style=\"background-color: hsl(0, 100.00%, 74.73%); opacity: 0.90\" title=\"-0.295\">script</span><span style=\"opacity: 0.80\"> could have </span><span style=\"background-color: hsl(0, 100.00%, 93.65%); opacity: 0.81\" title=\"-0.041\">used</span><span style=\"opacity: 0.80\"> a </span><span style=\"background-color: hsl(0, 100.00%, 97.38%); opacity: 0.80\" title=\"-0.012\">little</span><span style=\"opacity: 0.80\"> </span><span style=\"background-color: hsl(120, 100.00%, 98.43%); opacity: 0.80\" title=\"0.006\">work</span><span style=\"opacity: 0.80\">.</span>\n",
              "</p>\n"
            ]
          },
          "metadata": {}
        },
        {
          "output_type": "display_data",
          "data": {
            "text/plain": [
              "<IPython.core.display.HTML object>"
            ],
            "text/html": [
              "<p style=background-color:black;color:white;font-weight:bold;padding:4px>'Meh' Movie #4 😐</p>"
            ]
          },
          "metadata": {}
        },
        {
          "output_type": "display_data",
          "data": {
            "text/plain": [
              "<IPython.core.display.HTML object>"
            ],
            "text/html": [
              "\n",
              "<style>\n",
              "    table.eli5-weights tr:hover {\n",
              "        filter: brightness(85%);\n",
              "    }\n",
              "</style>\n",
              "\n",
              "\n",
              "<p style=\"margin-bottom: 2.5em; margin-top:-0.5em;\">\n",
              "<span style=\"background-color: hsl(0, 100.00%, 91.98%); opacity: 0.82\" title=\"-0.036\">dead</span><span style=\"opacity: 0.80\"> or </span><span style=\"background-color: hsl(120, 100.00%, 88.50%); opacity: 0.83\" title=\"0.060\">alive</span><span style=\"opacity: 0.80\">: </span><span style=\"background-color: hsl(120, 100.00%, 87.37%); opacity: 0.84\" title=\"0.069\">final</span><span style=\"opacity: 0.80\">, the </span><span style=\"background-color: hsl(0, 100.00%, 92.62%); opacity: 0.82\" title=\"-0.032\">movie</span><span style=\"opacity: 0.80\"> that </span><span style=\"background-color: hsl(0, 100.00%, 73.71%); opacity: 0.91\" title=\"-0.195\">supposedly</span><span style=\"opacity: 0.80\"> </span><span style=\"background-color: hsl(120, 100.00%, 84.17%); opacity: 0.85\" title=\"0.095\">brings</span><span style=\"opacity: 0.80\"> together the three </span><span style=\"background-color: hsl(120, 100.00%, 96.04%); opacity: 0.81\" title=\"0.013\">films</span><span style=\"opacity: 0.80\"> in the very </span><span style=\"background-color: hsl(120, 100.00%, 94.82%); opacity: 0.81\" title=\"0.019\">loose</span><span style=\"opacity: 0.80\"> </span><span style=\"background-color: hsl(0, 100.00%, 91.98%); opacity: 0.82\" title=\"-0.036\">dead</span><span style=\"opacity: 0.80\"> or </span><span style=\"background-color: hsl(120, 100.00%, 88.50%); opacity: 0.83\" title=\"0.060\">alive</span><span style=\"opacity: 0.80\"> </span><span style=\"background-color: hsl(120, 100.00%, 93.63%); opacity: 0.81\" title=\"0.026\">trilogy</span><span style=\"opacity: 0.80\">, and </span><span style=\"background-color: hsl(0, 100.00%, 96.59%); opacity: 0.81\" title=\"-0.011\">connected</span><span style=\"opacity: 0.80\"> mostly by its </span><span style=\"background-color: hsl(120, 100.00%, 92.46%); opacity: 0.82\" title=\"0.033\">stars</span><span style=\"opacity: 0.80\">, riki takeiuchi and </span><span style=\"background-color: hsl(120, 100.00%, 94.62%); opacity: 0.81\" title=\"0.020\">sho</span><span style=\"opacity: 0.80\"> aikawa and that each </span><span style=\"background-color: hsl(120, 100.00%, 90.39%); opacity: 0.83\" title=\"0.046\">film</span><span style=\"opacity: 0.80\"> has its </span><span style=\"background-color: hsl(120, 100.00%, 82.47%); opacity: 0.86\" title=\"0.110\">share</span><span style=\"opacity: 0.80\"> of </span><span style=\"background-color: hsl(120, 100.00%, 94.43%); opacity: 0.81\" title=\"0.021\">bizarro</span><span style=\"opacity: 0.80\">-</span><span style=\"background-color: hsl(120, 100.00%, 85.65%); opacity: 0.85\" title=\"0.082\">world</span><span style=\"opacity: 0.80\"> fixtures and </span><span style=\"background-color: hsl(0, 100.00%, 88.37%); opacity: 0.83\" title=\"-0.061\">neuroses</span><span style=\"opacity: 0.80\"> and </span><span style=\"background-color: hsl(0, 100.00%, 89.83%); opacity: 0.83\" title=\"-0.050\">heaps</span><span style=\"opacity: 0.80\"> of </span><span style=\"background-color: hsl(0, 100.00%, 94.93%); opacity: 0.81\" title=\"-0.019\">violence</span><span style=\"opacity: 0.80\">, is </span><span style=\"background-color: hsl(0, 100.00%, 86.64%); opacity: 0.84\" title=\"-0.074\">admittedly</span><span style=\"opacity: 0.80\"> the </span><span style=\"background-color: hsl(120, 100.00%, 96.40%); opacity: 0.81\" title=\"0.011\">weakest</span><span style=\"opacity: 0.80\"> of the </span><span style=\"background-color: hsl(120, 100.00%, 86.39%); opacity: 0.84\" title=\"0.076\">lot</span><span style=\"opacity: 0.80\">. that none of the three </span><span style=\"background-color: hsl(120, 100.00%, 94.62%); opacity: 0.81\" title=\"0.020\">films</span><span style=\"opacity: 0.80\"> </span><span style=\"background-color: hsl(0, 100.00%, 87.94%); opacity: 0.84\" title=\"-0.064\">ends</span><span style=\"opacity: 0.80\"> up being a </span><span style=\"background-color: hsl(0, 100.00%, 60.00%); opacity: 1.00\" title=\"-0.356\">disappointment</span><span style=\"opacity: 0.80\"> is less a </span><span style=\"background-color: hsl(120, 100.00%, 86.37%); opacity: 0.84\" title=\"0.076\">testament</span><span style=\"opacity: 0.80\"> to the </span><span style=\"background-color: hsl(0, 100.00%, 85.65%); opacity: 0.85\" title=\"-0.082\">creativity</span><span style=\"opacity: 0.80\"> of the </span><span style=\"background-color: hsl(0, 100.00%, 79.18%); opacity: 0.88\" title=\"-0.140\">material</span><span style=\"opacity: 0.80\"> but to the </span><span style=\"background-color: hsl(120, 100.00%, 94.40%); opacity: 0.81\" title=\"0.021\">pound</span><span style=\"opacity: 0.80\">-for-</span><span style=\"background-color: hsl(120, 100.00%, 94.40%); opacity: 0.81\" title=\"0.021\">pound</span><span style=\"opacity: 0.80\"> </span><span style=\"background-color: hsl(120, 100.00%, 80.37%); opacity: 0.87\" title=\"0.129\">guts</span><span style=\"opacity: 0.80\"> that </span><span style=\"background-color: hsl(0, 100.00%, 81.50%); opacity: 0.87\" title=\"-0.118\">director</span><span style=\"opacity: 0.80\"> </span><span style=\"background-color: hsl(0, 100.00%, 89.05%); opacity: 0.83\" title=\"-0.056\">takashi</span><span style=\"opacity: 0.80\"> </span><span style=\"background-color: hsl(120, 100.00%, 97.24%); opacity: 0.80\" title=\"0.008\">miike</span><span style=\"opacity: 0.80\"> </span><span style=\"background-color: hsl(120, 100.00%, 88.82%); opacity: 0.83\" title=\"0.058\">takes</span><span style=\"opacity: 0.80\"> with the </span><span style=\"background-color: hsl(120, 100.00%, 91.84%); opacity: 0.82\" title=\"0.037\">surroundings</span><span style=\"opacity: 0.80\"> and the </span><span style=\"background-color: hsl(0, 100.00%, 79.18%); opacity: 0.88\" title=\"-0.140\">material</span><span style=\"opacity: 0.80\">. here he </span><span style=\"background-color: hsl(120, 100.00%, 93.92%); opacity: 0.81\" title=\"0.024\">presents</span><span style=\"opacity: 0.80\"> an </span><span style=\"background-color: hsl(120, 100.00%, 90.97%); opacity: 0.82\" title=\"0.042\">overtly</span><span style=\"opacity: 0.80\"> </span><span style=\"background-color: hsl(120, 100.00%, 95.17%); opacity: 0.81\" title=\"0.017\">dystopian</span><span style=\"opacity: 0.80\"> </span><span style=\"background-color: hsl(120, 100.00%, 81.42%); opacity: 0.87\" title=\"0.119\">future</span><span style=\"opacity: 0.80\">, however </span><span style=\"background-color: hsl(0, 100.00%, 94.14%); opacity: 0.81\" title=\"-0.023\">low</span><span style=\"opacity: 0.80\">-</span><span style=\"background-color: hsl(120, 100.00%, 89.77%); opacity: 0.83\" title=\"0.051\">key</span><span style=\"opacity: 0.80\">, where a </span><span style=\"background-color: hsl(0, 100.00%, 91.91%); opacity: 0.82\" title=\"-0.036\">homosexual</span><span style=\"opacity: 0.80\"> </span><span style=\"background-color: hsl(0, 100.00%, 95.97%); opacity: 0.81\" title=\"-0.013\">mayor</span><span style=\"opacity: 0.80\">/</span><span style=\"background-color: hsl(120, 100.00%, 86.47%); opacity: 0.84\" title=\"0.076\">dictator</span><span style=\"opacity: 0.80\"> (</span><span style=\"background-color: hsl(120, 100.00%, 93.39%); opacity: 0.82\" title=\"0.027\">richard</span><span style=\"opacity: 0.80\"> </span><span style=\"background-color: hsl(120, 100.00%, 88.41%); opacity: 0.83\" title=\"0.061\">chen</span><span style=\"opacity: 0.80\">) has the </span><span style=\"background-color: hsl(0, 100.00%, 87.57%); opacity: 0.84\" title=\"-0.067\">entire</span><span style=\"opacity: 0.80\"> </span><span style=\"background-color: hsl(120, 100.00%, 88.82%); opacity: 0.83\" title=\"0.058\">village</span><span style=\"opacity: 0.80\"> </span><span style=\"background-color: hsl(120, 100.00%, 98.68%); opacity: 0.80\" title=\"0.003\">drugged</span><span style=\"opacity: 0.80\"> except for a </span><span style=\"background-color: hsl(0, 100.00%, 96.33%); opacity: 0.81\" title=\"-0.012\">group</span><span style=\"opacity: 0.80\"> of </span><span style=\"background-color: hsl(0, 100.00%, 92.14%); opacity: 0.82\" title=\"-0.035\">rebels</span><span style=\"opacity: 0.80\">. there's also replicants- </span><span style=\"background-color: hsl(0, 100.00%, 98.19%); opacity: 0.80\" title=\"-0.004\">robots</span><span style=\"opacity: 0.80\">- in this </span><span style=\"background-color: hsl(120, 100.00%, 94.15%); opacity: 0.81\" title=\"0.023\">year</span><span style=\"opacity: 0.80\"> of 2346, one of them is </span><span style=\"background-color: hsl(120, 100.00%, 98.60%); opacity: 0.80\" title=\"0.003\">ryo</span><span style=\"opacity: 0.80\"> (aikawa), a </span><span style=\"background-color: hsl(0, 100.00%, 91.44%); opacity: 0.82\" title=\"-0.039\">robot</span><span style=\"opacity: 0.80\"> of </span><span style=\"background-color: hsl(0, 100.00%, 92.30%); opacity: 0.82\" title=\"-0.034\">complete</span><span style=\"opacity: 0.80\"> </span><span style=\"background-color: hsl(120, 100.00%, 92.49%); opacity: 0.82\" title=\"0.033\">lethal</span><span style=\"opacity: 0.80\"> </span><span style=\"background-color: hsl(120, 100.00%, 85.20%); opacity: 0.85\" title=\"0.086\">skill</span><span style=\"opacity: 0.80\"> but also with the </span><span style=\"background-color: hsl(0, 100.00%, 94.98%); opacity: 0.81\" title=\"-0.018\">capacity</span><span style=\"opacity: 0.80\"> to </span><span style=\"background-color: hsl(120, 100.00%, 84.57%); opacity: 0.85\" title=\"0.091\">love</span><span style=\"opacity: 0.80\"> and </span><span style=\"background-color: hsl(120, 100.00%, 96.98%); opacity: 0.80\" title=\"0.009\">learn</span><span style=\"opacity: 0.80\"> and so </span><span style=\"background-color: hsl(0, 100.00%, 92.41%); opacity: 0.82\" title=\"-0.033\">forth</span><span style=\"opacity: 0.80\">. then a </span><span style=\"background-color: hsl(120, 100.00%, 95.23%); opacity: 0.81\" title=\"0.017\">cop</span><span style=\"opacity: 0.80\">, </span><span style=\"background-color: hsl(0, 100.00%, 97.25%); opacity: 0.80\" title=\"-0.008\">takeshi</span><span style=\"opacity: 0.80\"> (takeiuchi) </span><span style=\"background-color: hsl(0, 100.00%, 85.29%); opacity: 0.85\" title=\"-0.085\">happens</span><span style=\"opacity: 0.80\"> to be the </span><span style=\"background-color: hsl(0, 100.00%, 95.97%); opacity: 0.81\" title=\"-0.013\">mayor</span><span style=\"opacity: 0.80\">'s top </span><span style=\"background-color: hsl(120, 100.00%, 95.02%); opacity: 0.81\" title=\"0.018\">guard</span><span style=\"opacity: 0.80\">. but </span><span style=\"background-color: hsl(120, 100.00%, 88.67%); opacity: 0.83\" title=\"0.059\">things</span><span style=\"opacity: 0.80\"> </span><span style=\"background-color: hsl(0, 100.00%, 98.01%); opacity: 0.80\" title=\"-0.005\">start</span><span style=\"opacity: 0.80\"> to </span><span style=\"background-color: hsl(120, 100.00%, 85.37%); opacity: 0.85\" title=\"0.085\">unravel</span><span style=\"opacity: 0.80\"> on both </span><span style=\"background-color: hsl(120, 100.00%, 91.21%); opacity: 0.82\" title=\"0.041\">sides</span><span style=\"opacity: 0.80\">, </span><span style=\"background-color: hsl(120, 100.00%, 98.60%); opacity: 0.80\" title=\"0.003\">ryo</span><span style=\"opacity: 0.80\"> </span><span style=\"background-color: hsl(120, 100.00%, 88.06%); opacity: 0.84\" title=\"0.063\">teaming</span><span style=\"opacity: 0.80\"> up with the </span><span style=\"background-color: hsl(0, 100.00%, 92.14%); opacity: 0.82\" title=\"-0.035\">rebels</span><span style=\"opacity: 0.80\"> and </span><span style=\"background-color: hsl(0, 100.00%, 97.25%); opacity: 0.80\" title=\"-0.008\">takeshi</span><span style=\"opacity: 0.80\"> with his </span><span style=\"background-color: hsl(0, 100.00%, 94.32%); opacity: 0.81\" title=\"-0.022\">employer</span><span style=\"opacity: 0.80\">, though </span><span style=\"background-color: hsl(120, 100.00%, 97.70%); opacity: 0.80\" title=\"0.006\">blood</span><span style=\"opacity: 0.80\">-</span><span style=\"background-color: hsl(120, 100.00%, 87.04%); opacity: 0.84\" title=\"0.071\">soaked</span><span style=\"opacity: 0.80\"> </span><span style=\"background-color: hsl(120, 100.00%, 89.62%); opacity: 0.83\" title=\"0.052\">mishaps</span><span style=\"opacity: 0.80\"> </span><span style=\"background-color: hsl(0, 100.00%, 97.08%); opacity: 0.80\" title=\"-0.008\">like</span><span style=\"opacity: 0.80\"> a </span><span style=\"background-color: hsl(0, 100.00%, 86.68%); opacity: 0.84\" title=\"-0.074\">hostage</span><span style=\"opacity: 0.80\"> </span><span style=\"background-color: hsl(120, 100.00%, 92.58%); opacity: 0.82\" title=\"0.032\">trade</span><span style=\"opacity: 0.80\">-off </span><span style=\"background-color: hsl(120, 100.00%, 95.61%); opacity: 0.81\" title=\"0.015\">gone</span><span style=\"opacity: 0.80\"> </span><span style=\"background-color: hsl(0, 100.00%, 76.42%); opacity: 0.89\" title=\"-0.167\">bad</span><span style=\"opacity: 0.80\">, and with </span><span style=\"background-color: hsl(0, 100.00%, 97.25%); opacity: 0.80\" title=\"-0.008\">takeshi</span><span style=\"opacity: 0.80\"> </span><span style=\"background-color: hsl(0, 100.00%, 90.25%); opacity: 0.83\" title=\"-0.047\">finding</span><span style=\"opacity: 0.80\"> out his </span><span style=\"background-color: hsl(120, 100.00%, 94.99%); opacity: 0.81\" title=\"0.018\">wife</span><span style=\"opacity: 0.80\"> and </span><span style=\"background-color: hsl(0, 100.00%, 96.63%); opacity: 0.81\" title=\"-0.010\">son</span><span style=\"opacity: 0.80\"> are </span><span style=\"background-color: hsl(0, 100.00%, 98.19%); opacity: 0.80\" title=\"-0.004\">robots</span><span style=\"opacity: 0.80\"> (not done in an </span><span style=\"background-color: hsl(0, 100.00%, 88.27%); opacity: 0.83\" title=\"-0.062\">alien</span><span style=\"opacity: 0.80\"> </span><span style=\"background-color: hsl(0, 100.00%, 93.42%); opacity: 0.82\" title=\"-0.027\">mood</span><span style=\"opacity: 0.80\">, </span><span style=\"background-color: hsl(120, 100.00%, 87.16%); opacity: 0.84\" title=\"0.070\">mind</span><span style=\"opacity: 0.80\"> you, </span><span style=\"background-color: hsl(0, 100.00%, 90.27%); opacity: 0.83\" title=\"-0.047\">just</span><span style=\"opacity: 0.80\"> </span><span style=\"background-color: hsl(0, 100.00%, 84.26%); opacity: 0.85\" title=\"-0.094\">suddenly</span><span style=\"opacity: 0.80\"> as if in a the </span><span style=\"background-color: hsl(120, 100.00%, 90.43%); opacity: 0.83\" title=\"0.046\">power</span><span style=\"opacity: 0.80\"> </span><span style=\"background-color: hsl(0, 100.00%, 94.15%); opacity: 0.81\" title=\"-0.023\">went</span><span style=\"opacity: 0.80\"> out), and that he himself is one as well. and it all </span><span style=\"background-color: hsl(120, 100.00%, 93.84%); opacity: 0.81\" title=\"0.025\">leads</span><span style=\"opacity: 0.80\"> up to one last, </span><span style=\"background-color: hsl(0, 100.00%, 90.05%); opacity: 0.83\" title=\"-0.049\">inexplicable</span><span style=\"opacity: 0.80\"> </span><span style=\"background-color: hsl(120, 100.00%, 91.43%); opacity: 0.82\" title=\"0.039\">showdown</span><span style=\"opacity: 0.80\"> between the two </span><span style=\"background-color: hsl(120, 100.00%, 93.99%); opacity: 0.81\" title=\"0.024\">men</span><span style=\"opacity: 0.80\">. </span><span style=\"background-color: hsl(120, 100.00%, 92.52%); opacity: 0.82\" title=\"0.032\">strange</span><span style=\"opacity: 0.80\"> that there's yet another </span><span style=\"background-color: hsl(120, 100.00%, 94.51%); opacity: 0.81\" title=\"0.021\">film</span><span style=\"opacity: 0.80\"> where </span><span style=\"background-color: hsl(120, 100.00%, 93.49%); opacity: 0.81\" title=\"0.027\">miike</span><span style=\"opacity: 0.80\"> has </span><span style=\"background-color: hsl(120, 100.00%, 90.34%); opacity: 0.83\" title=\"0.047\">peaks</span><span style=\"opacity: 0.80\"> and </span><span style=\"background-color: hsl(0, 100.00%, 97.72%); opacity: 0.80\" title=\"-0.006\">valleys</span><span style=\"opacity: 0.80\"> here, sometimes </span><span style=\"background-color: hsl(0, 100.00%, 90.25%); opacity: 0.83\" title=\"-0.047\">finding</span><span style=\"opacity: 0.80\"> that </span><span style=\"background-color: hsl(0, 100.00%, 85.44%); opacity: 0.85\" title=\"-0.084\">middle</span><span style=\"opacity: 0.80\"> </span><span style=\"background-color: hsl(0, 100.00%, 91.46%); opacity: 0.82\" title=\"-0.039\">ground</span><span style=\"opacity: 0.80\"> of </span><span style=\"background-color: hsl(120, 100.00%, 88.82%); opacity: 0.83\" title=\"0.058\">success</span><span style=\"opacity: 0.80\"> where </span><span style=\"background-color: hsl(0, 100.00%, 90.49%); opacity: 0.83\" title=\"-0.046\">science</span><span style=\"opacity: 0.80\"> </span><span style=\"background-color: hsl(0, 100.00%, 91.30%); opacity: 0.82\" title=\"-0.040\">fiction</span><span style=\"opacity: 0.80\"> can have some </span><span style=\"background-color: hsl(120, 100.00%, 92.72%); opacity: 0.82\" title=\"0.031\">meaning</span><span style=\"opacity: 0.80\"> to it. but there </span><span style=\"background-color: hsl(0, 100.00%, 98.10%); opacity: 0.80\" title=\"-0.005\">really</span><span style=\"opacity: 0.80\"> isn't anything to take from this </span><span style=\"background-color: hsl(120, 100.00%, 95.83%); opacity: 0.81\" title=\"0.014\">story</span><span style=\"opacity: 0.80\">, except that the </span><span style=\"background-color: hsl(0, 100.00%, 95.97%); opacity: 0.81\" title=\"-0.013\">mayor</span><span style=\"opacity: 0.80\">/</span><span style=\"background-color: hsl(120, 100.00%, 86.47%); opacity: 0.84\" title=\"0.076\">dictator</span><span style=\"opacity: 0.80\"> is a dingbat with no back-</span><span style=\"background-color: hsl(120, 100.00%, 87.77%); opacity: 0.84\" title=\"0.065\">story</span><span style=\"opacity: 0.80\"> who </span><span style=\"background-color: hsl(120, 100.00%, 84.59%); opacity: 0.85\" title=\"0.091\">gets</span><span style=\"opacity: 0.80\"> his </span><span style=\"background-color: hsl(0, 100.00%, 96.14%); opacity: 0.81\" title=\"-0.013\">rocks</span><span style=\"opacity: 0.80\"> off </span><span style=\"background-color: hsl(0, 100.00%, 90.96%); opacity: 0.82\" title=\"-0.043\">making</span><span style=\"opacity: 0.80\"> </span><span style=\"background-color: hsl(120, 100.00%, 97.47%); opacity: 0.80\" title=\"0.007\">sure</span><span style=\"opacity: 0.80\"> his </span><span style=\"background-color: hsl(0, 100.00%, 91.55%); opacity: 0.82\" title=\"-0.039\">drug</span><span style=\"opacity: 0.80\"> </span><span style=\"background-color: hsl(120, 100.00%, 90.68%); opacity: 0.82\" title=\"0.044\">stops</span><span style=\"opacity: 0.80\"> </span><span style=\"background-color: hsl(0, 100.00%, 85.47%); opacity: 0.85\" title=\"-0.084\">couples</span><span style=\"opacity: 0.80\"> from </span><span style=\"background-color: hsl(120, 100.00%, 92.78%); opacity: 0.82\" title=\"0.031\">getting</span><span style=\"opacity: 0.80\"> </span><span style=\"background-color: hsl(0, 100.00%, 94.42%); opacity: 0.81\" title=\"-0.021\">pregnant</span><span style=\"opacity: 0.80\"> and that everything </span><span style=\"background-color: hsl(120, 100.00%, 90.91%); opacity: 0.82\" title=\"0.043\">remains</span><span style=\"opacity: 0.80\"> under </span><span style=\"background-color: hsl(0, 100.00%, 96.37%); opacity: 0.81\" title=\"-0.012\">control</span><span style=\"opacity: 0.80\">. he also has along with him his </span><span style=\"background-color: hsl(120, 100.00%, 84.57%); opacity: 0.85\" title=\"0.091\">love</span><span style=\"opacity: 0.80\"> </span><span style=\"background-color: hsl(0, 100.00%, 83.32%); opacity: 0.86\" title=\"-0.102\">slave</span><span style=\"opacity: 0.80\">, i'd </span><span style=\"background-color: hsl(0, 100.00%, 80.89%); opacity: 0.87\" title=\"-0.124\">guess</span><span style=\"opacity: 0.80\">, in the </span><span style=\"background-color: hsl(120, 100.00%, 69.51%); opacity: 0.94\" title=\"0.241\">hilarious</span><span style=\"opacity: 0.80\"> </span><span style=\"background-color: hsl(120, 100.00%, 95.56%); opacity: 0.81\" title=\"0.015\">non</span><span style=\"opacity: 0.80\">-</span><span style=\"background-color: hsl(0, 100.00%, 97.01%); opacity: 0.80\" title=\"-0.009\">speaking</span><span style=\"opacity: 0.80\"> part of a </span><span style=\"background-color: hsl(0, 100.00%, 91.71%); opacity: 0.82\" title=\"-0.038\">saxophone</span><span style=\"opacity: 0.80\"> </span><span style=\"background-color: hsl(0, 100.00%, 82.45%); opacity: 0.86\" title=\"-0.110\">player</span><span style=\"opacity: 0.80\"> who also </span><span style=\"background-color: hsl(0, 100.00%, 98.33%); opacity: 0.80\" title=\"-0.004\">doubles</span><span style=\"opacity: 0.80\"> sometimes as a </span><span style=\"background-color: hsl(120, 100.00%, 83.99%); opacity: 0.85\" title=\"0.096\">human</span><span style=\"opacity: 0.80\"> </span><span style=\"background-color: hsl(120, 100.00%, 99.35%); opacity: 0.80\" title=\"0.001\">fixture</span><span style=\"opacity: 0.80\"> when not </span><span style=\"background-color: hsl(120, 100.00%, 99.87%); opacity: 0.80\" title=\"0.000\">plugging</span><span style=\"opacity: 0.80\"> </span><span style=\"background-color: hsl(0, 100.00%, 95.07%); opacity: 0.81\" title=\"-0.018\">away</span><span style=\"opacity: 0.80\"> the </span><span style=\"background-color: hsl(120, 100.00%, 86.37%); opacity: 0.84\" title=\"0.076\">moody</span><span style=\"opacity: 0.80\"> </span><span style=\"background-color: hsl(120, 100.00%, 87.39%); opacity: 0.84\" title=\"0.068\">blues</span><span style=\"opacity: 0.80\">. meanwhile, we get the </span><span style=\"background-color: hsl(120, 100.00%, 80.62%); opacity: 0.87\" title=\"0.126\">conventional</span><span style=\"opacity: 0.80\"> </span><span style=\"background-color: hsl(120, 100.00%, 91.21%); opacity: 0.82\" title=\"0.041\">sides</span><span style=\"opacity: 0.80\"> to </span><span style=\"background-color: hsl(120, 100.00%, 98.60%); opacity: 0.80\" title=\"0.003\">ryo</span><span style=\"opacity: 0.80\"> and </span><span style=\"background-color: hsl(0, 100.00%, 97.25%); opacity: 0.80\" title=\"-0.008\">takeshi</span><span style=\"opacity: 0.80\">'s </span><span style=\"background-color: hsl(0, 100.00%, 98.42%); opacity: 0.80\" title=\"-0.004\">stories</span><span style=\"opacity: 0.80\">, and they're never </span><span style=\"background-color: hsl(0, 100.00%, 65.64%); opacity: 0.96\" title=\"-0.286\">uninteresting</span><span style=\"opacity: 0.80\">, </span><span style=\"background-color: hsl(120, 100.00%, 93.84%); opacity: 0.81\" title=\"0.025\">just</span><span style=\"opacity: 0.80\"> not </span><span style=\"background-color: hsl(120, 100.00%, 89.76%); opacity: 0.83\" title=\"0.051\">totally</span><span style=\"opacity: 0.80\"> </span><span style=\"background-color: hsl(120, 100.00%, 97.06%); opacity: 0.80\" title=\"0.009\">convincing</span><span style=\"opacity: 0.80\"> enough to </span><span style=\"background-color: hsl(0, 100.00%, 97.40%); opacity: 0.80\" title=\"-0.007\">hold</span><span style=\"opacity: 0.80\"> interest. of </span><span style=\"background-color: hsl(120, 100.00%, 88.20%); opacity: 0.83\" title=\"0.062\">course</span><span style=\"opacity: 0.80\"> </span><span style=\"background-color: hsl(120, 100.00%, 93.49%); opacity: 0.81\" title=\"0.027\">miike</span><span style=\"opacity: 0.80\"> isn't above </span><span style=\"background-color: hsl(120, 100.00%, 88.15%); opacity: 0.84\" title=\"0.063\">having</span><span style=\"opacity: 0.80\"> some </span><span style=\"background-color: hsl(120, 100.00%, 71.66%); opacity: 0.92\" title=\"0.218\">fun</span><span style=\"opacity: 0.80\">, </span><span style=\"background-color: hsl(0, 100.00%, 95.83%); opacity: 0.81\" title=\"-0.014\">like</span><span style=\"opacity: 0.80\"> when </span><span style=\"background-color: hsl(0, 100.00%, 97.25%); opacity: 0.80\" title=\"-0.008\">takeshi</span><span style=\"opacity: 0.80\"> plops </span><span style=\"background-color: hsl(120, 100.00%, 88.83%); opacity: 0.83\" title=\"0.058\">michelle</span><span style=\"opacity: 0.80\"> (</span><span style=\"background-color: hsl(120, 100.00%, 91.76%); opacity: 0.82\" title=\"0.037\">maria</span><span style=\"opacity: 0.80\"> </span><span style=\"background-color: hsl(120, 100.00%, 88.41%); opacity: 0.83\" title=\"0.061\">chen</span><span style=\"opacity: 0.80\">) in to the </span><span style=\"background-color: hsl(120, 100.00%, 96.67%); opacity: 0.81\" title=\"0.010\">water</span><span style=\"opacity: 0.80\"> to get her to </span><span style=\"background-color: hsl(120, 100.00%, 86.59%); opacity: 0.84\" title=\"0.075\">swim</span><span style=\"opacity: 0.80\"> after a </span><span style=\"background-color: hsl(0, 100.00%, 89.74%); opacity: 0.83\" title=\"-0.051\">near</span><span style=\"opacity: 0.80\">-</span><span style=\"background-color: hsl(120, 100.00%, 74.75%); opacity: 0.90\" title=\"0.184\">assassination</span><span style=\"opacity: 0.80\"> </span><span style=\"background-color: hsl(0, 100.00%, 81.39%); opacity: 0.87\" title=\"-0.119\">attempt</span><span style=\"opacity: 0.80\"> on the </span><span style=\"background-color: hsl(0, 100.00%, 95.97%); opacity: 0.81\" title=\"-0.013\">mayor</span><span style=\"opacity: 0.80\">, or in </span><span style=\"background-color: hsl(120, 100.00%, 97.42%); opacity: 0.80\" title=\"0.007\">having</span><span style=\"opacity: 0.80\"> the </span><span style=\"background-color: hsl(0, 100.00%, 83.41%); opacity: 0.86\" title=\"-0.101\">original</span><span style=\"opacity: 0.80\"> </span><span style=\"background-color: hsl(120, 100.00%, 93.57%); opacity: 0.81\" title=\"0.026\">rebel</span><span style=\"opacity: 0.80\"> </span><span style=\"background-color: hsl(120, 100.00%, 89.56%); opacity: 0.83\" title=\"0.052\">leader</span><span style=\"opacity: 0.80\"> </span><span style=\"background-color: hsl(120, 100.00%, 98.47%); opacity: 0.80\" title=\"0.003\">speaking</span><span style=\"opacity: 0.80\"> </span><span style=\"background-color: hsl(120, 100.00%, 83.80%); opacity: 0.86\" title=\"0.098\">english</span><span style=\"opacity: 0.80\"> for no </span><span style=\"background-color: hsl(120, 100.00%, 82.44%); opacity: 0.86\" title=\"0.110\">good</span><span style=\"opacity: 0.80\"> </span><span style=\"background-color: hsl(0, 100.00%, 87.57%); opacity: 0.84\" title=\"-0.067\">reason</span><span style=\"opacity: 0.80\"> at all. there's even a </span><span style=\"background-color: hsl(0, 100.00%, 96.47%); opacity: 0.81\" title=\"-0.011\">playful</span><span style=\"opacity: 0.80\"> </span><span style=\"background-color: hsl(0, 100.00%, 85.85%); opacity: 0.85\" title=\"-0.081\">homage</span><span style=\"opacity: 0.80\"> to </span><span style=\"background-color: hsl(0, 100.00%, 93.10%); opacity: 0.82\" title=\"-0.029\">old</span><span style=\"opacity: 0.80\"> </span><span style=\"background-color: hsl(120, 100.00%, 85.13%); opacity: 0.85\" title=\"0.087\">sci</span><span style=\"opacity: 0.80\">-</span><span style=\"background-color: hsl(120, 100.00%, 81.20%); opacity: 0.87\" title=\"0.121\">fi</span><span style=\"opacity: 0.80\"> </span><span style=\"background-color: hsl(120, 100.00%, 80.71%); opacity: 0.87\" title=\"0.126\">cartoons</span><span style=\"opacity: 0.80\"> at the </span><span style=\"background-color: hsl(0, 100.00%, 88.20%); opacity: 0.83\" title=\"-0.062\">start</span><span style=\"opacity: 0.80\"> of the </span><span style=\"background-color: hsl(120, 100.00%, 94.62%); opacity: 0.81\" title=\"0.020\">film</span><span style=\"opacity: 0.80\">. but there's nothing very </span><span style=\"background-color: hsl(120, 100.00%, 76.52%); opacity: 0.89\" title=\"0.166\">compelling</span><span style=\"opacity: 0.80\"> </span><span style=\"background-color: hsl(0, 100.00%, 87.34%); opacity: 0.84\" title=\"-0.069\">substance</span><span style=\"opacity: 0.80\">-</span><span style=\"background-color: hsl(120, 100.00%, 82.59%); opacity: 0.86\" title=\"0.108\">wise</span><span style=\"opacity: 0.80\">, with the </span><span style=\"background-color: hsl(0, 100.00%, 83.28%); opacity: 0.86\" title=\"-0.102\">exception</span><span style=\"opacity: 0.80\"> of </span><span style=\"background-color: hsl(0, 100.00%, 97.25%); opacity: 0.80\" title=\"-0.008\">takeshi</span><span style=\"opacity: 0.80\">'s </span><span style=\"background-color: hsl(120, 100.00%, 89.39%); opacity: 0.83\" title=\"0.053\">minor</span><span style=\"opacity: 0.80\"> </span><span style=\"background-color: hsl(120, 100.00%, 93.36%); opacity: 0.82\" title=\"0.027\">turns</span><span style=\"opacity: 0.80\"> at becoming \"</span><span style=\"background-color: hsl(120, 100.00%, 93.76%); opacity: 0.81\" title=\"0.025\">good</span><span style=\"opacity: 0.80\">\" </span><span style=\"background-color: hsl(0, 100.00%, 96.16%); opacity: 0.81\" title=\"-0.013\">midway</span><span style=\"opacity: 0.80\"> through the </span><span style=\"background-color: hsl(0, 100.00%, 98.41%); opacity: 0.80\" title=\"-0.004\">film</span><span style=\"opacity: 0.80\"> (</span><span style=\"background-color: hsl(0, 100.00%, 96.91%); opacity: 0.81\" title=\"-0.009\">helping</span><span style=\"opacity: 0.80\"> one </span><span style=\"background-color: hsl(0, 100.00%, 85.21%); opacity: 0.85\" title=\"-0.086\">couple</span><span style=\"opacity: 0.80\"> get by with </span><span style=\"background-color: hsl(0, 100.00%, 96.64%); opacity: 0.81\" title=\"-0.010\">clearance</span><span style=\"opacity: 0.80\"> to have a </span><span style=\"background-color: hsl(0, 100.00%, 92.14%); opacity: 0.82\" title=\"-0.035\">kid</span><span style=\"opacity: 0.80\">), and mostly </span><span style=\"background-color: hsl(120, 100.00%, 93.49%); opacity: 0.81\" title=\"0.027\">miike</span><span style=\"opacity: 0.80\">'s </span><span style=\"background-color: hsl(120, 100.00%, 92.65%); opacity: 0.82\" title=\"0.032\">strengths</span><span style=\"opacity: 0.80\"> this </span><span style=\"background-color: hsl(120, 100.00%, 92.42%); opacity: 0.82\" title=\"0.033\">time</span><span style=\"opacity: 0.80\"> are </span><span style=\"background-color: hsl(0, 100.00%, 80.21%); opacity: 0.87\" title=\"-0.130\">purely</span><span style=\"opacity: 0.80\"> </span><span style=\"background-color: hsl(120, 100.00%, 88.54%); opacity: 0.83\" title=\"0.060\">stylistically</span><span style=\"opacity: 0.80\"> and in the </span><span style=\"background-color: hsl(120, 100.00%, 97.81%); opacity: 0.80\" title=\"0.006\">choice</span><span style=\"opacity: 0.80\"> of </span><span style=\"background-color: hsl(0, 100.00%, 86.99%); opacity: 0.84\" title=\"-0.072\">locations</span><span style=\"opacity: 0.80\"> and </span><span style=\"background-color: hsl(120, 100.00%, 98.97%); opacity: 0.80\" title=\"0.002\">sets</span><span style=\"opacity: 0.80\">. it's </span><span style=\"background-color: hsl(0, 100.00%, 97.08%); opacity: 0.80\" title=\"-0.008\">like</span><span style=\"opacity: 0.80\"> a </span><span style=\"background-color: hsl(120, 100.00%, 94.13%); opacity: 0.81\" title=\"0.023\">grungy</span><span style=\"opacity: 0.80\"> </span><span style=\"background-color: hsl(120, 100.00%, 91.13%); opacity: 0.82\" title=\"0.041\">japanese</span><span style=\"opacity: 0.80\"> alphaville where everything still has a </span><span style=\"background-color: hsl(120, 100.00%, 93.01%); opacity: 0.82\" title=\"0.029\">contemporary</span><span style=\"opacity: 0.80\"> </span><span style=\"background-color: hsl(0, 100.00%, 92.61%); opacity: 0.82\" title=\"-0.032\">feel</span><span style=\"opacity: 0.80\"> through all of the </span><span style=\"background-color: hsl(120, 100.00%, 86.92%); opacity: 0.84\" title=\"0.072\">special</span><span style=\"opacity: 0.80\"> </span><span style=\"background-color: hsl(0, 100.00%, 95.64%); opacity: 0.81\" title=\"-0.015\">effects</span><span style=\"opacity: 0.80\">. and i </span><span style=\"background-color: hsl(120, 100.00%, 94.33%); opacity: 0.81\" title=\"0.022\">really</span><span style=\"opacity: 0.80\"> </span><span style=\"background-color: hsl(120, 100.00%, 74.54%); opacity: 0.90\" title=\"0.187\">liked</span><span style=\"opacity: 0.80\"> the </span><span style=\"background-color: hsl(0, 100.00%, 90.41%); opacity: 0.83\" title=\"-0.046\">yellow</span><span style=\"opacity: 0.80\">-</span><span style=\"background-color: hsl(120, 100.00%, 93.83%); opacity: 0.81\" title=\"0.025\">green</span><span style=\"opacity: 0.80\"> </span><span style=\"background-color: hsl(120, 100.00%, 93.47%); opacity: 0.82\" title=\"0.027\">tint</span><span style=\"opacity: 0.80\"> </span><span style=\"background-color: hsl(120, 100.00%, 93.49%); opacity: 0.81\" title=\"0.027\">miike</span><span style=\"opacity: 0.80\"> </span><span style=\"background-color: hsl(120, 100.00%, 80.08%); opacity: 0.87\" title=\"0.132\">used</span><span style=\"opacity: 0.80\"> through the </span><span style=\"background-color: hsl(120, 100.00%, 84.72%); opacity: 0.85\" title=\"0.090\">movie</span><span style=\"opacity: 0.80\">, as it </span><span style=\"background-color: hsl(120, 100.00%, 90.92%); opacity: 0.82\" title=\"0.043\">impacted</span><span style=\"opacity: 0.80\"> very well in </span><span style=\"background-color: hsl(120, 100.00%, 91.79%); opacity: 0.82\" title=\"0.037\">outdoor</span><span style=\"opacity: 0.80\"> </span><span style=\"background-color: hsl(120, 100.00%, 92.80%); opacity: 0.82\" title=\"0.031\">scenes</span><span style=\"opacity: 0.80\"> and </span><span style=\"background-color: hsl(0, 100.00%, 97.88%); opacity: 0.80\" title=\"-0.005\">added</span><span style=\"opacity: 0.80\"> </span><span style=\"background-color: hsl(0, 100.00%, 87.65%); opacity: 0.84\" title=\"-0.066\">just</span><span style=\"opacity: 0.80\"> enough </span><span style=\"background-color: hsl(120, 100.00%, 95.52%); opacity: 0.81\" title=\"0.016\">grittiness</span><span style=\"opacity: 0.80\"> in the </span><span style=\"background-color: hsl(120, 100.00%, 95.23%); opacity: 0.81\" title=\"0.017\">indoor</span><span style=\"opacity: 0.80\"> </span><span style=\"background-color: hsl(0, 100.00%, 98.95%); opacity: 0.80\" title=\"-0.002\">scenes</span><span style=\"opacity: 0.80\">. but as for </span><span style=\"background-color: hsl(120, 100.00%, 90.34%); opacity: 0.83\" title=\"0.047\">peaks</span><span style=\"opacity: 0.80\"> and </span><span style=\"background-color: hsl(0, 100.00%, 97.72%); opacity: 0.80\" title=\"-0.006\">valleys</span><span style=\"opacity: 0.80\">, one </span><span style=\"background-color: hsl(120, 100.00%, 83.66%); opacity: 0.86\" title=\"0.099\">sees</span><span style=\"opacity: 0.80\"> this ever more </span><span style=\"background-color: hsl(0, 100.00%, 90.75%); opacity: 0.82\" title=\"-0.044\">clearly</span><span style=\"opacity: 0.80\">- and the </span><span style=\"background-color: hsl(120, 100.00%, 85.13%); opacity: 0.85\" title=\"0.087\">sci</span><span style=\"opacity: 0.80\">-</span><span style=\"background-color: hsl(120, 100.00%, 81.45%); opacity: 0.87\" title=\"0.119\">fi</span><span style=\"opacity: 0.80\"> </span><span style=\"background-color: hsl(120, 100.00%, 96.19%); opacity: 0.81\" title=\"0.012\">movie</span><span style=\"opacity: 0.80\"> </span><span style=\"background-color: hsl(0, 100.00%, 94.06%); opacity: 0.81\" title=\"-0.023\">channel</span><span style=\"opacity: 0.80\"> </span><span style=\"background-color: hsl(0, 100.00%, 97.07%); opacity: 0.80\" title=\"-0.009\">level</span><span style=\"opacity: 0.80\"> of </span><span style=\"background-color: hsl(0, 100.00%, 87.75%); opacity: 0.84\" title=\"-0.066\">visual</span><span style=\"opacity: 0.80\"> </span><span style=\"background-color: hsl(0, 100.00%, 84.10%); opacity: 0.85\" title=\"-0.095\">effects</span><span style=\"opacity: 0.80\">, with </span><span style=\"background-color: hsl(0, 100.00%, 87.43%); opacity: 0.84\" title=\"-0.068\">maybe</span><span style=\"opacity: 0.80\"> a few more </span><span style=\"background-color: hsl(0, 100.00%, 98.53%); opacity: 0.80\" title=\"-0.003\">dollars</span><span style=\"opacity: 0.80\"> put into it- during the </span><span style=\"background-color: hsl(120, 100.00%, 95.84%); opacity: 0.81\" title=\"0.014\">climax</span><span style=\"opacity: 0.80\">. this </span><span style=\"background-color: hsl(120, 100.00%, 92.91%); opacity: 0.82\" title=\"0.030\">contains</span><span style=\"opacity: 0.80\"> some of the </span><span style=\"background-color: hsl(120, 100.00%, 63.71%); opacity: 0.97\" title=\"0.310\">funniest</span><span style=\"opacity: 0.80\"> </span><span style=\"background-color: hsl(0, 100.00%, 79.18%); opacity: 0.88\" title=\"-0.140\">material</span><span style=\"opacity: 0.80\"> in the most </span><span style=\"background-color: hsl(120, 100.00%, 89.83%); opacity: 0.83\" title=\"0.050\">delirious</span><span style=\"opacity: 0.80\">, </span><span style=\"background-color: hsl(120, 100.00%, 91.36%); opacity: 0.82\" title=\"0.040\">freudian</span><span style=\"opacity: 0.80\"> </span><span style=\"background-color: hsl(0, 100.00%, 99.26%); opacity: 0.80\" title=\"-0.001\">sensibility</span><span style=\"opacity: 0.80\"> from the </span><span style=\"background-color: hsl(0, 100.00%, 83.42%); opacity: 0.86\" title=\"-0.101\">director</span><span style=\"opacity: 0.80\">, even if it has to get </span><span style=\"background-color: hsl(0, 100.00%, 99.68%); opacity: 0.80\" title=\"-0.000\">started</span><span style=\"opacity: 0.80\"> by </span><span style=\"background-color: hsl(0, 100.00%, 82.89%); opacity: 0.86\" title=\"-0.106\">unbearable</span><span style=\"opacity: 0.80\"> </span><span style=\"background-color: hsl(0, 100.00%, 91.83%); opacity: 0.82\" title=\"-0.037\">contrivance</span><span style=\"opacity: 0.80\">; the </span><span style=\"background-color: hsl(120, 100.00%, 97.74%); opacity: 0.80\" title=\"0.006\">way</span><span style=\"opacity: 0.80\"> that </span><span style=\"background-color: hsl(120, 100.00%, 98.60%); opacity: 0.80\" title=\"0.003\">ryo</span><span style=\"opacity: 0.80\"> and </span><span style=\"background-color: hsl(0, 100.00%, 97.25%); opacity: 0.80\" title=\"-0.008\">takeshi</span><span style=\"opacity: 0.80\"> </span><span style=\"background-color: hsl(0, 100.00%, 98.68%); opacity: 0.80\" title=\"-0.003\">finally</span><span style=\"opacity: 0.80\"> </span><span style=\"background-color: hsl(120, 100.00%, 93.67%); opacity: 0.81\" title=\"0.026\">meet</span><span style=\"opacity: 0.80\"> up is </span><span style=\"background-color: hsl(0, 100.00%, 90.55%); opacity: 0.83\" title=\"-0.045\">sort</span><span style=\"opacity: 0.80\"> of </span><span style=\"background-color: hsl(0, 100.00%, 85.38%); opacity: 0.85\" title=\"-0.085\">random</span><span style=\"opacity: 0.80\"> and </span><span style=\"background-color: hsl(0, 100.00%, 92.54%); opacity: 0.82\" title=\"-0.032\">just</span><span style=\"opacity: 0.80\"> a </span><span style=\"background-color: hsl(120, 100.00%, 86.78%); opacity: 0.84\" title=\"0.073\">means</span><span style=\"opacity: 0.80\"> for the </span><span style=\"background-color: hsl(0, 100.00%, 87.12%); opacity: 0.84\" title=\"-0.071\">producers</span><span style=\"opacity: 0.80\"> to </span><span style=\"background-color: hsl(0, 100.00%, 95.06%); opacity: 0.81\" title=\"-0.018\">try</span><span style=\"opacity: 0.80\"> and </span><span style=\"background-color: hsl(0, 100.00%, 82.11%); opacity: 0.86\" title=\"-0.113\">cheaply</span><span style=\"opacity: 0.80\"> </span><span style=\"background-color: hsl(120, 100.00%, 98.34%); opacity: 0.80\" title=\"0.004\">tie</span><span style=\"opacity: 0.80\"> together the </span><span style=\"background-color: hsl(120, 100.00%, 89.59%); opacity: 0.83\" title=\"0.052\">past</span><span style=\"opacity: 0.80\"> two </span><span style=\"background-color: hsl(120, 100.00%, 94.29%); opacity: 0.81\" title=\"0.022\">films</span><span style=\"opacity: 0.80\">, when it wasn't </span><span style=\"background-color: hsl(0, 100.00%, 88.65%); opacity: 0.83\" title=\"-0.059\">needed</span><span style=\"opacity: 0.80\">. on the other </span><span style=\"background-color: hsl(0, 100.00%, 93.00%); opacity: 0.82\" title=\"-0.030\">hand</span><span style=\"opacity: 0.80\">, in </span><span style=\"background-color: hsl(120, 100.00%, 93.98%); opacity: 0.81\" title=\"0.024\">terms</span><span style=\"opacity: 0.80\"> of the </span><span style=\"background-color: hsl(0, 100.00%, 95.76%); opacity: 0.81\" title=\"-0.014\">sheer</span><span style=\"opacity: 0.80\"> </span><span style=\"background-color: hsl(0, 100.00%, 97.03%); opacity: 0.80\" title=\"-0.009\">guilty</span><span style=\"opacity: 0.80\"> </span><span style=\"background-color: hsl(0, 100.00%, 95.16%); opacity: 0.81\" title=\"-0.017\">entertainment</span><span style=\"opacity: 0.80\"> </span><span style=\"background-color: hsl(0, 100.00%, 76.62%); opacity: 0.89\" title=\"-0.165\">value</span><span style=\"opacity: 0.80\"> of a </span><span style=\"background-color: hsl(0, 100.00%, 95.31%); opacity: 0.81\" title=\"-0.017\">flick</span><span style=\"opacity: 0.80\"> </span><span style=\"background-color: hsl(0, 100.00%, 89.52%); opacity: 0.83\" title=\"-0.053\">like</span><span style=\"opacity: 0.80\"> </span><span style=\"background-color: hsl(120, 100.00%, 93.49%); opacity: 0.81\" title=\"0.027\">miike</span><span style=\"opacity: 0.80\">'s where one </span><span style=\"background-color: hsl(120, 100.00%, 83.66%); opacity: 0.86\" title=\"0.099\">sees</span><span style=\"opacity: 0.80\"> something </span><span style=\"background-color: hsl(120, 100.00%, 93.44%); opacity: 0.82\" title=\"0.027\">totally</span><span style=\"opacity: 0.80\"> </span><span style=\"background-color: hsl(120, 100.00%, 68.09%); opacity: 0.94\" title=\"0.258\">unexpected</span><span style=\"opacity: 0.80\"> and very </span><span style=\"background-color: hsl(120, 100.00%, 93.12%); opacity: 0.82\" title=\"0.029\">crudely</span><span style=\"opacity: 0.80\"> </span><span style=\"background-color: hsl(120, 100.00%, 92.84%); opacity: 0.82\" title=\"0.030\">sexual</span><span style=\"opacity: 0.80\">, it </span><span style=\"background-color: hsl(120, 100.00%, 90.90%); opacity: 0.82\" title=\"0.043\">ranks</span><span style=\"opacity: 0.80\"> </span><span style=\"background-color: hsl(120, 100.00%, 82.15%); opacity: 0.86\" title=\"0.112\">right</span><span style=\"opacity: 0.80\"> up there with the </span><span style=\"background-color: hsl(120, 100.00%, 70.58%); opacity: 0.93\" title=\"0.230\">best</span><span style=\"opacity: 0.80\"> </span><span style=\"background-color: hsl(120, 100.00%, 95.73%); opacity: 0.81\" title=\"0.015\">scenes</span><span style=\"opacity: 0.80\"> in </span><span style=\"background-color: hsl(120, 100.00%, 88.58%); opacity: 0.83\" title=\"0.059\">happiness</span><span style=\"opacity: 0.80\"> of the katakuris and </span><span style=\"background-color: hsl(0, 100.00%, 95.85%); opacity: 0.81\" title=\"-0.014\">visitor</span><span style=\"opacity: 0.80\"> q. </span><span style=\"background-color: hsl(120, 100.00%, 86.20%); opacity: 0.84\" title=\"0.078\">overall</span><span style=\"opacity: 0.80\">, </span><span style=\"background-color: hsl(0, 100.00%, 91.98%); opacity: 0.82\" title=\"-0.036\">dead</span><span style=\"opacity: 0.80\"> or </span><span style=\"background-color: hsl(120, 100.00%, 88.50%); opacity: 0.83\" title=\"0.060\">alive</span><span style=\"opacity: 0.80\">: </span><span style=\"background-color: hsl(120, 100.00%, 92.34%); opacity: 0.82\" title=\"0.034\">final</span><span style=\"opacity: 0.80\"> is a </span><span style=\"background-color: hsl(0, 100.00%, 90.09%); opacity: 0.83\" title=\"-0.049\">cheesy</span><span style=\"opacity: 0.80\"> </span><span style=\"background-color: hsl(0, 100.00%, 86.46%); opacity: 0.84\" title=\"-0.076\">90</span><span style=\"opacity: 0.80\"> </span><span style=\"background-color: hsl(0, 100.00%, 87.78%); opacity: 0.84\" title=\"-0.065\">minute</span><span style=\"opacity: 0.80\"> </span><span style=\"background-color: hsl(0, 100.00%, 77.64%); opacity: 0.89\" title=\"-0.155\">effort</span><span style=\"opacity: 0.80\"> that doesn't take itself too </span><span style=\"background-color: hsl(0, 100.00%, 84.78%); opacity: 0.85\" title=\"-0.090\">seriously</span><span style=\"opacity: 0.80\">, and is </span><span style=\"background-color: hsl(0, 100.00%, 86.61%); opacity: 0.84\" title=\"-0.075\">better</span><span style=\"opacity: 0.80\"> off all the more for its </span><span style=\"background-color: hsl(120, 100.00%, 94.83%); opacity: 0.81\" title=\"0.019\">wicked</span><span style=\"opacity: 0.80\"> </span><span style=\"background-color: hsl(120, 100.00%, 95.85%); opacity: 0.81\" title=\"0.014\">contrivances</span><span style=\"opacity: 0.80\">, </span><span style=\"background-color: hsl(120, 100.00%, 95.82%); opacity: 0.81\" title=\"0.014\">militaristic</span><span style=\"opacity: 0.80\"> </span><span style=\"background-color: hsl(120, 100.00%, 95.85%); opacity: 0.81\" title=\"0.014\">decay</span><span style=\"opacity: 0.80\"> and </span><span style=\"background-color: hsl(0, 100.00%, 91.47%); opacity: 0.82\" title=\"-0.039\">cultural</span><span style=\"opacity: 0.80\"> </span><span style=\"background-color: hsl(0, 100.00%, 95.02%); opacity: 0.81\" title=\"-0.018\">hang</span><span style=\"opacity: 0.80\">-</span><span style=\"background-color: hsl(120, 100.00%, 95.53%); opacity: 0.81\" title=\"0.016\">ups</span><span style=\"opacity: 0.80\"> put on </span><span style=\"background-color: hsl(0, 100.00%, 97.07%); opacity: 0.80\" title=\"-0.009\">pulp</span><span style=\"opacity: 0.80\">-</span><span style=\"background-color: hsl(0, 100.00%, 97.07%); opacity: 0.80\" title=\"-0.009\">level</span><span style=\"opacity: 0.80\"> </span><span style=\"background-color: hsl(0, 100.00%, 94.85%); opacity: 0.81\" title=\"-0.019\">display</span><span style=\"opacity: 0.80\">.</span>\n",
              "</p>\n"
            ]
          },
          "metadata": {}
        },
        {
          "output_type": "display_data",
          "data": {
            "text/plain": [
              "<IPython.core.display.HTML object>"
            ],
            "text/html": [
              "<p style=background-color:black;color:white;font-weight:bold;padding:4px>'Meh' Movie #5 😐</p>"
            ]
          },
          "metadata": {}
        },
        {
          "output_type": "display_data",
          "data": {
            "text/plain": [
              "<IPython.core.display.HTML object>"
            ],
            "text/html": [
              "\n",
              "<style>\n",
              "    table.eli5-weights tr:hover {\n",
              "        filter: brightness(85%);\n",
              "    }\n",
              "</style>\n",
              "\n",
              "\n",
              "<p style=\"margin-bottom: 2.5em; margin-top:-0.5em;\">\n",
              "<span style=\"opacity: 0.80\">the </span><span style=\"background-color: hsl(120, 100.00%, 87.48%); opacity: 0.84\" title=\"0.118\">odd</span><span style=\"opacity: 0.80\"> </span><span style=\"background-color: hsl(120, 100.00%, 92.58%); opacity: 0.82\" title=\"0.056\">mixture</span><span style=\"opacity: 0.80\"> of </span><span style=\"background-color: hsl(0, 100.00%, 89.02%); opacity: 0.83\" title=\"-0.098\">comedy</span><span style=\"opacity: 0.80\"> and </span><span style=\"background-color: hsl(0, 100.00%, 74.89%); opacity: 0.90\" title=\"-0.319\">horror</span><span style=\"opacity: 0.80\"> sometimes </span><span style=\"background-color: hsl(120, 100.00%, 68.89%); opacity: 0.94\" title=\"0.433\">works</span><span style=\"opacity: 0.80\"> and sometimes doesn't. had the </span><span style=\"background-color: hsl(0, 100.00%, 91.94%); opacity: 0.82\" title=\"-0.063\">main</span><span style=\"opacity: 0.80\"> </span><span style=\"background-color: hsl(0, 100.00%, 73.82%); opacity: 0.91\" title=\"-0.338\">male</span><span style=\"opacity: 0.80\"> </span><span style=\"background-color: hsl(120, 100.00%, 76.55%); opacity: 0.89\" title=\"0.289\">character</span><span style=\"opacity: 0.80\"> been a </span><span style=\"background-color: hsl(120, 100.00%, 88.07%); opacity: 0.84\" title=\"0.110\">little</span><span style=\"opacity: 0.80\"> more </span><span style=\"background-color: hsl(0, 100.00%, 60.00%); opacity: 1.00\" title=\"-0.620\">interesting</span><span style=\"opacity: 0.80\">, the </span><span style=\"background-color: hsl(120, 100.00%, 91.19%); opacity: 0.82\" title=\"0.071\">film</span><span style=\"opacity: 0.80\"> would have been as well. a </span><span style=\"background-color: hsl(120, 100.00%, 77.33%); opacity: 0.89\" title=\"0.275\">trio</span><span style=\"opacity: 0.80\"> of </span><span style=\"background-color: hsl(120, 100.00%, 88.94%); opacity: 0.83\" title=\"0.099\">young</span><span style=\"opacity: 0.80\"> </span><span style=\"background-color: hsl(0, 100.00%, 97.41%); opacity: 0.80\" title=\"-0.012\">americans</span><span style=\"opacity: 0.80\"> </span><span style=\"background-color: hsl(0, 100.00%, 98.71%); opacity: 0.80\" title=\"-0.005\">visit</span><span style=\"opacity: 0.80\"> </span><span style=\"background-color: hsl(120, 100.00%, 97.01%); opacity: 0.80\" title=\"0.015\">paris</span><span style=\"opacity: 0.80\">, </span><span style=\"background-color: hsl(0, 100.00%, 72.45%); opacity: 0.92\" title=\"-0.364\">run</span><span style=\"opacity: 0.80\"> into a </span><span style=\"background-color: hsl(120, 100.00%, 71.35%); opacity: 0.92\" title=\"0.385\">beautiful</span><span style=\"opacity: 0.80\"> </span><span style=\"background-color: hsl(0, 100.00%, 78.23%); opacity: 0.88\" title=\"-0.260\">werewolf</span><span style=\"opacity: 0.80\">, and the </span><span style=\"background-color: hsl(120, 100.00%, 80.12%); opacity: 0.87\" title=\"0.228\">problems</span><span style=\"opacity: 0.80\"> </span><span style=\"background-color: hsl(120, 100.00%, 69.62%); opacity: 0.93\" title=\"0.418\">confound</span><span style=\"opacity: 0.80\"> from there. </span><span style=\"background-color: hsl(0, 100.00%, 91.11%); opacity: 0.82\" title=\"-0.072\">numerous</span><span style=\"opacity: 0.80\"> </span><span style=\"background-color: hsl(0, 100.00%, 79.30%); opacity: 0.88\" title=\"-0.242\">logic</span><span style=\"opacity: 0.80\"> </span><span style=\"background-color: hsl(120, 100.00%, 99.03%); opacity: 0.80\" title=\"0.003\">holes</span><span style=\"opacity: 0.80\"> </span><span style=\"background-color: hsl(0, 100.00%, 79.28%); opacity: 0.88\" title=\"-0.242\">make</span><span style=\"opacity: 0.80\"> the </span><span style=\"background-color: hsl(120, 100.00%, 97.94%); opacity: 0.80\" title=\"0.009\">possibly</span><span style=\"opacity: 0.80\"> </span><span style=\"background-color: hsl(120, 100.00%, 95.78%); opacity: 0.81\" title=\"0.025\">intriguing</span><span style=\"opacity: 0.80\"> </span><span style=\"background-color: hsl(120, 100.00%, 88.30%); opacity: 0.83\" title=\"0.107\">story</span><span style=\"opacity: 0.80\"> </span><span style=\"background-color: hsl(120, 100.00%, 85.32%); opacity: 0.85\" title=\"0.148\">difficult</span><span style=\"opacity: 0.80\"> to take.</span>\n",
              "</p>\n"
            ]
          },
          "metadata": {}
        }
      ],
      "source": [
        "for i, review in enumerate(meh5):\n",
        "    display(HTML(f\"<p style={style}>'Meh' Movie #{i+1} 😐</p>\"))\n",
        "    eli5_html(clf, vec, review)"
      ]
    },
    {
      "cell_type": "markdown",
      "id": "53c58acd",
      "metadata": {
        "id": "53c58acd"
      },
      "source": [
        "Despite some difficulties with a few of the 'meh' movies, our model is actually pretty good! In fact, it works so well you can actually use it to find _mistakes_ in the manually labeled data!\\\n",
        "This can be done by inspecting which training observation predictions differ the most from the provided labels.\\"
      ]
    },
    {
      "cell_type": "markdown",
      "id": "a7d659c3",
      "metadata": {
        "id": "a7d659c3"
      },
      "source": [
        "**Write your own review**\n",
        "\n",
        "Finally, you can try writing a review of your own and see what your model does with it!"
      ]
    },
    {
      "cell_type": "code",
      "execution_count": 79,
      "id": "cf078e01",
      "metadata": {
        "id": "cf078e01",
        "colab": {
          "base_uri": "https://localhost:8080/"
        },
        "outputId": "63740ff0-626b-473a-e2cd-5e5f7b2690fb"
      },
      "outputs": [
        {
          "output_type": "execute_result",
          "data": {
            "text/plain": [
              "array(['The film captivated me from the very start The cinematography was breathtaking and the character development was nuanced and profound The score set the tone perfectly enhancing the emotional depth of each scene While the plot had a couple of predictable moments the stellar performances by the lead actors more than made up for it Its a mustwatch for any cinema lover'],\n",
              "      dtype='<U367')"
            ]
          },
          "metadata": {},
          "execution_count": 79
        }
      ],
      "source": [
        "my_review = \"\"\"The film captivated me from the very start The cinematography was breathtaking and the character development was nuanced and profound The score set the tone perfectly enhancing the emotional depth of each scene While the plot had a couple of predictable moments the stellar performances by the lead actors more than made up for it Its a mustwatch for any cinema lover\"\"\"\n",
        "\n",
        "# Remove punctuation using your regex from earlier\n",
        "my_review = re.sub(punc_regex, '', my_review)\n",
        "# Remove leading & trailing whitespace\n",
        "# and put into a numpy array (which the model expects)\n",
        "my_review = np.array([my_review.strip()])\n",
        "my_review"
      ]
    },
    {
      "cell_type": "code",
      "execution_count": 80,
      "id": "abdc48fd",
      "metadata": {
        "id": "abdc48fd",
        "colab": {
          "base_uri": "https://localhost:8080/"
        },
        "outputId": "95eb1fda-01df-4efc-e1ce-f7c6d8385e65"
      },
      "outputs": [
        {
          "output_type": "stream",
          "name": "stdout",
          "text": [
            "predicted class: 1\n",
            "predicted probability: 0.6973040575855222\n"
          ]
        }
      ],
      "source": [
        "my_review_proba = pipe.predict_proba(my_review)[:,1][0]\n",
        "my_review_label = pipe.predict(my_review)[0]\n",
        "print('predicted class:', my_review_label)\n",
        "print('predicted probability:', my_review_proba)"
      ]
    },
    {
      "cell_type": "code",
      "execution_count": 81,
      "id": "8de285ed",
      "metadata": {
        "id": "8de285ed",
        "outputId": "de017c22-f61b-4d38-83e5-07b40910b97a",
        "colab": {
          "base_uri": "https://localhost:8080/",
          "height": 134
        }
      },
      "outputs": [
        {
          "output_type": "display_data",
          "data": {
            "text/plain": [
              "<IPython.core.display.HTML object>"
            ],
            "text/html": [
              "<p style=background-color:black;color:white;font-weight:bold;padding:4px>My Review 🍿</p>"
            ]
          },
          "metadata": {}
        },
        {
          "output_type": "display_data",
          "data": {
            "text/plain": [
              "<IPython.core.display.HTML object>"
            ],
            "text/html": [
              "\n",
              "<style>\n",
              "    table.eli5-weights tr:hover {\n",
              "        filter: brightness(85%);\n",
              "    }\n",
              "</style>\n",
              "\n",
              "\n",
              "<p style=\"margin-bottom: 2.5em; margin-top:-0.5em;\">\n",
              "<span style=\"opacity: 0.80\">the </span><span style=\"background-color: hsl(120, 100.00%, 94.60%); opacity: 0.81\" title=\"0.065\">film</span><span style=\"opacity: 0.80\"> </span><span style=\"background-color: hsl(120, 100.00%, 85.95%); opacity: 0.84\" title=\"0.255\">captivated</span><span style=\"opacity: 0.80\"> me from the very </span><span style=\"background-color: hsl(0, 100.00%, 91.92%); opacity: 0.82\" title=\"-0.116\">start</span><span style=\"opacity: 0.80\"> the </span><span style=\"background-color: hsl(0, 100.00%, 85.74%); opacity: 0.85\" title=\"-0.260\">cinematography</span><span style=\"opacity: 0.80\"> was </span><span style=\"background-color: hsl(120, 100.00%, 81.14%); opacity: 0.87\" title=\"0.388\">breathtaking</span><span style=\"opacity: 0.80\"> and the </span><span style=\"background-color: hsl(0, 100.00%, 87.83%); opacity: 0.84\" title=\"-0.208\">character</span><span style=\"opacity: 0.80\"> </span><span style=\"background-color: hsl(0, 100.00%, 83.24%); opacity: 0.86\" title=\"-0.328\">development</span><span style=\"opacity: 0.80\"> was </span><span style=\"background-color: hsl(120, 100.00%, 93.51%); opacity: 0.81\" title=\"0.085\">nuanced</span><span style=\"opacity: 0.80\"> and </span><span style=\"background-color: hsl(120, 100.00%, 98.16%); opacity: 0.80\" title=\"0.014\">profound</span><span style=\"opacity: 0.80\"> the </span><span style=\"background-color: hsl(120, 100.00%, 91.84%); opacity: 0.82\" title=\"0.117\">score</span><span style=\"opacity: 0.80\"> </span><span style=\"background-color: hsl(0, 100.00%, 96.25%); opacity: 0.81\" title=\"-0.039\">set</span><span style=\"opacity: 0.80\"> the </span><span style=\"background-color: hsl(120, 100.00%, 93.16%); opacity: 0.82\" title=\"0.091\">tone</span><span style=\"opacity: 0.80\"> </span><span style=\"background-color: hsl(120, 100.00%, 60.00%); opacity: 1.00\" title=\"1.137\">perfectly</span><span style=\"opacity: 0.80\"> </span><span style=\"background-color: hsl(120, 100.00%, 93.59%); opacity: 0.81\" title=\"0.083\">enhancing</span><span style=\"opacity: 0.80\"> the </span><span style=\"background-color: hsl(0, 100.00%, 89.47%); opacity: 0.83\" title=\"-0.169\">emotional</span><span style=\"opacity: 0.80\"> </span><span style=\"background-color: hsl(0, 100.00%, 85.30%); opacity: 0.85\" title=\"-0.272\">depth</span><span style=\"opacity: 0.80\"> of each </span><span style=\"background-color: hsl(0, 100.00%, 92.24%); opacity: 0.82\" title=\"-0.109\">scene</span><span style=\"opacity: 0.80\"> while the </span><span style=\"background-color: hsl(0, 100.00%, 82.01%); opacity: 0.86\" title=\"-0.363\">plot</span><span style=\"opacity: 0.80\"> had a </span><span style=\"background-color: hsl(0, 100.00%, 81.59%); opacity: 0.87\" title=\"-0.375\">couple</span><span style=\"opacity: 0.80\"> of </span><span style=\"background-color: hsl(0, 100.00%, 66.77%); opacity: 0.95\" title=\"-0.872\">predictable</span><span style=\"opacity: 0.80\"> </span><span style=\"background-color: hsl(120, 100.00%, 96.05%); opacity: 0.81\" title=\"0.042\">moments</span><span style=\"opacity: 0.80\"> the </span><span style=\"background-color: hsl(120, 100.00%, 78.57%); opacity: 0.88\" title=\"0.466\">stellar</span><span style=\"opacity: 0.80\"> </span><span style=\"background-color: hsl(120, 100.00%, 78.32%); opacity: 0.88\" title=\"0.474\">performances</span><span style=\"opacity: 0.80\"> by the </span><span style=\"background-color: hsl(120, 100.00%, 98.17%); opacity: 0.80\" title=\"0.014\">lead</span><span style=\"opacity: 0.80\"> </span><span style=\"background-color: hsl(0, 100.00%, 96.03%); opacity: 0.81\" title=\"-0.042\">actors</span><span style=\"opacity: 0.80\"> more than made up for it its a </span><span style=\"background-color: hsl(120, 100.00%, 91.77%); opacity: 0.82\" title=\"0.119\">mustwatch</span><span style=\"opacity: 0.80\"> for any </span><span style=\"background-color: hsl(120, 100.00%, 92.40%); opacity: 0.82\" title=\"0.106\">cinema</span><span style=\"opacity: 0.80\"> </span><span style=\"background-color: hsl(120, 100.00%, 92.99%); opacity: 0.82\" title=\"0.094\">lover</span>\n",
              "</p>\n"
            ]
          },
          "metadata": {}
        }
      ],
      "source": [
        "display(HTML(f\"<p style={style}>My Review 🍿</p>\"))\n",
        "eli5_html(clf, vec, my_review[0])"
      ]
    },
    {
      "cell_type": "code",
      "source": [],
      "metadata": {
        "id": "u6eqML2lcE4T"
      },
      "id": "u6eqML2lcE4T",
      "execution_count": null,
      "outputs": []
    }
  ],
  "metadata": {
    "kernelspec": {
      "display_name": "Python 3 (ipykernel)",
      "language": "python",
      "name": "python3"
    },
    "language_info": {
      "codemirror_mode": {
        "name": "ipython",
        "version": 3
      },
      "file_extension": ".py",
      "mimetype": "text/x-python",
      "name": "python",
      "nbconvert_exporter": "python",
      "pygments_lexer": "ipython3",
      "version": "3.8.12"
    },
    "latex_envs": {
      "LaTeX_envs_menu_present": true,
      "autoclose": false,
      "autocomplete": true,
      "bibliofile": "biblio.bib",
      "cite_by": "apalike",
      "current_citInitial": 1,
      "eqLabelWithNumbers": true,
      "eqNumInitial": 1,
      "hotkeys": {
        "equation": "Ctrl-E",
        "itemize": "Ctrl-I"
      },
      "labels_anchors": false,
      "latex_user_defs": false,
      "report_style_numbering": false,
      "user_envs_cfg": false
    },
    "toc": {
      "base_numbering": 1,
      "nav_menu": {},
      "number_sections": true,
      "sideBar": true,
      "skip_h1_title": false,
      "title_cell": "Table of Contents",
      "title_sidebar": "Contents",
      "toc_cell": false,
      "toc_position": {
        "height": "calc(100% - 180px)",
        "left": "10px",
        "top": "150px",
        "width": "300px"
      },
      "toc_section_display": true,
      "toc_window_display": true
    },
    "colab": {
      "provenance": []
    }
  },
  "nbformat": 4,
  "nbformat_minor": 5
}