{
  "cells": [
    {
      "cell_type": "markdown",
      "id": "a6f14f0e",
      "metadata": {
        "id": "a6f14f0e"
      },
      "source": [
        "# Lab -- Growing Dataset with Active (Machine) Learning\n",
        "\n",
        "Intended to accompany the lecture on Growing or Compressing Datasets, this notebook contains exercises to build labeled training datasets for binary classification through active learning.\n",
        "\n",
        "You may find it helpful to first install the following dependencies:"
      ]
    },
    {
      "cell_type": "code",
      "execution_count": 2,
      "id": "b8e1a8c4",
      "metadata": {
        "id": "b8e1a8c4",
        "outputId": "aa94b236-73fb-4b59-db3f-50be05ac6ab9",
        "colab": {
          "base_uri": "https://localhost:8080/"
        }
      },
      "outputs": [
        {
          "output_type": "stream",
          "name": "stdout",
          "text": [
            "Collecting faiss-cpu\n",
            "  Downloading faiss_cpu-1.7.4-cp310-cp310-manylinux_2_17_x86_64.manylinux2014_x86_64.whl (17.6 MB)\n",
            "\u001b[2K     \u001b[90m━━━━━━━━━━━━━━━━━━━━━━━━━━━━━━━━━━━━━━━━\u001b[0m \u001b[32m17.6/17.6 MB\u001b[0m \u001b[31m53.7 MB/s\u001b[0m eta \u001b[36m0:00:00\u001b[0m\n",
            "\u001b[?25hRequirement already satisfied: pyarrow in /usr/local/lib/python3.10/dist-packages (9.0.0)\n",
            "Requirement already satisfied: pandas in /usr/local/lib/python3.10/dist-packages (1.5.3)\n",
            "Requirement already satisfied: matplotlib in /usr/local/lib/python3.10/dist-packages (3.7.1)\n",
            "Requirement already satisfied: scikit-learn in /usr/local/lib/python3.10/dist-packages (1.2.2)\n",
            "Requirement already satisfied: torch in /usr/local/lib/python3.10/dist-packages (2.1.0+cu118)\n",
            "Requirement already satisfied: tqdm in /usr/local/lib/python3.10/dist-packages (4.66.1)\n",
            "Requirement already satisfied: numpy>=1.16.6 in /usr/local/lib/python3.10/dist-packages (from pyarrow) (1.23.5)\n",
            "Requirement already satisfied: python-dateutil>=2.8.1 in /usr/local/lib/python3.10/dist-packages (from pandas) (2.8.2)\n",
            "Requirement already satisfied: pytz>=2020.1 in /usr/local/lib/python3.10/dist-packages (from pandas) (2023.3.post1)\n",
            "Requirement already satisfied: contourpy>=1.0.1 in /usr/local/lib/python3.10/dist-packages (from matplotlib) (1.2.0)\n",
            "Requirement already satisfied: cycler>=0.10 in /usr/local/lib/python3.10/dist-packages (from matplotlib) (0.12.1)\n",
            "Requirement already satisfied: fonttools>=4.22.0 in /usr/local/lib/python3.10/dist-packages (from matplotlib) (4.44.0)\n",
            "Requirement already satisfied: kiwisolver>=1.0.1 in /usr/local/lib/python3.10/dist-packages (from matplotlib) (1.4.5)\n",
            "Requirement already satisfied: packaging>=20.0 in /usr/local/lib/python3.10/dist-packages (from matplotlib) (23.2)\n",
            "Requirement already satisfied: pillow>=6.2.0 in /usr/local/lib/python3.10/dist-packages (from matplotlib) (9.4.0)\n",
            "Requirement already satisfied: pyparsing>=2.3.1 in /usr/local/lib/python3.10/dist-packages (from matplotlib) (3.1.1)\n",
            "Requirement already satisfied: scipy>=1.3.2 in /usr/local/lib/python3.10/dist-packages (from scikit-learn) (1.11.3)\n",
            "Requirement already satisfied: joblib>=1.1.1 in /usr/local/lib/python3.10/dist-packages (from scikit-learn) (1.3.2)\n",
            "Requirement already satisfied: threadpoolctl>=2.0.0 in /usr/local/lib/python3.10/dist-packages (from scikit-learn) (3.2.0)\n",
            "Requirement already satisfied: filelock in /usr/local/lib/python3.10/dist-packages (from torch) (3.13.1)\n",
            "Requirement already satisfied: typing-extensions in /usr/local/lib/python3.10/dist-packages (from torch) (4.5.0)\n",
            "Requirement already satisfied: sympy in /usr/local/lib/python3.10/dist-packages (from torch) (1.12)\n",
            "Requirement already satisfied: networkx in /usr/local/lib/python3.10/dist-packages (from torch) (3.2.1)\n",
            "Requirement already satisfied: jinja2 in /usr/local/lib/python3.10/dist-packages (from torch) (3.1.2)\n",
            "Requirement already satisfied: fsspec in /usr/local/lib/python3.10/dist-packages (from torch) (2023.6.0)\n",
            "Requirement already satisfied: triton==2.1.0 in /usr/local/lib/python3.10/dist-packages (from torch) (2.1.0)\n",
            "Requirement already satisfied: six>=1.5 in /usr/local/lib/python3.10/dist-packages (from python-dateutil>=2.8.1->pandas) (1.16.0)\n",
            "Requirement already satisfied: MarkupSafe>=2.0 in /usr/local/lib/python3.10/dist-packages (from jinja2->torch) (2.1.3)\n",
            "Requirement already satisfied: mpmath>=0.19 in /usr/local/lib/python3.10/dist-packages (from sympy->torch) (1.3.0)\n",
            "Installing collected packages: faiss-cpu\n",
            "Successfully installed faiss-cpu-1.7.4\n"
          ]
        }
      ],
      "source": [
        "!pip install faiss-cpu pyarrow pandas matplotlib scikit-learn torch tqdm"
      ]
    },
    {
      "cell_type": "code",
      "execution_count": 3,
      "id": "6096ec1a",
      "metadata": {
        "id": "6096ec1a"
      },
      "outputs": [],
      "source": [
        "import os\n",
        "import time\n",
        "import random\n",
        "from glob import glob\n",
        "from datetime import datetime\n",
        "from typing import List, Tuple, Optional, Callable\n",
        "\n",
        "import faiss  # Must import faiss before everything else\n",
        "import numpy as np\n",
        "import pandas as pd\n",
        "from torch.utils.data import Dataset\n",
        "from tqdm.notebook import tqdm\n",
        "from sklearn import linear_model\n",
        "import matplotlib.pyplot as plt\n",
        "from sklearn.metrics import average_precision_score\n",
        "from sklearn.linear_model import LogisticRegression\n",
        "from IPython.core.display import Image, display, clear_output"
      ]
    },
    {
      "cell_type": "markdown",
      "id": "9e6fb5ff",
      "metadata": {
        "id": "9e6fb5ff"
      },
      "source": [
        "# Section 1: 1D Classifier\n",
        "\n",
        "First, let's go through the toy 1D example from lecture."
      ]
    },
    {
      "cell_type": "code",
      "execution_count": 4,
      "id": "e9c0ea0d",
      "metadata": {
        "id": "e9c0ea0d"
      },
      "outputs": [],
      "source": [
        "# Generate random data for two classes\n",
        "np.random.seed(2)\n",
        "x1 = np.random.normal(-2, 1, 100)\n",
        "x2 = np.random.normal(2, 1, 100)\n",
        "boundary = 0\n",
        "seed = np.array([(boundary + 2 + (random.random() * 2)),\n",
        "                 (boundary - 2 - (random.random() * 2))])\n",
        "x = np.concatenate([seed, x1, x2])\n",
        "labeled_0 = np.arange(len(seed))\n",
        "\n",
        "\n",
        "# This is a simple case, so labeling is easy and cheap.\n",
        "# But this isn't the case in practice. A real 'label' function would\n",
        "# request information from humans or an expensive process.\n",
        "def label(example):\n",
        "    return int(example > boundary)\n",
        "\n",
        "\n",
        "# Helper functions for plotting\n",
        "def color(label):\n",
        "    return 'r' if label else 'b'\n",
        "\n",
        "\n",
        "def plot_boundary(ax):\n",
        "    ax.axvline(x=boundary, color='gray', linestyle='--')\n",
        "\n",
        "\n",
        "def plot_labeled(ax, x, labeled, labels):\n",
        "    ax.scatter(x, np.zeros(len(x)), c='gray', alpha=0.2)\n",
        "    ax.scatter(x[labeled], np.zeros(len(labeled)), c=[color(l) for l in labels], s=200, alpha=0.5)\n",
        "    ax.axvline(x=boundary, color='gray', linestyle='--')\n",
        "    ax.set_axis_off()"
      ]
    },
    {
      "cell_type": "markdown",
      "id": "9baa7aec",
      "metadata": {
        "id": "9baa7aec"
      },
      "source": [
        "## Passive Learning (Random Sampling)\n",
        "Passive learning simply samples unlabeled examples at random. It doesn't adapt to the model or the data, so we have to hope that we get examples that help us close in on the decision boundary.\n",
        "\n",
        "In the figures below, gray dots represent unlabeled examples, red & blue dots represent the labeled examples for the two classes, and the dashed gray line is the actual decision boundary."
      ]
    },
    {
      "cell_type": "code",
      "execution_count": 5,
      "id": "59f6eef3",
      "metadata": {
        "id": "59f6eef3"
      },
      "outputs": [],
      "source": [
        "def passive_selection(x, labeled, label_func, n):\n",
        "    candidates = set(range(0, len(x))) - set(labeled)\n",
        "    labeled = np.concatenate([labeled, random.sample(list(candidates), n)])\n",
        "    labels = [label_func(example) for example in x[labeled]]\n",
        "    return labeled, labels"
      ]
    },
    {
      "cell_type": "code",
      "execution_count": 6,
      "id": "6fb3d635",
      "metadata": {
        "id": "6fb3d635",
        "outputId": "d12f570a-3629-48a1-f07c-ab2a17cc0085",
        "colab": {
          "base_uri": "https://localhost:8080/",
          "height": 932
        }
      },
      "outputs": [
        {
          "output_type": "stream",
          "name": "stdout",
          "text": [
            "Round 0: 2 labeled examples\n"
          ]
        },
        {
          "output_type": "display_data",
          "data": {
            "text/plain": [
              "<Figure size 600x100 with 1 Axes>"
            ],
            "image/png": "[encoded data removed]"
          },
          "metadata": {}
        },
        {
          "output_type": "stream",
          "name": "stdout",
          "text": [
            "Round 1: 3 labeled examples\n"
          ]
        },
        {
          "output_type": "display_data",
          "data": {
            "text/plain": [
              "<Figure size 600x100 with 1 Axes>"
            ],
            "image/png": "[encoded data removed]"
          },
          "metadata": {}
        },
        {
          "output_type": "stream",
          "name": "stdout",
          "text": [
            "Round 2: 4 labeled examples\n"
          ]
        },
        {
          "output_type": "display_data",
          "data": {
            "text/plain": [
              "<Figure size 600x100 with 1 Axes>"
            ],
            "image/png": "[encoded data removed]"
          },
          "metadata": {}
        },
        {
          "output_type": "stream",
          "name": "stdout",
          "text": [
            "Round 3: 5 labeled examples\n"
          ]
        },
        {
          "output_type": "display_data",
          "data": {
            "text/plain": [
              "<Figure size 600x100 with 1 Axes>"
            ],
            "image/png": "[encoded data removed]"
          },
          "metadata": {}
        },
        {
          "output_type": "stream",
          "name": "stdout",
          "text": [
            "Round 4: 6 labeled examples\n"
          ]
        },
        {
          "output_type": "display_data",
          "data": {
            "text/plain": [
              "<Figure size 600x100 with 1 Axes>"
            ],
            "image/png": "[encoded data removed]"
          },
          "metadata": {}
        },
        {
          "output_type": "stream",
          "name": "stdout",
          "text": [
            "Round 5: 7 labeled examples\n"
          ]
        },
        {
          "output_type": "display_data",
          "data": {
            "text/plain": [
              "<Figure size 600x100 with 1 Axes>"
            ],
            "image/png": "[encoded data removed]"
          },
          "metadata": {}
        },
        {
          "output_type": "stream",
          "name": "stdout",
          "text": [
            "Round 6: 8 labeled examples\n"
          ]
        },
        {
          "output_type": "display_data",
          "data": {
            "text/plain": [
              "<Figure size 600x100 with 1 Axes>"
            ],
            "image/png": "[encoded data removed]"
          },
          "metadata": {}
        },
        {
          "output_type": "stream",
          "name": "stdout",
          "text": [
            "Round 7: 9 labeled examples\n"
          ]
        },
        {
          "output_type": "display_data",
          "data": {
            "text/plain": [
              "<Figure size 600x100 with 1 Axes>"
            ],
            "image/png": "[encoded data removed]"
          },
          "metadata": {}
        }
      ],
      "source": [
        "n = 8\n",
        "labeled, labels = passive_selection(x, labeled_0, label, n)\n",
        "for i in range(n):\n",
        "    print(f\"Round {i}: {2+i} labeled examples\")\n",
        "    fig, ax = plt.subplots(1, 1, figsize=(6, 1))\n",
        "    plot_labeled(ax, x, labeled[:2+i], labels[:2+i])\n",
        "    plot_boundary(ax)\n",
        "    plt.show()"
      ]
    },
    {
      "cell_type": "markdown",
      "id": "685512fc",
      "metadata": {
        "id": "685512fc"
      },
      "source": [
        "## Exercise 1: Active Learning (Max Entropy)\n",
        "Active learning trains a model $A_r$ after every example $\\mathbf{x}$ (or batch of examples) is labeled and leverages that model to select the following example. For instance, we can quantify the model's uncertainty by calculating the entropy for each of the pool of unlabeled examples $\\mathcal{P}_r$ based on the model's predicted probabilities:\n",
        "\n",
        "$$\\phi_{\\text{Ent}}(\\mathbf{x}, A_r) = - \\sum_{\\hat{y}} P(\\hat{y}|\\mathbf{x}; A_r) \\log P(\\hat{y}|\\mathbf{x}; A_r)$$\n",
        "\n",
        "and select the examples with the highest entropy:\n",
        "\n",
        "$$argmax_{\\mathbf{x} \\in \\mathcal{P}_r} \\phi_{\\text{Ent}}(\\mathbf{x}, A_r, \\mathcal{P}_r)$$"
      ]
    },
    {
      "cell_type": "code",
      "execution_count": 7,
      "id": "bbef1f1d",
      "metadata": {
        "id": "bbef1f1d"
      },
      "outputs": [],
      "source": [
        "def select_max_entropy(x, model, indices: List[int], budget: int):\n",
        "    # Get prediction probability for elegible indices\n",
        "    proba = model.predict_proba(x[indices].reshape(-1, 1))\n",
        "\n",
        "    # Calculate information entropy from probabilities\n",
        "    entropy = -1.0 * (np.log(proba) * proba).sum(axis=1)\n",
        "\n",
        "    # Select indices with highest entropy (i.e. MaxEnt)\n",
        "    selected = entropy.argsort(axis=0)[::-1][:budget]\n",
        "\n",
        "    # Convert to original index\n",
        "    selected = np.array(indices)[selected]\n",
        "\n",
        "    return selected"
      ]
    },
    {
      "cell_type": "markdown",
      "id": "7a294044",
      "metadata": {
        "id": "7a294044"
      },
      "source": [
        "In this exercise, you'll leverage this max entropy heuristic to actively select examples to label! You should implement the active learning loop from lecture with a `linear_model.LogisticRegression()` as the classifier. This should effectively perform binary search to find the decision boundary. You just need to fill in the section below marked `YOUR CODE HERE`."
      ]
    },
    {
      "cell_type": "code",
      "execution_count": 8,
      "id": "a022fe72",
      "metadata": {
        "id": "a022fe72"
      },
      "outputs": [],
      "source": [
        "def active_selection(x, labeled, label_func, n):\n",
        "    labels = [label_func(example) for example in x[labeled]]\n",
        "    candidates = set(np.arange(len(x))) - set(labeled)\n",
        "    # YOUR CODE HERE\n",
        "\n",
        "    budgets = np.ones(n, dtype=np.int32)\n",
        "    for budget in budgets:\n",
        "        clf = linear_model.LogisticRegression()\n",
        "        clf.fit(x[labeled].reshape(-1, 1), labels)\n",
        "        new_labeled = select_max_entropy(x, clf, list(candidates), budget)\n",
        "        new_labels = [label_func(example) for example in x[new_labeled]]\n",
        "\n",
        "        labeled = np.concatenate([labeled, new_labeled])\n",
        "        labels = np.concatenate([labels, new_labels])\n",
        "        candidates -= set(new_labeled)\n",
        "    return labeled, labels"
      ]
    },
    {
      "cell_type": "markdown",
      "id": "bad1afa0",
      "metadata": {
        "id": "bad1afa0"
      },
      "source": [
        "Let's put your active selection process into action! In the figures below, gray dots represent unlabeled examples, red & blue dots represent the labeled examples for the two classes, and the dashed gray line is the actual decision boundary. Rounds 1+ will show the results of your active learning implementation. How does it compare to the passive approach?"
      ]
    },
    {
      "cell_type": "code",
      "execution_count": 9,
      "id": "c69e16eb",
      "metadata": {
        "id": "c69e16eb",
        "outputId": "929ccd4a-dad3-44dd-df67-c0d6377f7092",
        "colab": {
          "base_uri": "https://localhost:8080/",
          "height": 932
        }
      },
      "outputs": [
        {
          "output_type": "stream",
          "name": "stdout",
          "text": [
            "Round 0: 2 labeled examples\n"
          ]
        },
        {
          "output_type": "display_data",
          "data": {
            "text/plain": [
              "<Figure size 600x100 with 1 Axes>"
            ],
            "image/png": "[encoded data removed]"
          },
          "metadata": {}
        },
        {
          "output_type": "stream",
          "name": "stdout",
          "text": [
            "Round 1: 3 labeled examples\n"
          ]
        },
        {
          "output_type": "display_data",
          "data": {
            "text/plain": [
              "<Figure size 600x100 with 1 Axes>"
            ],
            "image/png": "[encoded data removed]"
          },
          "metadata": {}
        },
        {
          "output_type": "stream",
          "name": "stdout",
          "text": [
            "Round 2: 4 labeled examples\n"
          ]
        },
        {
          "output_type": "display_data",
          "data": {
            "text/plain": [
              "<Figure size 600x100 with 1 Axes>"
            ],
            "image/png": "[encoded data removed]"
          },
          "metadata": {}
        },
        {
          "output_type": "stream",
          "name": "stdout",
          "text": [
            "Round 3: 5 labeled examples\n"
          ]
        },
        {
          "output_type": "display_data",
          "data": {
            "text/plain": [
              "<Figure size 600x100 with 1 Axes>"
            ],
            "image/png": "[encoded data removed]"
          },
          "metadata": {}
        },
        {
          "output_type": "stream",
          "name": "stdout",
          "text": [
            "Round 4: 6 labeled examples\n"
          ]
        },
        {
          "output_type": "display_data",
          "data": {
            "text/plain": [
              "<Figure size 600x100 with 1 Axes>"
            ],
            "image/png": "[encoded data removed]"
          },
          "metadata": {}
        },
        {
          "output_type": "stream",
          "name": "stdout",
          "text": [
            "Round 5: 7 labeled examples\n"
          ]
        },
        {
          "output_type": "display_data",
          "data": {
            "text/plain": [
              "<Figure size 600x100 with 1 Axes>"
            ],
            "image/png": "[encoded data removed]"
          },
          "metadata": {}
        },
        {
          "output_type": "stream",
          "name": "stdout",
          "text": [
            "Round 6: 8 labeled examples\n"
          ]
        },
        {
          "output_type": "display_data",
          "data": {
            "text/plain": [
              "<Figure size 600x100 with 1 Axes>"
            ],
            "image/png": "[encoded data removed]"
          },
          "metadata": {}
        },
        {
          "output_type": "stream",
          "name": "stdout",
          "text": [
            "Round 7: 9 labeled examples\n"
          ]
        },
        {
          "output_type": "display_data",
          "data": {
            "text/plain": [
              "<Figure size 600x100 with 1 Axes>"
            ],
            "image/png": "[encoded data removed]"
          },
          "metadata": {}
        }
      ],
      "source": [
        "n = 8\n",
        "labeled, labels = active_selection(x, labeled_0, label, n)\n",
        "for i in range(n):\n",
        "    print(f\"Round {i}: {2+i} labeled examples\")\n",
        "    fig, ax = plt.subplots(1, 1, figsize=(6, 1))\n",
        "    plot_labeled(ax, x, labeled[:2+i], labels[:2+i])\n",
        "    plot_boundary(ax)\n",
        "    plt.show()"
      ]
    },
    {
      "cell_type": "markdown",
      "id": "145c5e27",
      "metadata": {
        "id": "145c5e27"
      },
      "source": [
        "# Section 2: OpenImages"
      ]
    },
    {
      "cell_type": "markdown",
      "id": "a36cd68e",
      "metadata": {
        "id": "a36cd68e"
      },
      "source": [
        "Let's scale up active learning to a real dataset, [OpenImages](https://storage.googleapis.com/openimages/web/index.html)! The OpenImages dataset has over 8 million images from Flickr and captures tens of thousands of classes. To make this manageable for our lab assignment, we will train a `LogisticRegression()` classifier on top of pre-computed embeddings for the available images. Please download and unpack the embeddings.\n",
        "\n",
        "1. [Download embeddings](https://drive.google.com/file/d/1HLEI7OWDGfP-__w6vlnZjgOCo5fshP-7/view?usp=sharing) (~18 GB)\n",
        "2. Unpack embeddings: `tar -xvf data.tar.gz`"
      ]
    },
    {
      "cell_type": "code",
      "source": [
        "from google.colab import drive\n",
        "import pandas as pd\n",
        "import json\n",
        "drive.mount('/content/drive')\n",
        "file_path = '/content/drive/MyDrive/data/data.tar.gz'"
      ],
      "metadata": {
        "id": "vw-UH_uTmOXo",
        "colab": {
          "base_uri": "https://localhost:8080/"
        },
        "outputId": "35547a89-5cb4-4ef9-bc98-38fe47acd42b"
      },
      "id": "vw-UH_uTmOXo",
      "execution_count": 10,
      "outputs": [
        {
          "output_type": "stream",
          "name": "stdout",
          "text": [
            "Mounted at /content/drive\n"
          ]
        }
      ]
    },
    {
      "cell_type": "code",
      "source": [
        "import tarfile\n",
        "with tarfile.open(file_path, 'r:gz') as tar:\n",
        "    tar.extractall('/content/')"
      ],
      "metadata": {
        "id": "ciVERbXCjNtn"
      },
      "id": "ciVERbXCjNtn",
      "execution_count": 11,
      "outputs": []
    },
    {
      "cell_type": "code",
      "execution_count": 12,
      "id": "ce4bc30a",
      "metadata": {
        "id": "ce4bc30a"
      },
      "outputs": [],
      "source": [
        "# Assuming you unpacked the data in the same directory\n",
        "# as this notebook, you shouldn't need to change this.\n",
        "metadata_dir='data/saved_metadata/'\n",
        "train_dir='data/saved_embeddings/train/'\n",
        "test_dir='data/saved_embeddings/test/'"
      ]
    },
    {
      "cell_type": "markdown",
      "id": "17d5e305",
      "metadata": {
        "id": "17d5e305"
      },
      "source": [
        "## Loading Data"
      ]
    },
    {
      "cell_type": "markdown",
      "id": "80e847a2",
      "metadata": {
        "id": "80e847a2"
      },
      "source": [
        "Don't worry about understanding all of this. You'll only use a small part of this class in the exercise below."
      ]
    },
    {
      "cell_type": "code",
      "execution_count": 13,
      "id": "f8ddbcb8",
      "metadata": {
        "id": "f8ddbcb8"
      },
      "outputs": [],
      "source": [
        "class OpenImagesDataset(Dataset):\n",
        "    def __init__(self,\n",
        "                 metadata_dir: str,\n",
        "                 embeddings_dir: str,\n",
        "                 embeddings_include: str = '*.parquet.gzip',\n",
        "                 target_class: str = None,\n",
        "                 split: str ='train'):\n",
        "\n",
        "        # Save attributes\n",
        "        self._metadata_dir = metadata_dir\n",
        "        self._embeddings_dir = embeddings_dir\n",
        "        self._embeddings_include = embeddings_include\n",
        "        self._target_class = None\n",
        "\n",
        "        # Define paths of metadata files\n",
        "        assert split in ['train', 'test'], 'Invalid value for split'\n",
        "        label_path = os.path.join(metadata_dir, 'oidv6-class-descriptions.csv')\n",
        "        data_path = None\n",
        "        url_path = None\n",
        "\n",
        "        if split == 'train':\n",
        "            data_path = os.path.join(\n",
        "                metadata_dir,\n",
        "                'oidv6-train-annotations-human-imagelabels.csv')\n",
        "            url_path = os.path.join(\n",
        "                metadata_dir,\n",
        "                'oidv6-train-images-with-labels-with-rotation.csv')\n",
        "\n",
        "        elif split == 'test':\n",
        "            data_path = os.path.join(\n",
        "                metadata_dir,\n",
        "                'test-annotations-human-imagelabels.csv')\n",
        "            url_path = os.path.join(\n",
        "                metadata_dir,\n",
        "                'test-images-with-rotation.csv')\n",
        "\n",
        "        # Load metadata\n",
        "        print('Loading metadata...', end=' ')\n",
        "        self._label_df = pd.read_csv(label_path)\n",
        "\n",
        "        self._data_df = pd.read_csv(data_path)\n",
        "        self._data_df.drop('Source', axis=1, inplace=True)\n",
        "        self._data_df.set_index('ImageID', inplace=True)\n",
        "\n",
        "        self._url_df = pd.read_csv(url_path)\n",
        "        self._url_df = self._url_df[['ImageID', 'OriginalURL']]\n",
        "        self._url_df.set_index('ImageID', inplace=True)\n",
        "        print('Done.')\n",
        "\n",
        "        # Load embeddings\n",
        "        self._embeddings_df = self._load_embeddings_df()\n",
        "\n",
        "        # (optional) Load labels\n",
        "        if target_class is not None:\n",
        "            self.target_class = target_class\n",
        "\n",
        "    def to_numpy(self):\n",
        "        \"\"\"\n",
        "        Returns embeddings and labels\n",
        "        Important: does not make a copy of the data in memory\n",
        "        \"\"\"\n",
        "        return self.embeddings, self.labels\n",
        "\n",
        "    @property\n",
        "    def target_class(self):\n",
        "        return self._target_class\n",
        "\n",
        "    @property\n",
        "    def urls(self):\n",
        "        return self._embeddings_df.index.values\n",
        "\n",
        "    @property\n",
        "    def labels(self):\n",
        "        return self._labels_df.Confidence.values\n",
        "\n",
        "    @property\n",
        "    def index(self):\n",
        "        return self._embeddings_df.index.values\n",
        "\n",
        "    @property\n",
        "    def embeddings(self):\n",
        "        return self._embeddings_df.values\n",
        "\n",
        "    @property\n",
        "    def embeddings_dimension(self):\n",
        "        return self._embeddings_df.shape[1]\n",
        "\n",
        "    @target_class.setter\n",
        "    def target_class(self, target_class):\n",
        "        self._labels_df = self._load_labels_df(target_class)\n",
        "        self._target_class = target_class\n",
        "\n",
        "    def _load_labels_df(self, label: str):\n",
        "        \"\"\"\n",
        "        Loads metadata in metadata_dir for target_class\n",
        "        \"\"\"\n",
        "        # Get label name\n",
        "        label_name = self._label_df.query(f\"DisplayName == '{label}'\")[\n",
        "            'LabelName'].to_list()[0]\n",
        "\n",
        "        # Get labeled data given label\n",
        "        df = self._data_df.query(f\"LabelName == '{label_name}'\")\n",
        "\n",
        "        # Join with URL data\n",
        "        df = df.join(self._url_df, on='ImageID', how='left')\n",
        "\n",
        "        # Rename columns and reset index\n",
        "        df.reset_index(inplace=True)\n",
        "        df.rename(columns={'OriginalURL': 'img_path'}, inplace=True)\n",
        "        df.set_index('img_path', inplace=True)\n",
        "\n",
        "        # Align label index with embeddings index\n",
        "        df = df.reindex(self._embeddings_df.index, fill_value=0)\n",
        "\n",
        "        return df\n",
        "\n",
        "    def _load_embeddings_df(self):\n",
        "        \"\"\"\n",
        "        Loads embeddings from partitions in embeddings_dir with specified\n",
        "        pattern. Each embedding value is loaded into a separate column\n",
        "        such that embeddings.values returns the array necessary for\n",
        "        inference, which avoids creating a copy in memory of the data\n",
        "        \"\"\"\n",
        "        # Get paths of dfs in embeddings_dir with pattern\n",
        "        pattern = os.path.join(self._embeddings_dir,\n",
        "                               self._embeddings_include)\n",
        "        filepaths_ls = glob(pattern, recursive=True)\n",
        "        filepaths_ls.sort()\n",
        "\n",
        "        # Store all embedding values and indices\n",
        "        index_ls = []\n",
        "        values_ls = []\n",
        "        wrapped_loader = tqdm(filepaths_ls,\n",
        "                              desc=\"Loading embeddings\",\n",
        "                              unit=\"partition\")\n",
        "        for filepath in wrapped_loader:\n",
        "\n",
        "            df = pd.read_parquet(filepath)\n",
        "            index_ls.append(df.index)\n",
        "            values_ls.append(df['embedding'].tolist())\n",
        "\n",
        "        # Join into single df and return\n",
        "        return pd.DataFrame(\n",
        "            np.concatenate(values_ls, axis=0, dtype=np.float32),\n",
        "            index=np.concatenate(index_ls, axis=0))\n",
        "\n",
        "    \"\"\"\n",
        "    Necessary for pytorch\n",
        "    \"\"\"\n",
        "    def __len__(self):\n",
        "        return len(self._embeddings_df)\n",
        "\n",
        "    def __getitem__(self, idx: int):\n",
        "        return (self._embeddings_df.iloc[idx].values,\n",
        "                self._labels_df.Confidence.iloc[idx])\n",
        "\n",
        "\n",
        "def create_dataset(metadata_dir: str, embeddings_dir: str, split: str):\n",
        "    return OpenImagesDataset(metadata_dir, embeddings_dir, split=split)"
      ]
    },
    {
      "cell_type": "code",
      "execution_count": 14,
      "id": "ea311556",
      "metadata": {
        "id": "ea311556",
        "colab": {
          "base_uri": "https://localhost:8080/",
          "height": 84,
          "referenced_widgets": [
            "bb1d76d1426046a7bb1f19bcc506efeb",
            "428b5210c97840bebfe2e8a9dd5bc696",
            "5dd78a5c98974a9d88db34277552be5d",
            "e2336998a55f4568a9949af471554795",
            "08af09537b9c4a438d16d4d90cf5803f",
            "be4cd818d8e440858af6dfe3a794b81c",
            "a199460f528f4d7f986d903208504efb",
            "1d1a8a82793140628859ba18988c33c3",
            "41638ad9d9c6442c9369d5fc9e7e225e",
            "8ceeeb0a3f484fac961d580d4a0ccd7f",
            "7ae49f197f5342b89b494db780d35359"
          ]
        },
        "outputId": "9e929842-b468-4d84-c6a3-a8da8a82b462"
      },
      "outputs": [
        {
          "output_type": "stream",
          "name": "stdout",
          "text": [
            "Loading metadata... Done.\n"
          ]
        },
        {
          "output_type": "display_data",
          "data": {
            "text/plain": [
              "Loading embeddings:   0%|          | 0/16 [00:00<?, ?partition/s]"
            ],
            "application/vnd.jupyter.widget-view+json": {
              "version_major": 2,
              "version_minor": 0,
              "model_id": "bb1d76d1426046a7bb1f19bcc506efeb"
            }
          },
          "metadata": {}
        },
        {
          "output_type": "stream",
          "name": "stdout",
          "text": [
            "Shape of embeddings for test images: (113508, 256)\n"
          ]
        }
      ],
      "source": [
        "# Create test dataset object\n",
        "if 'd_test' not in locals():\n",
        "    d_test = create_dataset(metadata_dir, test_dir, 'test')\n",
        "print(\"Shape of embeddings for test images: {}\".format(d_test.embeddings.shape))"
      ]
    },
    {
      "cell_type": "code",
      "execution_count": 15,
      "id": "ebe209cf",
      "metadata": {
        "id": "ebe209cf",
        "colab": {
          "base_uri": "https://localhost:8080/",
          "height": 84,
          "referenced_widgets": [
            "4b43cb2bd99f4bf49d77c62a50426fb6",
            "2e3315959be544e08e598e3d151c311e",
            "3ab4dd3b5f084f1fb35c3787047f329f",
            "c647d935236c437a9e8a3d12f0a87dd2",
            "af67daa34d4347ef9c7b4b1a7ab1e577",
            "433c6499964d413fb70559608465b39c",
            "bdd25a7afb6d48eda2876f3ddaa5b994",
            "97446fe6d4c24a2f854eb7a6bfc8b3c4",
            "60ab0f6511c34d769f4bb6ca2c00f656",
            "2f81bfc9177f4fc3bb158bb86a6d037f",
            "08386b6db4f443ebb0a319d79fb067d5"
          ]
        },
        "outputId": "f5d890bb-d10c-4c25-98fb-8ad2209db998"
      },
      "outputs": [
        {
          "output_type": "stream",
          "name": "stdout",
          "text": [
            "Loading metadata... Done.\n"
          ]
        },
        {
          "output_type": "display_data",
          "data": {
            "text/plain": [
              "Loading embeddings:   0%|          | 0/94 [00:00<?, ?partition/s]"
            ],
            "application/vnd.jupyter.widget-view+json": {
              "version_major": 2,
              "version_minor": 0,
              "model_id": "4b43cb2bd99f4bf49d77c62a50426fb6"
            }
          },
          "metadata": {}
        },
        {
          "output_type": "stream",
          "name": "stdout",
          "text": [
            "Shape of embeddings for training images: (8121242, 256)\n"
          ]
        }
      ],
      "source": [
        "# Create training dataset object\n",
        "if 'd_train' not in locals():\n",
        "    d_train = create_dataset(metadata_dir, train_dir, 'train')\n",
        "print(\"Shape of embeddings for training images: {}\".format(d_train.embeddings.shape))"
      ]
    },
    {
      "cell_type": "markdown",
      "id": "c87dbcd7",
      "metadata": {
        "id": "c87dbcd7"
      },
      "source": [
        "## Helper functions for active learning\n",
        "Don't worry about understanding this to complete the exercise."
      ]
    },
    {
      "cell_type": "code",
      "execution_count": 16,
      "id": "a110320d",
      "metadata": {
        "id": "a110320d"
      },
      "outputs": [],
      "source": [
        "def set_random_seed(seed: Optional[int] = None):\n",
        "    seed = np.random.randint(10000) if seed is None else seed\n",
        "    np.random.seed(seed)\n",
        "    return seed\n",
        "\n",
        "\n",
        "def create_seed(labels: np.array,\n",
        "                emb_dimension: int,\n",
        "                npositive: int = 5,\n",
        "                nnegative: int = 95,\n",
        "                random_seed: int = 400):\n",
        "    # Make sure there are enough negative examples\n",
        "    nnegative = max(nnegative, emb_dimension - npositive)\n",
        "\n",
        "    # Select indices for random samples\n",
        "    pos_samples = np.random.choice(\n",
        "        np.where(labels == 1)[0], npositive, replace=False)\n",
        "    neg_samples = np.random.choice(\n",
        "        np.where(labels == 0)[0], nnegative, replace=False)\n",
        "\n",
        "    # Combine and sort\n",
        "    seed = np.sort(np.concatenate((pos_samples, neg_samples)))\n",
        "\n",
        "    return seed\n",
        "\n",
        "\n",
        "def visualize_urls(urls: List[str], message: str = ''):\n",
        "    print(message)\n",
        "    [display(Image(url=url, width=400)) for url in urls]\n",
        "    input('Press any key to continue')\n",
        "    clear_output()\n",
        "\n",
        "\n",
        "def train_model(embeddings: np.array, labels: np.array):\n",
        "    return LogisticRegression().fit(embeddings, labels)\n",
        "\n",
        "\n",
        "def eval_model(model, dataset):\n",
        "    proba = model.predict_proba(dataset.embeddings)[:, 1]\n",
        "    return average_precision_score(dataset.labels, proba)\n",
        "\n",
        "\n",
        "def collect_labels(dataset, indices: np.array, target_class: str):\n",
        "    labels = []\n",
        "    for url in dataset.urls[indices]:\n",
        "\n",
        "        # Show link and image\n",
        "        clear_output()\n",
        "        print(f'Link: {url}')\n",
        "        display(Image(url=url, width=400))\n",
        "        time.sleep(0.25)\n",
        "\n",
        "        # Get user label\n",
        "        need_input = True\n",
        "        while need_input:\n",
        "            label = input(f'Is this an example of {target_class}? [Y/n] ')\n",
        "            label = 'Y' if label is None or label == '' else label[0].upper()\n",
        "\n",
        "            if label not in ['N', 'Y']:\n",
        "                print('Invalid input')\n",
        "                continue\n",
        "\n",
        "            labels.append(1 if label == 'Y' else 0)\n",
        "            need_input = False\n",
        "\n",
        "    clear_output()\n",
        "    print(f'Finished labeling {len(labels)} images')\n",
        "    return labels\n",
        "\n",
        "\n",
        "def visualize_scores(scores: List[float], ylabel: str = 'Average precision'):\n",
        "    plt.title('Model score for test data')\n",
        "    plt.xlabel('Active learning round (#)')\n",
        "    plt.ylabel(ylabel)\n",
        "\n",
        "    plt.plot(range(len(scores)), scores, 'o-', color='b')\n",
        "    plt.xticks(range(len(scores)))\n",
        "    plt.legend(loc=\"best\")\n",
        "    plt.show()\n",
        "\n",
        "def select_maxent(model, dataset, indices: List[int], budget: int):\n",
        "    # Get prediction probability for elegible indices\n",
        "    proba = model.predict_proba(dataset.embeddings[indices])\n",
        "\n",
        "    # Calculate information entropy from probabilities\n",
        "    entropy = -1.0 * (np.log(proba) * proba).sum(axis=1)\n",
        "\n",
        "    # Select indices with highest entropy (i.e. MaxEnt)\n",
        "    selected = entropy.argsort(axis=0)[::-1][:budget]\n",
        "\n",
        "    # Convert to original index\n",
        "    selected = np.array(indices)[selected]\n",
        "\n",
        "    return selected"
      ]
    },
    {
      "cell_type": "markdown",
      "id": "17c30ba8",
      "metadata": {
        "id": "17c30ba8"
      },
      "source": [
        "## Baseline approach for reference\n",
        "You might want to skip this if you're in a rush ;)"
      ]
    },
    {
      "cell_type": "code",
      "execution_count": 17,
      "id": "0a067eb6",
      "metadata": {
        "id": "0a067eb6"
      },
      "outputs": [],
      "source": [
        "def baseline_selection(\n",
        "    train, test, concept: str, rounds: Tuple[int],\n",
        "    npos: int = 5, nneg: int = 95, k: int = 100,\n",
        "    select: Callable = select_maxent):\n",
        "\n",
        "    # Set initial values\n",
        "    labeled = create_seed(train.labels, train.embeddings_dimension, npos, nneg)\n",
        "    new_labeled = labeled\n",
        "    labels = train.labels[labeled]\n",
        "    scores = []\n",
        "    model = None\n",
        "    candidates = set(np.arange(len(train))) - set(labeled)\n",
        "\n",
        "    # Visualize seed\n",
        "    visualize_urls(train.urls[labeled[np.where(labels == 1)]],\n",
        "                   message=f'Initial positive samples for {concept}')\n",
        "\n",
        "    # Main active learning loop\n",
        "    for budget in rounds:\n",
        "        # Train model using labeled samples and score\n",
        "        model = train_model(train.embeddings[labeled], labels)\n",
        "        scores.append(eval_model(model, test))\n",
        "\n",
        "        # Select points to label (MaxEnt for now)\n",
        "        new_labeled = select(model, train, list(candidates), budget)\n",
        "\n",
        "        # User labels selected points\n",
        "        new_labels = collect_labels(train, new_labeled, concept)\n",
        "\n",
        "        # Update arrays\n",
        "        labeled = np.concatenate((labeled, new_labeled))\n",
        "        labels = np.concatenate((labels, new_labels))\n",
        "        candidates -= set(new_labeled)\n",
        "\n",
        "    # Train and score final iteration of model\n",
        "    model = train_model(train.embeddings[labeled], labels)\n",
        "    scores.append(eval_model(model, test))\n",
        "    return model, scores"
      ]
    },
    {
      "cell_type": "code",
      "execution_count": 18,
      "id": "78bde7f9",
      "metadata": {
        "id": "78bde7f9"
      },
      "outputs": [],
      "source": [
        "# Set rare concept (e.g. Bowling, Sushi, Rat, Beach, Hawk, Cupcake, Crowd, etc)\n",
        "concept = 'Bowling'\n",
        "\n",
        "# Set concept\n",
        "d_train.target_class = concept\n",
        "d_test.target_class = concept"
      ]
    },
    {
      "cell_type": "code",
      "execution_count": 19,
      "id": "676a8935",
      "metadata": {
        "scrolled": false,
        "id": "676a8935",
        "outputId": "473f1581-f0f4-428f-d2cd-1d854402cf8b",
        "colab": {
          "base_uri": "https://localhost:8080/",
          "height": 658
        }
      },
      "outputs": [
        {
          "output_type": "stream",
          "name": "stdout",
          "text": [
            "Finished labeling 5 images\n",
            "Total time: 0:03:21.882153\n"
          ]
        }
      ],
      "source": [
        "np.random.seed(400)  # for reproducibility\n",
        "start = datetime.now()\n",
        "model, scores = baseline_selection(\n",
        "    train=d_train, test=d_test, concept=concept, npos=5, nneg=300,\n",
        "    rounds=[5, 5, 5], select=select_maxent)\n",
        "print(\"Total time: {}\".format(datetime.now() - start))"
      ]
    },
    {
      "cell_type": "code",
      "execution_count": 20,
      "id": "b9beab7f",
      "metadata": {
        "id": "b9beab7f",
        "outputId": "03a7f978-99b9-4edc-8b21-f9e6c07aa789",
        "colab": {
          "base_uri": "https://localhost:8080/",
          "height": 509
        }
      },
      "outputs": [
        {
          "output_type": "stream",
          "name": "stderr",
          "text": [
            "WARNING:matplotlib.legend:No artists with labels found to put in legend.  Note that artists whose label start with an underscore are ignored when legend() is called with no argument.\n"
          ]
        },
        {
          "output_type": "display_data",
          "data": {
            "text/plain": [
              "<Figure size 640x480 with 1 Axes>"
            ],
            "image/png": "[encoded data removed]"
          },
          "metadata": {}
        }
      ],
      "source": [
        "visualize_scores(scores)"
      ]
    },
    {
      "cell_type": "markdown",
      "id": "d75a1506",
      "metadata": {
        "id": "d75a1506"
      },
      "source": [
        "## Similarity Search for Efficient Active Learning and Search (SEALS)\n",
        "That was really slow. Let's speed up the process by implementing the [SEALS](https://aaai-2022.virtualchair.net/poster_aaai12967) approach from lecture.\n",
        "\n",
        "First, we need to create a similarity search index:"
      ]
    },
    {
      "cell_type": "code",
      "execution_count": 21,
      "id": "4b7bb423",
      "metadata": {
        "id": "4b7bb423"
      },
      "outputs": [],
      "source": [
        "class IndexWrapper():\n",
        "\n",
        "    def __init__(self, dataset, method='LSH'):\n",
        "        assert method in ['LSH', 'flatL2'], 'Invalid index method'\n",
        "        self._dataset = dataset\n",
        "        self._method = method\n",
        "        self._index = self._create_index()\n",
        "\n",
        "    def __len__(self):\n",
        "        return self._index.ntotal\n",
        "\n",
        "    def __getitem__(self, idx: int):\n",
        "        # Return url and corresponding embedding\n",
        "        return self._dataset.index[idx], self._dataset.embeddings[idx]\n",
        "\n",
        "    @property\n",
        "    def d(self):\n",
        "        return self._index.d\n",
        "\n",
        "    @property\n",
        "    def ntotal(self):\n",
        "        return self._index.ntotal\n",
        "\n",
        "    def _create_index(self):\n",
        "        \"\"\"\n",
        "        Returns FAISS index created from dataset.embeddings using the\n",
        "        specified index method\n",
        "        \"\"\"\n",
        "        # Initialize index\n",
        "        index = None\n",
        "        d = self._dataset.embeddings_dimension\n",
        "\n",
        "        if self._method == 'flatL2':\n",
        "            index = faiss.IndexFlatL2(d)\n",
        "\n",
        "        elif self._method == 'LSH':\n",
        "            n_bits = 2 * d\n",
        "            index = faiss.IndexLSH(d, n_bits)\n",
        "            index.train(self._dataset.embeddings)\n",
        "\n",
        "        # Add embeddings\n",
        "        index.add(self._dataset.embeddings)\n",
        "\n",
        "        return index\n",
        "\n",
        "    def search(self, q: np.array, k: int, attrs=None):\n",
        "        \"\"\"\n",
        "        Returns tuple, where each element is an attribute array specified\n",
        "        in attrs. Valid attributes include 'distances', 'urls', 'indices', and\n",
        "        'embeddings'\n",
        "        \"\"\"\n",
        "        # If no attributes selected, use default\n",
        "        default_attrs = ('indices', 'distances')\n",
        "        attrs = default_attrs if attrs is None else attrs\n",
        "\n",
        "        # Initialize results dictionary\n",
        "        results = {}\n",
        "\n",
        "        # Convert query to 2D np array for FAISS index\n",
        "        q = q if len(q.shape) == 2 else np.array([q])\n",
        "\n",
        "        # Search k-NN of q using the index\n",
        "        nn_distances, nn_indices = self._index.search(q, k)\n",
        "        results['distances'], results['indices'] = nn_distances, nn_indices\n",
        "\n",
        "        # Get other attributes\n",
        "        other_attrs = [attr for attr in attrs if attr not in default_attrs]\n",
        "        for attr in other_attrs:\n",
        "            assert hasattr(self._dataset, attr), 'Invalid attribute'\n",
        "            results[attr] = [\n",
        "                getattr(self._dataset, attr)[idx] for idx in results['indices']]\n",
        "\n",
        "        # Return results in order given by attrs\n",
        "        return tuple([results[attr] for attr in attrs])\n",
        "\n",
        "\n",
        "def create_index(dataset, method: str = 'LSH'):\n",
        "    return IndexWrapper(dataset, method=method)"
      ]
    },
    {
      "cell_type": "code",
      "execution_count": 22,
      "id": "6534d729",
      "metadata": {
        "id": "6534d729"
      },
      "outputs": [],
      "source": [
        "# Create IndexWrapper for training data\n",
        "if 'index_train' not in locals():\n",
        "    index_train = create_index(d_train)"
      ]
    },
    {
      "cell_type": "markdown",
      "id": "d9634a77",
      "metadata": {
        "id": "d9634a77"
      },
      "source": [
        "## Exercise 2: Manage Candidate Pool\n",
        "Now that we have a similarity search index let's use it to limit the candidate pool we select unlabeled examples from. We don't need to look at all the unlabeled examples from the beginning. Instead, we could start with the nearest neighbors to our currently labeled examples and expand the pool. Using the baseline approach as a starting point, fill in the sections of the code labeled `YOUR CODE HERE`."
      ]
    },
    {
      "cell_type": "code",
      "execution_count": 23,
      "id": "0c47d19c",
      "metadata": {
        "id": "0c47d19c"
      },
      "outputs": [],
      "source": [
        "def SEALS(\n",
        "    train, test, concept: str, rounds: Tuple[int],\n",
        "    npos: int = 5, nneg: int = 95, k: int = 100,\n",
        "    select: Callable = select_maxent, knn = None):\n",
        "\n",
        "    # Set initial values\n",
        "    labeled = create_seed(train.labels, train.embeddings_dimension, npos, nneg)\n",
        "    new_labeled = labeled\n",
        "    labels = train.labels[labeled]\n",
        "    scores = []\n",
        "    model = None\n",
        "    candidates = set(np.arange(len(train))) - set(labeled)\n",
        "\n",
        "    if knn is not None:\n",
        "        # YOUR CODE HERE\n",
        "        candidates = set()\n",
        "\n",
        "    # Visualize seed\n",
        "    visualize_urls(train.urls[labeled[np.where(labels == 1)]],\n",
        "                   message=f'Initial positive samples for {concept}')\n",
        "\n",
        "    # Main active learning loop\n",
        "    for budget in rounds:\n",
        "        if knn is not None:\n",
        "            # YOUR CODE HERE\n",
        "            neighbors = knn.search(train.embeddings[new_labeled],k=k, attrs=['indices'])[0][1:].flatten()\n",
        "            candidates.update(neighbors)\n",
        "\n",
        "        # Train model using labeled samples and score\n",
        "        model = train_model(train.embeddings[labeled], labels)\n",
        "        scores.append(eval_model(model, test))\n",
        "\n",
        "        # Select points to label (MaxEnt for now)\n",
        "        new_labeled = select(model, train, list(candidates), budget)\n",
        "\n",
        "        # User labels selected points\n",
        "        new_labels = collect_labels(train, new_labeled, concept)\n",
        "\n",
        "        # Update arrays\n",
        "        labeled = np.concatenate((labeled, new_labeled))\n",
        "        labels = np.concatenate((labels, new_labels))\n",
        "        candidates -= set(new_labeled)\n",
        "\n",
        "    # Train and score final iteration of model\n",
        "    model = train_model(train.embeddings[labeled], labels)\n",
        "    scores.append(eval_model(model, test))\n",
        "    return model, scores"
      ]
    },
    {
      "cell_type": "code",
      "execution_count": 25,
      "id": "b4ce9817",
      "metadata": {
        "scrolled": false,
        "id": "b4ce9817",
        "outputId": "7e2d4491-1dc2-4801-96b7-4c6b5bb0a37d",
        "colab": {
          "base_uri": "https://localhost:8080/",
          "height": 655
        }
      },
      "outputs": [
        {
          "output_type": "stream",
          "name": "stdout",
          "text": [
            "Finished labeling 5 images\n",
            "Total time: 0:02:45.408833\n"
          ]
        }
      ],
      "source": [
        "np.random.seed(400)  # for reproducibility\n",
        "start = datetime.now()\n",
        "model, scores = SEALS(\n",
        "    train=d_train, test=d_test, concept=concept, npos=5, nneg=300,\n",
        "    rounds=[5, 5, 5], select=select_maxent, knn=index_train)\n",
        "print(\"Total time: {}\".format(datetime.now() - start))"
      ]
    },
    {
      "cell_type": "code",
      "execution_count": 26,
      "id": "1dcc53df",
      "metadata": {
        "id": "1dcc53df",
        "outputId": "3933f87d-e195-4e76-8861-37094251a917",
        "colab": {
          "base_uri": "https://localhost:8080/",
          "height": 509
        }
      },
      "outputs": [
        {
          "output_type": "stream",
          "name": "stderr",
          "text": [
            "WARNING:matplotlib.legend:No artists with labels found to put in legend.  Note that artists whose label start with an underscore are ignored when legend() is called with no argument.\n"
          ]
        },
        {
          "output_type": "display_data",
          "data": {
            "text/plain": [
              "<Figure size 640x480 with 1 Axes>"
            ],
            "image/png": "[encoded data removed]"
          },
          "metadata": {}
        }
      ],
      "source": [
        "visualize_scores(scores)"
      ]
    }
  ],
  "metadata": {
    "kernelspec": {
      "display_name": "Python 3",
      "name": "python3"
    },
    "language_info": {
      "codemirror_mode": {
        "name": "ipython",
        "version": 3
      },
      "file_extension": ".py",
      "mimetype": "text/x-python",
      "name": "python",
      "nbconvert_exporter": "python",
      "pygments_lexer": "ipython3",
      "version": "3.8.3"
    },
    "latex_envs": {
      "LaTeX_envs_menu_present": true,
      "autoclose": false,
      "autocomplete": true,
      "bibliofile": "biblio.bib",
      "cite_by": "apalike",
      "current_citInitial": 1,
      "eqLabelWithNumbers": true,
      "eqNumInitial": 1,
      "hotkeys": {
        "equation": "Ctrl-E",
        "itemize": "Ctrl-I"
      },
      "labels_anchors": false,
      "latex_user_defs": false,
      "report_style_numbering": false,
      "user_envs_cfg": false
    },
    "toc": {
      "base_numbering": 1,
      "nav_menu": {},
      "number_sections": true,
      "sideBar": true,
      "skip_h1_title": false,
      "title_cell": "Table of Contents",
      "title_sidebar": "Contents",
      "toc_cell": false,
      "toc_position": {},
      "toc_section_display": true,
      "toc_window_display": false
    },
    "colab": {
      "provenance": [],
      "machine_shape": "hm",
      "gpuType": "T4"
    },
    "accelerator": "GPU",
    "widgets": {
      "application/vnd.jupyter.widget-state+json": {
        "bb1d76d1426046a7bb1f19bcc506efeb": {
          "model_module": "@jupyter-widgets/controls",
          "model_name": "HBoxModel",
          "model_module_version": "1.5.0",
          "state": {
            "_dom_classes": [],
            "_model_module": "@jupyter-widgets/controls",
            "_model_module_version": "1.5.0",
            "_model_name": "HBoxModel",
            "_view_count": null,
            "_view_module": "@jupyter-widgets/controls",
            "_view_module_version": "1.5.0",
            "_view_name": "HBoxView",
            "box_style": "",
            "children": [
              "IPY_MODEL_428b5210c97840bebfe2e8a9dd5bc696",
              "IPY_MODEL_5dd78a5c98974a9d88db34277552be5d",
              "IPY_MODEL_e2336998a55f4568a9949af471554795"
            ],
            "layout": "IPY_MODEL_08af09537b9c4a438d16d4d90cf5803f"
          }
        },
        "428b5210c97840bebfe2e8a9dd5bc696": {
          "model_module": "@jupyter-widgets/controls",
          "model_name": "HTMLModel",
          "model_module_version": "1.5.0",
          "state": {
            "_dom_classes": [],
            "_model_module": "@jupyter-widgets/controls",
            "_model_module_version": "1.5.0",
            "_model_name": "HTMLModel",
            "_view_count": null,
            "_view_module": "@jupyter-widgets/controls",
            "_view_module_version": "1.5.0",
            "_view_name": "HTMLView",
            "description": "",
            "description_tooltip": null,
            "layout": "IPY_MODEL_be4cd818d8e440858af6dfe3a794b81c",
            "placeholder": "​",
            "style": "IPY_MODEL_a199460f528f4d7f986d903208504efb",
            "value": "Loading embeddings: 100%"
          }
        },
        "5dd78a5c98974a9d88db34277552be5d": {
          "model_module": "@jupyter-widgets/controls",
          "model_name": "FloatProgressModel",
          "model_module_version": "1.5.0",
          "state": {
            "_dom_classes": [],
            "_model_module": "@jupyter-widgets/controls",
            "_model_module_version": "1.5.0",
            "_model_name": "FloatProgressModel",
            "_view_count": null,
            "_view_module": "@jupyter-widgets/controls",
            "_view_module_version": "1.5.0",
            "_view_name": "ProgressView",
            "bar_style": "success",
            "description": "",
            "description_tooltip": null,
            "layout": "IPY_MODEL_1d1a8a82793140628859ba18988c33c3",
            "max": 16,
            "min": 0,
            "orientation": "horizontal",
            "style": "IPY_MODEL_41638ad9d9c6442c9369d5fc9e7e225e",
            "value": 16
          }
        },
        "e2336998a55f4568a9949af471554795": {
          "model_module": "@jupyter-widgets/controls",
          "model_name": "HTMLModel",
          "model_module_version": "1.5.0",
          "state": {
            "_dom_classes": [],
            "_model_module": "@jupyter-widgets/controls",
            "_model_module_version": "1.5.0",
            "_model_name": "HTMLModel",
            "_view_count": null,
            "_view_module": "@jupyter-widgets/controls",
            "_view_module_version": "1.5.0",
            "_view_name": "HTMLView",
            "description": "",
            "description_tooltip": null,
            "layout": "IPY_MODEL_8ceeeb0a3f484fac961d580d4a0ccd7f",
            "placeholder": "​",
            "style": "IPY_MODEL_7ae49f197f5342b89b494db780d35359",
            "value": " 16/16 [00:03&lt;00:00,  5.66partition/s]"
          }
        },
        "08af09537b9c4a438d16d4d90cf5803f": {
          "model_module": "@jupyter-widgets/base",
          "model_name": "LayoutModel",
          "model_module_version": "1.2.0",
          "state": {
            "_model_module": "@jupyter-widgets/base",
            "_model_module_version": "1.2.0",
            "_model_name": "LayoutModel",
            "_view_count": null,
            "_view_module": "@jupyter-widgets/base",
            "_view_module_version": "1.2.0",
            "_view_name": "LayoutView",
            "align_content": null,
            "align_items": null,
            "align_self": null,
            "border": null,
            "bottom": null,
            "display": null,
            "flex": null,
            "flex_flow": null,
            "grid_area": null,
            "grid_auto_columns": null,
            "grid_auto_flow": null,
            "grid_auto_rows": null,
            "grid_column": null,
            "grid_gap": null,
            "grid_row": null,
            "grid_template_areas": null,
            "grid_template_columns": null,
            "grid_template_rows": null,
            "height": null,
            "justify_content": null,
            "justify_items": null,
            "left": null,
            "margin": null,
            "max_height": null,
            "max_width": null,
            "min_height": null,
            "min_width": null,
            "object_fit": null,
            "object_position": null,
            "order": null,
            "overflow": null,
            "overflow_x": null,
            "overflow_y": null,
            "padding": null,
            "right": null,
            "top": null,
            "visibility": null,
            "width": null
          }
        },
        "be4cd818d8e440858af6dfe3a794b81c": {
          "model_module": "@jupyter-widgets/base",
          "model_name": "LayoutModel",
          "model_module_version": "1.2.0",
          "state": {
            "_model_module": "@jupyter-widgets/base",
            "_model_module_version": "1.2.0",
            "_model_name": "LayoutModel",
            "_view_count": null,
            "_view_module": "@jupyter-widgets/base",
            "_view_module_version": "1.2.0",
            "_view_name": "LayoutView",
            "align_content": null,
            "align_items": null,
            "align_self": null,
            "border": null,
            "bottom": null,
            "display": null,
            "flex": null,
            "flex_flow": null,
            "grid_area": null,
            "grid_auto_columns": null,
            "grid_auto_flow": null,
            "grid_auto_rows": null,
            "grid_column": null,
            "grid_gap": null,
            "grid_row": null,
            "grid_template_areas": null,
            "grid_template_columns": null,
            "grid_template_rows": null,
            "height": null,
            "justify_content": null,
            "justify_items": null,
            "left": null,
            "margin": null,
            "max_height": null,
            "max_width": null,
            "min_height": null,
            "min_width": null,
            "object_fit": null,
            "object_position": null,
            "order": null,
            "overflow": null,
            "overflow_x": null,
            "overflow_y": null,
            "padding": null,
            "right": null,
            "top": null,
            "visibility": null,
            "width": null
          }
        },
        "a199460f528f4d7f986d903208504efb": {
          "model_module": "@jupyter-widgets/controls",
          "model_name": "DescriptionStyleModel",
          "model_module_version": "1.5.0",
          "state": {
            "_model_module": "@jupyter-widgets/controls",
            "_model_module_version": "1.5.0",
            "_model_name": "DescriptionStyleModel",
            "_view_count": null,
            "_view_module": "@jupyter-widgets/base",
            "_view_module_version": "1.2.0",
            "_view_name": "StyleView",
            "description_width": ""
          }
        },
        "1d1a8a82793140628859ba18988c33c3": {
          "model_module": "@jupyter-widgets/base",
          "model_name": "LayoutModel",
          "model_module_version": "1.2.0",
          "state": {
            "_model_module": "@jupyter-widgets/base",
            "_model_module_version": "1.2.0",
            "_model_name": "LayoutModel",
            "_view_count": null,
            "_view_module": "@jupyter-widgets/base",
            "_view_module_version": "1.2.0",
            "_view_name": "LayoutView",
            "align_content": null,
            "align_items": null,
            "align_self": null,
            "border": null,
            "bottom": null,
            "display": null,
            "flex": null,
            "flex_flow": null,
            "grid_area": null,
            "grid_auto_columns": null,
            "grid_auto_flow": null,
            "grid_auto_rows": null,
            "grid_column": null,
            "grid_gap": null,
            "grid_row": null,
            "grid_template_areas": null,
            "grid_template_columns": null,
            "grid_template_rows": null,
            "height": null,
            "justify_content": null,
            "justify_items": null,
            "left": null,
            "margin": null,
            "max_height": null,
            "max_width": null,
            "min_height": null,
            "min_width": null,
            "object_fit": null,
            "object_position": null,
            "order": null,
            "overflow": null,
            "overflow_x": null,
            "overflow_y": null,
            "padding": null,
            "right": null,
            "top": null,
            "visibility": null,
            "width": null
          }
        },
        "41638ad9d9c6442c9369d5fc9e7e225e": {
          "model_module": "@jupyter-widgets/controls",
          "model_name": "ProgressStyleModel",
          "model_module_version": "1.5.0",
          "state": {
            "_model_module": "@jupyter-widgets/controls",
            "_model_module_version": "1.5.0",
            "_model_name": "ProgressStyleModel",
            "_view_count": null,
            "_view_module": "@jupyter-widgets/base",
            "_view_module_version": "1.2.0",
            "_view_name": "StyleView",
            "bar_color": null,
            "description_width": ""
          }
        },
        "8ceeeb0a3f484fac961d580d4a0ccd7f": {
          "model_module": "@jupyter-widgets/base",
          "model_name": "LayoutModel",
          "model_module_version": "1.2.0",
          "state": {
            "_model_module": "@jupyter-widgets/base",
            "_model_module_version": "1.2.0",
            "_model_name": "LayoutModel",
            "_view_count": null,
            "_view_module": "@jupyter-widgets/base",
            "_view_module_version": "1.2.0",
            "_view_name": "LayoutView",
            "align_content": null,
            "align_items": null,
            "align_self": null,
            "border": null,
            "bottom": null,
            "display": null,
            "flex": null,
            "flex_flow": null,
            "grid_area": null,
            "grid_auto_columns": null,
            "grid_auto_flow": null,
            "grid_auto_rows": null,
            "grid_column": null,
            "grid_gap": null,
            "grid_row": null,
            "grid_template_areas": null,
            "grid_template_columns": null,
            "grid_template_rows": null,
            "height": null,
            "justify_content": null,
            "justify_items": null,
            "left": null,
            "margin": null,
            "max_height": null,
            "max_width": null,
            "min_height": null,
            "min_width": null,
            "object_fit": null,
            "object_position": null,
            "order": null,
            "overflow": null,
            "overflow_x": null,
            "overflow_y": null,
            "padding": null,
            "right": null,
            "top": null,
            "visibility": null,
            "width": null
          }
        },
        "7ae49f197f5342b89b494db780d35359": {
          "model_module": "@jupyter-widgets/controls",
          "model_name": "DescriptionStyleModel",
          "model_module_version": "1.5.0",
          "state": {
            "_model_module": "@jupyter-widgets/controls",
            "_model_module_version": "1.5.0",
            "_model_name": "DescriptionStyleModel",
            "_view_count": null,
            "_view_module": "@jupyter-widgets/base",
            "_view_module_version": "1.2.0",
            "_view_name": "StyleView",
            "description_width": ""
          }
        },
        "4b43cb2bd99f4bf49d77c62a50426fb6": {
          "model_module": "@jupyter-widgets/controls",
          "model_name": "HBoxModel",
          "model_module_version": "1.5.0",
          "state": {
            "_dom_classes": [],
            "_model_module": "@jupyter-widgets/controls",
            "_model_module_version": "1.5.0",
            "_model_name": "HBoxModel",
            "_view_count": null,
            "_view_module": "@jupyter-widgets/controls",
            "_view_module_version": "1.5.0",
            "_view_name": "HBoxView",
            "box_style": "",
            "children": [
              "IPY_MODEL_2e3315959be544e08e598e3d151c311e",
              "IPY_MODEL_3ab4dd3b5f084f1fb35c3787047f329f",
              "IPY_MODEL_c647d935236c437a9e8a3d12f0a87dd2"
            ],
            "layout": "IPY_MODEL_af67daa34d4347ef9c7b4b1a7ab1e577"
          }
        },
        "2e3315959be544e08e598e3d151c311e": {
          "model_module": "@jupyter-widgets/controls",
          "model_name": "HTMLModel",
          "model_module_version": "1.5.0",
          "state": {
            "_dom_classes": [],
            "_model_module": "@jupyter-widgets/controls",
            "_model_module_version": "1.5.0",
            "_model_name": "HTMLModel",
            "_view_count": null,
            "_view_module": "@jupyter-widgets/controls",
            "_view_module_version": "1.5.0",
            "_view_name": "HTMLView",
            "description": "",
            "description_tooltip": null,
            "layout": "IPY_MODEL_433c6499964d413fb70559608465b39c",
            "placeholder": "​",
            "style": "IPY_MODEL_bdd25a7afb6d48eda2876f3ddaa5b994",
            "value": "Loading embeddings: 100%"
          }
        },
        "3ab4dd3b5f084f1fb35c3787047f329f": {
          "model_module": "@jupyter-widgets/controls",
          "model_name": "FloatProgressModel",
          "model_module_version": "1.5.0",
          "state": {
            "_dom_classes": [],
            "_model_module": "@jupyter-widgets/controls",
            "_model_module_version": "1.5.0",
            "_model_name": "FloatProgressModel",
            "_view_count": null,
            "_view_module": "@jupyter-widgets/controls",
            "_view_module_version": "1.5.0",
            "_view_name": "ProgressView",
            "bar_style": "success",
            "description": "",
            "description_tooltip": null,
            "layout": "IPY_MODEL_97446fe6d4c24a2f854eb7a6bfc8b3c4",
            "max": 94,
            "min": 0,
            "orientation": "horizontal",
            "style": "IPY_MODEL_60ab0f6511c34d769f4bb6ca2c00f656",
            "value": 94
          }
        },
        "c647d935236c437a9e8a3d12f0a87dd2": {
          "model_module": "@jupyter-widgets/controls",
          "model_name": "HTMLModel",
          "model_module_version": "1.5.0",
          "state": {
            "_dom_classes": [],
            "_model_module": "@jupyter-widgets/controls",
            "_model_module_version": "1.5.0",
            "_model_name": "HTMLModel",
            "_view_count": null,
            "_view_module": "@jupyter-widgets/controls",
            "_view_module_version": "1.5.0",
            "_view_name": "HTMLView",
            "description": "",
            "description_tooltip": null,
            "layout": "IPY_MODEL_2f81bfc9177f4fc3bb158bb86a6d037f",
            "placeholder": "​",
            "style": "IPY_MODEL_08386b6db4f443ebb0a319d79fb067d5",
            "value": " 94/94 [03:15&lt;00:00,  1.82s/partition]"
          }
        },
        "af67daa34d4347ef9c7b4b1a7ab1e577": {
          "model_module": "@jupyter-widgets/base",
          "model_name": "LayoutModel",
          "model_module_version": "1.2.0",
          "state": {
            "_model_module": "@jupyter-widgets/base",
            "_model_module_version": "1.2.0",
            "_model_name": "LayoutModel",
            "_view_count": null,
            "_view_module": "@jupyter-widgets/base",
            "_view_module_version": "1.2.0",
            "_view_name": "LayoutView",
            "align_content": null,
            "align_items": null,
            "align_self": null,
            "border": null,
            "bottom": null,
            "display": null,
            "flex": null,
            "flex_flow": null,
            "grid_area": null,
            "grid_auto_columns": null,
            "grid_auto_flow": null,
            "grid_auto_rows": null,
            "grid_column": null,
            "grid_gap": null,
            "grid_row": null,
            "grid_template_areas": null,
            "grid_template_columns": null,
            "grid_template_rows": null,
            "height": null,
            "justify_content": null,
            "justify_items": null,
            "left": null,
            "margin": null,
            "max_height": null,
            "max_width": null,
            "min_height": null,
            "min_width": null,
            "object_fit": null,
            "object_position": null,
            "order": null,
            "overflow": null,
            "overflow_x": null,
            "overflow_y": null,
            "padding": null,
            "right": null,
            "top": null,
            "visibility": null,
            "width": null
          }
        },
        "433c6499964d413fb70559608465b39c": {
          "model_module": "@jupyter-widgets/base",
          "model_name": "LayoutModel",
          "model_module_version": "1.2.0",
          "state": {
            "_model_module": "@jupyter-widgets/base",
            "_model_module_version": "1.2.0",
            "_model_name": "LayoutModel",
            "_view_count": null,
            "_view_module": "@jupyter-widgets/base",
            "_view_module_version": "1.2.0",
            "_view_name": "LayoutView",
            "align_content": null,
            "align_items": null,
            "align_self": null,
            "border": null,
            "bottom": null,
            "display": null,
            "flex": null,
            "flex_flow": null,
            "grid_area": null,
            "grid_auto_columns": null,
            "grid_auto_flow": null,
            "grid_auto_rows": null,
            "grid_column": null,
            "grid_gap": null,
            "grid_row": null,
            "grid_template_areas": null,
            "grid_template_columns": null,
            "grid_template_rows": null,
            "height": null,
            "justify_content": null,
            "justify_items": null,
            "left": null,
            "margin": null,
            "max_height": null,
            "max_width": null,
            "min_height": null,
            "min_width": null,
            "object_fit": null,
            "object_position": null,
            "order": null,
            "overflow": null,
            "overflow_x": null,
            "overflow_y": null,
            "padding": null,
            "right": null,
            "top": null,
            "visibility": null,
            "width": null
          }
        },
        "bdd25a7afb6d48eda2876f3ddaa5b994": {
          "model_module": "@jupyter-widgets/controls",
          "model_name": "DescriptionStyleModel",
          "model_module_version": "1.5.0",
          "state": {
            "_model_module": "@jupyter-widgets/controls",
            "_model_module_version": "1.5.0",
            "_model_name": "DescriptionStyleModel",
            "_view_count": null,
            "_view_module": "@jupyter-widgets/base",
            "_view_module_version": "1.2.0",
            "_view_name": "StyleView",
            "description_width": ""
          }
        },
        "97446fe6d4c24a2f854eb7a6bfc8b3c4": {
          "model_module": "@jupyter-widgets/base",
          "model_name": "LayoutModel",
          "model_module_version": "1.2.0",
          "state": {
            "_model_module": "@jupyter-widgets/base",
            "_model_module_version": "1.2.0",
            "_model_name": "LayoutModel",
            "_view_count": null,
            "_view_module": "@jupyter-widgets/base",
            "_view_module_version": "1.2.0",
            "_view_name": "LayoutView",
            "align_content": null,
            "align_items": null,
            "align_self": null,
            "border": null,
            "bottom": null,
            "display": null,
            "flex": null,
            "flex_flow": null,
            "grid_area": null,
            "grid_auto_columns": null,
            "grid_auto_flow": null,
            "grid_auto_rows": null,
            "grid_column": null,
            "grid_gap": null,
            "grid_row": null,
            "grid_template_areas": null,
            "grid_template_columns": null,
            "grid_template_rows": null,
            "height": null,
            "justify_content": null,
            "justify_items": null,
            "left": null,
            "margin": null,
            "max_height": null,
            "max_width": null,
            "min_height": null,
            "min_width": null,
            "object_fit": null,
            "object_position": null,
            "order": null,
            "overflow": null,
            "overflow_x": null,
            "overflow_y": null,
            "padding": null,
            "right": null,
            "top": null,
            "visibility": null,
            "width": null
          }
        },
        "60ab0f6511c34d769f4bb6ca2c00f656": {
          "model_module": "@jupyter-widgets/controls",
          "model_name": "ProgressStyleModel",
          "model_module_version": "1.5.0",
          "state": {
            "_model_module": "@jupyter-widgets/controls",
            "_model_module_version": "1.5.0",
            "_model_name": "ProgressStyleModel",
            "_view_count": null,
            "_view_module": "@jupyter-widgets/base",
            "_view_module_version": "1.2.0",
            "_view_name": "StyleView",
            "bar_color": null,
            "description_width": ""
          }
        },
        "2f81bfc9177f4fc3bb158bb86a6d037f": {
          "model_module": "@jupyter-widgets/base",
          "model_name": "LayoutModel",
          "model_module_version": "1.2.0",
          "state": {
            "_model_module": "@jupyter-widgets/base",
            "_model_module_version": "1.2.0",
            "_model_name": "LayoutModel",
            "_view_count": null,
            "_view_module": "@jupyter-widgets/base",
            "_view_module_version": "1.2.0",
            "_view_name": "LayoutView",
            "align_content": null,
            "align_items": null,
            "align_self": null,
            "border": null,
            "bottom": null,
            "display": null,
            "flex": null,
            "flex_flow": null,
            "grid_area": null,
            "grid_auto_columns": null,
            "grid_auto_flow": null,
            "grid_auto_rows": null,
            "grid_column": null,
            "grid_gap": null,
            "grid_row": null,
            "grid_template_areas": null,
            "grid_template_columns": null,
            "grid_template_rows": null,
            "height": null,
            "justify_content": null,
            "justify_items": null,
            "left": null,
            "margin": null,
            "max_height": null,
            "max_width": null,
            "min_height": null,
            "min_width": null,
            "object_fit": null,
            "object_position": null,
            "order": null,
            "overflow": null,
            "overflow_x": null,
            "overflow_y": null,
            "padding": null,
            "right": null,
            "top": null,
            "visibility": null,
            "width": null
          }
        },
        "08386b6db4f443ebb0a319d79fb067d5": {
          "model_module": "@jupyter-widgets/controls",
          "model_name": "DescriptionStyleModel",
          "model_module_version": "1.5.0",
          "state": {
            "_model_module": "@jupyter-widgets/controls",
            "_model_module_version": "1.5.0",
            "_model_name": "DescriptionStyleModel",
            "_view_count": null,
            "_view_module": "@jupyter-widgets/base",
            "_view_module_version": "1.2.0",
            "_view_name": "StyleView",
            "description_width": ""
          }
        }
      }
    }
  },
  "nbformat": 4,
  "nbformat_minor": 5
}